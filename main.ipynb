{
 "cells": [
  {
   "cell_type": "code",
   "execution_count": 1,
   "metadata": {
    "collapsed": false
   },
   "outputs": [
    {
     "name": "stdout",
     "output_type": "stream",
     "text": [
      "C:\\Users\\sanja\\Desktop\\Sanjana\\books\\UCSC\\YelpSA\n"
     ]
    }
   ],
   "source": [
    "import sys\n",
    "import os\n",
    "print os.getcwd()\n",
    "sys.path.append(\"../YelpSA/lib\")\n",
    "import numpy as np\n",
    "import pre_processing as pp\n",
    "import feature_select as fs\n",
    "import logistic_classifier as log_clf\n",
    "from sklearn.metrics import confusion_matrix\n",
    "import copy\n",
    "import naive_bayes_classifier as nb\n",
    "import ensemble_classifier as en\n",
    "from sklearn.metrics import classification_report"
   ]
  },
  {
   "cell_type": "code",
   "execution_count": 2,
   "metadata": {
    "collapsed": true
   },
   "outputs": [],
   "source": [
    "def get_ylabels(y_test):\n",
    "    y_test_thresholded_ternary = np.array(copy.deepcopy(y_test))\n",
    "    y_test_thresholded_ternary[y_test_thresholded_ternary < 3] = 0\n",
    "    y_test_thresholded_ternary[y_test_thresholded_ternary == 3] = 1\n",
    "    y_test_thresholded_ternary[y_test_thresholded_ternary > 3] = 2\n",
    "    \n",
    "    y_test_thresholded_binary = np.array(copy.deepcopy(y_test))\n",
    "    y_test_thresholded_binary[y_test_thresholded_binary < 3] = 0\n",
    "    y_test_thresholded_binary[y_test_thresholded_binary >= 3] = 1\n",
    "    \n",
    "    return [y_test, y_test_thresholded_binary, y_test_thresholded_ternary]"
   ]
  },
  {
   "cell_type": "code",
   "execution_count": 3,
   "metadata": {
    "collapsed": false
   },
   "outputs": [
    {
     "name": "stderr",
     "output_type": "stream",
     "text": [
      "C:\\Users\\sanja\\Anaconda2\\lib\\site-packages\\IPython\\core\\interactiveshell.py:2821: DtypeWarning: Columns (1,4,7,17,26,29,49,60,62,79,86,94) have mixed types. Specify dtype option on import or set low_memory=False.\n",
      "  if self.run_code(code, result):\n"
     ]
    },
    {
     "name": "stdout",
     "output_type": "stream",
     "text": [
      "40000\n",
      "stemming \n",
      "length of vocabulary 942\n"
     ]
    }
   ],
   "source": [
    "#Preprocess\n",
    "[preprocessed_data_sample, labels_sample, vectorizer, no_features, samples, unvectorized_data_sample] = pp.preprocess()\n",
    "data_sample_copy = (preprocessed_data_sample)\n"
   ]
  },
  {
   "cell_type": "code",
   "execution_count": 4,
   "metadata": {
    "collapsed": false
   },
   "outputs": [
    {
     "name": "stdout",
     "output_type": "stream",
     "text": [
      "<type 'numpy.ndarray'>\n",
      "mr hoagie institution walking seem like throwback years ago old fashioned menu board booths large selection food speciality italian hoagie voted best area year year usually order burger patties obviously cooked frozen ingredients fresh overall good alternative subway road\n",
      "unigrams 1000\n",
      "after addign bigrams 1500\n",
      "unigrams 802\n",
      "after addign bigrams 752\n",
      "unigrams 1472\n",
      "after addign bigrams 1692\n",
      "overall 1692\n",
      "['limited', 'lunch special', 'really good', 'four', 'asian', 'poorly', 'never going', 'worth', 'get better', 'every', 'chocolate cake', 'food really', 'look', 'school', 'right next', 'big burrito', 'us would', 'food cold', 'look forward', 'enjoy', 'good good', 'bacon', 'chef', 'likely', 'street', 'also really', 'food arrived', 'mexican restaurant', 'even', 'enchiladas', 'cooking', 'took hour', 'new', 'pad thai', 'ever', 'told', 'disappoint', 'pancakes', 'never', 'dining area', 'fresh ingredients', 'china', 'mac cheese', 'saturday night', 'another shot', 'dry', 'kids', 'food served', 'items', 'changed', 'completely', 'would say', 'slices', 'explained', 'highly', 'brought', 'meats', 'us table', 'waited waited', 'hot fresh', 'would', 'food pretty', 'brown rice', 'negative', 'good bad', 'music', 'recommend', 'worth wait', 'far best', 'type', 'tell', 'best burger', 'glass', 'warm', 'excellent', 'hole', 'hold', 'must', 'word', 'room', 'work', 'waitress came', 'first time', 'good nothing', 'credit card', 'give', 'honey', 'green beans', 'veggies', 'want', 'keep', 'returned', 'wanted go', 'favorite place', 'end', 'wait long', 'turn', 'returning', 'gluten free', 'amazing', 'tasted good', 'yum', 'bad meal', 'pizza', 'mess', 'place even', 'wrong', 'salsa', 'gravy', 'third', 'vegetarian options', 'appreciate', 'green', 'waitress', 'suggest', 'order', 'wine', 'office', 'rock bottom', 'pizza place', 'satisfied', 'must try', 'worst ever', 'better', 'new orleans', 'everything delicious', 'weeks', 'absolutely delicious', 'coffee', 'combination', 'great lunch', 'one worst', 'bread', 'meat', 'potatoes', 'crunchy', 'never got', 'went', 'mean', 'pretty cool', 'drinks food', 'waffle', 'actually pretty', 'saturday', 'ordered steak', 'little bit', 'mashed potatoes', 'got', 'grease', 'given', 'free', 'standard', 'wanted', 'greasy', 'ate', 'days', 'could used', 'found place', 'soda', 'loud', 'already', 'veggie', 'years never', 'lettuce', 'delicious', 'thick', 'service', 'spinach', 'top', 'horrible service', 'needed', 'decided try', 'really really', 'serve', 'took', 'atmosphere nice', 'showed', 'second', 'seated', 'matter', 'fabulous', 'feeling', 'salt pepper', 'fast food', 'flavorful', 'mine', 'talking', 'seen', 'seem', 'mins', 'convenient', 'wait go', 'ok food', 'blue', 'though', 'mashed', 'luke warm', 'regular', 'mouth', 'plenty', 'place food', 'something new', 'soups', 'dog', 'definitely', 'came', 'saying', 'could use', 'long wait', 'came table', 'good amount', 'really disappointed', 'enjoyed', 'toast', 'busy', 'salad bar', 'menu', 'weekends', 'rich', 'rice', 'plate', 'champaign', 'de', 'stop', 'appetizer', 'despite', 'nasty', 'nothing special', 'bar', 'greens', 'one time', 'twice', 'bad', 'grilled', 'steak', 'fair', 'roasted', 'next day', 'decided', 'noodles', 'best', 'said', 'food place', 'lots', 'away', 'rings', 'also delicious', 'speak manager', 'time came', 'side', 'could taste', 'cajun', 'customer service', 'high quality', 'however', 'place lunch', 'kitchen', 'hours', 'fault', 'pretty tasty', 'hummus', 'games', 'asked', 'appeared', 'groupon', 'hit miss', 'tons', 'alice cooper', 'refill', 'speak', 'bathroom', 'beef', 'bad food', 'three', 'tiny', 'quickly', 'beer', 'much', 'expected', 'fry', 'lovely', 'threw', 'life', 'orange chicken', 'pulled pork', 'chile', 'chili', 'comes back', 'east', 'place always', 'tastes', 'n', 'near', 'onion rings', 'beer cave', 'hot sauce', 'mistake', 'sushi', 'customers', 'shame', 'nice atmosphere', 'several times', 'things', 'make', 'split', 'plates', 'several', 'place empty', 'fairly', 'would go', 'garlic', 'tuna', 'butter', 'kept', 'pizza heaven', 'burgers', 'mother', 'left', 'yes', 'yet', 'even worse', 'would come', 'roast beef', 'ok', 'easy', 'enchilada', 'save', 'ordered food', 'gave', 'shrimp grits', 'possible', 'would good', 'burnt', 'monday night', 'place amazing', 'great little', 'five stars', 'chinese restaurant', 'night', 'right', 'old', 'deal', 'people', 'dining room', 'nothing else', 'food amazing', 'best part', 'bottom', 'phenomenal', 'ice', 'great meal', 'everything', 'egg drop', 'authentic mexican', 'house made', 'time time', 'place eat', 'corn', 'popular', 'super', 'sunday night', 'diner', 'inedible', 'dollars', 'zero stars', 'dinner', 'plus', 'afternoon', 'coming years', 'every time', 'curry', 'two', 'definitely return', 'never return', 'crowd', 'like good', 'put order', 'yum yum', 'way', 'friendly helpful', 'call', 'came back', 'happy', 'better service', 'head', 'offer', 'asked could', 'sea bass', 'heat', 'hear', 'little place', 'portions', 'come back', 'chicken sandwich', 'inside', 'sweet sour', 'average', 'hands best', 'hungry', 'check', 'menu items', 'good thing', 'good think', 'highly recommended', 'food bland', 'smell', 'roll', 'phoenix', 'felt', 'go somewhere', 'staff great', 'go lunch', 'weekend', 'longer', 'apology', 'potato', 'salt', 'food excellent', 'together', 'spend money', 'quite tasty', 'time', 'chain', 'average best', 'place would', 'us food', 'walking', 'drink specials', 'manager', 'long time', 'certainly', 'disgusting', 'environment', 'best mexican', 'finally', 'bar area', 'brown', 'vegan', 'tacos', 'food horrible', 'trying get', 'cook', 'bartender', 'minute', 'cool', 'nothing great', 'tortillas', 'die', 'specials', 'item', 'quick', 'guy', 'dip', 'anytime soon', 'pork', 'says', 'sign', 'one star', 'run', 'beer selection', 'drinks', 'garlic bread', 'would recommend', 'wait minutes', 'chicken fried', 'goes', 'always order', 'delicious also', 'filled', 'french', 'water', 'slow', 'alone', 'along', 'change', 'wait', 'box', 'let know', 'great deal', 'healthy', 'give try', 'real deal', 'french toast', 'usually', 'weird', 'entrees', 'service terrible', 'love', 'told would', 'extra', 'asked server', 'back restaurant', 'working', 'positive', 'visit', 'minutes waiting', 'sports', 'live', 'thru', 'today', 'cashier', 'chocolate', 'downtown', 'beers', 'first thing', 'fast service', 'olive', 'great place', 'taste good', 'edible', 'take home', 'car', 'beers tap', 'soul', 'reviews', 'soup', 'sour', 'arrive', 'seems like', 'ribs', 'awesome', 'heard', 'wine selection', 'dropped', 'mediocre food', 'food even', 'watching', 'sunday', 'place like', 'walked away', 'cocktail', 'huge', 'may', 'spot', 'mac', 'birthday', 'date', 'truly', 'guys', 'lacked', 'give us', 'man', 'remember', 'whenever', 'maybe', 'staff nice', 'pulled', 'typical', 'serving', 'waste time', 'years', 'course', 'cold', 'cole', 'group', 'thank', 'interesting', 'appetizers', 'hot', 'food never', 'main', 'happened', 'good place', 'place ok', 'non', 'lunch', 'half', 'ketchup', 'moist', 'name', 'rock', 'never come', 'yeah', 'check place', 'year', 'three times', 'girl', 'salads', 'ice cream', 'place get', 'opened', 'lacked flavor', 'looking', 'seriously', 'correct', 'never eat', 'parking lot', 'quite', 'time got', 'care', 'selections', 'waiter', 'thing', 'place', 'pepperoni', 'think', 'waited', 'first', 'cheese', 'food much', 'next time', 'one', 'fast', 'made order', 'open', 'size', 'asked manager', 'city', 'little', 'looked like', 'family owned', 'even better', 'bite', 'plastic', 'anyone', 'white', 'friend', 'decent service', 'poor service', 'mostly', 'pittsburgh', 'excited try', 'time go', 'ridiculous', 'one table', 'thai', 'try place', 'boyfriend', 'great beer', 'would never', 'tasted', 'slaw', 'say', 'medium', 'bar food', 'wanted like', 'breakfast', 'saw', 'best food', 'efficient', 'note', 'dining', 'spring roll', 'take', 'online', 'excellent food', 'sure', 'multiple', 'normal', 'cheesecake', 'price', 'knew', 'buffet', 'complaints', 'glass wine', 'especially', 'seafood', 'later', 'drive', 'bad place', 'madison', 'show', 'german', 'cheap', 'corner', 'good service', 'egg roll', 'watch game', 'outside', 'texture', 'going', 'black', 'waste money', 'get', 'best pizza', 'gem', 'used love', 'morning', 'last time', 'tortilla', 'husband', 'ignored', 'bit pricey', 'seat', 'cocktails', 'chinese food', 'parking', 'wonder', 'review', 'enough', 'chewy', 'reading', 'across', 'affordable', 'notice', 'around pm', 'back place', 'come', 'cakes', 'many', 'called', 'personal', 'think place', 'disappointment', 'last night', 'comes', 'nearby', 'across street', 'flavorless', 'happy hour', 'wild thaiger', 'considering', 'informed', 'going back', 'entire time', 'quite bit', 'excellent service', 'spring rolls', 'tasteless', 'offered', 'stars service', 'undercooked', 'attentive', 'hidden', 'deep dish', 'case', 'might', 'accommodating', 'star rating', 'cash', 'potato fries', 'situation', 'wait staff', 'middle', 'evening', 'different', 'delicious food', 'pay', 'bowl', 'trip', 'pad', 'also ordered', 'asked us', 'place clean', 'damn good', 'week', 'would like', 'finish', 'booths', 'horrible experience', 'daily specials', 'lot people', 'next door', 'running', 'food mediocre', 'quality food', 'favorites', 'totally', 'would take', 'burrito', 'without', 'looks like', 'charged', 'everything else', 'tip', 'rest', 'sour soup', 'something else', 'flavor', 'fresh delicious', 'thinking', 'seems', 'except', 'coming back', 'tuesday', 'real', 'around', 'spectacular', 'read', 'early', 'never bad', 'mom', 'better places', 'using', 'disappointed', 'server', 'someone else', 'either', 'good stuff', 'served', 'crab cakes', 'making', 'seating', 'lobster', 'gross', 'slice', 'overly', 'service food', 'minutes food', 'next us', 'stopped', 'basil', 'welcome', 'business', 'oh', 'never ever', 'favorite', 'meal', 'hard find', 'stand', 'mixed', 'road', 'service mediocre', 'food good', 'coupon', 'soup good', 'service little', 'least minutes', 'even though', 'little dry', 'area', 'sides', 'start', 'one day', 'lot', 'said would', 'valley', 'spicy', 'great experience', 'absolutely love', 'lot food', 'trying', 'read reviews', 'rush', 'romantic', 'huge fan', 'service good', 'food service', 'reasonable prices', 'oh well', 'worth price', 'expect', 'gone', 'favorite places', 'money', 'taste', 'really like', 'deep', 'general', 'tasty', 'daily', 'girlfriend', 'much flavor', 'cream', 'dor stop', 'cheese fries', 'get drink', 'requested', 'ham', 'let say', 'every single', 'fresh', 'included', 'building', 'wife', 'great flavor', 'original', 'chinese', 'month', 'much better', 'always nice', 'dish', 'make sure', 'enchilada style', 'eggs benedict', 'tv', 'sesame chicken', 'grab', 'th', 'dressing', 'smile', 'presentation', 'wish could', 'woman', 'sitting', 'far', 'fat', 'seemed like', 'fan', 'surprise', 'food friendly', 'grilled cheese', 'heaven', 'list', 'large', 'right away', 'small', 'neighborhood', 'ten', 'tea', 'capital grille', 'past', 'burger', 'zero', 'pass', 'place good', 'chicken salad', 'stood', 'sub', 'could give', 'crust', 'apologized', 'little slow', 'full', 'taste buds', 'lettuce tomato', 'wife ordered', 'service horrible', 'wild', 'bring us', 'strong', 'ahead', 'vegetarian', 'experience', 'amount', 'pick', 'give place', 'options', 'family', 'great prices', 'put', 'nothing spectacular', 'eye', 'takes', 'pretty average', 'taken', 'like eating', 'flat', 'door', 'company', 'excuse', 'basically', 'said yes', 'town', 'grill', 'hour', 'sucks', 'best place', 'corned beef', 'restaurant week', 'prompt', 'food took', 'salty', 'seat us', 'back soon', 'breakfast lunch', 'takeout', 'needs', 'rather', 'welcome diner', 'comfort', 'multiple times', 'good experience', 'okay nothing', 'really enjoy', 'goat', 'sandwich', 'okay', 'tried', 'drive thru', 'coming', 'choice', 'authentic', 'response', 'short', 'crowded', 'register', 'really tasty', 'egg', 'patio', 'mexican', 'help', 'soon', 'attitude', 'hell', 'style', 'tasted like', 'gave us', 'service ever', 'actually', 'late', 'great service', 'sauce', 'nothing really', 'good', 'return', 'food', 'would give', 'back kitchen', 'always', 'year old', 'mexican food', 'someone', 'good ordered', 'take drink', 'always fresh', 'even get', 'found', 'biscuits', 'everyone', 'needless', 'house', 'fish', 'hard', 'idea', 'oil', 'beyond', 'chain restaurant', 'really', 'chicken shrimp', 'leave', 'definitely come', 'since', 'fried rice', 'acted like', 'look like', 'first place', 'friday', 'pleasant', 'reason', 'reasonable price', 'china chili', 'imagine', 'ask', 'manager came', 'american', 'expecting', 'w', 'way better', 'dine', 'dont', 'placed order', 'feel', 'way overpriced', 'never go', 'number', 'done', 'miss', 'guess', 'taste like', 'ordered two', 'definitely going', 'least', 'wonderful', 'banana', 'store', 'option', 'behind', 'good flavor', 'hotel', 'park', 'part', 'believe', 'service awful', 'kind', 'b', 'love food', 'gotten', 'filet mignon', 'sweet potato', 'stale', 'treated', 'charlotte', 'coleslaw', 'half hour', 'chips salsa', 'drink orders', 'orders', 'wanted try', 'odd', 'also', 'sandwiches', 'poor quality', 'special occasion', 'german food', 'experienced', 'bottle', 'pretty much', 'eggs', 'salmon', 'indian food', 'great price', 'terrible service', 'plan', 'eaten', 'waiting food', 'nothing', 'extremely', 'never disappointed', 'yelp reviews', 'bbq sauce', 'clear', 'get food', 'deep fried', 'nice place', 'clean', 'notch', 'cole slaw', 'soul food', 'particularly', 'service bad', 'laid back', 'fine', 'find', 'get us', 'pretty', 'would given', 'feel like', 'grocery store', 'hit', 'entr e', 'chocolate chip', 'cajun queen', 'got order', 'sour cream', 'restaurants', 'set', 'french fries', 'see', 'sea', 'close', 'probably go', 'wow', 'please', 'quick lunch', 'food terrible', 'probably', 'available', 'recently', 'bad either', 'lunch hour', 'great selection', 'main course', 'c', 'last', 'restaurant', 'ever seen', 'service great', 'mcdonald', 'whole', 'liked', 'bell', 'simple', 'sweet', 'low quality', 'decent place', 'crispy', 'expensive', 'due', 'damn', 'fries good', 'peppers', 'empty', 'pm', 'lived', 'mind', 'cooked perfection', 'else', 'ordered medium', 'understand', 'ever go', 'prices', 'waiting minutes', 'meal good', 'hostess', 'raw', 'bill', 'worst service', 'brought us', 'fun', 'staff friendly', 'ready', 'leaving', 'decor', 'anymore', 'also great', 'higher', 'used', 'got food', 'want good', 'yesterday', 'great staff', 'hole wall', 'arrived', 'strip mall', 'recent', 'dark', 'older', 'obviously', 'person', 'five', 'everyone else', 'world', 'asked wanted', 'another table', 'tables', 'cut', 'fried chicken', 'cup', 'lady', 'overall great', 'location', 'excited', 'surprised', 'super nice', 'big', 'couple', 'family style', 'game', 'food order', 'bit', 'wings', 'like', 'every bite', 'onion', 'took us', 'pork chop', 'often', 'absolutely', 'pretty bad', 'date night', 'back', 'added', 'love place', 'lunch today', 'sauces', 'overall food', 'still waiting', 'place order', 'also love', 'eating', 'place best', 'took drink', 'time money', 'tried place', 'anything', 'delish', 'beans', 'experiences', 'seeing', 'within', 'tofu', 'servers', 'good luck', 'would expect', 'rolls', 'impressed', 'tasting', 'love love', 'long', 'filet', 'cream sauce', 'place busy', 'properly', 'minutes finally', 'line', 'fries', 'us', 'definitely back', 'fried', 'finally came', 'atmosphere great', 'sometimes', 'ordered', 'ten minutes', 'cafe', 'order taken', 'say place', 'terrible food', 'made fresh', 'best thing', 'nice', 'prepared', 'reservation', 'meals', 'ago', 'e', 'walked', 'soy sauce', 'cooked', 'would think', 'sent back', 'good food', 'new favorite', 'one thing', 'place grab', 'busy lunch', 'go', 'table next', 'issues', 'seemed', 'pizza hut', 'never order', 'send', 'place try', 'friendly', 'sent', 'seated right', 'years ago', 'dessert', 'food love', 'mediocre best', 'three stars', 'telling', 'drinking', 'entire', 'got chicken', 'try', 'one two', 'smaller', 'soba', 'pepper', 'general tso', 'sausage', 'ordered chicken', 'like one', 'giving', 'consistently', 'waiting', 'indian', 'good overall', 'chose', 'last week', 'let', 'others', 'pretty standard', 'great', 'receive', 'go place', 'opinion', 'makes', 'like something', 'sat', 'amazing food', 'high expectations', 'standing', 'use', 'crap', 'iced', 'next', 'doubt', 'crab', 'sort', 'five minutes', 'started', 'service friendly', 'actual', 'sure would', 'customer', 'best chinese', 'salad', 'anywhere', 'thin', 'meet', 'dining experience', 'really nice', 'tell us', 'pieces', 'high', 'something', 'shrimp', 'onions', 'good however', 'sit', 'instead', 'establishment', 'green chili', 'watery', 'entree', 'watch', 'send back', 'second time', 'stars', 'taco', 'minute wait', 'service really', 'realized', 'order wrong', 'light', 'counter', 'honestly', 'good way', 'martini', 'say least', 'move', 'went lunch', 'including', 'looks', 'service poor', 'mentioned', 'perfect', 'whole time', 'choose', 'covered', 'dad', 'anywhere else', 'well worth', 'two stars', 'front', 'day', 'got home', 'would probably', 'glasses', 'avoid place', 'food tasty', 'ambiance', 'potato salad', 'sports bar', 'every day', 'great job', 'special', 'never came', 'food awesome', 'desert', 'grits', 'pretty good', 'red', 'anything special', 'food great', 'cooked well', 'southern', 'nice enough', 'one came', 'craving', 'place take', 'could', 'times', 'conversation', 'pudding', 'food like', 'went back', 'food fantastic', 'owned', 'owner', 'quality', 'management', 'ordering', 'hour half', 'new york', 'low', 'tomato', 'stomach', 'exactly', 'would highly', 'loved', 'needless say', 'late night', 'boring', 'bother', 'back next', 'many times', 'loves', 'visited', 'like came', 'comfortable', 'tonight', 'like place', 'food came', 'need', 'server friendly', 'food poisoning', 'clearly', 'dishes', 'min', 'able', 'place awesome', 'time come', 'korean', 'taking order', 'good chicken', 'hot dog', 'looked', 'eat food', 'occasion', 'normally', 'fact', 'many people', 'atmosphere', 'selection', 'time went', 'anyway', 'bring', 'give stars', 'chicken', 'pleased', 'staff', 'based', 'combo', 'employee', 'local', 'hope', 'means', 'beat', 'would make', 'overall', 'sat us', 'joint', 'ones', 'perfection', 'pasta trio', 'chips', 'place go', 'cherry blossom', 'ended', 'stuff', 'view', 'medium well', 'two people', 'grilled chicken', 'experience ever', 'cheese steak', 'packed', 'still', 'great food', 'super friendly', 'superb', 'closed', 'neither', 'job', 'little bland', 'called back', 'quick service', 'figured', 'joke', 'taking', 'etc', 'favorite restaurant', 'behind us', 'peanut butter', 'co', 'wall', 'walk', 'go get', 'italian food', 'table', 'iceberg lettuce', 'decent', 'seasoned', 'treat', 'waste', 'bbq', 'pie', 'finished', 'iced tea', 'brunch', 'welcoming', 'value', 'choices', 'potato pancakes', 'bbq chicken', 'took long', 'home made', 'almost', 'surprisingly', 'looked good', 'told us', 'hot sour', 'waitresses', 'get one', 'another', 'fried green', 'party', 'gets', 'tomatoes', 'pho', 'slightly', 'drink', 'upon', 'broccoli', 'pleasantly', 'anything else', 'incredible', 'well', 'thought', 'call ahead', 'egg rolls', 'less', 'give one', 'point', 'realize', 'add', 'eye contact', 'great spot', 'teriyaki', 'fish chips', 'kick', 'decent food', 'place definitely', 'chicken good', 'know', 'immediately', 'would rather', 'side salad', 'well done', 'lost', 'mac n', 'would order', 'simply', 'soft', 'italian', 'hair', 'home', 'literally', 'avoid', 'food fresh', 'good little', 'everything menu', 'fried steak', 'host', 'go back', 'although', 'friday night', 'pasta', 'sister', 'rare', 'getting', 'consistently good', 'biscuit', 'cheese sauce', 'always great', 'toppings', 'felt like', 'green chile', 'mushrooms', 'another chance', 'us ordered', 'looking forward', 'friends', 'vegetables', 'spots', 'noticed', 'good deal', 'keep coming', 'worst experience', 'fish fry', 'ever tasted', 'buy', 'north', 'delivery', 'get table', 'bread pudding', 'eat', 'corn bread', 'made', 'places', 'wish', 'burger king', 'placed', 'within minutes', 'hand', 'cake', 'problem', 'piece', 'minutes', 'food best', 'whatever', 'empty tables', 'seated us', 'feels like', 'awesome food', 'goodness', 'medium rare', 'compared', 'ingredients', 'sick', 'cream cheese', 'star', 'good reviews', 'get order', 'stay', 'chance', 'kinda', 'priced', 'check us', 'fast friendly', 'yelp', 'pork sandwich', 'get drinks', 'portion', 'thai food', 'hidden gem', 'baked']\n"
     ]
    }
   ],
   "source": [
    "fs.feature_selection(labels_sample, np.array(unvectorized_data_sample))"
   ]
  },
  {
   "cell_type": "code",
   "execution_count": 5,
   "metadata": {
    "collapsed": false
   },
   "outputs": [],
   "source": [
    "#[preprocessed_data_sample, labels_sample, vectorizer, no_features, samples, unvectorized_data_sample] = pp.preprocess()\n",
    "\n",
    "#Dividing samples into train and test\n",
    "train_plus_test = samples#20000#(train_length + test_length) * 3#20000\n",
    "ratio = int(train_plus_test * 0.7)\n",
    "\n",
    "X_train = preprocessed_data_sample[0:ratio]\n",
    "y_train = labels_sample[0:ratio]\n",
    "X_test = preprocessed_data_sample[ratio:train_plus_test]\n",
    "y_test = labels_sample[ratio:train_plus_test]\n",
    "\n",
    "#print id(y_test)\n",
    "\n",
    "no_classes = 5\n"
   ]
  },
  {
   "cell_type": "code",
   "execution_count": 6,
   "metadata": {
    "collapsed": false
   },
   "outputs": [
    {
     "name": "stdout",
     "output_type": "stream",
     "text": [
      "init [[ 0.  0.  0. ...,  0.  0.  0.]\n",
      " [ 0.  0.  0. ...,  0.  0.  0.]\n",
      " [ 0.  0.  0. ...,  0.  0.  0.]\n",
      " [ 0.  0.  0. ...,  0.  0.  0.]\n",
      " [ 0.  0.  0. ...,  0.  0.  0.]]\n",
      "942\n",
      "\n",
      "\n",
      "class 1 \n",
      "\n",
      "\n",
      "\n",
      "\n",
      "\n",
      "class 2 \n",
      "\n",
      "\n",
      "\n",
      "\n",
      "\n",
      "class 3 \n",
      "\n",
      "\n",
      "\n",
      "\n",
      "\n",
      "class 4 \n",
      "\n",
      "\n",
      "\n",
      "\n",
      "\n",
      "class 5 \n",
      "\n",
      "\n",
      "\n",
      "[[-0.00795018  0.00208214  0.00664397 ..., -0.0122303  -0.02626017\n",
      "  -0.03168717]\n",
      " [-0.00121866 -0.01287464 -0.03867282 ..., -0.01296379  0.0257904\n",
      "   0.01770696]\n",
      " [-0.03934512  0.01681835 -0.00763806 ...,  0.00150847 -0.08727738\n",
      "  -0.03299597]\n",
      " [ 0.03698136  0.02035642  0.03516449 ...,  0.02532042 -0.0107453\n",
      "   0.01070081]\n",
      " [ 0.04172423  0.03060594  0.04758222 ...,  0.02893666 -0.05861372\n",
      "  -0.0436001 ]]\n"
     ]
    }
   ],
   "source": [
    "#Train logistic regression\n",
    "w = log_clf.train_logistic_regression(X_train, y_train, no_classes)"
   ]
  },
  {
   "cell_type": "code",
   "execution_count": 7,
   "metadata": {
    "collapsed": false
   },
   "outputs": [
    {
     "name": "stdout",
     "output_type": "stream",
     "text": [
      "12000\n",
      "Logistic 5 class accuracy 54.5\n",
      "Confusion matrix\n",
      "[[ 804  160   83   83   72]\n",
      " [ 283  315  273  205   93]\n",
      " [ 124  151  618  674  202]\n",
      " [  92   61  360 2062 1282]\n",
      " [  60   26  105 1071 2741]]\n",
      "Classification report\n",
      "             precision    recall  f1-score   support\n",
      "\n",
      "          1       0.59      0.67      0.63      1202\n",
      "          2       0.44      0.27      0.33      1169\n",
      "          3       0.43      0.35      0.39      1769\n",
      "          4       0.50      0.53      0.52      3857\n",
      "          5       0.62      0.68      0.65      4003\n",
      "\n",
      "avg / total       0.54      0.55      0.54     12000\n",
      "\n",
      "Logistic 3 class accuracy 77.8\n",
      "Confusion matrix\n",
      "[[1562  356  453]\n",
      " [ 275  618  876]\n",
      " [ 239  465 7156]]\n",
      "Classification report\n",
      "             precision    recall  f1-score   support\n",
      "\n",
      "          0       0.75      0.66      0.70      2371\n",
      "          1       0.43      0.35      0.39      1769\n",
      "          2       0.84      0.91      0.88      7860\n",
      "\n",
      "avg / total       0.76      0.78      0.77     12000\n",
      "\n",
      "Logistic 2 class accuracy 88.975\n",
      "Confusion matrix\n",
      "[[1562  809]\n",
      " [ 514 9115]]\n",
      "Classification report\n",
      "             precision    recall  f1-score   support\n",
      "\n",
      "          0       0.75      0.66      0.70      2371\n",
      "          1       0.92      0.95      0.93      9629\n",
      "\n",
      "avg / total       0.89      0.89      0.89     12000\n",
      "\n",
      "Logistic 5 class accuracy 58.0\n",
      "Confusion matrix\n",
      "[[2178  355  190  182  192]\n",
      " [ 640 1104  686  448  301]\n",
      " [ 258  305 1845 1638  590]\n",
      " [ 119  123  639 5094 2774]\n",
      " [  91   76  147 2006 6019]]\n",
      "Classification report\n",
      "             precision    recall  f1-score   support\n",
      "\n",
      "          1       0.66      0.70      0.68      3097\n",
      "          2       0.56      0.35      0.43      3179\n",
      "          3       0.53      0.40      0.45      4636\n",
      "          4       0.54      0.58      0.56      8749\n",
      "          5       0.61      0.72      0.66      8339\n",
      "\n",
      "avg / total       0.58      0.58      0.57     28000\n",
      "\n",
      "Logistic 3 class accuracy 78.625\n",
      "Confusion matrix\n",
      "[[ 4277   876  1123]\n",
      " [  563  1845  2228]\n",
      " [  409   786 15893]]\n",
      "Classification report\n",
      "             precision    recall  f1-score   support\n",
      "\n",
      "          0       0.81      0.68      0.74      6276\n",
      "          1       0.53      0.40      0.45      4636\n",
      "          2       0.83      0.93      0.87     17088\n",
      "\n",
      "avg / total       0.77      0.79      0.78     28000\n",
      "\n",
      "Logistic 2 class accuracy 89.3892857143\n",
      "Confusion matrix\n",
      "[[ 4277  1999]\n",
      " [  972 20752]]\n",
      "Classification report\n",
      "             precision    recall  f1-score   support\n",
      "\n",
      "          0       0.81      0.68      0.74      6276\n",
      "          1       0.91      0.96      0.93     21724\n",
      "\n",
      "avg / total       0.89      0.89      0.89     28000\n",
      "\n"
     ]
    }
   ],
   "source": [
    "#Thresholding labels\n",
    "#To compute train accuracy if necessary\n",
    "y_train_thresholded = np.array(copy.deepcopy(y_train))\n",
    "y_train_thresholded[y_train_thresholded < 3] = 0\n",
    "y_train_thresholded[y_train_thresholded == 3] = 1\n",
    "y_train_thresholded[y_train_thresholded > 3] = 2\n",
    "print len(y_test)\n",
    "[y_test, y_test_thresholded_binary, y_test_thresholded_ternary] = get_ylabels(y_test)\n",
    "\n",
    "#print (y_test_thresholded)\n",
    "[pred, prob] = log_clf.predict(w, X_test)\n",
    "print \"Logistic 5 class accuracy\", (sum(pred==y_test) * 100.0 / len(y_test))\n",
    "print \"Confusion matrix\\n\", confusion_matrix(y_test, pred)\n",
    "print \"Classification report\\n\", classification_report(y_test, pred)\n",
    "\n",
    "[pred_lr, prob_lr] = log_clf.predict_ternary(w, X_test)\n",
    "print \"Logistic 3 class accuracy\", (sum(pred_lr==y_test_thresholded_ternary) * 100.0 / len(y_test_thresholded_ternary))\n",
    "print \"Confusion matrix\\n\", confusion_matrix(y_test_thresholded_ternary, pred_lr)\n",
    "print \"Classification report\\n\", classification_report(y_test_thresholded_ternary, pred_lr)\n",
    "\n",
    "[pred, prob] = log_clf.predict_binary(w, X_test)\n",
    "print \"Logistic 2 class accuracy\", (sum(pred==y_test_thresholded_binary) * 100.0 / len(y_test_thresholded_binary))\n",
    "print \"Confusion matrix\\n\", confusion_matrix(y_test_thresholded_binary, pred)\n",
    "print \"Classification report\\n\", classification_report(y_test_thresholded_binary, pred)\n",
    "\n",
    "[pred, prob] = log_clf.predict(w, X_train)\n",
    "print \"Logistic 5 class accuracy\", (sum(pred==y_train) * 100.0 / len(y_train))\n",
    "print \"Confusion matrix\\n\", confusion_matrix(y_train, pred)\n",
    "print \"Classification report\\n\", classification_report(y_train, pred)\n",
    "\n",
    "[pred, prob] = log_clf.predict_ternary(w, X_train)\n",
    "print \"Logistic 3 class accuracy\", (sum(pred==y_train_thresholded) * 100.0 / len(y_train_thresholded))\n",
    "print \"Confusion matrix\\n\", confusion_matrix(y_train_thresholded, pred)\n",
    "print \"Classification report\\n\", classification_report(y_train_thresholded, pred)\n",
    "\n",
    "y_train_thresholded = np.array(copy.deepcopy(y_train))\n",
    "y_train_thresholded[y_train_thresholded < 3] = 0\n",
    "y_train_thresholded[y_train_thresholded >= 3] = 1\n",
    "\n",
    "[pred, prob] = log_clf.predict_binary(w, X_train)\n",
    "print \"Logistic 2 class accuracy\", (sum(pred==y_train_thresholded) * 100.0 / len(y_train_thresholded))\n",
    "print \"Confusion matrix\\n\", confusion_matrix(y_train_thresholded, pred)\n",
    "print \"Classification report\\n\", classification_report(y_train_thresholded, pred)"
   ]
  },
  {
   "cell_type": "markdown",
   "metadata": {},
   "source": [
    "Naive Bayes\n"
   ]
  },
  {
   "cell_type": "code",
   "execution_count": 8,
   "metadata": {
    "collapsed": false
   },
   "outputs": [
    {
     "name": "stdout",
     "output_type": "stream",
     "text": [
      "[[  4.40276834e-04   1.22814064e-03   2.85793734e-04 ...,   1.05820923e-03\n",
      "    2.54897114e-04   2.08552184e-04]\n",
      " [  7.01671507e-04   1.41029026e-03   5.55779411e-04 ...,   1.55618235e-03\n",
      "    2.01470037e-04   3.47362132e-04]\n",
      " [  8.03618812e-04   1.93070683e-03   1.07654596e-03 ...,   2.40580223e-03\n",
      "    7.07588891e-05   4.19499128e-04]\n",
      " [  1.14036812e-03   1.81490948e-03   1.43982819e-03 ...,   3.62074442e-03\n",
      "    2.41987931e-05   3.84155840e-04]\n",
      " [  9.40997605e-04   1.49083542e-03   1.08491489e-03 ...,   4.19943245e-03\n",
      "    1.47607467e-05   1.69748588e-04]]\n"
     ]
    }
   ],
   "source": [
    "import naive_bayes_classifier as nb\n",
    "no_classes = 5\n",
    "#no_features = 942\n",
    "\n",
    "w_nb, prior = nb.train(X_train, y_train, no_classes)\n",
    "print w_nb"
   ]
  },
  {
   "cell_type": "code",
<<<<<<< HEAD
   "execution_count": 9,
=======
   "execution_count": 13,
>>>>>>> origin/master
   "metadata": {
    "collapsed": false
   },
   "outputs": [
    {
     "name": "stdout",
     "output_type": "stream",
     "text": [
<<<<<<< HEAD
      "(12000L, 5L)\n",
      "[]\n",
      "0\n",
      "5 class classification naive bayes\n",
      "[[ 829  320  151  125  119]\n",
      " [ 194  384  220  144   71]\n",
      " [  66  273  740  526  139]\n",
      " [  68  140  536 1937 1040]\n",
      " [  45   52  122 1125 2634]]\n",
      "54.3666666667\n"
     ]
    },
    {
     "name": "stderr",
     "output_type": "stream",
     "text": [
      "../YelpSA/lib\\naive_bayes_classifier.py:89: VisibleDeprecationWarning: using a non-integer number instead of an integer will result in an error in the future\n",
      "  if prob[i][pred[i]-1]== inf or prob[i][pred[i]-1]== -inf :\n",
      "../YelpSA/lib\\naive_bayes_classifier.py:92: VisibleDeprecationWarning: using a non-integer number instead of an integer will result in an error in the future\n",
      "  prob_normal[i]=prob[i][pred[i]-1]/normalizer\n"
     ]
    },
    {
     "name": "stdout",
     "output_type": "stream",
     "text": [
      "(12000L, 5L)\n",
      "[]\n",
      "0\n",
      "2 class classification naive bayes\n",
      "Confusion matrix\n",
      "[[1727  644]\n",
      " [ 830 8799]]\n",
      "Classification report\n",
      "             precision    recall  f1-score   support\n",
      "\n",
      "          0       0.68      0.73      0.70      2371\n",
      "          1       0.93      0.91      0.92      9629\n",
      "\n",
      "avg / total       0.88      0.88      0.88     12000\n",
      "\n",
      "87.7166666667\n",
      "(12000L, 5L)\n",
      "[]\n",
      "0\n",
      "3 class classification naive bayes\n",
      "Confusion matrix\n",
      "[[1727  339  305]\n",
      " [ 371  740  658]\n",
      " [ 459  665 6736]]\n",
      "Classification report\n",
      "             precision    recall  f1-score   support\n",
      "\n",
      "          0       0.68      0.73      0.70      2371\n",
      "          1       0.42      0.42      0.42      1769\n",
      "          2       0.87      0.86      0.87      7860\n",
      "\n",
      "avg / total       0.77      0.77      0.77     12000\n",
      "\n",
      "76.6916666667\n"
=======
      "(6000L, 5L)\n",
      "[]\n",
      "0\n",
      "5 class classification naive bayes\n",
      "[[ 425  149   60   53   44]\n",
      " [ 107  220  138   64   34]\n",
      " [  35  164  353  253   49]\n",
      " [  30   85  328  897  436]\n",
      " [  37   37   89  668 1245]]\n",
      "52.3333333333\n",
      "(6000L, 5L)\n",
      "[]\n",
      "0\n",
      "2 class classification naive bayes\n",
      "[[ 901  393]\n",
      " [ 388 4318]]\n",
      "86.9833333333\n",
      "(6000L, 5L)\n",
      "[]\n",
      "0\n",
      "3 class classification naive bayes\n",
      "[[ 901  199  189]\n",
      " [ 198  353  417]\n",
      " [ 195  302 3246]]\n",
      "75.0\n"
>>>>>>> origin/master
     ]
    }
   ],
   "source": [
    "#Predicting on naive bayes\n",
    "pred, prob_normal = nb.predict(X_test, w_nb, prior)\n",
    "c = confusion_matrix(pred, y_test)\n",
    "print \"5 class classification naive bayes\"\n",
    "print c\n",
    "accuracy = sum(pred==y_test) * 100.0 / len(y_test)\n",
    "print accuracy\n",
    "\n",
    "[y_test, y_test_thresholded_binary, y_test_thresholded_ternary] = get_ylabels(y_test)\n",
    "\n",
    "pred, prob = nb.pred_binary(X_test, w_nb, prior)\n",
    "print \"2 class classification naive bayes\"\n",
    "print \"Confusion matrix\\n\", confusion_matrix( y_test_thresholded_binary,pred)\n",
    "print \"Classification report\\n\", classification_report(y_test_thresholded_binary, pred)\n",
    "accuracy = sum(pred==y_test_thresholded_binary) * 100.0 / len(y_test)\n",
    "print accuracy\n",
    "\n",
    "pred, prob = nb.pred_ternary(X_test, w_nb, prior)\n",
    "print \"3 class classification naive bayes\"\n",
    "print \"Confusion matrix\\n\", confusion_matrix( y_test_thresholded_ternary,pred)\n",
    "print \"Classification report\\n\", classification_report(y_test_thresholded_ternary, pred)\n",
    "accuracy = sum(pred==y_test_thresholded_ternary) * 100.0 / len(y_test)\n",
    "print accuracy"
   ]
  },
  {
   "cell_type": "code",
   "execution_count": 10,
   "metadata": {
    "collapsed": false
   },
   "outputs": [
    {
     "name": "stdout",
     "output_type": "stream",
     "text": [
      "[[  4.40276834e-04   1.22814064e-03   2.85793734e-04 ...,   1.05820923e-03\n",
      "    2.54897114e-04   2.08552184e-04]\n",
      " [  7.01671507e-04   1.41029026e-03   5.55779411e-04 ...,   1.55618235e-03\n",
      "    2.01470037e-04   3.47362132e-04]\n",
      " [  8.03618812e-04   1.93070683e-03   1.07654596e-03 ...,   2.40580223e-03\n",
      "    7.07588891e-05   4.19499128e-04]\n",
      " [  1.14036812e-03   1.81490948e-03   1.43982819e-03 ...,   3.62074442e-03\n",
      "    2.41987931e-05   3.84155840e-04]\n",
      " [  9.40997605e-04   1.49083542e-03   1.08491489e-03 ...,   4.19943245e-03\n",
      "    1.47607467e-05   1.69748588e-04]]\n",
      "init [[  4.40276834e-04   1.22814064e-03   2.85793734e-04 ...,   1.05820923e-03\n",
      "    2.54897114e-04   2.08552184e-04]\n",
      " [  7.01671507e-04   1.41029026e-03   5.55779411e-04 ...,   1.55618235e-03\n",
      "    2.01470037e-04   3.47362132e-04]\n",
      " [  8.03618812e-04   1.93070683e-03   1.07654596e-03 ...,   2.40580223e-03\n",
      "    7.07588891e-05   4.19499128e-04]\n",
      " [  1.14036812e-03   1.81490948e-03   1.43982819e-03 ...,   3.62074442e-03\n",
      "    2.41987931e-05   3.84155840e-04]\n",
      " [  9.40997605e-04   1.49083542e-03   1.08491489e-03 ...,   4.19943245e-03\n",
      "    1.47607467e-05   1.69748588e-04]]\n",
      "942\n",
      "\n",
      "\n",
      "class 1 \n",
      "\n",
      "\n",
      "\n",
      "\n",
      "\n",
      "class 2 \n",
      "\n",
      "\n",
      "\n",
      "\n",
      "\n",
      "class 3 \n",
      "\n",
      "\n",
      "\n",
      "\n",
      "\n",
      "class 4 \n",
      "\n",
      "\n",
      "\n",
      "\n",
      "\n",
      "class 5 \n",
      "\n",
      "\n",
      "\n",
      "[[-0.00795009  0.00208208  0.0066438  ..., -0.0122304  -0.02625939\n",
      "  -0.03168723]\n",
      " [-0.00121808 -0.0128747  -0.03867259 ..., -0.01296364  0.02578977\n",
      "   0.01770746]\n",
      " [-0.03934606  0.01681848 -0.00763796 ...,  0.00150809 -0.0872758\n",
      "  -0.03299518]\n",
      " [ 0.0369811   0.02035629  0.03516563 ...,  0.02532066 -0.0107452\n",
      "   0.01069983]\n",
      " [ 0.04172436  0.03060597  0.04758329 ...,  0.02893647 -0.05861372\n",
      "  -0.04360006]]\n"
     ]
    }
   ],
   "source": [
    "#Ensemble classifier\n",
    "#import ensemble_classifier as en\n",
    "no_classes = 5\n",
    "w_lr, prior, w_nb = en.train(X_train, y_train, no_classes)"
   ]
  },
  {
   "cell_type": "code",
   "execution_count": 17,
   "metadata": {
    "collapsed": false
   },
   "outputs": [
    {
     "name": "stdout",
     "output_type": "stream",
     "text": [
      "(6000L, 5L)\n",
      "[]\n",
      "0\n",
      "[[ 924  185  180]\n",
      " [ 200  336  432]\n",
      " [ 170  283 3290]]\n",
      "             precision    recall  f1-score   support\n",
      "\n",
      "          0       0.71      0.72      0.72      1289\n",
      "          1       0.42      0.35      0.38       968\n",
      "          2       0.84      0.88      0.86      3743\n",
      "\n",
      "avg / total       0.75      0.76      0.75      6000\n",
      "\n",
      "75.8333333333\n"
     ]
    }
   ],
   "source": [
    "#import ensemble_classifier as en2\n",
    "#import logistic_classifier as log_clf\n",
    "#import naive_bayes_classifier as nb\n",
    "pred = en.predict_ternary(X_test, w_lr, w_nb, prior)\n",
    "\n",
    "[y_test, y_test_thresholded_binary, y_test_thresholded_ternary] = get_ylabels(y_test)\n",
    "print confusion_matrix(y_test_thresholded_ternary, pred)\n",
    "print classification_report(y_test_thresholded_ternary, pred)\n",
    "accuracy = sum(pred==y_test_thresholded_ternary) * 100.0 / len(y_test)\n",
    "print accuracy\n",
    "\n"
   ]
  },
  {
   "cell_type": "code",
   "execution_count": 18,
   "metadata": {
    "collapsed": false
   },
   "outputs": [
    {
     "name": "stdout",
     "output_type": "stream",
     "text": [
      "(6000L, 5L)\n",
      "[]\n",
      "0\n",
      "[[ 902  387]\n",
      " [ 337 4374]]\n",
      "87.9333333333\n",
      "(6000L, 5L)\n",
      "[]\n",
      "0\n",
      "[[ 425  108   35   30   36]\n",
      " [ 145  222  164   87   37]\n",
      " [  58  139  354  328   89]\n",
      " [  43   65  254  903  670]\n",
      " [  30   34   49  443 1252]]\n",
      "52.6\n"
     ]
    }
   ],
   "source": [
    "pred = en.predict_binary(X_test, w_lr, w_nb, prior)\n",
    "print confusion_matrix(y_test_thresholded_binary, pred)\n",
    "accuracy = sum(pred==y_test_thresholded_binary) * 100.0 / len(y_test)\n",
    "print accuracy\n",
    "\n",
    "pred = en.predict(X_test, w_lr, w_nb, prior)\n",
    "print confusion_matrix(y_test, pred)\n",
    "accuracy = sum(pred==y_test) * 100.0 / len(y_test)\n",
    "print accuracy"
   ]
  },
  {
   "cell_type": "code",
   "execution_count": null,
   "metadata": {
    "collapsed": true
   },
   "outputs": [],
   "source": []
  }
 ],
 "metadata": {
  "anaconda-cloud": {},
  "kernelspec": {
   "display_name": "Python [conda root]",
   "language": "python",
   "name": "conda-root-py"
  },
  "language_info": {
   "codemirror_mode": {
    "name": "ipython",
    "version": 2
   },
   "file_extension": ".py",
   "mimetype": "text/x-python",
   "name": "python",
   "nbconvert_exporter": "python",
   "pygments_lexer": "ipython2",
   "version": "2.7.12"
  }
 },
 "nbformat": 4,
 "nbformat_minor": 1
}
