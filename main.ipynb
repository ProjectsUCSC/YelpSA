{
 "cells": [
  {
   "cell_type": "code",
   "execution_count": null,
   "metadata": {
    "collapsed": true
   },
   "outputs": [],
   "source": [
    "import sys\n",
    "import os\n",
    "print os.getcwd()\n",
    "sys.path.append(os.getcwd())\n",
    "import pre_processing.ipynb\n",
    "import feature_select\n",
    "import classifiers\n",
    "from sklearn.metrics import confusion_matrix"
   ]
  },
  {
   "cell_type": "code",
   "execution_count": null,
   "metadata": {
    "collapsed": true
   },
   "outputs": [],
   "source": [
    "#Predicts on all 5 classes - 1, 2, 3, 4, 5\n",
    "def predict(w, X_test):\n",
    "    prob = np.transpose(np.dot(w, np.transpose(X_test)))\n",
    "    return (np.argmax(prob, axis=1)+1)\n",
    "\n",
    "#To be used when logistic regression is trained only on two classes\n",
    "def predict_binary(w, X_test):\n",
    "    prob = np.transpose(np.dot(w, np.transpose(X_test)))\n",
    "    prob[prob >= 0.5] = 1\n",
    "    prob[prob < 0.5] = 0\n",
    "    return prob\n"
   ]
  },
  {
   "cell_type": "code",
   "execution_count": 5,
   "metadata": {
    "collapsed": false
   },
   "outputs": [
    {
     "name": "stdout",
     "output_type": "stream",
     "text": [
      "C:\\Users\\sanja\\Desktop\\Sanjana\\books\\UCSC\\YelpSA\n"
     ]
    },
    {
     "ename": "ImportError",
     "evalue": "No module named pre_processing.ipynb",
     "output_type": "error",
     "traceback": [
      "\u001b[0;31m---------------------------------------------------------------------------\u001b[0m",
      "\u001b[0;31mImportError\u001b[0m                               Traceback (most recent call last)",
      "\u001b[0;32m<ipython-input-5-2dccd9556805>\u001b[0m in \u001b[0;36m<module>\u001b[0;34m()\u001b[0m\n\u001b[1;32m      3\u001b[0m \u001b[1;32mprint\u001b[0m \u001b[0mos\u001b[0m\u001b[1;33m.\u001b[0m\u001b[0mgetcwd\u001b[0m\u001b[1;33m(\u001b[0m\u001b[1;33m)\u001b[0m\u001b[1;33m\u001b[0m\u001b[0m\n\u001b[1;32m      4\u001b[0m \u001b[0msys\u001b[0m\u001b[1;33m.\u001b[0m\u001b[0mpath\u001b[0m\u001b[1;33m.\u001b[0m\u001b[0mappend\u001b[0m\u001b[1;33m(\u001b[0m\u001b[0mos\u001b[0m\u001b[1;33m.\u001b[0m\u001b[0mgetcwd\u001b[0m\u001b[1;33m(\u001b[0m\u001b[1;33m)\u001b[0m\u001b[1;33m)\u001b[0m\u001b[1;33m\u001b[0m\u001b[0m\n\u001b[0;32m----> 5\u001b[0;31m \u001b[1;32mimport\u001b[0m \u001b[0mpre_processing\u001b[0m\u001b[1;33m.\u001b[0m\u001b[0mipynb\u001b[0m\u001b[1;33m\u001b[0m\u001b[0m\n\u001b[0m\u001b[1;32m      6\u001b[0m \u001b[1;32mimport\u001b[0m \u001b[0mfeature_select\u001b[0m\u001b[1;33m\u001b[0m\u001b[0m\n\u001b[1;32m      7\u001b[0m \u001b[1;32mimport\u001b[0m \u001b[0mclassifiers\u001b[0m\u001b[1;33m\u001b[0m\u001b[0m\n",
      "\u001b[0;31mImportError\u001b[0m: No module named pre_processing.ipynb"
     ]
    }
   ],
   "source": [
    "#Preprocess\n",
    "[preprocessed_data_sample, labels_sample, vectorizer, no_features, samples] = preprocess()\n",
    "\n",
    "#Dividing samples into train and test\n",
    "train_plus_test = samples#20000#(train_length + test_length) * 3#20000\n",
    "ratio = int(train_plus_test * 0.7)\n",
    "\n",
    "X_train = preprocessed_data_sample[0:ratio]\n",
    "y_train = labels_sample[0:ratio]\n",
    "X_test = preprocessed_data_sample[ratio:train_plus_test]\n",
    "y_test = labels_sample[ratio:train_plus_test]\n",
    "\n",
    "print id(y_test)\n",
    "\n",
    "no_classes = 5\n",
    "#Train logistic regression\n",
    "w = train_logistic_regression(X_train, y_train, no_classes)"
   ]
  },
  {
   "cell_type": "code",
   "execution_count": null,
   "metadata": {
    "collapsed": true
   },
   "outputs": [],
   "source": [
    "#Thresholding labels\n",
    "y_test_thresholded = np.array(copy.deepcopy(y_test))\n",
    "y_test_thresholded[y_test_thresholded < 3] = 0\n",
    "y_test_thresholded[y_test_thresholded == 3] = 1\n",
    "y_test_thresholded[y_test_thresholded > 3] = 2\n",
    "\n",
    "#To compute train accuracy if necessary\n",
    "y_train_thresholded = np.array(copy.deepcopy(y_train))\n",
    "y_train_thresholded[y_train_thresholded < 3] = 0\n",
    "y_train_thresholded[y_train_thresholded == 3] = 1\n",
    "y_train_thresholded[y_train_thresholded > 3] = 2\n",
    "\n",
    "print len(y_test)\n",
    "#print (y_test_thresholded)\n",
    "pred = predict(w, X_test)\n",
    "print \"Logistic 5 class accuracy\", (sum(pred==y_test) * 100.0 / len(y_test))\n",
    "print \"Confusion matrix\\n\", confusion_matrix(y_test, pred)\n",
    "\n",
    "pred[pred < 3] = 0\n",
    "pred[pred == 3] = 1\n",
    "pred[pred > 3] = 2\n",
    "print \"Logistic 3 class accuracy\", (sum(pred==y_test_thresholded) * 100.0 / len(y_test_thresholded))\n",
    "print \"Confusion matrix\\n\", confusion_matrix(y_test_thresholded, pred)"
   ]
  }
 ],
 "metadata": {
  "kernelspec": {
   "display_name": "Python [default]",
   "language": "python",
   "name": "python2"
  },
  "language_info": {
   "codemirror_mode": {
    "name": "ipython",
    "version": 2
   },
   "file_extension": ".py",
   "mimetype": "text/x-python",
   "name": "python",
   "nbconvert_exporter": "python",
   "pygments_lexer": "ipython2",
   "version": "2.7.12"
  }
 },
 "nbformat": 4,
 "nbformat_minor": 1
}
