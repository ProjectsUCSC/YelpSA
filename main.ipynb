{
 "cells": [
  {
   "cell_type": "code",
   "execution_count": 1,
   "metadata": {
    "collapsed": false
   },
   "outputs": [
    {
     "name": "stdout",
     "output_type": "stream",
     "text": [
      "C:\\Users\\shubhangi\n"
     ]
    }
   ],
   "source": [
    "import sys\n",
    "import os\n",
    "print os.getcwd()\n",
    "sys.path.append(\"C:\\Users\\shubhangi\\Documents\\GitHub\\YelpSA\\lib\")\n",
    "import numpy as np\n",
    "import pre_processing as pp\n",
    "import feature_select as fs\n",
    "import logistic_classifier as log_clf\n",
    "from sklearn.metrics import confusion_matrix\n",
    "import copy\n",
    "import naive_bayes_classifier as nb\n",
    "import ensemble_classifier as en"
   ]
  },
  {
   "cell_type": "code",
   "execution_count": 2,
   "metadata": {
    "collapsed": true
   },
   "outputs": [],
   "source": [
    "def get_ylabels(y_test):\n",
    "    y_test_thresholded_ternary = np.array(copy.deepcopy(y_test))\n",
    "    y_test_thresholded_ternary[y_test_thresholded_ternary < 3] = 0\n",
    "    y_test_thresholded_ternary[y_test_thresholded_ternary == 3] = 1\n",
    "    y_test_thresholded_ternary[y_test_thresholded_ternary > 3] = 2\n",
    "    \n",
    "    y_test_thresholded_binary = np.array(copy.deepcopy(y_test))\n",
    "    y_test_thresholded_binary[y_test_thresholded_binary < 3] = 0\n",
    "    y_test_thresholded_binary[y_test_thresholded_binary >= 3] = 1\n",
    "    \n",
    "    return [y_test, y_test_thresholded_binary, y_test_thresholded_ternary]"
   ]
  },
  {
   "cell_type": "code",
   "execution_count": 2,
   "metadata": {
    "collapsed": false
   },
   "outputs": [
    {
     "name": "stderr",
     "output_type": "stream",
     "text": [
      "C:\\Users\\shubhangi\\Anaconda2\\lib\\site-packages\\IPython\\core\\interactiveshell.py:2825: DtypeWarning: Columns (1,4,7,17,26,29,49,60,62,79,86,94) have mixed types. Specify dtype option on import or set low_memory=False.\n",
      "  if self.run_code(code, result):\n"
     ]
    },
    {
     "name": "stdout",
     "output_type": "stream",
     "text": [
      "20000\n",
      "stemming \n",
      "length of vocabulary 942\n"
     ]
    }
   ],
   "source": [
    "#Preprocess\n",
    "[preprocessed_data_sample, labels_sample, vectorizer, no_features, samples, unvectorized_data_sample] = pp.preprocess()\n",
    "data_sample_copy = (preprocessed_data_sample)\n"
   ]
  },
  {
   "cell_type": "code",
   "execution_count": null,
   "metadata": {
    "collapsed": false
   },
   "outputs": [],
   "source": [
    "#fs.feature_selection(labels_sample, np.array(unvectorized_data_sample))"
   ]
  },
  {
   "cell_type": "code",
   "execution_count": 3,
   "metadata": {
    "collapsed": false
   },
   "outputs": [
    {
     "name": "stderr",
     "output_type": "stream",
     "text": [
      "C:\\Users\\shubhangi\\Anaconda2\\lib\\site-packages\\IPython\\core\\interactiveshell.py:2825: DtypeWarning: Columns (1,4,7,17,26,29,49,60,62,79,86,94) have mixed types. Specify dtype option on import or set low_memory=False.\n",
      "  if self.run_code(code, result):\n"
     ]
    },
    {
     "name": "stdout",
     "output_type": "stream",
     "text": [
      "20000\n",
      "stemming \n",
      "length of vocabulary 942\n",
      "67610720\n"
     ]
    }
   ],
   "source": [
    "#[preprocessed_data_sample, labels_sample, vectorizer, no_features, samples, unvectorized_data_sample] = pp.preprocess()\n",
    "\n",
    "#Dividing samples into train and test\n",
    "train_plus_test = samples#20000#(train_length + test_length) * 3#20000\n",
    "ratio = int(train_plus_test * 0.7)\n",
    "\n",
    "X_train = preprocessed_data_sample[0:ratio]\n",
    "y_train = labels_sample[0:ratio]\n",
    "X_test = preprocessed_data_sample[ratio:train_plus_test]\n",
    "y_test = labels_sample[ratio:train_plus_test]\n",
    "\n",
    "#print id(y_test)\n",
    "\n",
    "no_classes = 5\n"
   ]
  },
  {
   "cell_type": "code",
   "execution_count": null,
   "metadata": {
    "collapsed": true
   },
   "outputs": [],
   "source": [
    "#Train logistic regression\n",
    "w = clf.train_logistic_regression(X_train, y_train, no_classes)"
   ]
  },
  {
   "cell_type": "code",
   "execution_count": 10,
   "metadata": {
    "collapsed": false
   },
   "outputs": [
    {
     "name": "stdout",
     "output_type": "stream",
     "text": [
      "6000\n",
      "Logistic 5 class accuracy 50.9166666667\n",
      "Confusion matrix\n",
      "[[ 373  112   53   45   51]\n",
      " [ 136  176  165  110   68]\n",
      " [  50   88  309  404  117]\n",
      " [  34   41  208  967  685]\n",
      " [  25   26   43  484 1230]]\n",
      "Logistic 3 class accuracy 74.5333333333\n",
      "Confusion matrix\n",
      "[[ 797  218  274]\n",
      " [ 138  309  521]\n",
      " [ 126  251 3366]]\n",
      "Logistic 2 class accuracy 87.4\n",
      "Confusion matrix\n",
      "[[ 797  492]\n",
      " [ 264 4447]]\n",
      "Logistic 5 class accuracy 61.6571428571\n",
      "Confusion matrix\n",
      "[[1005  181   78   78   77]\n",
      " [ 262  690  311  197  126]\n",
      " [  89  173 1034  738  281]\n",
      " [  54   67  310 2649 1293]\n",
      " [  31   35   88  899 3254]]\n",
      "Logistic 3 class accuracy 80.4785714286\n",
      "Confusion matrix\n",
      "[[2138  389  478]\n",
      " [ 262 1034 1019]\n",
      " [ 187  398 8095]]\n",
      "Logistic 2 class accuracy 90.6\n",
      "Confusion matrix\n",
      "[[ 2138   867]\n",
      " [  449 10546]]\n"
     ]
    }
   ],
   "source": [
    "#Thresholding labels\n",
    "#To compute train accuracy if necessary\n",
    "y_train_thresholded = np.array(copy.deepcopy(y_train))\n",
    "y_train_thresholded[y_train_thresholded < 3] = 0\n",
    "y_train_thresholded[y_train_thresholded == 3] = 1\n",
    "y_train_thresholded[y_train_thresholded > 3] = 2\n",
    "print len(y_test)\n",
    "[y_test, y_test_thresholded_binary, y_test_thresholded_ternary] = get_ylabels(y_test)\n",
    "\n",
    "#print (y_test_thresholded)\n",
    "[pred, prob] = log_clf.predict(w, X_test)\n",
    "print \"Logistic 5 class accuracy\", (sum(pred==y_test) * 100.0 / len(y_test))\n",
    "print \"Confusion matrix\\n\", confusion_matrix(y_test, pred)\n",
    "\n",
    "[pred_lr, prob_lr] = log_clf.predict_ternary(w, X_test)\n",
    "print \"Logistic 3 class accuracy\", (sum(pred_lr==y_test_thresholded_ternary) * 100.0 / len(y_test_thresholded_ternary))\n",
    "print \"Confusion matrix\\n\", confusion_matrix(y_test_thresholded_ternary, pred_lr)\n",
    "\n",
    "[pred, prob] = log_clf.predict_binary(w, X_test)\n",
    "print \"Logistic 2 class accuracy\", (sum(pred==y_test_thresholded_binary) * 100.0 / len(y_test_thresholded_binary))\n",
    "print \"Confusion matrix\\n\", confusion_matrix(y_test_thresholded_binary, pred)\n",
    "\n",
    "[pred, prob] = log_clf.predict(w, X_train)\n",
    "print \"Logistic 5 class accuracy\", (sum(pred==y_train) * 100.0 / len(y_train))\n",
    "print \"Confusion matrix\\n\", confusion_matrix(y_train, pred)\n",
    "\n",
    "[pred, prob] = log_clf.predict_ternary(w, X_train)\n",
    "print \"Logistic 3 class accuracy\", (sum(pred==y_train_thresholded) * 100.0 / len(y_train_thresholded))\n",
    "print \"Confusion matrix\\n\", confusion_matrix(y_train_thresholded, pred)\n",
    "\n",
    "y_train_thresholded = np.array(copy.deepcopy(y_train))\n",
    "y_train_thresholded[y_train_thresholded < 3] = 0\n",
    "y_train_thresholded[y_train_thresholded >= 3] = 1\n",
    "\n",
    "[pred, prob] = log_clf.predict_binary(w, X_train)\n",
    "print \"Logistic 2 class accuracy\", (sum(pred==y_train_thresholded) * 100.0 / len(y_train_thresholded))\n",
    "print \"Confusion matrix\\n\", confusion_matrix(y_train_thresholded, pred)"
   ]
  },
  {
   "cell_type": "markdown",
   "metadata": {},
   "source": [
    "Naive Bayes\n"
   ]
  },
  {
   "cell_type": "code",
   "execution_count": 11,
   "metadata": {
    "collapsed": false
   },
   "outputs": [
    {
     "name": "stdout",
     "output_type": "stream",
     "text": [
      "[[  3.49389363e-04   1.01640542e-03   2.22338685e-04 ...,   1.11169343e-03\n",
      "    2.85864024e-04   3.49389363e-04]\n",
      " [  7.04272141e-04   8.10577370e-04   6.11255066e-04 ...,   1.62115474e-03\n",
      "    2.52474919e-04   4.78373530e-04]\n",
      " [  6.30011455e-04   1.39366170e-03   1.03092784e-03 ...,   2.41504391e-03\n",
      "    4.77281405e-05   6.30011455e-04]\n",
      " [  8.78749568e-04   9.92136609e-04   1.30395097e-03 ...,   3.75311106e-03\n",
      "    2.26774082e-05   4.98902980e-04]\n",
      " [  8.22101402e-04   7.87559326e-04   9.60269705e-04 ...,   4.35920995e-03\n",
      "    2.76336606e-05   2.62519775e-04]]\n"
     ]
    }
   ],
   "source": [
    "import naive_bayes_classifier as nb\n",
    "no_classes = 5\n",
    "#no_features = 942\n",
    "\n",
    "w, prior = nb.train(X_train, y_train, no_classes)\n",
    "print w"
   ]
  },
  {
   "cell_type": "code",
   "execution_count": null,
   "metadata": {
    "collapsed": false
   },
   "outputs": [],
   "source": [
    "#Predicting on naive bayes\n",
    "pred, prob_normal = nb.predict(X_test, w_nb, prior)\n",
    "c = confusion_matrix(pred, y_test)\n",
    "print \"5 class classification naive bayes\"\n",
    "print c\n",
    "accuracy = sum(pred==y_test) * 100.0 / len(y_test)\n",
    "print accuracy\n",
    "\n",
    "[y_test, y_test_thresholded_binary, y_test_thresholded_ternary] = get_ylabels(y_test)\n",
    "\n",
    "pred, prob = nb.pred_binary(X_test, w_nb, prior)\n",
    "print \"2 class classification naive bayes\"\n",
    "print confusion_matrix(pred, y_test_thresholded_binary)\n",
    "accuracy = sum(pred==y_test_thresholded_binary) * 100.0 / len(y_test)\n",
    "print accuracy\n",
    "\n",
    "pred, prob = nb.pred_ternary(X_test, w_nb, prior)\n",
    "print \"3 class classification naive bayes\"\n",
    "print confusion_matrix(y_test_thresholded_ternary, pred)\n",
    "accuracy = sum(pred==y_test_thresholded_ternary) * 100.0 / len(y_test)\n",
    "print accuracy"
   ]
  },
  {
   "cell_type": "code",
   "execution_count": 4,
   "metadata": {
    "collapsed": false
   },
   "outputs": [
    {
     "name": "stdout",
     "output_type": "stream",
     "text": [
      "[[  3.49389363e-04   1.01640542e-03   2.22338685e-04 ...,   1.11169343e-03\n",
      "    2.85864024e-04   3.49389363e-04]\n",
      " [  7.04272141e-04   8.10577370e-04   6.11255066e-04 ...,   1.62115474e-03\n",
      "    2.52474919e-04   4.78373530e-04]\n",
      " [  6.30011455e-04   1.39366170e-03   1.03092784e-03 ...,   2.41504391e-03\n",
      "    4.77281405e-05   6.30011455e-04]\n",
      " [  8.78749568e-04   9.92136609e-04   1.30395097e-03 ...,   3.75311106e-03\n",
      "    2.26774082e-05   4.98902980e-04]\n",
      " [  8.22101402e-04   7.87559326e-04   9.60269705e-04 ...,   4.35920995e-03\n",
      "    2.76336606e-05   2.62519775e-04]]\n",
      "init [[  3.49389363e-04   1.01640542e-03   2.22338685e-04 ...,   1.11169343e-03\n",
      "    2.85864024e-04   3.49389363e-04]\n",
      " [  7.04272141e-04   8.10577370e-04   6.11255066e-04 ...,   1.62115474e-03\n",
      "    2.52474919e-04   4.78373530e-04]\n",
      " [  6.30011455e-04   1.39366170e-03   1.03092784e-03 ...,   2.41504391e-03\n",
      "    4.77281405e-05   6.30011455e-04]\n",
      " [  8.78749568e-04   9.92136609e-04   1.30395097e-03 ...,   3.75311106e-03\n",
      "    2.26774082e-05   4.98902980e-04]\n",
      " [  8.22101402e-04   7.87559326e-04   9.60269705e-04 ...,   4.35920995e-03\n",
      "    2.76336606e-05   2.62519775e-04]]\n",
      "942\n",
      "\n",
      "\n",
      "class 1 \n",
      "\n",
      "\n",
      "\n",
      "\n",
      "\n",
      "class 2 \n",
      "\n",
      "\n",
      "\n",
      "\n",
      "\n",
      "class 3 \n",
      "\n",
      "\n",
      "\n",
      "\n",
      "\n",
      "class 4 \n",
      "\n",
      "\n",
      "\n",
      "\n",
      "\n",
      "class 5 \n",
      "\n",
      "\n",
      "\n",
      "[[-0.01663567  0.00721868 -0.00392064 ..., -0.01313582  0.02703836\n",
      "  -0.02030062]\n",
      " [ 0.01812362 -0.02430226 -0.02992241 ..., -0.01524155  0.01184001\n",
      "   0.00999079]\n",
      " [-0.04643028  0.07060664  0.00608338 ..., -0.00327716 -0.18037392\n",
      "  -0.08673342]\n",
      " [-0.0071644  -0.01100968  0.02088972 ...,  0.0241495  -0.03687779\n",
      "  -0.04845721]\n",
      " [ 0.03096101  0.0308628   0.04526846 ...,  0.03293716 -0.02712598\n",
      "  -0.04856146]]\n"
     ]
    }
   ],
   "source": [
    "#Ensemble classifier\n",
    "#import ensemble_classifier as en\n",
    "no_classes = 5\n",
    "w_lr, prior, w_nb = en.train(X_train, y_train, no_classes)"
   ]
  },
  {
   "cell_type": "code",
   "execution_count": 8,
   "metadata": {
    "collapsed": false
   },
   "outputs": [
    {
     "name": "stdout",
     "output_type": "stream",
     "text": [
      "(6000L, 5L)\n",
      "[]\n",
      "0\n",
      "[[ 924  185  180]\n",
      " [ 200  336  432]\n",
      " [ 170  283 3290]]\n",
      "75.8333333333\n"
     ]
    }
   ],
   "source": [
    "#import ensemble_classifier as en2\n",
    "#import logistic_classifier as log_clf\n",
    "#import naive_bayes_classifier as nb\n",
    "pred = en.predict_ternary(X_test, w_lr, w_nb, prior)\n",
    "\n",
    "[y_test, y_test_thresholded_binary, y_test_thresholded_ternary] = get_ylabels(y_test)\n",
    "print confusion_matrix(y_test_thresholded_ternary, pred)\n",
    "accuracy = sum(pred==y_test_thresholded_ternary) * 100.0 / len(y_test)\n",
    "print accuracy\n",
    "\n"
   ]
  },
  {
   "cell_type": "code",
   "execution_count": 9,
   "metadata": {
    "collapsed": false
   },
   "outputs": [
    {
     "name": "stdout",
     "output_type": "stream",
     "text": [
      "(6000L, 5L)\n",
      "[]\n",
      "0\n",
      "[[ 902  387]\n",
      " [ 337 4374]]\n",
      "87.9333333333\n",
      "(6000L, 5L)\n",
      "[]\n",
      "0\n",
      "[[ 425  108   35   30   36]\n",
      " [ 145  222  164   87   37]\n",
      " [  58  139  354  328   89]\n",
      " [  43   65  254  903  670]\n",
      " [  30   34   49  443 1252]]\n",
      "52.6\n"
     ]
    }
   ],
   "source": [
    "pred = en.predict_binary(X_test, w_lr, w_nb, prior)\n",
    "print confusion_matrix(y_test_thresholded_binary, pred)\n",
    "accuracy = sum(pred==y_test_thresholded_binary) * 100.0 / len(y_test)\n",
    "print accuracy\n",
    "\n",
    "pred = en.predict(X_test, w_lr, w_nb, prior)\n",
    "print confusion_matrix(y_test, pred)\n",
    "accuracy = sum(pred==y_test) * 100.0 / len(y_test)\n",
    "print accuracy"
   ]
  }
 ],
 "metadata": {
  "kernelspec": {
   "display_name": "Python [Root]",
   "language": "python",
   "name": "Python [Root]"
  },
  "language_info": {
   "codemirror_mode": {
    "name": "ipython",
    "version": 2
   },
   "file_extension": ".py",
   "mimetype": "text/x-python",
   "name": "python",
   "nbconvert_exporter": "python",
   "pygments_lexer": "ipython2",
   "version": "2.7.12"
  }
 },
 "nbformat": 4,
 "nbformat_minor": 1
}
