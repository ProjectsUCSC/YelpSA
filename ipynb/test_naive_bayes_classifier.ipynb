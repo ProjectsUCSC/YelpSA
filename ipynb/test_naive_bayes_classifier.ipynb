{
 "cells": [
  {
   "cell_type": "code",
   "execution_count": null,
   "metadata": {
    "collapsed": true
   },
   "outputs": [],
   "source": [
    "import naive_bayes_classifier as nb\n",
    "import unittest\n",
    "class TestMap (unittest.TestCase):\n",
    "    def test_naive (self):\n",
    "        x_train = [[1],[2],[3],[4],[5],[6],[7],[8]]\n",
    "        y_train= [1,1,1,1,1,1,1,1]\n",
    "        x_test=[[1],[2],[3]]\n",
    "        model =nb.train(x_train, y_train ,5)\n",
    "        prior=[1,0,0,0,0]\n",
    "        [pred, prob] = nb.predict(x_test,model,prior)\n",
    "        pred = pred == [1,1,1]\n",
    "        self.assertEqual(pred[1 ], True)\n",
    "        self.assertEqual(pred[0 ], True)\n",
    "        self.assertEqual(pred[2 ], True)\n",
    "    \n",
    "    def test_naive_bin (self):\n",
    "        x_train = [[1],[2],[3],[4],[5],[6],[7],[8]]\n",
    "        y_train= [1,1,1,1,1,1,2,2]\n",
    "        x_test=[[1],[2],[3]]\n",
    "        model =nb.train(x_train, y_train ,5)\n",
    "        prior=[0.75,0.25,0,0,0]\n",
    "        [pred, prob] = nb.pred_binary(x_test,model,prior)\n",
    "        pred = pred == [0,0,0]\n",
    "        self.assertEqual(pred[1 ], True)\n",
    "        self.assertEqual(pred[0 ], True)\n",
    "        self.assertEqual(pred[2 ], True)\n",
    "        \n",
    "    def test_naive_ternary (self):\n",
    "        x_train = [[1],[2],[3],[4],[5],[6],[7],[8]]\n",
    "        y_train= [1,1,1,1,1,1,1,1]\n",
    "        x_test=[[1],[2],[3]]\n",
    "        model =nb.train(x_train, y_train ,5)\n",
    "        prior=[1,0,0,0,0]\n",
    "        [pred, prob] = nb.pred_ternary(x_test,model,prior)\n",
    "        pred = pred == [0,0,0]\n",
    "        self.assertEqual(pred[1 ], True)\n",
    "        self.assertEqual(pred[0 ], True)\n",
    "        self.assertEqual(pred[2 ], True)\n",
    "        \n",
    "        \n",
    "suite = unittest.TestLoader().loadTestsFromTestCase( TestMap )\n",
    "unittest.TextTestRunner(verbosity=1).run( suite )"
   ]
  }
 ],
 "metadata": {
  "anaconda-cloud": {},
  "kernelspec": {
   "display_name": "Python [default]",
   "language": "python",
   "name": "python2"
  },
  "language_info": {
   "codemirror_mode": {
    "name": "ipython",
    "version": 2
   },
   "file_extension": ".py",
   "mimetype": "text/x-python",
   "name": "python",
   "nbconvert_exporter": "python",
   "pygments_lexer": "ipython2",
   "version": "2.7.12"
  }
 },
 "nbformat": 4,
 "nbformat_minor": 1
}
