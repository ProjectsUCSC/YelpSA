{
 "cells": [
  {
   "cell_type": "code",
   "execution_count": null,
   "metadata": {
    "collapsed": true
   },
   "outputs": [],
   "source": [
    "import collections\n",
    "import re\n",
    "from itertools import islice, izip\n",
    "import numpy as np\n",
    "import pre_processing\n",
    "def feature_selection(labels, data_sample_copy):  \n",
    "    new_vocab = []\n",
    "    new_vocab = set(new_vocab)\n",
    "    #vocab_list_count = [len(word_here.split()) for word_here in vocab]\n",
    "    \n",
    "    #counter = collections.Counter(vocab_list_count)\n",
    "    #print counter\n",
    "    \n",
    "    #Obtain unigram count\n",
    "    #print len(vocab)\n",
    "    #print type(vocab)\n",
    "    #print type(data_sample_copy)\n",
    "    bad = np.array(((labels == 1) | (labels == 2)))\n",
    "    average = np.array((labels == 3))\n",
    "    good = np.array(((labels == 4) | (labels == 5)))\n",
    "    #print type(good)\n",
    "    data_sample_string_good = \" \".join(data_sample_copy[good])\n",
    "    data_sample_string_average = \" \".join(data_sample_copy[average])\n",
    "    data_sample_string_bad = \" \".join(data_sample_copy[bad])\n",
    "    len_data = [len(data_sample_copy[bad]), len(data_sample_copy[average]), len(data_sample_copy[good])]\n",
    "    #data_sample_string[1:15000]\n",
    "    from collections import Counter\n",
    "    j =0\n",
    "    for data_sample_string in [data_sample_string_bad, data_sample_string_average, data_sample_string_good]:\n",
    "        temp_words = data_sample_string.split()\n",
    "        wordCount = Counter(temp_words)\n",
    "        #print len(wordCount)\n",
    "        for key in wordCount.keys() :\n",
    "             wordCount[key] /= float(len_data[j])\n",
    "        j = j+1\n",
    "        wordCount = wordCount.most_common(700)\n",
    "        #print \"u\",type(wordCount)\n",
    "        for k in range(len(wordCount)):\n",
    "            wordCount[k] = wordCount[k][0]\n",
    "            if(wordCount[k] in new_vocab):\n",
    "                new_vocab.remove(wordCount[k])\n",
    "            else:\n",
    "                new_vocab.add(wordCount[k])\n",
    "        #new_vocab += wordCount\n",
    "        print \"unigrams\", len(new_vocab)\n",
    "        #Obtain bigram count and choose top 150 bigrams\n",
    "        words = re.findall(\"\\w+\", data_sample_string)\n",
    "        req_bigrams = Counter(izip(words, islice(words, 1, None))).most_common(150)\n",
    "        #print \"b\", req_bigrams\n",
    "        for k in range(len(req_bigrams)):\n",
    "            req_bigrams[k] = req_bigrams[k][0][0] + \" \" + req_bigrams[k][0][1]\n",
    "            if(req_bigrams[k] in new_vocab):\n",
    "                new_vocab.remove(req_bigrams[k])\n",
    "            else:\n",
    "                new_vocab.add(req_bigrams[k])\n",
    "        print \"after addign bigrams\", len(new_vocab)\n",
    "\n",
    "    all_features = {}\n",
    "    new_vocab = list(new_vocab)\n",
    "    for k in range(len(new_vocab)):\n",
    "        new_vocab[k]\n",
    "    print \"overall\", len(new_vocab)\n",
    "    print new_vocab\n",
    "    #Saving features\n",
    "    import pickle\n",
    "    i = 0\n",
    "    for bw in new_vocab:#required_features:\n",
    "        all_features[bw] = i\n",
    "        i += 1\n",
    "    \n",
    "    filehandler = open(\"features.obj\",\"wb\")\n",
    "    pickle.dump(all_features,filehandler)\n",
    "    filehandler.close()"
   ]
  },
  {
   "cell_type": "code",
   "execution_count": null,
   "metadata": {
    "collapsed": true
   },
   "outputs": [],
   "source": [
    "#To be called in main\n",
    "[preprocessed_data_sample, labels_sample, vectorizer, no_features, samples] = preprocess()\n",
    "data_sample_copy = (preprocessed_data_sample)\n",
    "feature_selection(labels_sample, np.array(data_sample_copy))"
   ]
  }
 ],
 "metadata": {
  "anaconda-cloud": {},
  "kernelspec": {
   "display_name": "Python [default]",
   "language": "python",
   "name": "python2"
  },
  "language_info": {
   "codemirror_mode": {
    "name": "ipython",
    "version": 2
   },
   "file_extension": ".py",
   "mimetype": "text/x-python",
   "name": "python",
   "nbconvert_exporter": "python",
   "pygments_lexer": "ipython2",
   "version": "2.7.12"
  }
 },
 "nbformat": 4,
 "nbformat_minor": 1
}
