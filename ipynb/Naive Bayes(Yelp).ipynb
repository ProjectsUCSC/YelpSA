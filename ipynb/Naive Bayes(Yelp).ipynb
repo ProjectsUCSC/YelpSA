{
 "cells": [
  {
   "cell_type": "code",
   "execution_count": 477,
   "metadata": {
    "collapsed": false
   },
   "outputs": [
    {
     "data": {
      "text/plain": [
       "2685066"
      ]
     },
     "execution_count": 477,
     "metadata": {},
     "output_type": "execute_result"
    }
   ],
   "source": [
    "import pandas as pd\n",
    "data = pd.read_csv(\"Data/yelp_academic_dataset_review.csv\")\n",
    "len(data)"
   ]
  },
  {
   "cell_type": "code",
   "execution_count": 478,
   "metadata": {
    "collapsed": false,
    "scrolled": true
   },
   "outputs": [
    {
     "data": {
      "text/plain": [
       "['user_id',\n",
       " 'review_id',\n",
       " 'text',\n",
       " 'votes.cool',\n",
       " 'business_id',\n",
       " 'votes.funny',\n",
       " 'stars',\n",
       " 'date',\n",
       " 'type',\n",
       " 'votes.useful']"
      ]
     },
     "execution_count": 478,
     "metadata": {},
     "output_type": "execute_result"
    }
   ],
   "source": [
    " list(data)"
   ]
  },
  {
   "cell_type": "code",
   "execution_count": 479,
   "metadata": {
    "collapsed": false
   },
   "outputs": [
    {
     "data": {
      "text/plain": [
       "['attributes.Ambience.divey',\n",
       " 'attributes.Dietary Restrictions.vegan',\n",
       " 'attributes.Happy Hour',\n",
       " 'hours.Thursday.open',\n",
       " 'attributes.Order at Counter',\n",
       " 'attributes.Hair Types Specialized In.africanamerican',\n",
       " 'attributes.Hair Types Specialized In.kids',\n",
       " 'attributes.BYOB',\n",
       " 'hours.Friday.open',\n",
       " 'attributes.Good For.latenight',\n",
       " 'attributes.Outdoor Seating',\n",
       " 'attributes.Alcohol',\n",
       " 'attributes.Ambience.classy',\n",
       " 'attributes.By Appointment Only',\n",
       " 'attributes.Parking.lot',\n",
       " 'business_id',\n",
       " 'attributes.Ambience.touristy',\n",
       " 'attributes.Corkage',\n",
       " 'hours.Tuesday.open',\n",
       " 'attributes.Good For.brunch',\n",
       " 'categories',\n",
       " 'attributes.Waiter Service',\n",
       " 'hours.Monday.open',\n",
       " 'name',\n",
       " 'attributes.Parking.street',\n",
       " 'attributes.Ambience.hipster',\n",
       " 'attributes.BYOB/Corkage',\n",
       " 'attributes.Hair Types Specialized In.straightperms',\n",
       " 'attributes.Music.live',\n",
       " 'attributes.Dietary Restrictions.dairy-free',\n",
       " 'attributes.Music.background_music',\n",
       " 'attributes.Price Range',\n",
       " 'attributes.Good For.breakfast',\n",
       " 'attributes.Parking.garage',\n",
       " 'attributes.Music.karaoke',\n",
       " 'attributes.Good For Dancing',\n",
       " 'review_count',\n",
       " 'attributes.Hair Types Specialized In.asian',\n",
       " 'state',\n",
       " 'attributes.Accepts Credit Cards',\n",
       " 'hours.Friday.close',\n",
       " 'attributes.Good For.lunch',\n",
       " 'attributes.Parking.valet',\n",
       " 'attributes.Take-out',\n",
       " 'full_address',\n",
       " 'hours.Thursday.close',\n",
       " 'attributes.Hair Types Specialized In.coloring',\n",
       " 'attributes.Good For.dessert',\n",
       " 'attributes.Music.video',\n",
       " 'attributes.Dietary Restrictions.halal',\n",
       " 'attributes.Takes Reservations',\n",
       " 'hours.Saturday.open',\n",
       " 'attributes.Ages Allowed',\n",
       " 'attributes.Ambience.trendy',\n",
       " 'attributes.Delivery',\n",
       " 'hours.Wednesday.close',\n",
       " 'attributes.Wi-Fi',\n",
       " 'open',\n",
       " 'city',\n",
       " 'attributes.Wheelchair Accessible',\n",
       " 'attributes.Dietary Restrictions.gluten-free',\n",
       " 'stars',\n",
       " 'attributes.Dietary Restrictions.kosher',\n",
       " 'type',\n",
       " 'attributes.Caters',\n",
       " 'attributes.Ambience.intimate',\n",
       " 'latitude',\n",
       " 'attributes.Good For.dinner',\n",
       " 'attributes.Coat Check',\n",
       " 'longitude',\n",
       " 'hours.Monday.close',\n",
       " 'attributes.Hair Types Specialized In.extensions',\n",
       " 'hours.Tuesday.close',\n",
       " 'hours.Saturday.close',\n",
       " 'attributes.Good for Kids',\n",
       " 'attributes.Parking.validated',\n",
       " 'hours.Sunday.open',\n",
       " 'attributes.Accepts Insurance',\n",
       " 'attributes.Music.dj',\n",
       " 'attributes.Dietary Restrictions.soy-free',\n",
       " 'attributes.Has TV',\n",
       " 'hours.Sunday.close',\n",
       " 'attributes.Ambience.casual',\n",
       " 'attributes.Hair Types Specialized In.perms',\n",
       " 'attributes.Dogs Allowed',\n",
       " 'attributes.Drive-Thru',\n",
       " 'attributes.Dietary Restrictions.vegetarian',\n",
       " 'hours.Wednesday.open',\n",
       " 'attributes.Noise Level',\n",
       " 'attributes.Smoking',\n",
       " 'attributes.Attire',\n",
       " 'attributes.Hair Types Specialized In.curly',\n",
       " 'attributes.Good For Groups',\n",
       " 'neighborhoods',\n",
       " 'attributes.Open 24 Hours',\n",
       " 'attributes.Ambience.romantic',\n",
       " 'attributes.Music.jukebox',\n",
       " 'attributes.Ambience.upscale']"
      ]
     },
     "execution_count": 479,
     "metadata": {},
     "output_type": "execute_result"
    }
   ],
   "source": [
    "business_data = pd.read_csv(\"Data/yelp_academic_dataset_business.csv\")\n",
    "list(business_data)"
   ]
  },
  {
   "cell_type": "code",
   "execution_count": 481,
   "metadata": {
    "collapsed": false
   },
   "outputs": [
    {
     "data": {
      "text/plain": [
       "['attributes.Ambience.divey',\n",
       " 'attributes.Dietary Restrictions.vegan',\n",
       " 'attributes.Happy Hour',\n",
       " 'hours.Thursday.open',\n",
       " 'attributes.Order at Counter',\n",
       " 'attributes.Hair Types Specialized In.africanamerican',\n",
       " 'attributes.Hair Types Specialized In.kids',\n",
       " 'attributes.BYOB',\n",
       " 'hours.Friday.open',\n",
       " 'attributes.Good For.latenight',\n",
       " 'attributes.Outdoor Seating',\n",
       " 'attributes.Alcohol',\n",
       " 'attributes.Ambience.classy',\n",
       " 'attributes.By Appointment Only',\n",
       " 'attributes.Parking.lot',\n",
       " 'business_id',\n",
       " 'attributes.Ambience.touristy',\n",
       " 'attributes.Corkage',\n",
       " 'hours.Tuesday.open',\n",
       " 'attributes.Good For.brunch',\n",
       " 'categories',\n",
       " 'attributes.Waiter Service',\n",
       " 'hours.Monday.open',\n",
       " 'name',\n",
       " 'attributes.Parking.street',\n",
       " 'attributes.Ambience.hipster',\n",
       " 'attributes.BYOB/Corkage',\n",
       " 'attributes.Hair Types Specialized In.straightperms',\n",
       " 'attributes.Music.live',\n",
       " 'attributes.Dietary Restrictions.dairy-free',\n",
       " 'attributes.Music.background_music',\n",
       " 'attributes.Price Range',\n",
       " 'attributes.Good For.breakfast',\n",
       " 'attributes.Parking.garage',\n",
       " 'attributes.Music.karaoke',\n",
       " 'attributes.Good For Dancing',\n",
       " 'review_count',\n",
       " 'attributes.Hair Types Specialized In.asian',\n",
       " 'state',\n",
       " 'attributes.Accepts Credit Cards',\n",
       " 'hours.Friday.close',\n",
       " 'attributes.Good For.lunch',\n",
       " 'attributes.Parking.valet',\n",
       " 'attributes.Take-out',\n",
       " 'full_address',\n",
       " 'hours.Thursday.close',\n",
       " 'attributes.Hair Types Specialized In.coloring',\n",
       " 'attributes.Good For.dessert',\n",
       " 'attributes.Music.video',\n",
       " 'attributes.Dietary Restrictions.halal',\n",
       " 'attributes.Takes Reservations',\n",
       " 'hours.Saturday.open',\n",
       " 'attributes.Ages Allowed',\n",
       " 'attributes.Ambience.trendy',\n",
       " 'attributes.Delivery',\n",
       " 'hours.Wednesday.close',\n",
       " 'attributes.Wi-Fi',\n",
       " 'open',\n",
       " 'city',\n",
       " 'attributes.Wheelchair Accessible',\n",
       " 'attributes.Dietary Restrictions.gluten-free',\n",
       " 'stars',\n",
       " 'attributes.Dietary Restrictions.kosher',\n",
       " 'type',\n",
       " 'attributes.Caters',\n",
       " 'attributes.Ambience.intimate',\n",
       " 'latitude',\n",
       " 'attributes.Good For.dinner',\n",
       " 'attributes.Coat Check',\n",
       " 'longitude',\n",
       " 'hours.Monday.close',\n",
       " 'attributes.Hair Types Specialized In.extensions',\n",
       " 'hours.Tuesday.close',\n",
       " 'hours.Saturday.close',\n",
       " 'attributes.Good for Kids',\n",
       " 'attributes.Parking.validated',\n",
       " 'hours.Sunday.open',\n",
       " 'attributes.Accepts Insurance',\n",
       " 'attributes.Music.dj',\n",
       " 'attributes.Dietary Restrictions.soy-free',\n",
       " 'attributes.Has TV',\n",
       " 'hours.Sunday.close',\n",
       " 'attributes.Ambience.casual',\n",
       " 'attributes.Hair Types Specialized In.perms',\n",
       " 'attributes.Dogs Allowed',\n",
       " 'attributes.Drive-Thru',\n",
       " 'attributes.Dietary Restrictions.vegetarian',\n",
       " 'hours.Wednesday.open',\n",
       " 'attributes.Noise Level',\n",
       " 'attributes.Smoking',\n",
       " 'attributes.Attire',\n",
       " 'attributes.Hair Types Specialized In.curly',\n",
       " 'attributes.Good For Groups',\n",
       " 'neighborhoods',\n",
       " 'attributes.Open 24 Hours',\n",
       " 'attributes.Ambience.romantic',\n",
       " 'attributes.Music.jukebox',\n",
       " 'attributes.Ambience.upscale']"
      ]
     },
     "execution_count": 481,
     "metadata": {},
     "output_type": "execute_result"
    }
   ],
   "source": [
    "list(business_data)"
   ]
  },
  {
   "cell_type": "code",
   "execution_count": 482,
   "metadata": {
    "collapsed": false
   },
   "outputs": [],
   "source": [
    "business_id = business_data[:][['business_id','categories','review_count']]"
   ]
  },
  {
   "cell_type": "code",
   "execution_count": 483,
   "metadata": {
    "collapsed": false,
    "scrolled": true
   },
   "outputs": [
    {
     "data": {
      "text/plain": [
       "2654753"
      ]
     },
     "execution_count": 483,
     "metadata": {},
     "output_type": "execute_result"
    }
   ],
   "source": [
    "data = pd.merge(data, business_id, on='business_id')\n",
    "len(data)"
   ]
  },
  {
   "cell_type": "code",
   "execution_count": 424,
   "metadata": {
    "collapsed": false
   },
   "outputs": [
    {
     "data": {
      "text/plain": [
       "['user_id',\n",
       " 'review_id',\n",
       " 'text',\n",
       " 'votes.cool',\n",
       " 'business_id',\n",
       " 'votes.funny',\n",
       " 'stars',\n",
       " 'date',\n",
       " 'type',\n",
       " 'votes.useful',\n",
       " 'categories',\n",
       " 'review_count']"
      ]
     },
     "execution_count": 424,
     "metadata": {},
     "output_type": "execute_result"
    }
   ],
   "source": [
    "list(data)"
   ]
  },
  {
   "cell_type": "code",
   "execution_count": 484,
   "metadata": {
    "collapsed": false
   },
   "outputs": [],
   "source": [
    "rest_exist=[]\n",
    "for i in data[:]['categories']:\n",
    "    if \"Restaurants\" in i:\n",
    "        rest_exist.append(True)\n",
    "    else:\n",
    "        rest_exist.append(False)\n",
    "        \n",
    "    "
   ]
  },
  {
   "cell_type": "code",
   "execution_count": 485,
   "metadata": {
    "collapsed": false
   },
   "outputs": [
    {
     "data": {
      "text/plain": [
       "['user_id',\n",
       " 'review_id',\n",
       " 'text',\n",
       " 'votes.cool',\n",
       " 'business_id',\n",
       " 'votes.funny',\n",
       " 'stars',\n",
       " 'date',\n",
       " 'type',\n",
       " 'votes.useful',\n",
       " 'categories',\n",
       " 'review_count',\n",
       " 'rest_exist']"
      ]
     },
     "execution_count": 485,
     "metadata": {},
     "output_type": "execute_result"
    }
   ],
   "source": [
    "data['rest_exist']=rest_exist\n",
    "list(data)"
   ]
  },
  {
   "cell_type": "code",
   "execution_count": 486,
   "metadata": {
    "collapsed": false
   },
   "outputs": [
    {
     "name": "stdout",
     "output_type": "stream",
     "text": [
      "['user_id', 'review_id', 'text', 'votes.cool', 'business_id', 'votes.funny', 'stars', 'date', 'type', 'votes.useful', 'categories', 'review_count', 'rest_exist']\n",
      "['user_id', 'text', 'votes.cool', 'votes.funny', 'stars', 'votes.useful', 'review_count', 'rest_exist']\n"
     ]
    }
   ],
   "source": [
    "\n",
    "print list(data)\n",
    "data= data[:][[0,2,3,5,6,9,11,12]]\n",
    "print list(data)"
   ]
  },
  {
   "cell_type": "code",
   "execution_count": 487,
   "metadata": {
    "collapsed": false
   },
   "outputs": [
    {
     "data": {
      "text/plain": [
       "2654753"
      ]
     },
     "execution_count": 487,
     "metadata": {},
     "output_type": "execute_result"
    }
   ],
   "source": [
    "len(data)\n"
   ]
  },
  {
   "cell_type": "code",
   "execution_count": 488,
   "metadata": {
    "collapsed": false
   },
   "outputs": [],
   "source": [
    "data=data[data['rest_exist']][:]"
   ]
  },
  {
   "cell_type": "code",
   "execution_count": 489,
   "metadata": {
    "collapsed": false
   },
   "outputs": [],
   "source": [
    "data=data.drop('rest_exist',1)"
   ]
  },
  {
   "cell_type": "code",
   "execution_count": 490,
   "metadata": {
    "collapsed": false
   },
   "outputs": [],
   "source": [
    "pd.set_option('display.max_colwidth',-1)"
   ]
  },
  {
   "cell_type": "code",
   "execution_count": 491,
   "metadata": {
    "collapsed": false
   },
   "outputs": [
    {
     "data": {
      "text/plain": [
       "0    Mr Hoagie is an institution. Walking in, it does seem like a throwback to 30 years ago, old fashioned menu board, booths out of the 70s, and a large selection of food. Their speciality is the Italian Hoagie, and it is voted the best in the area year after year. I usually order the burger, while the patties are obviously cooked from frozen, all of the other ingredients are very fresh. Overall, its a good alternative to Subway, which is down the road.\n",
       "Name: text, dtype: object"
      ]
     },
     "execution_count": 491,
     "metadata": {},
     "output_type": "execute_result"
    }
   ],
   "source": [
    "data[0:1]['text']"
   ]
  },
  {
   "cell_type": "markdown",
   "metadata": {},
   "source": [
    "filtering for city"
   ]
  },
  {
   "cell_type": "markdown",
   "metadata": {},
   "source": [
    "end of city filtering"
   ]
  },
  {
   "cell_type": "markdown",
   "metadata": {},
   "source": [
    "Filtering data"
   ]
  },
  {
   "cell_type": "markdown",
   "metadata": {},
   "source": [
    "End of filtering"
   ]
  },
  {
   "cell_type": "markdown",
   "metadata": {},
   "source": [
    "Adding additional feature"
   ]
  },
  {
   "cell_type": "markdown",
   "metadata": {
    "collapsed": true
   },
   "source": [
    " Text Preprocessing\n",
    " 1. Remove stop words and number and punctuations"
   ]
  },
  {
   "cell_type": "code",
   "execution_count": 492,
   "metadata": {
    "collapsed": false
   },
   "outputs": [
    {
     "name": "stdout",
     "output_type": "stream",
     "text": [
      "1613090\n",
      "20000\n",
      "0    4\n",
      "1    5\n",
      "2    5\n",
      "Name: stars, dtype: int64\n",
      "6346    1\n",
      "6347    5\n",
      "6348    4\n",
      "Name: stars, dtype: int64\n",
      "12354    3\n",
      "12355    4\n",
      "12356    3\n",
      "Name: stars, dtype: int64\n",
      "19142    4\n",
      "19143    4\n",
      "19144    2\n",
      "Name: stars, dtype: int64\n",
      "20744    4\n",
      "20745    4\n",
      "20746    5\n",
      "Name: stars, dtype: int64\n",
      "21876    5\n",
      "21877    5\n",
      "21878    4\n",
      "Name: stars, dtype: int64\n"
     ]
    }
   ],
   "source": [
    "import nltk\n",
    "import numpy as np\n",
    "from nltk import word_tokenize\n",
    "from nltk.corpus import stopwords\n",
    " \n",
    "import string\n",
    "#remove stop words and punctuations.\n",
    "samples = 20000\n",
    "#data=data.apply(np.random.permutation)\n",
    " \n",
    "import copy\n",
    "data_labels = copy.deepcopy(data[\"stars\"])\n",
    "#labels[0:5]\n",
    "print len(data_labels)\n",
    "#print (data_labels)\n",
    "#len(data)\n",
    "#data_labels = data[\"stars\"]\n",
    "#print len(data_labels)\n",
    "#print len(data_labels), len(data)\n",
    " \n",
    "DATA_SAMPLE = data[samples:samples+2500]['text'].str.lower()\n",
    "Y_TEST = data[samples:samples+2500]['stars']\n",
    "data_sample = data[0:samples]['text'].str.lower()#.split('\\n')\n",
    "labels_sample = data_labels[0:samples]\n",
    " \n",
    "#data_bad = data_sample[(labels_sample==1) | (labels_sample==2)]\n",
    "#labels_bad = labels_sample[(labels_sample==1) | (labels_sample==2)]\n",
    " \n",
    "#data_average = data_sample[(labels_sample==3)]\n",
    "#labels_average = labels_sample[(labels_sample==3)]\n",
    " \n",
    "#data_good = data_sample[(labels_sample==4) | (labels_sample==5)]\n",
    "#labels_good = labels_sample[(labels_sample==4) | (labels_sample==5)]\n",
    " \n",
    "#print len(data_bad), len(data_average), len(data_good)\n",
    "#train_length = 3000\n",
    "#test_length = 1000\n",
    "#Appending training samples\n",
    "#data_sample = (data_bad[0:train_length][:].append(data_average[0:train_length][:])).append(data_good[0:train_length][:])\n",
    "#labels_sample = (labels_bad[0:train_length][:].append(labels_average[0:train_length][:])).append(labels_good[0:train_length][:])\n",
    "#Appending testing samples\n",
    "#data_sample = data_sample.append((data_bad[train_length:(train_length+test_length)][:].append(data_average[train_length:(train_length+test_length)][:])).append(data_good[train_length:(train_length+test_length)][:]))\n",
    "#labels_sample = labels_sample.append((labels_bad[train_length:(train_length+test_length)][:].append(labels_average[train_length:(train_length+test_length)][:])).append(labels_good[train_length:(train_length+test_length)][:]))\n",
    " \n",
    "#print data_sample\n",
    "#print (data_sample)\n",
    "print len(data_sample)\n",
    "print (labels_sample[0:3])\n",
    "print (labels_sample[4000:4003])\n",
    "print (labels_sample[8000:8003])\n",
    "print (labels_sample[12000:12003])\n",
    "print (labels_sample[13000:13003])\n",
    "print (labels_sample[14000:14003])\n",
    "#print  type(data_sample)\n",
    "#print data_sample[2992]"
   ]
  },
  {
   "cell_type": "code",
   "execution_count": 434,
   "metadata": {
    "collapsed": false
   },
   "outputs": [
    {
     "name": "stdout",
     "output_type": "stream",
     "text": [
      "1613090\n"
     ]
    }
   ],
   "source": [
    "print len(data)"
   ]
  },
  {
   "cell_type": "markdown",
   "metadata": {},
   "source": [
    "Function to tokenize and remove stopwords"
   ]
  },
  {
   "cell_type": "code",
   "execution_count": 493,
   "metadata": {
    "collapsed": true
   },
   "outputs": [],
   "source": [
    "import re\n",
    "def tokenize_and_stopwords(data_sample):\n",
    "    #data_sample = list(data_sample)\n",
    "    #Get all english stopwords\n",
    "    stop = stopwords.words('english')# + list(string.punctuation) + ['0', '1', '2', '3', '4', '5', '6', '7', '8', '9']\n",
    "    #Use only characters from reviews\n",
    "    data_sample = data_sample.str.replace(\"[^a-zA-Z ]\", \" \")#, \" \")\n",
    "    #print data_sample\n",
    "    #tokenize and remove stop words\n",
    "    return [[i for i in word_tokenize(sentence) if i not in stop] for sentence in data_sample]"
   ]
  },
  {
   "cell_type": "code",
   "execution_count": 494,
   "metadata": {
    "collapsed": false
   },
   "outputs": [
    {
     "data": {
      "text/plain": [
       "20000"
      ]
     },
     "execution_count": 494,
     "metadata": {},
     "output_type": "execute_result"
    }
   ],
   "source": [
    "len(data_sample)\n"
   ]
  },
  {
   "cell_type": "markdown",
   "metadata": {},
   "source": [
    "Remove stopwords"
   ]
  },
  {
   "cell_type": "code",
   "execution_count": 495,
   "metadata": {
    "collapsed": false
   },
   "outputs": [],
   "source": [
    "preprocessed_data_sample = tokenize_and_stopwords(data_sample)"
   ]
  },
  {
   "cell_type": "markdown",
   "metadata": {},
   "source": [
    "Load vocabulary"
   ]
  },
  {
   "cell_type": "code",
   "execution_count": 498,
   "metadata": {
    "collapsed": false
   },
   "outputs": [],
   "source": [
    "import pickle\n",
    "\n",
    "#filehandler = open(\"features.obj\",\"wb\")\n",
    "#pickle.dump(all_features,filehandler)\n",
    "#filehandler.close()\n",
    "\n",
    "file = open(\"features.obj\",'rb')\n",
    "all_features = pickle.load(file)\n",
    "file.close()"
   ]
  },
  {
   "cell_type": "code",
   "execution_count": 499,
   "metadata": {
    "collapsed": false
   },
   "outputs": [],
   "source": [
    "def vectorize(preprocessed_data_sample):\n",
    "    from sklearn.feature_extraction.text import CountVectorizer\n",
    "\n",
    "    # Initialize the \"CountVectorizer\" object, which is scikit-learn's\n",
    "    # bag of words tool.\n",
    "    no_features = 200#500#806#150#800#600#350\n",
    "    #ngram_range=(1, 1)\n",
    "    vectorizer = CountVectorizer(analyzer = \"word\", tokenizer = None, preprocessor = None, stop_words = None, vocabulary = all_features, ngram_range=(1,2))#, #, max_features = no_features, ngram_range=(2,2)) \n",
    "    #vectorizer = CountVectorizer(analyzer = \"word\", tokenizer = None, preprocessor = None, stop_words = None, ngram_range=(2,2), max_features = no_features)\n",
    "    # fit_transform() does two functions: First, it fits the model\n",
    "    # and learns the vocabulary; second, it transforms our training data\n",
    "    # into feature vectors. The input to fit_transform should be a list of \n",
    "    # strings.\n",
    "    train_data_features = vectorizer.fit_transform(preprocessed_data_sample)\n",
    "\n",
    "    # Numpy arrays are easy to work with, so convert the result to an \n",
    "    # array\n",
    "    train_data_features = train_data_features.toarray()\n",
    "    return [train_data_features, vectorizer, no_features]"
   ]
  },
  {
   "cell_type": "code",
   "execution_count": 496,
   "metadata": {
    "collapsed": true
   },
   "outputs": [],
   "source": [
    "from nltk.stem.porter import *\n",
    "import sys\n",
    "\n",
    "def stemmer(preprocessed_data_sample):\n",
    "    print \"stemming \"\n",
    "    #Create a new Porter stemmer.\n",
    "    stemmer = PorterStemmer()\n",
    "    #try:\n",
    "    for i in range(len(preprocessed_data_sample)):\n",
    "        #Stemming\n",
    "        #preprocessed_data_sample[i] = \" \".join([stemmer.stem(str(word)) for word in preprocessed_data_sample[i]])\n",
    "        #No stemming\n",
    "        preprocessed_data_sample[i] = \" \".join([str(word) for word in preprocessed_data_sample[i]])\n",
    "    return preprocessed_data_sample"
   ]
  },
  {
   "cell_type": "code",
   "execution_count": 497,
   "metadata": {
    "collapsed": false
   },
   "outputs": [
    {
     "name": "stdout",
     "output_type": "stream",
     "text": [
      "stemming \n"
     ]
    }
   ],
   "source": [
    "import copy\n",
    "preprocessed_data_sample = stemmer(preprocessed_data_sample)\n",
    "data_sample_copy = (preprocessed_data_sample)"
   ]
  },
  {
   "cell_type": "code",
   "execution_count": 500,
   "metadata": {
    "collapsed": false
   },
   "outputs": [],
   "source": [
    "[preprocessed_data_sample, vectorizer, no_features] = vectorize(preprocessed_data_sample)"
   ]
  },
  {
   "cell_type": "code",
   "execution_count": 501,
   "metadata": {
    "collapsed": false
   },
   "outputs": [
    {
     "name": "stdout",
     "output_type": "stream",
     "text": [
      "mr hoagie institution walking seem like throwback years ago old fashioned menu board booths large selection food speciality italian hoagie voted best area year year usually order burger patties obviously cooked frozen ingredients fresh overall good alternative subway road\n"
     ]
    }
   ],
   "source": [
    "print (data_sample_copy[0])"
   ]
  },
  {
   "cell_type": "code",
   "execution_count": 68,
   "metadata": {
    "collapsed": false
   },
   "outputs": [],
   "source": [
    "#Trial for wordcount without stemming\n",
    "#for i in range(len(preprocessed_data_sample)):\n",
    "#    preprocessed_data_sample[i] = \" \".join(preprocessed_data_sample[i])\n",
    "#preprocessed_data_sample = vectorize(preprocessed_data_sample)"
   ]
  },
  {
   "cell_type": "code",
   "execution_count": 502,
   "metadata": {
    "collapsed": false,
    "scrolled": true
   },
   "outputs": [
    {
     "name": "stdout",
     "output_type": "stream",
     "text": [
      "942\n",
      "<type 'list'>\n",
      "['good food', 'chinese', 'really good', 'place would', 'lack', 'hot', 'four', 'one thing', 'manager', 'asian', 'capital grille', 'go', 'ridiculous', 'hate', 'brunch', 'seemed', 'extra', 'certainly', 'chain', 'disgusting', 'finally', 'big fan', 'dressing', 'sorry', 'must', 'friendly', 'sent', 'definitely recommend', 'staff always', 'woman', 'years ago', 'worse', 'grill', 'far', 'dessert', 'mediocre best', 'three stars', 'worst', 'anywhere', 'awful', 'fan', 'minute', 'cool', 'entire', 'school', 'hour', 'desserts', 'die', 'list', 'food bad', 'hole wall', 'try', 'good service', 'right away', 'small', 'guy', 'added', 'enjoy', 'pork', 'says', 'soba', 'tea', 'bacon', 'pepper', 'sign', 'past', 'general tso', 'second', 'street', 'one star', 'fast food', 'run', 'choices', 'casual', 'beer selection', 'drinks', 'sausage', 'chicken salad', 'sub', 'fact', 'cooking', 'crust', 'enjoyed', 'service good', 'waiting', 'indian', 'also good', 'shared', 'pad thai', 'ever', 'place great', 'filled', 'fish sandwich', 'make sure', 'full', 'cozy', 'pancakes', 'never', 'french', 'highly', 'fun', 'slow', 'let', 'mac cheese', 'good though', 'along', 'standard', 'saturday night', 'wait', 'plates', 'great', 'kids', 'daughter', 'perfectly cooked', 'good nothing', 'employees', 'changed', 'delicious food', 'experience', 'credit', 'amount', 'always friendly', 'wine', 'pick', 'usually', 'opinion', 'would say', 'makes', 'options', 'beautiful', 'love', 'family', 'prefer', 'brought', 'put', 'duck', 'total', 'standing', 'use', 'charge', 'takes', 'would', 'food pretty', 'service horrible', 'visit', 'two', 'sports', 'yum', 'live', 'call', 'crab', 'recommend', 'taken', 'care', 'type', 'tell', 'today', 'door', 'rich', 'stay away', 'started', 'share', 'glass', 'really great', 'warm', 'beers', 'olive', 'rare', 'potatoes', 'glad', 'town', 'none', 'bartender', 'room', 'salad', 'middle', 'car', 'work', 'soul', 'worth', 'reviews', 'soup', 'sour', 'bar area', 'feel like', 'making', 'credit card', 'corned beef', 'something', 'give', 'pie', 'awesome', 'food took', 'days', 'high', 'heard', 'incredible', 'want', 'wow', 'shrimp', 'onions', 'garden', 'usually get', 'huge', 'end', 'sit', 'rather', 'returning', 'someone', 'located', 'amazing', 'plus', 'establishment', 'walked away', 'pizza', 'sandwich', 'okay', 'tried', 'rude', 'may', 'stop', 'dive', 'spot', 'decor', 'mac', 'lot', 'coming', 'authentic', 'tomato', 'short', 'remember', 'crowded', 'fine', 'greek', 'green', 'south', 'dish', 'pay', 'every', 'egg', 'order', 'soggy', 'waste time', 'waitresses', 'creamy', 'years', 'went lunch', 'course', 'attitude', 'including', 'looks', 'left', 'mentioned', 'sunday brunch', 'cold', 'still', 'style', 'group', 'gave us', 'appetizers', 'expectations', 'actually', 'better', 'quite good', 'sauce', 'best thing', 'happened', 'coffee', 'good', 'return', 'food', 'well worth', 'taste like', 'lunch', 'wait staff', 'two stars', 'half', 'front', 'servers', 'day', 'bread', 'gets', 'meat', 'always', 'year old', 'drive thru', 'stopped', 'rock', 'found', 'went', 'water', 'mean', 'heavy', 'service slow', 'everyone', 'rating', 'needless', 'house', 'fish', 'hard', 'ambiance', 'idea', 'potato salad', 'friendly staff', 'sports bar', 'next day', 'entree', 'year', 'girl', 'chain restaurant', 'saturday', 'really', 'large', 'never came', 'quality', 'truly', 'since', 'looking', 'mess', 'fried rice', 'grits', 'got', 'get', 'food delicious', 'issue', 'red', 'food great', 'southern', 'friday', 'given', 'free', 'quite', 'quick', 'reason', 'ask', 'sitting', 'wanted', 'card', 'ate', 'waiter', 'could', 'tasting', 'sub par', 'wrong', 'lovely', 'times', 'thing', 'birthday', 'place', 'arrived', 'think', 'waitress', 'first', 'cheese', 'already', 'went back', 'feel', 'next time', 'never go', 'fancy', 'one', 'lettuce', 'done', 'fast', 'delicious', 'greasy', 'choice', 'size', 'city', 'little', 'management', 'service', 'ordering', 'even better', 'top', 'took order', 'least', 'name', 'needed', 'thru', 'white', 'banana', 'friend', 'poor service', 'excellent', 'go wrong', 'pittsburgh', 'special occasion', 'serve', 'took', 'japanese', 'part', 'review', 'kept', 'thai', 'believe', 'said would', 'boyfriend', 'chef', 'kind', 'late night', 'burger', 'gotten', 'appetizer', 'told', 'seated', 'definitely go', 'cost', 'dining room', 'maybe', 'sweet potato', 'great food', 'would never', 'charlotte', 'tasted', 'outstanding', 'slaw', 'first time', 'mind', 'sad', 'tonight', 'talking', 'say', 'medium', 'homemade', 'food came', 'need', 'seen', 'breakfast', 'mins', 'saw', 'orders', 'sat', 'nights', 'dishes', 'person', 'trip', 'filet', 'able', 'also', 'recommended', 'wait go', 'best', 'excellent food', 'even', 'bottle', 'though', 'park', 'overcooked', 'salmon', 'buffalo chicken', 'buffet', 'leave', 'regular', 'terrible service', 'nothing', 'extremely', 'forever', 'food ordered', 'never disappointed', 'especially', 'hot dog', 'gyro', 'seafood', 'later', 'dog', 'martini', 'looked', 'super friendly', 'definitely', 'nice place', 'clean', 'hear', 'charged', 'cole slaw', 'shop', 'saying', 'atmosphere', 'selection', 'particularly', 'show', 'german', 'casbah', 'time went', 'cheap', 'great atmosphere', 'bring', 'never bad', 'chicken', 'find', 'staff', 'egg roll', 'waited', 'busy', 'based', 'menu', 'much better', 'outside', 'texture', 'going', 'black', 'pretty', 'rice', 'local', 'hope', 'lady', 'plate', 'hit', 'needless say', 'best pizza', 'ones', 'stars', 'perfection', 'new', 'chips', 'place go', 'gem', 'bar', 'greens', 'ended', 'packed', 'twice', 'bad', 'stuff', 'food service', 'grilled', 'collard greens', 'last time', 'steak', 'someone else', 'husband', 'restaurants', 'set', 'french fries', 'see', 'decided', 'parking', 'close', 'noodles', 'yes', 'probably go', 'chose', 'said', 'visiting', 'lots', 'away', 'ordered food', 'give stars', 'case', 'enough', 'food terrible', 'going back', 'closed', 'horrible', 'probably', 'across', 'supposed', 'cajun', 'recently', 'around pm', 'customer service', 'however', 'took forever', 'job', 'must try', 'come', 'main course', 'kitchen', 'hours', 'last', 'brown', 'onion rings', 'cakes', 'many', 'barely', 'took minutes', 'called', 'etc', 'patrons', 'disappointment', 'last night', 'whole', 'asked', 'comes', 'olive oil', 'liked', 'tough', 'flavorless', 'point', 'simple', 'sweet', 'bad experience', 'others', 'top notch', 'walk', 'minutes later', 'italian food', 'table', 'refill', 'sunday', 'considering', 'late', 'beef', 'bad food', 'decent', 'three', 'quickly', 'beer', 'much', 'excellent service', 'peppers', 'waste', 'ravioli', 'bbq', 'pm', 'box', 'lived', 'tasteless', 'turned', 'offered', 'cooked perfection', 'else', 'finished', 'prices', 'attentive', 'would definitely', 'pleasantly surprised', 'main', 'look', 'might', 'restaurant', 'cash', 'n', 'near', 'worst service', 'items', 'potato pancakes', 'food ever', 'gave', 'took long', 'vegetarian', 'mistake', 'service great', 'almost', 'happy hour', 'sushi', 'side', 'quiet', 'shame', 'evening', 'mashed potatoes', 'ready', 'overall good', 'seem', 'food place', 'cuisine', 'different', 'several times', 'open', 'french toast', 'perhaps', 'things', 'make', 'bowl', 'service excellent', 'clearly', 'another', 'also ordered', 'party', 'several', 'tomatoes', 'week', 'fairly', 'used', 'pho', 'got food', 'dor stop', 'drink', 'upon', 'next door', 'would go', 'garlic', 'quality food', 'favorites', 'broccoli', 'keep', 'butter', 'entrees', 'burrito', 'cook', 'min', 'well', 'spent', 'obviously', 'thought', 'burgers', 'without', 'juicy', 'slow service', 'looks like', 'spend', 'usual', 'egg rolls', 'outdoor', 'mom', 'less', 'tip', 'hands', 'thought would', 'rest', 'one favorite', 'everyone else', 'immediately', 'something else', 'flavor', 'yet', 'tables', 'generous', 'cut', 'fried chicken', 'dining', 'burnt', 'would come', 'seems', 'food mediocre', 'wall', 'add', 'location', 'pretty good', 'definitely worth', 'go way', 'take', 'real', 'definitely back', 'complaint', 'around', 'lacking', 'would recommend', 'also great', 'big', 'couple', 'early', 'game', 'five', 'know', 'world', 'bit', 'disappointed', 'wings', 'like', 'well done', 'could get', 'onion', 'waited minutes', 'server', 'either', 'night', 'served', 'italian', 'seating', 'right', 'old', 'often', 'deal', 'people', 'absolutely', 'waitress came', 'highly recommend', 'date night', 'back', 'phone', 'hungry', 'sure', 'lobster', 'home', 'love place', 'pleased', 'food amazing', 'gross', 'slice', 'chinese food', 'literally', 'avoid', 'best ever', 'fabulous', 'ice', 'ok nothing', 'wine list', 'everything', 'asking', 'expensive', 'next us', 'price', 'turkey', 'eating', 'business', 'overall', 'go back', 'mashed', 'although', 'friday night', 'pasta', 'sandwiches', 'bottom line', 'prepared', 'super', 'ok', 'working', 'anything', 'oh', 'favorite', 'meal', 'always great', 'dinner', 'old school', 'stand', 'drink order', 'mixed', 'mouth', 'every time', 'glasses', 'food good', 'eaten', 'long time', 'pretty much', 'great service', 'getting', 'mushrooms', 'food quality', 'even though', 'never return', 'would expect', 'next', 'finally got', 'rolls', 'impressed', 'area', 'friends', 'vegetables', 'long', 'start', 'minutes get', 'way', 'forward', 'happy', 'spicy', 'elsewhere', 'back try', 'offer', 'bite', 'asked could', 'great experience', 'oil', 'delivery', 'expected', 'beans', 'bread pudding', 'line', 'trying', 'true', 'eat', 'spice', 'made', 'portions', 'places', 'come back', 'wish', 'inside', 'potato', 'fries', 'us', 'par', 'placed', 'bad service', 'recommend place', 'dirty', 'traditional', 'cake', 'problem', 'fried', 'minutes', 'average', 'tastes', 'expect', 'specials', 'instead', 'trio', 'horrible service', 'ordered', 'taste', 'forgot', 'drive', 'tasty', 'together', 'really wanted', 'check', 'order food', 'cream', 'get food', 'good thing', 'ingredients', 'salads', 'generally', 'goat', 'topped', 'always get', 'felt like', 'special', 'right amount', 'another minutes', 'roll', 'nice', 'poor', 'star', 'delivered', 'felt', 'stay', 'chance', 'mix', 'kinda', 'occasion', 'reservation', 'priced', 'meals', 'ago', 'notch', 'e', 'longer', 'yelp', 'wife', 'baked', 'comfortable', 'food excellent', 'walked', 'cooked', 'portion', 'take order', 'came', 'time', 'fresh', 'sent back', 'buffalo']\n"
     ]
    }
   ],
   "source": [
    "vocab = vectorizer.get_feature_names()\n",
    "#counts = vectorizer.get_params()\n",
    "#print counts\n",
    "print len(vocab)\n",
    "print type(vocab)\n",
    "print vocab"
   ]
  },
  {
   "cell_type": "markdown",
   "metadata": {},
   "source": [
    "Feature Selection - One time"
   ]
  },
  {
   "cell_type": "code",
   "execution_count": 107,
   "metadata": {
    "collapsed": false
   },
   "outputs": [],
   "source": [
    "import collections\n",
    "import re\n",
    "from itertools import islice, izip\n",
    "import numpy as np\n",
    "def feature_selection(labels, data_sample_copy):  \n",
    "    new_vocab = []\n",
    "    new_vocab = set(new_vocab)\n",
    "    #vocab_list_count = [len(word_here.split()) for word_here in vocab]\n",
    "    \n",
    "    #counter = collections.Counter(vocab_list_count)\n",
    "    #print counter\n",
    "    \n",
    "    #Obtain unigram count\n",
    "    #print len(vocab)\n",
    "    #print type(vocab)\n",
    "    print type(data_sample_copy)\n",
    "    bad = np.array(((labels == 1) | (labels == 2)))\n",
    "    average = np.array((labels == 3))\n",
    "    good = np.array(((labels == 4) | (labels == 5)))\n",
    "    print type(good)\n",
    "    data_sample_string_good = \" \".join(data_sample_copy[good])\n",
    "    data_sample_string_average = \" \".join(data_sample_copy[average])\n",
    "    data_sample_string_bad = \" \".join(data_sample_copy[bad])\n",
    "    len_data = [len(data_sample_copy[bad]), len(data_sample_copy[average]), len(data_sample_copy[good])]\n",
    "    #data_sample_string[1:15000]\n",
    "    from collections import Counter\n",
    "    j =0\n",
    "    for data_sample_string in [data_sample_string_bad, data_sample_string_average, data_sample_string_good]:\n",
    "        temp_words = data_sample_string.split()\n",
    "        wordCount = Counter(temp_words)\n",
    "        print len(wordCount)\n",
    "        for key in wordCount.keys() :\n",
    "             wordCount[key] /= float(len_data[j])\n",
    "        j = j+1\n",
    "        wordCount = wordCount.most_common(0)\n",
    "        print \"u\", type(wordCount)\n",
    "        for k in range(len(wordCount)):\n",
    "            wordCount[k] = wordCount[k][0]\n",
    "            if(wordCount[k] in new_vocab):\n",
    "                new_vocab.remove(wordCount[k])\n",
    "            else:\n",
    "                new_vocab.add(wordCount[k])\n",
    "        #new_vocab += wordCount\n",
    "\n",
    "        #Obtain bigram count and choose top 150 bigrams\n",
    "        words = re.findall(\"\\w+\", data_sample_string)\n",
    "        req_bigrams = Counter(izip(words, islice(words, 1, None))).most_common(200)\n",
    "        #print \"b\", req_bigrams\n",
    "        for k in range(len(req_bigrams)):\n",
    "            req_bigrams[k] = req_bigrams[k][0][0] + \" \" + req_bigrams[k][0][1]\n",
    "            if(req_bigrams[k] in new_vocab):\n",
    "                new_vocab.remove(req_bigrams[k])\n",
    "            else:\n",
    "                new_vocab.add(req_bigrams[k])\n",
    "        #new_vocab += req_bigrams\n",
    "    #combine unigrams and bigrams\n",
    "    #top 807 unigrams\n",
    "    #required_features = {u'food': 11288, u'good': 10313, u'place': 9703, u'order': 7331, u'great': 6734, u'like': 6499, u'go': 6076, u'get': 6010, u'time': 5996, u'one': 5363, u'servic': 5239, u'restaur': 4473, u'would': 4369, u'realli': 4268, u'back': 4167, u'tri': 3893, u'pizza': 3758, u'also': 3464, u'love': 3415, u'best': 3399, u'even': 3295, u'nice': 3237, u'come': 3174, u'eat': 3161, u'us': 3148, u'chees': 3147, u'dont': 3136, u'fri': 3103, u'bar': 3100, u'got': 3079, u'ive': 3077, u'menu': 3070, u'tabl': 3043, u'alway': 2920, u'wait': 2906, u'chicken': 2903, u'well': 2846, u'salad': 2787, u'im': 2783, u'make': 2757, u'littl': 2736, u'sauc': 2726, u'want': 2709, u'delici': 2708, u'drink': 2694, u'meal': 2690, u'look': 2592, u'tast': 2529, u'came': 2509, u'beer': 2505, u'pittsburgh': 2499, u'price': 2475, u'pretti': 2456, u'sandwich': 2433, u'night': 2414, u'much': 2297, u'never': 2288, u'lunch': 2242, u'went': 2230, u'didnt': 2221, u'dinner': 2174, u'could': 2134, u'definit': 2106, u'peopl': 2093, u'first': 2079, u'think': 2075, u'say': 2073, u'thing': 2029, u'better': 2029, u'ask': 2025, u'serv': 2002, u'dish': 1992, u'friend': 1966, u'experi': 1951, u'two': 1934, u'know': 1933, u'take': 1924, u'friendli': 1910, u'enjoy': 1908, u'made': 1900, u'flavor': 1871, u'side': 1822, u'staff': 1814, u'server': 1807, u'special': 1804, u'seat': 1793, u'fresh': 1785, u'bread': 1784, u'burger': 1755, u'ever': 1753, u'cook': 1742, u'way': 1699, u'top': 1694, u'recommend': 1689, u'minut': 1677, u'day': 1667, u'visit': 1648, u'lot': 1634, u'right': 1628, u'bit': 1600, u'favorit': 1589, u'still': 1587, u'around': 1582, u'star': 1580, u'give': 1546, u'wasnt': 1540, u'though': 1525, u'amaz': 1521, u'bad': 1514, u'seem': 1510, u'said': 1498, u'waitress': 1498, u'hot': 1496, u'sure': 1488, u'year': 1468, u'busi': 1450, u'sinc': 1435, u'review': 1435, u'someth': 1433, u'atmospher': 1416, u'roll': 1415, u'small': 1396, u'expect': 1363, u'area': 1356, u'cant': 1353, u'excel': 1343, u'feel': 1339, u'steak': 1335, u'took': 1326, u'walk': 1323, u'pasta': 1314, u'last': 1305, u'locat': 1305, u'mani': 1300, u'need': 1300, u'appet': 1298, u'select': 1291, u'everi': 1285, u'everyth': 1279, u'stop': 1271, u'use': 1271, u'disappoint': 1270, u'find': 1269, u'work': 1252, u'soup': 1251, u'potato': 1250, u'hour': 1244, u'dine': 1244, u'meat': 1242, u'anoth': 1218, u'wine': 1207, u'tasti': 1206, u'noth': 1198, u'see': 1197, u'perfect': 1188, u'sweet': 1179, u'dessert': 1176, u'next': 1173, u'reason': 1173, u'portion': 1171, u'your': 1164, u'home': 1163, u'italian': 1154, u'big': 1148, u'worth': 1147, u'long': 1140, u'enough': 1140, u'start': 1117, u'sushi': 1107, u'awesom': 1090, u'usual': 1087, u'new': 1075, u'larg': 1068, u'plate': 1066, u'differ': 1059, u'entre': 1052, u'check': 1051, u'end': 1048, u'fish': 1044, u'actual': 1039, u'grill': 1034, u'qualiti': 1033, u'id': 1024, u'that': 1021, u'happi': 1009, u'howev': 1006, u'quit': 1003, u'charlott': 1003, u'sit': 1002, u'huge': 994, u'decid': 982, u'offer': 976, u'breakfast': 970, u'shrimp': 965, u'probabl': 964, u'ok': 963, u'spot': 956, u'option': 944, u'kind': 942, u'live': 918, u'decent': 916, u'park': 910, u'manag': 906, u'anyth': 906, u'thought': 901, u'told': 897, u'cake': 889, u'away': 880, u'call': 877, u'egg': 869, u'close': 866, u'wonder': 863, u'famili': 852, u'half': 851, u'beef': 847, u'green': 841, u'person': 832, u'full': 827, u'crowd': 824, u'mayb': 824, u'dog': 814, u'els': 812, u'old': 808, u'choic': 808, u'room': 807, u'wing': 804, u'tomato': 804, u'spici': 801, u'cours': 799, u'left': 798, u'outsid': 796, u'game': 795, u'slice': 789, u'open': 787, u'without': 780, u'let': 779, u'overal': 777, u'cold': 775, u'arriv': 770, u'waiter': 761, u'put': 758, u'attent': 757, u'reserv': 754, u'almost': 754, u'rice': 752, u'everyon': 752, u'parti': 749, u'week': 746, u'item': 746, u'found': 745, u'custom': 745, u'ill': 742, u'return': 732, u'three': 729, u'husband': 724, u'brunch': 721, u'insid': 718, u'point': 708, u'absolut': 707, u'gener': 706, u'pancak': 704, u'super': 703, u'local': 696, u'fantast': 693, u'group': 687, u'onion': 687, u'coupl': 685, u'help': 685, u'cream': 679, u'town': 677, u'quick': 675, u'least': 667, u'sever': 665, u'fill': 665, u'isnt': 663, u'part': 662, u'leav': 659, u'high': 646, u'bartend': 646, u'lobster': 645, u'must': 645, u'hous': 643, u'salmon': 643, u'final': 643, u'mac': 642, u'bacon': 641, u'fan': 638, u'may': 637, u'perfectli': 629, u'hard': 627, u'includ': 626, u'bring': 626, u'crust': 625, u'especi': 624, u'list': 623, u'decor': 622, u'season': 622, u'fast': 619, u'street': 618, u'far': 612, u'size': 610, u'sat': 609, u'hand': 608, u'bite': 607, u'ate': 606, u'chang': 605, u'impress': 603, u'brought': 603, u'glass': 603, u'second': 601, u'piec': 595, u'citi': 595, u'pay': 594, u'guy': 593, u'red': 592, u'dress': 591, u'pork': 588, u'light': 588, u'fun': 587, u'coffe': 587, u'tell': 584, u'fine': 583, u'prepar': 582, u'wife': 579, u'averag': 578, u'french': 578, u'kitchen': 577, u'mix': 577, u'doesnt': 576, u'chines': 573, u'either': 573, u'wont': 570, u'thai': 570, u'water': 568, u'warm': 566, u'care': 563, u'wrong': 562, u'whole': 562, u'veggi': 560, u'done': 559, u'line': 558, u'saturday': 557, u'dri': 557, u'although': 555, u'crab': 552, u'less': 549, u'bean': 547, u'watch': 544, u'show': 543, u'pick': 541, u'finish': 538, u'gave': 537, u'mean': 536, u'couldnt': 533, u'regular': 533, u'cheap': 532, u'real': 532, u'move': 531, u'often': 531, u'oliv': 529, u'pack': 528, u'keep': 526, u'rememb': 525, u'someon': 525, u'free': 525, u'okay': 524, u'might': 524, u'pm': 523, u'extra': 521, u'name': 521, u'sausag': 517, u'pepper': 516, u'eaten': 512, u'amount': 510, u'surpris': 509, u'instead': 509, u'miss': 508, u'sunday': 507, u'chocol': 506, u'highli': 506, u'felt': 504, u'clean': 502, u'wish': 500, u'ye': 500, u'white': 499, u'owner': 498, u'style': 498, u'yet': 496, u'past': 494, u'wouldnt': 494, u'there': 493, u'consist': 493, u'butter': 492, u'hope': 491, u'crispi': 491, u'neighborhood': 491, u'share': 490, u'door': 488, u'extrem': 488, u'cool': 485, u'mushroom': 484, u'ice': 481, u'slow': 480, u'friday': 478, u'kid': 478, u'weekend': 476, u'diner': 474, u'pleas': 474, u'oh': 473, u'date': 473, u'thank': 468, u'abl': 468, u'quickli': 467, u'complet': 466, u'toast': 465, u'cut': 464, u'hit': 462, u'birthday': 461, u'bland': 459, u'run': 458, u'later': 456, u'total': 456, u'rib': 456, u'bottl': 455, u'fact': 454, u'recent': 453, u'boyfriend': 452, u'front': 452, u'pho': 451, u'sometim': 449, u'talk': 448, u'tea': 446, u'suggest': 446, u'guess': 444, u'rather': 443, u'trip': 441, u'deal': 437, u'head': 434, u'late': 433, u'money': 433, u'plu': 433, u'main': 433, u'chef': 429, u'german': 429, u'seafood': 428, u'mention': 427, u'buffet': 426, u'type': 426, u'theyr': 422, u'typic': 422, u'given': 421, u'corn': 417, u'chip': 416, u'problem': 414, u'terribl': 413, u'bill': 411, u'lack': 411, u'shop': 410, u'stand': 410, u'dip': 410, u'havent': 407, u'authent': 405, u'tip': 404, u'stuf': 401, u'taco': 400, u'except': 400, u'vegetarian': 400, u'rare': 398, u'hoagi': 398, u'ago': 398, u'cocktail': 398, u'turn': 396, u'downtown': 396, u'expens': 395, u'heard': 394, u'blue': 393, u'spinach': 393, u'bbq': 393, u'stay': 392, u'plenti': 392, u'today': 388, u'uptown': 387, u'youll': 386, u'incred': 385, u'yummi': 385, u'deliveri': 384, u'receiv': 384, u'ingredi': 382, u'empti': 381, u'tender': 381, u'read': 380, u'veget': 380, u'deliv': 379, u'mind': 379, u'comfort': 378, u'worst': 378, u'ad': 377, u'garlic': 377, u'other': 376, u'set': 375, u'happen': 375, u'entir': 375, u'grab': 374, u'short': 373, u'tuna': 372, u'lettuc': 371, u'pie': 370, u'four': 369, u'base': 367, u'rate': 367, u'noodl': 366, u'interest': 365, u'chain': 362, u'varieti': 362, u'hostess': 362, u'add': 360, u'homemad': 360, u'ambianc': 358, u'uniqu': 358, u'greasi': 358, u'martini': 358, u'soon': 358, u'yelp': 358, u'standard': 356, u'normal': 356, u'medium': 354, u'hungri': 351, u'ravioli': 350, u'n': 349, u'drive': 349, u'believ': 349, u'complaint': 348, u'consid': 344, u'werent': 344, u'anyon': 344, u'beauti': 344, u'bottom': 343, u'filet': 343, u'patio': 343, u'gone': 342, u'alreadi': 338, u'saw': 338, u'solid': 336, u'basic': 335, u'rest': 335, u'wall': 334, u'understand': 333, u'notic': 333, u'calamari': 332, u'chop': 331, u'rock': 331, u'cash': 328, u'rude': 327, u'simpl': 326, u'twice': 326, u'mert': 326, u'cover': 325, u'scallop': 325, u'strip': 325, u'treat': 325, u'wrap': 324, u'prefer': 323, u'stuff': 321, u'readi': 321, u'joint': 321, u'month': 319, u'split': 317, u'roast': 315, u'bowl': 315, u'black': 314, u'salt': 314, u'stick': 314, u'cornbread': 311, u'near': 310, u'pricey': 310, u'soul': 309, u'card': 308, u'thin': 307, u'charg': 306, u'thick': 306, u'pleasant': 305, u'across': 305, u'etc': 304, u'choos': 303, u'lamb': 302, u'excit': 302, u'oil': 302, u'earli': 302, u'play': 301, u'togeth': 301, u'immedi': 300, u'mouth': 299, u'sort': 299, u'serious': 298, u'space': 295, u'five': 295, u'refil': 293, u'establish': 293, u'greet': 292, u'spring': 291, u'slaw': 289, u'spice': 288, u'store': 288, u'curri': 288, u'horribl': 287, u'kept': 287, u'world': 284, u'salti': 284, u'girl': 284, u'unfortun': 284, u'mediocr': 283, u'along': 282, u'certainli': 281, u'arent': 280, u'job': 280, u'crave': 280, u'seen': 279, u'complain': 279, u'write': 279, u'cup': 278, u'slightli': 278, u'meatbal': 278, u'tofu': 277, u'satisfi': 277, u'crepe': 277, u'chili': 276, u'loud': 276, u'spend': 276, u'sound': 275, u'primanti': 274, u'floor': 274, u'tradit': 273, u'counter': 273, u'chanc': 273, u'brown': 273, u'easi': 272, u'soft': 272, u'dark': 271, u'liter': 271, u'glad': 271, u'addit': 269, u'music': 268, u'life': 268, u'issu': 268, u'plan': 267, u'note': 267, u'wed': 266, u'hate': 266, u'southern': 266, u'exactli': 266, u'sub': 265, u'cuisin': 265, u'melt': 263, u'frozen': 262, u'man': 262, u'simpli': 262, u'casbah': 261, u'occas': 261, u'knew': 261, u'wow': 260, u'hotel': 260, u'event': 259, u'request': 259, u'mom': 259, u'app': 258, u'bake': 258, u'sign': 258, u'present': 258, u'die': 258, u'turkey': 257, u'burrito': 257, u'outdoor': 256, u'gyro': 256, u'american': 255, u'smoke': 255, u'buffalo': 254, u'sport': 254, u'ton': 253, u'rush': 252, u'aw': 252, u'anyway': 252, u'hear': 252, u'idea': 251, u'pass': 250, u'ladi': 250, u'soba': 250, u'tv': 250, u'min': 250, u'upstair': 250, u'quiet': 249, u'casual': 248, u'behind': 248, u'sour': 248, u'pepperoni': 248, u'weve': 248, u'cost': 247, u'tini': 247, u'girlfriend': 247, u'appl': 247, u'chose': 246, u'avail': 246, u'overpr': 246, u'mine': 246, u'poor': 245, u'welcom': 245, u'lidia': 244, u'opinion': 244, u'smell': 243, u'suppos': 242, u'appreci': 240, u'mash': 239, u'provid': 239, u'pub': 237, u'fairli': 237, u'taken': 237, u'collard': 237, u'outstand': 237, u'possibl': 236, u'draft': 236, u'compar': 235, u'honestli': 235, u'employe': 234, u'tap': 234, u'low': 233, u'meet': 232, u'yum': 232, u'due': 232, u'number': 231, u'mostli': 231, u'anywher': 231, u'cozi': 231, u'morn': 230, u'patron': 230, u'takeout': 228, u'banana': 226, u'textur': 226, u'eye': 225, u'combin': 224, u'within': 224, u'creami': 224, u'realiz': 223, u'booth': 223, u'pull': 221, u'bun': 221, u'build': 221, u'plain': 221, u'save': 220, u'tonight': 219, u'frequent': 219, u'paid': 219, u'truli': 219, u'sorri': 219, u'pita': 219, u'easili': 219, u'agre': 218, u'trio': 218, u'dirti': 217, u'matter': 217, u'heart': 217, u'rich': 216, u'forward': 216, u'broccoli': 216, u'despit': 216, u'classic': 215, u'accommod': 214, u'box': 213, u'celebr': 213, u'true': 213, u'forget': 213, u'appar': 212, u'gotten': 212, u'somewher': 211, u'figur': 211, u'crisp': 211, u'apolog': 211, u'fanci': 211, u'origin': 210, u'middl': 210, u'afternoon': 209, u'duck': 209, u'pickl': 209, u'crazi': 208, u'burgh': 208, u'explain': 208, u'dollar': 207, u'convers': 206, u'avoid': 206, u'juici': 206, u'harri': 205, u'level': 205, u'ds': 205, u'upon': 205, u'word': 205, u'shadysid': 204, u'sampl': 204, u'fair': 204, u'buy': 204, u'summer': 204, u'soggi': 203, u'school': 202, u'buck': 202, u'mood': 201, u'longer': 201, u'gnocchi': 200, u'weird': 200, u'market': 200}\n",
    "    #longer\n",
    "    #required_features = {u'good': 20624, u'food': 17687, u'place': 17212, u'like': 14958, u'order': 14055, u'time': 11385, u'get': 11230, u'go': 11066, u'one': 10594, u'great': 9093, u'realli': 8709, u'servic': 8361, u'tri': 7686, u'chicken': 7556, u'back': 7295, u'would': 7039, u'restaur': 6513, u'come': 6247, u'also': 6075, u'love': 6066, u'menu': 6044, u'sauc': 5797, u'lunch': 5745, u'salad': 5741, u'eat': 5732, u'fri': 5714, u'littl': 5688, u'got': 5636, u'even': 5635, u'nice': 5556, u'chees': 5481, u'well': 5477, u'pretti': 5356, u'want': 5338, u'alway': 5194, u'look': 5054, u'make': 4997, u'tabl': 4820, u'came': 4791, u'tast': 4784, u'much': 4656, u'pizza': 4614, u'us': 4553, u'think': 4494, u'meal': 4446, u'bar': 4403, u'wait': 4382, u'know': 4376, u'drink': 4343, u'price': 4337, u'flavor': 4256, u'thing': 4253, u'best': 4222, u'sandwich': 4191, u'dish': 4141, u'say': 3952, u'side': 3931, u'better': 3931, u'serv': 3752, u'star': 3743, u'fresh': 3733, u'night': 3718, u'locat': 3717, u'dinner': 3700, u'could': 3673, u'take': 3670, u'delici': 3602, u'went': 3574, u'two': 3562, u'first': 3559, u'special': 3541, u'never': 3541, u'lot': 3505, u'enjoy': 3476, u'way': 3467, u'peopl': 3447, u'day': 3443, u'friend': 3440, u'sinc': 3423, u'right': 3400, u'bread': 3338, u'still': 3329, u'ask': 3299, u'hot': 3264, u'made': 3207, u'bit': 3192, u'friendli': 3134, u'soup': 3091, u'rice': 3039, u'year': 3016, u'sure': 2991, u'seem': 2983, u'bad': 2941, u'top': 2936, u'meat': 2919, u'though': 2912, u'give': 2902, u'someth': 2873, u'server': 2870, u'definit': 2859, u'review': 2844, u'burger': 2838, u'cook': 2813, u'see': 2789, u'around': 2780, u'use': 2774, u'roll': 2765, u'beef': 2647, u'said': 2645, u'small': 2643, u'last': 2635, u'favorit': 2629, u'visit': 2606, u'area': 2580, u'big': 2579, u'tasti': 2571, u'seat': 2558, u'need': 2546, u'mani': 2518, u'feel': 2510, u'sweet': 2494, u'breakfast': 2487, u'work': 2481, u'hour': 2455, u'egg': 2444, u'everyth': 2442, u'experi': 2435, u'next': 2427, u'plate': 2385, u'ok': 2377, u'minut': 2338, u'happi': 2307, u'potato': 2307, u'usual': 2306, u'busi': 2290, u'find': 2284, u'anoth': 2274, u'noth': 2264, u'long': 2256, u'ever': 2251, u'enough': 2242, u'taco': 2238, u'dine': 2222, u'staff': 2220, u'decid': 2191, u'took': 2183, u'steak': 2177, u'home': 2171, u'shrimp': 2167, u'beer': 2145, u'stop': 2116, u'larg': 2105, u'start': 2097, u'everi': 2095, u'walk': 2075, u'expect': 2048, u'new': 2044, u'bean': 2029, u'differ': 2024, u'grill': 2002, u'chip': 1996, u'sushi': 1994, u'check': 1985, u'reason': 1973, u'perfect': 1970, u'spici': 1962, u'item': 1960, u'wine': 1957, u'kind': 1951, u'offer': 1939, u'thought': 1934, u'actual': 1932, u'portion': 1928, u'probabl': 1917, u'mayb': 1914, u'spot': 1894, u'huge': 1892, u'old': 1884, u'fish': 1881, u'decent': 1878, u'end': 1866, u'cream': 1865, u'salsa': 1845, u'onion': 1844, u'sit': 1830, u'full': 1829, u'amaz': 1807, u'fast': 1807, u'howev': 1799, u'dessert': 1797, u'select': 1784, u'quit': 1777, u'qualiti': 1774, u'hous': 1744, u'half': 1726, u'option': 1724, u'insid': 1718, u'park': 1698, u'awesom': 1689, u'green': 1674, u'call': 1667, u'mexican': 1663, u'close': 1631, u'choic': 1617, u'pork': 1611, u'open': 1593, u'red': 1589, u'slice': 1566, u'super': 1564, u'appet': 1560, u'away': 1558, u'recommend': 1551, u'waitress': 1545, u'disappoint': 1544, u'fan': 1533, u'tomato': 1523, u'excel': 1516, u'put': 1511, u'chines': 1506, u'let': 1498, u'anyth': 1491, u'fill': 1490, u'coupl': 1488, u'entre': 1487, u'overal': 1478, u'pasta': 1478, u'ice': 1458, u'famili': 1458, u'almost': 1451, u'thai': 1451, u'worth': 1450, u'clean': 1446, u'els': 1433, u'style': 1427, u'town': 1421, u'size': 1409, u'italian': 1395, u'arriv': 1394, u'veggi': 1391, u'live': 1390, u'drive': 1387, u'quick': 1381, u'week': 1368, u'atmospher': 1357, u'oh': 1352, u'bite': 1348, u'room': 1339, u'hard': 1333, u'left': 1329, u'person': 1328, u'found': 1327, u'cours': 1323, u'burrito': 1320, u'three': 1306, u'yelp': 1304, u'least': 1298, u'wing': 1293, u'pick': 1289, u'outsid': 1289, u'part': 1287, u'noodl': 1277, u'final': 1277, u'husband': 1259, u'light': 1257, u'wonder': 1256, u'rememb': 1255, u'return': 1254, u'tea': 1249, u'either': 1248, u'help': 1246, u'water': 1244, u'bring': 1240, u'kid': 1238, u'piec': 1232, u'gener': 1232, u'includ': 1231, u'may': 1226, u'bacon': 1223, u'pepper': 1221, u'ye': 1218, u'mean': 1217, u'cheap': 1216, u'without': 1215, u'line': 1198, u'free': 1198, u'impress': 1191, u'bowl': 1190, u'tell': 1183, u'white': 1175, u'high': 1173, u'told': 1172, u'sever': 1167, u'keep': 1164, u'custom': 1161, u'chang': 1156, u'everyon': 1156, u'today': 1150, u'point': 1138, u'crispi': 1137, u'far': 1136, u'especi': 1133, u'brought': 1128, u'whole': 1125, u'dress': 1118, u'might': 1117, u'deal': 1110, u'name': 1110, u'regular': 1101, u'share': 1100, u'guy': 1096, u'less': 1089, u'late': 1085, u'mix': 1084, u'cool': 1084, u'dip': 1084, u'coffe': 1083, u'waiter': 1076, u'hand': 1074, u'extra': 1074, u'ate': 1073, u'guess': 1072, u'must': 1068, u'okay': 1067, u'manag': 1067, u'garlic': 1067, u'decor': 1065, u'surpris': 1057, u'averag': 1055, u'instead': 1053, u'real': 1050, u'group': 1050, u'pay': 1049, u'bbq': 1043, u'crowd': 1041, u'fine': 1041, u'fun': 1039, u'parti': 1037, u'cold': 1033, u'dri': 1033, u'leav': 1033, u'season': 1030, u'cake': 1024, u'chain': 1022, u'although': 1019, u'chocol': 1013, u'glass': 1013, u'door': 1006, u'plenti': 1006, u'run': 1003, u'warm': 1002, u'done': 999, u'care': 989, u'attent': 987, u'sometim': 983, u'local': 982, u'chili': 976, u'wrong': 975, u'pie': 973, u'wall': 969, u'pack': 964, u'amount': 964, u'mushroom': 960, u'type': 959, u'dog': 957, u'game': 955, u'sat': 955, u'pm': 955, u'past': 954, u'phoenix': 954, u'crust': 953, u'shop': 950, u'consist': 947, u'stuff': 946, u'watch': 946, u'gave': 945, u'second': 945, u'hit': 945, u'total': 943, u'finish': 941, u'head': 938, u'yummi': 936, u'sunday': 934, u'patio': 934, u'perfectli': 932, u'miss': 931, u'wife': 927, u'plu': 927, u'pancak': 926, u'street': 924, u'french': 924, u'notic': 923, u'someon': 922, u'quickli': 922, u'yet': 919, u'list': 919, u'ago': 917, u'fact': 916, u'sausag': 910, u'thank': 905, u'rib': 897, u'crave': 896, u'buffet': 894, u'cut': 892, u'crab': 889, u'toast': 884, u'show': 880, u'prepar': 863, u'w': 861, u'anyway': 857, u'recent': 854, u'talk': 854, u'tender': 849, u'wish': 849, u'butter': 846, u'owner': 838, u'corn': 830, u'often': 828, u'tortilla': 822, u'hope': 821, u'add': 820, u'counter': 814, u'front': 811, u'mind': 810, u'ad': 807, u'turn': 805, u'kitchen': 804, u'saturday': 804, u'later': 803, u'slow': 802, u'fantast': 801, u'typic': 796, u'lettuc': 795, u'bake': 792, u'lack': 791, u'authent': 787, u'wrap': 786, u'move': 784, u'pho': 783, u'soon': 780, u'felt': 779, u'four': 769, u'tip': 769, u'bagel': 764, u'happen': 762, u'strip': 756, u'rather': 751, u'pleas': 750, u'basic': 749, u'date': 749, u'seafood': 749, u'grab': 745, u'eaten': 743, u'set': 741, u'mom': 741, u'lobster': 739, u'hungri': 739, u'friday': 737, u'mention': 735, u'saw': 735, u'suggest': 734, u'stuf': 730, u'greasi': 723, u'normal': 723, u'joint': 722, u'veget': 722, u'bill': 721, u'soft': 719, u'diner': 717, u'curri': 717, u'varieti': 716, u'abl': 715, u'refil': 714, u'read': 714, u'spice': 712, u'bland': 712, u'thin': 712, u'roast': 711, u'problem': 710, u'standard': 710, u'combo': 708, u'bottl': 706, u'sign': 703, u'believ': 703, u'complet': 702, u'along': 702, u'choos': 699, u'alreadi': 698, u'enchilada': 697, u'solid': 696, u'base': 695, u'turkey': 694, u'vega': 694, u'absolut': 691, u'readi': 691, u'salmon': 691, u'brown': 691, u'sour': 689, u'birthday': 687, u'rate': 686, u'ingredi': 682, u'prefer': 682, u'play': 679, u'la': 678, u'stick': 677, u'except': 674, u'chef': 674, u'morn': 671, u'sub': 670, u'salt': 667, u'booth': 665, u'cover': 664, u'main': 663, u'etc': 661, u'cup': 660, u'store': 654, u'simpl': 651, u'medium': 647, u'note': 644, u'consid': 639, u'near': 639, u'valley': 637, u'thick': 636, u'comfort': 635, u'interest': 632, u'reserv': 630, u'girl': 629, u'serious': 628, u'brunch': 626, u'bartend': 625, u'oliv': 624, u'ton': 621, u'rest': 619, u'deli': 617, u'stand': 616, u'entir': 616, u'stay': 614, u'weekend': 611, u'card': 610, u'rare': 609, u'given': 607, u'money': 601, u'mall': 601, u'earli': 601, u'sound': 600, u'black': 599, u'gone': 598, u'month': 595, u'easi': 595, u'heard': 594, u'sort': 593, u'tuna': 592, u'mac': 591, u'man': 591, u'other': 586, u'greet': 585, u'american': 583, u'knew': 583, u'neighborhood': 583, u'short': 582, u'scottsdal': 579, u'glad': 579, u'smell': 579, u'mouth': 577, u'spinach': 577, u'music': 573, u'melt': 573, u'yum': 572, u'trip': 572, u'charg': 571, u'coupon': 569, u'salti': 566, u'wow': 565, u'ambianc': 561, u'meet': 558, u'across': 558, u'mine': 558, u'empti': 555, u'kept': 553, u'box': 550, u'pass': 549, u'oil': 549, u'school': 548, u'crisp': 547, u'ladi': 547, u'creami': 547, u'togeth': 542, u'satisfi': 541, u'gravi': 536, u'chop': 536, u'unfortun': 532, u'treat': 529, u'five': 528, u'n': 526, u'heat': 525, u'vegetarian': 525, u'pull': 524, u'waffl': 524, u'bun': 523, u'eye': 523, u'remind': 523, u'extrem': 521, u'behind': 520, u'anyon': 520, u'spring': 519, u'gyro': 518, u'lo': 517, u'seen': 517, u'combin': 516, u'tofu': 515, u'build': 513, u'job': 512, u'expens': 510, u'deliv': 510, u'case': 509, u'margarita': 509, u'rush': 508, u'kinda': 507, u'car': 507, u'buck': 507, u'split': 506, u'smoke': 506, u'low': 506, u'chose': 505, u'cafe': 503, u'homemad': 503, u'twice': 503, u'photo': 503, u'orang': 500, u'mash': 499, u'immedi': 498, u'honey': 497, u'asian': 496, u'dark': 494, u'figur': 493, u'compar': 492, u'excit': 489, u'hate': 486, u'yeah': 485, u'blue': 485, u'receiv': 483, u'rock': 482, u'number': 481, u'weird': 481, u'event': 481, u'exactli': 481, u'soda': 480, u'tradit': 480, u'idea': 475, u'charlott': 474, u'issu': 470, u'write': 467, u'drop': 466, u'space': 465, u'slightli': 465, u'establish': 464, u'textur': 463, u'incred': 462, u'whatev': 462, u'mostli': 461, u'ham': 460, u'origin': 459, u'addit': 457, u'mood': 456, u'hear': 456, u'biscuit': 456, u'buy': 455, u'life': 454, u'tv': 452, u'kick': 452, u'sport': 450, u'pita': 450, u'world': 447, u'omelet': 447, u'middl': 446, u'cooki': 445, u'duck': 445, u'chile': 445, u'plan': 445, u'crazi': 444, u'understand': 444, u'corner': 444, u'club': 444, u'realiz': 443, u'com': 441, u'uniqu': 441, u'hostess': 440, u'opt': 437, u'liter': 437, u'employe': 437, u'hubbi': 434, u'fairli': 433, u'matter': 433, u'b': 433, u'filet': 433, u'avail': 432, u'citi': 431, u'th': 431, u'pickl': 431, u'healthi': 430, u'complaint': 430, u'juici': 429, u'goe': 429, u'appl': 428, u'possibl': 428, u'word': 427, u'ranch': 426, u'boyfriend': 425, u'appreci': 424, u'fruit': 423, u'hang': 422, u'deliveri': 422, u'honestli': 422, u'casual': 422, u'taken': 421, u'valu': 420, u'due': 420, u'deep': 420, u'request': 420, u'beauti': 420, u'save': 419, u'window': 419, u'perhap': 418, u'updat': 417, u'upon': 417, u'scallop': 415, u'face': 415, u'provid': 414, u'cost': 413, u'dirti': 412, u'chanc': 412, u'non': 411, u'tini': 411, u'ring': 410, u'certainli': 410, u'forget': 409, u'crunchi': 408, u'app': 406, u'center': 406, u'lemon': 406, u'market': 406, u'fanci': 406, u'limit': 403, u'fix': 402, u'spend': 402, u'view': 402, u'bell': 399, u'pot': 398, u'meatbal': 398, u'easili': 397, u'avocado': 396, u'suppos': 395, u'classic': 395, u'folk': 394, u'pad': 393, u'broth': 392, u'pleasant': 392, u'highli': 392, u'present': 391, u'downtown': 391, u'tonight': 390, u'chicago': 390, u'smile': 389, u'level': 386, u'korean': 385, u'despit': 384, u'pictur': 383, u'fair': 383, u'heavi': 381, u'calamari': 381, u'c': 381, u'sampl': 379, u'e': 376, u'unless': 376, u'sorri': 375, u'step': 375, u'touch': 374, u'frozen': 374, u'loud': 373, u'forward': 373, u'cocktail': 373, u'thru': 371, u'pop': 371, u'opinion': 371, u'hash': 369, u'hole': 369, u'bag': 369, u'damn': 368, u'terribl': 367, u'longer': 367, u'min': 366, u'dive': 366, u'broccoli': 365, u'rich': 364, u'cheesecak': 364, u'doubl': 364, u'speak': 364, u'pricey': 363, u'lol': 363, u'cash': 362, u'plain': 362, u'daughter': 361, u'patron': 361, u'appar': 361, u'load': 360, u'south': 359, u'dollar': 359, u'moist': 359, u'frequent': 358, u'true': 358, u'afternoon': 356, u'cute': 356, u'strawberri': 356, u'within': 356, u'offic': 355, u'bf': 354, u'occas': 354, u'book': 354, u'floor': 353, u'agre': 353, u'somewher': 352, u'conveni': 352, u'mediocr': 351, u'welcom': 350, u'teriyaki': 350, u'color': 350, u'http': 349, u'version': 348, u'ball': 348, u'imagin': 347, u'shot': 347, u'bottom': 346, u'simpli': 346, u'appear': 345, u'jalapeno': 345, u'beat': 345, u'gotten': 344, u'hold': 343, u'suck': 343, u'similar': 342, u'carn': 342, u'carrot': 341, u'complain': 340, u'mustard': 340, u'sad': 340, u'greek': 339, u'prime': 339, u'round': 338, u'platter': 338, u'alon': 338, u'www': 337, u'truli': 337, u'p': 336, u'contain': 336, u'japanes': 335, u'leftov': 335, u'de': 334, u'paid': 334, u'bare': 334, u'babi': 333, u'ahead': 333, u'worker': 333, u'nacho': 332, u'banana': 332, u'basil': 330, u'follow': 330, u'countri': 330, u'steam': 330, u'continu': 329, u'worst': 327, u'road': 327, u'outstand': 327, u'enter': 326, u'overli': 326, u'singl': 324, u'chipotl': 323, u'fat': 323, u'yelper': 322, u'asada': 322, u'anywher': 322, u'bathroom': 322, u'boy': 321, u'question': 321, u'awhil': 321, u'smaller': 319, u'explain': 319, u'guacamol': 319, u'heart': 318, u'mayo': 318, u'eggplant': 317, u'station': 316, u'meh': 314, u'odd': 314, u'peanut': 313, u'st': 313, u'batter': 312, u'chewi': 310, u'sugar': 309, u'monday': 308, u'outdoor': 307, u'state': 307, u'biz': 307, u'tuesday': 306, u'chair': 305, u'strong': 305, u'forgot': 304, u'mess': 304, u'cozi': 304, u'poor': 302, u'becom': 302, u'met': 302, u'na': 302, u'shred': 302, u'pepperoni': 302, u'cuisin': 301, u'break': 301, u'desert': 301, u'mozzarella': 299, u'particular': 299, u'interior': 298, u'popular': 297, u'bunch': 297, u'shell': 297, u'forev': 296, u'hell': 295, u'tough': 295, u'delish': 294, u'pittsburgh': 291, u'mini': 291, u'garden': 290, u'otherwis': 290, u'coke': 289, u'admit': 289, u'fare': 288, u'fall': 288, u'somewhat': 288, u'phone': 288, u'buffalo': 287, u'lamb': 287, u'soggi': 287, u'futur': 287, u'effici': 286, u'coconut': 286, u'aw': 286, u'summer': 286, u'daili': 286, u'horribl': 285, u'gross': 284, u'delight': 284, u'known': 284, u'yesterday': 284, u'east': 283, u'young': 282, u'section': 281, u'co': 281, u'fajita': 281, u'hey': 280, u'convers': 279, u'celebr': 279, u'chunk': 279, u'hummu': 277, u'arizona': 277, u'fire': 276, u'avoid': 276, u'caesar': 276, u'ravioli': 276, u'mcdonald': 275, u'none': 274, u'bone': 274, u'die': 273, u'surprisingli': 272, u'throw': 272, u'nearli': 272, u'spaghetti': 271, u'describ': 271, u'paper': 270, u'begin': 270, u'heaven': 269, u'nearbi': 267, u'flat': 267, u'skip': 267, u'per': 267, u'juic': 267, u'credit': 267, u'indian': 267, u'compani': 266, u'complimentari': 266, u'specialti': 266, u'cheesi': 266, u'parmesan': 265, u'clear': 265, u'cucumb': 264, u'relax': 263, u'pub': 263, u'son': 263, u'gem': 261, u'girlfriend': 261, u'throughout': 260, u'slaw': 260, u'own': 259, u'jack': 258, u'vietnames': 258, u'quesadilla': 258, u'mild': 257, u'dim': 257, u'lime': 257, u'pre': 256, u'allow': 255, u'brew': 254, u'overcook': 254, u'breast': 254, u'bother': 254, u'tap': 254, u'sum': 253, u'funni': 253, u'ten': 253, u'york': 253, u'chow': 252, u'afford': 252, u'tamal': 252, u'post': 252, u'alright': 252, u'accommod': 251, u'oz': 251, u'shake': 251, u'basket': 250, u'muffin': 250, u'featur': 249, u'accompani': 249, u'cowork': 248, u'beverag': 248, u'tend': 247, u'belli': 247, u'syrup': 247, u'fit': 246, u'mother': 246, u'separ': 245, u'notch': 245, u'cheddar': 243, u'pud': 243, u'diet': 243, u'martini': 243, u'overpr': 243, u'rave': 243, u'patti': 242, u'rude': 242, u'anymor': 242, u'north': 241, u'fabul': 241, u'wonton': 241, u'import': 240, u'sister': 240, u'caus': 240, u'movi': 240, u'takeout': 240, u'cinnamon': 239, u'older': 239, u'pile': 239, u'dad': 239, u'elsewher': 238, u'gift': 238, u'rang': 237, u'calori': 236, u'skin': 236, u'moment': 236, u'ta': 236, u'improv': 235, u'inform': 235, u'obvious': 235, u'stori': 234, u'ground': 234, u'promptli': 234, u'mistak': 233, u'larger': 233, u'clearli': 233, u'central': 233, u'fork': 233, u'particularli': 233, u'tempura': 233, u'annoy': 233, u'entertain': 232, u'hidden': 232, u'doubt': 232, u'straight': 232, u'pour': 231, u'parent': 231, u'difficult': 230, u'cabbag': 230, u'comment': 230, u'mein': 230, u'sun': 229, u'slider': 229, u'greas': 229, u'clam': 228, u'guest': 228, u'bore': 227, u'ridicul': 227, u'handl': 227, u'age': 227, u'confus': 226, u'wors': 226, u'mile': 226, u'memori': 226, u'english': 226, u'posit': 225, u'sesam': 225, u'sashimi': 225, u'vanilla': 225, u'onlin': 224, u'previou': 224, u'learn': 223, u'stomach': 223, u'product': 223, u'vibe': 223, u'california': 223, u'bruschetta': 222, u'cherri': 222, u'al': 222, u'brisket': 222, u'depend': 222, u'oven': 222, u'dozen': 221, u'finger': 221, u'sens': 221, u'ny': 221, u'wood': 221, u'apart': 220, u'board': 220, u'spectacular': 220, u'denni': 219, u'strang': 219, u'artichok': 219, u'closer': 219, u'alcohol': 218, u'giant': 218, u'refresh': 218, u'island': 217, u'fluffi': 217, u'balanc': 217, u'apolog': 217, u'charm': 216, u'marinara': 216, u'host': 216, u'count': 215, u'pineappl': 215, u'pecan': 215, u'macaroni': 215, u'west': 214, u'burn': 214, u'god': 214, u'warn': 214, u'express': 213, u'groupon': 213, u'major': 213, u'pesto': 212, u'savori': 212, u'invit': 212, u'variou': 211, u'bud': 211, u'everywher': 210, u'higher': 210, u'subway': 210, u'spent': 210, u'whip': 210, u'golden': 209, u'worri': 209, u'par': 209, u'pleasantli': 208, u'flour': 208, u'darn': 207, u'pan': 207, u'regist': 207, u'extens': 206, u'weather': 206, u'az': 206, u'deserv': 206, u'theme': 205, u'carri': 205, u'bigger': 205, u'peak': 205, u'oyster': 205, u'hawaiian': 204, u'snack': 204, u'pair': 204, u'goat': 203, u'polit': 203, u'sell': 202, u'toward': 202, u'thursday': 202, u'hamburg': 202, u'answer': 202, u'raw': 202, u'factor': 201, u'band': 201, u'inexpens': 201, u'pastrami': 201, u'lover': 201, u'assum': 200, u'steakhous': 200, u'overwhelm': 199, u'tart': 199, u'fountain': 199, u'cashier': 199, u'mr': 198, u'gon': 198, u'whenev': 198, u'six': 198, u'chill': 197, u'colleg': 197, u'freshli': 197, u'ass': 196, u'rel': 196, u'pool': 195, u'sake': 195, u'luckili': 195, u'layer': 195, u'win': 195, u'quiet': 194, u'accept': 194, u'pound': 194, u'groceri': 194, u'asparagu': 194, u'lost': 193, u'stuck': 193, u'omelett': 193, u'milk': 193, u'cater': 192, u'machin': 192, u'woman': 192, u'wear': 192, u'vinegar': 192, u'ayc': 192, u'ginger': 191, u'pastri': 191, u'besid': 191, u'yellow': 191, u'nut': 191, u'dont': 191, u'beyond': 191, u'process': 190, u'g': 190, u'napkin': 190, u'wheat': 189, u'correct': 189, u'soy': 188, u'bomb': 188, u'wild': 188, u'sick': 188, u'john': 187, u'certain': 187, u'sprout': 187, u'fatti': 186, u'experienc': 186, u'crap': 186}\n",
    "    #smaller\n",
    "    #required_features = {u'good': 20624, u'food': 17687, u'place': 17212, u'like': 14958, u'order': 14055, u'time': 11385, u'get': 11230, u'go': 11066, u'one': 10594, u'great': 9093, u'realli': 8709, u'servic': 8361, u'tri': 7686, u'chicken': 7556, u'back': 7295, u'would': 7039, u'restaur': 6513, u'come': 6247, u'also': 6075, u'love': 6066, u'menu': 6044, u'sauc': 5797, u'lunch': 5745, u'salad': 5741, u'eat': 5732, u'fri': 5714, u'littl': 5688, u'got': 5636, u'even': 5635, u'nice': 5556, u'chees': 5481, u'well': 5477, u'pretti': 5356, u'want': 5338, u'alway': 5194, u'look': 5054, u'make': 4997, u'tabl': 4820, u'came': 4791, u'tast': 4784, u'much': 4656, u'pizza': 4614, u'us': 4553, u'think': 4494, u'meal': 4446, u'bar': 4403, u'wait': 4382, u'know': 4376, u'drink': 4343, u'price': 4337, u'flavor': 4256, u'thing': 4253, u'best': 4222, u'sandwich': 4191, u'dish': 4141, u'say': 3952, u'side': 3931, u'better': 3931, u'serv': 3752, u'star': 3743, u'fresh': 3733, u'night': 3718, u'locat': 3717, u'dinner': 3700, u'could': 3673, u'take': 3670, u'delici': 3602, u'went': 3574, u'two': 3562, u'first': 3559, u'special': 3541, u'never': 3541, u'lot': 3505, u'enjoy': 3476, u'way': 3467, u'peopl': 3447, u'day': 3443, u'friend': 3440, u'sinc': 3423, u'right': 3400, u'bread': 3338, u'still': 3329, u'ask': 3299, u'hot': 3264, u'made': 3207, u'bit': 3192, u'friendli': 3134, u'soup': 3091, u'rice': 3039, u'year': 3016, u'sure': 2991, u'seem': 2983, u'bad': 2941, u'top': 2936, u'meat': 2919, u'though': 2912, u'give': 2902, u'someth': 2873, u'server': 2870, u'definit': 2859, u'review': 2844, u'burger': 2838, u'cook': 2813, u'see': 2789, u'around': 2780, u'use': 2774, u'roll': 2765, u'beef': 2647, u'said': 2645, u'small': 2643, u'last': 2635, u'favorit': 2629, u'visit': 2606, u'area': 2580, u'big': 2579, u'tasti': 2571, u'seat': 2558, u'need': 2546, u'mani': 2518, u'feel': 2510, u'sweet': 2494, u'breakfast': 2487, u'work': 2481, u'hour': 2455, u'egg': 2444, u'everyth': 2442, u'experi': 2435, u'next': 2427, u'plate': 2385, u'ok': 2377, u'minut': 2338, u'happi': 2307, u'potato': 2307, u'usual': 2306, u'busi': 2290, u'find': 2284, u'anoth': 2274, u'noth': 2264, u'long': 2256, u'ever': 2251, u'enough': 2242, u'taco': 2238, u'dine': 2222, u'staff': 2220, u'decid': 2191, u'took': 2183, u'steak': 2177, u'home': 2171, u'shrimp': 2167, u'beer': 2145, u'stop': 2116, u'larg': 2105, u'start': 2097, u'everi': 2095, u'walk': 2075, u'expect': 2048, u'new': 2044, u'bean': 2029, u'differ': 2024, u'grill': 2002, u'chip': 1996, u'sushi': 1994, u'check': 1985, u'reason': 1973, u'perfect': 1970, u'spici': 1962, u'item': 1960, u'wine': 1957, u'kind': 1951, u'offer': 1939, u'thought': 1934, u'actual': 1932, u'portion': 1928, u'probabl': 1917, u'mayb': 1914, u'spot': 1894, u'huge': 1892, u'old': 1884, u'fish': 1881, u'decent': 1878, u'end': 1866, u'cream': 1865, u'salsa': 1845, u'onion': 1844, u'sit': 1830, u'full': 1829, u'amaz': 1807, u'fast': 1807, u'howev': 1799, u'dessert': 1797, u'select': 1784, u'quit': 1777, u'qualiti': 1774, u'hous': 1744, u'half': 1726, u'option': 1724, u'insid': 1718, u'park': 1698, u'awesom': 1689, u'green': 1674, u'call': 1667, u'mexican': 1663, u'close': 1631, u'choic': 1617, u'pork': 1611, u'open': 1593, u'red': 1589, u'slice': 1566, u'super': 1564, u'appet': 1560, u'away': 1558, u'recommend': 1551, u'waitress': 1545, u'disappoint': 1544, u'fan': 1533, u'tomato': 1523, u'excel': 1516, u'put': 1511, u'chines': 1506, u'let': 1498, u'anyth': 1491, u'fill': 1490, u'coupl': 1488, u'entre': 1487, u'overal': 1478, u'pasta': 1478, u'ice': 1458, u'famili': 1458, u'almost': 1451, u'thai': 1451, u'worth': 1450, u'clean': 1446, u'els': 1433, u'style': 1427, u'town': 1421, u'size': 1409, u'italian': 1395, u'arriv': 1394, u'veggi': 1391, u'live': 1390, u'drive': 1387, u'quick': 1381, u'week': 1368, u'atmospher': 1357, u'oh': 1352, u'bite': 1348, u'room': 1339, u'hard': 1333, u'left': 1329, u'person': 1328, u'found': 1327, u'cours': 1323, u'burrito': 1320, u'three': 1306, u'yelp': 1304, u'least': 1298, u'wing': 1293, u'pick': 1289, u'outsid': 1289, u'part': 1287, u'noodl': 1277, u'final': 1277, u'husband': 1259, u'light': 1257, u'wonder': 1256, u'rememb': 1255, u'return': 1254, u'tea': 1249, u'either': 1248, u'help': 1246, u'water': 1244, u'bring': 1240, u'kid': 1238, u'piec': 1232, u'gener': 1232, u'includ': 1231, u'may': 1226, u'bacon': 1223, u'pepper': 1221, u'ye': 1218, u'mean': 1217, u'cheap': 1216, u'without': 1215, u'line': 1198, u'free': 1198, u'impress': 1191, u'bowl': 1190, u'tell': 1183, u'white': 1175, u'high': 1173, u'told': 1172, u'sever': 1167, u'keep': 1164, u'custom': 1161, u'chang': 1156, u'everyon': 1156, u'today': 1150, u'point': 1138, u'crispi': 1137, u'far': 1136, u'especi': 1133, u'brought': 1128, u'whole': 1125, u'dress': 1118, u'might': 1117, u'deal': 1110, u'name': 1110, u'regular': 1101, u'share': 1100, u'guy': 1096, u'less': 1089, u'late': 1085, u'mix': 1084, u'cool': 1084, u'dip': 1084, u'coffe': 1083, u'waiter': 1076, u'hand': 1074, u'extra': 1074, u'ate': 1073, u'guess': 1072, u'must': 1068, u'okay': 1067, u'manag': 1067, u'garlic': 1067, u'decor': 1065, u'surpris': 1057, u'averag': 1055, u'instead': 1053, u'real': 1050, u'group': 1050, u'pay': 1049, u'bbq': 1043, u'crowd': 1041, u'fine': 1041, u'fun': 1039, u'parti': 1037, u'cold': 1033, u'dri': 1033, u'leav': 1033, u'season': 1030, u'cake': 1024, u'chain': 1022, u'although': 1019, u'chocol': 1013, u'glass': 1013, u'door': 1006, u'plenti': 1006, u'run': 1003, u'warm': 1002, u'done': 999, u'care': 989, u'attent': 987, u'sometim': 983, u'local': 982, u'chili': 976, u'wrong': 975, u'pie': 973, u'wall': 969, u'pack': 964, u'amount': 964, u'mushroom': 960, u'type': 959, u'dog': 957, u'game': 955, u'sat': 955, u'pm': 955, u'past': 954, u'phoenix': 954, u'crust': 953, u'shop': 950, u'consist': 947, u'stuff': 946, u'watch': 946, u'gave': 945, u'second': 945, u'hit': 945, u'total': 943, u'finish': 941, u'head': 938, u'yummi': 936, u'sunday': 934, u'patio': 934, u'perfectli': 932, u'miss': 931, u'wife': 927, u'plu': 927, u'pancak': 926, u'street': 924, u'french': 924, u'notic': 923, u'someon': 922, u'quickli': 922, u'yet': 919, u'list': 919, u'ago': 917, u'fact': 916, u'sausag': 910, u'thank': 905, u'rib': 897, u'crave': 896, u'buffet': 894, u'cut': 892, u'crab': 889, u'toast': 884, u'show': 880, u'prepar': 863, u'w': 861, u'anyway': 857, u'recent': 854, u'talk': 854, u'tender': 849, u'wish': 849, u'butter': 846, u'owner': 838, u'corn': 830, u'often': 828, u'tortilla': 822, u'hope': 821, u'add': 820, u'counter': 814, u'front': 811, u'mind': 810, u'ad': 807, u'turn': 805, u'kitchen': 804, u'saturday': 804, u'later': 803, u'slow': 802, u'fantast': 801, u'typic': 796, u'lettuc': 795, u'bake': 792, u'lack': 791, u'authent': 787, u'wrap': 786, u'move': 784, u'pho': 783, u'soon': 780, u'felt': 779, u'four': 769, u'tip': 769, u'bagel': 764, u'happen': 762, u'strip': 756, u'rather': 751, u'pleas': 750, u'basic': 749, u'date': 749, u'seafood': 749, u'grab': 745, u'eaten': 743, u'set': 741, u'mom': 741, u'lobster': 739, u'hungri': 739, u'friday': 737, u'mention': 735, u'saw': 735, u'suggest': 734, u'stuf': 730, u'greasi': 723, u'normal': 723, u'joint': 722, u'veget': 722, u'bill': 721, u'soft': 719, u'diner': 717, u'curri': 717, u'varieti': 716, u'abl': 715, u'refil': 714, u'read': 714, u'spice': 712, u'bland': 712, u'thin': 712, u'roast': 711, u'problem': 710, u'standard': 710, u'combo': 708, u'bottl': 706, u'sign': 703, u'believ': 703, u'complet': 702, u'along': 702, u'choos': 699, u'alreadi': 698, u'enchilada': 697, u'solid': 696, u'base': 695, u'turkey': 694, u'vega': 694, u'absolut': 691, u'readi': 691, u'salmon': 691, u'brown': 691, u'sour': 689, u'birthday': 687, u'rate': 686, u'ingredi': 682, u'prefer': 682, u'play': 679, u'la': 678, u'stick': 677, u'except': 674, u'chef': 674, u'morn': 671, u'sub': 670, u'salt': 667, u'booth': 665, u'cover': 664, u'main': 663, u'etc': 661, u'cup': 660, u'store': 654, u'simpl': 651, u'medium': 647, u'note': 644, u'consid': 639, u'near': 639, u'valley': 637, u'thick': 636, u'comfort': 635, u'interest': 632, u'reserv': 630, u'girl': 629, u'serious': 628, u'brunch': 626, u'bartend': 625, u'oliv': 624, u'ton': 621, u'rest': 619, u'deli': 617, u'stand': 616, u'entir': 616, u'stay': 614, u'weekend': 611, u'card': 610, u'rare': 609, u'given': 607, u'money': 601, u'mall': 601, u'earli': 601, u'sound': 600, u'black': 599, u'gone': 598, u'month': 595, u'easi': 595, u'heard': 594, u'sort': 593, u'tuna': 592, u'mac': 591, u'man': 591, u'other': 586, u'greet': 585, u'american': 583, u'knew': 583, u'neighborhood': 583, u'short': 582, u'scottsdal': 579, u'glad': 579, u'smell': 579, u'mouth': 577, u'spinach': 577, u'music': 573, u'melt': 573, u'yum': 572, u'trip': 572, u'charg': 571, u'coupon': 569, u'salti': 566, u'wow': 565, u'ambianc': 561, u'meet': 558, u'across': 558, u'mine': 558, u'empti': 555, u'kept': 553, u'box': 550, u'pass': 549, u'oil': 549, u'school': 548, u'crisp': 547, u'ladi': 547, u'creami': 547, u'togeth': 542, u'satisfi': 541, u'gravi': 536, u'chop': 536, u'unfortun': 532, u'treat': 529, u'five': 528, u'n': 526, u'heat': 525, u'vegetarian': 525, u'pull': 524, u'waffl': 524, u'bun': 523, u'eye': 523, u'remind': 523, u'extrem': 521, u'behind': 520, u'anyon': 520, u'spring': 519, u'gyro': 518, u'lo': 517, u'seen': 517, u'combin': 516, u'tofu': 515, u'build': 513, u'job': 512, u'expens': 510, u'deliv': 510, u'case': 509, u'margarita': 509, u'rush': 508, u'kinda': 507, u'car': 507, u'buck': 507, u'split': 506, u'smoke': 506, u'low': 506, u'chose': 505, u'cafe': 503, u'homemad': 503, u'twice': 503, u'photo': 503, u'orang': 500, u'mash': 499, u'immedi': 498, u'honey': 497, u'asian': 496, u'dark': 494, u'figur': 493, u'compar': 492, u'excit': 489, u'hate': 486, u'yeah': 485, u'blue': 485, u'receiv': 483, u'rock': 482, u'number': 481, u'weird': 481, u'event': 481, u'exactli': 481, u'soda': 480, u'tradit': 480, u'idea': 475, u'charlott': 474, u'issu': 470, u'write': 467, u'drop': 466, u'space': 465, u'slightli': 465, u'establish': 464, u'textur': 463, u'incred': 462, u'whatev': 462, u'mostli': 461, u'ham': 460, u'origin': 459, u'addit': 457, u'mood': 456, u'hear': 456, u'biscuit': 456, u'buy': 455, u'life': 454, u'tv': 452, u'kick': 452, u'sport': 450, u'pita': 450, u'world': 447, u'omelet': 447, u'middl': 446, u'cooki': 445, u'duck': 445, u'chile': 445, u'plan': 445, u'crazi': 444, u'understand': 444, u'corner': 444, u'club': 444, u'realiz': 443, u'com': 441, u'uniqu': 441, u'hostess': 440, u'opt': 437, u'liter': 437, u'employe': 437, u'hubbi': 434, u'fairli': 433, u'matter': 433, u'b': 433, u'filet': 433, u'avail': 432, u'citi': 431, u'th': 431, u'pickl': 431, u'healthi': 430, u'complaint': 430, u'juici': 429, u'goe': 429, u'appl': 428, u'possibl': 428, u'word': 427, u'ranch': 426, u'boyfriend': 425, u'appreci': 424, u'fruit': 423, u'hang': 422, u'deliveri': 422, u'honestli': 422, u'casual': 422, u'taken': 421, u'valu': 420, u'due': 420, u'deep': 420, u'request': 420, u'beauti': 420, u'save': 419, u'window': 419, u'perhap': 418, u'updat': 417, u'upon': 417, u'scallop': 415, u'face': 415, u'provid': 414, u'cost': 413, u'dirti': 412, u'chanc': 412, u'non': 411, u'tini': 411, u'ring': 410, u'certainli': 410, u'forget': 409, u'crunchi': 408, u'app': 406, u'center': 406, u'lemon': 406, u'market': 406, u'fanci': 406, u'limit': 403, u'fix': 402, u'spend': 402, u'view': 402, u'bell': 399, u'pot': 398, u'meatbal': 398, u'easili': 397, u'avocado': 396, u'suppos': 395, u'classic': 395, u'folk': 394, u'pad': 393, u'broth': 392, u'pleasant': 392, u'highli': 392}#, u'present': 391, u'downtown': 391, u'tonight': 390, u'chicago': 390, u'smile': 389, u'level': 386, u'korean': 385, u'despit': 384, u'pictur': 383, u'fair': 383, u'heavi': 381, u'calamari': 381, u'c': 381, u'sampl': 379, u'e': 376, u'unless': 376, u'sorri': 375, u'step': 375, u'touch': 374, u'frozen': 374, u'loud': 373, u'forward': 373, u'cocktail': 373, u'thru': 371, u'pop': 371, u'opinion': 371, u'hash': 369, u'hole': 369, u'bag': 369, u'damn': 368, u'terribl': 367, u'longer': 367, u'min': 366, u'dive': 366, u'broccoli': 365, u'rich': 364, u'cheesecak': 364, u'doubl': 364, u'speak': 364, u'pricey': 363, u'lol': 363, u'cash': 362, u'plain': 362, u'daughter': 361, u'patron': 361, u'appar': 361, u'load': 360, u'south': 359, u'dollar': 359, u'moist': 359, u'frequent': 358, u'true': 358, u'afternoon': 356, u'cute': 356, u'strawberri': 356, u'within': 356, u'offic': 355, u'bf': 354, u'occas': 354, u'book': 354, u'floor': 353, u'agre': 353, u'somewher': 352, u'conveni': 352, u'mediocr': 351, u'welcom': 350, u'teriyaki': 350, u'color': 350, u'http': 349, u'version': 348, u'ball': 348, u'imagin': 347, u'shot': 347, u'bottom': 346, u'simpli': 346, u'appear': 345, u'jalapeno': 345, u'beat': 345, u'gotten': 344, u'hold': 343, u'suck': 343, u'similar': 342, u'carn': 342, u'carrot': 341, u'complain': 340, u'mustard': 340, u'sad': 340, u'greek': 339, u'prime': 339, u'round': 338, u'platter': 338, u'alon': 338, u'www': 337, u'truli': 337, u'p': 336, u'contain': 336, u'japanes': 335, u'leftov': 335, u'de': 334, u'paid': 334, u'bare': 334, u'babi': 333, u'ahead': 333, u'worker': 333, u'nacho': 332, u'banana': 332, u'basil': 330, u'follow': 330, u'countri': 330, u'steam': 330, u'continu': 329, u'worst': 327, u'road': 327, u'outstand': 327, u'enter': 326, u'overli': 326, u'singl': 324, u'chipotl': 323, u'fat': 323, u'yelper': 322, u'asada': 322, u'anywher': 322, u'bathroom': 322, u'boy': 321, u'question': 321, u'awhil': 321, u'smaller': 319, u'explain': 319, u'guacamol': 319, u'heart': 318, u'mayo': 318, u'eggplant': 317, u'station': 316, u'meh': 314, u'odd': 314, u'peanut': 313, u'st': 313, u'batter': 312, u'chewi': 310, u'sugar': 309, u'monday': 308, u'outdoor': 307, u'state': 307, u'biz': 307, u'tuesday': 306, u'chair': 305, u'strong': 305, u'forgot': 304, u'mess': 304, u'cozi': 304, u'poor': 302, u'becom': 302, u'met': 302, u'na': 302, u'shred': 302, u'pepperoni': 302, u'cuisin': 301, u'break': 301, u'desert': 301, u'mozzarella': 299, u'particular': 299, u'interior': 298, u'popular': 297, u'bunch': 297, u'shell': 297, u'forev': 296, u'hell': 295, u'tough': 295, u'delish': 294, u'pittsburgh': 291, u'mini': 291, u'garden': 290, u'otherwis': 290, u'coke': 289, u'admit': 289, u'fare': 288, u'fall': 288, u'somewhat': 288, u'phone': 288, u'buffalo': 287, u'lamb': 287, u'soggi': 287, u'futur': 287, u'effici': 286, u'coconut': 286, u'aw': 286, u'summer': 286, u'daili': 286, u'horribl': 285, u'gross': 284, u'delight': 284, u'known': 284, u'yesterday': 284, u'east': 283, u'young': 282, u'section': 281, u'co': 281, u'fajita': 281, u'hey': 280, u'convers': 279, u'celebr': 279, u'chunk': 279, u'hummu': 277, u'arizona': 277, u'fire': 276, u'avoid': 276, u'caesar': 276, u'ravioli': 276, u'mcdonald': 275, u'none': 274, u'bone': 274, u'die': 273, u'surprisingli': 272, u'throw': 272, u'nearli': 272, u'spaghetti': 271, u'describ': 271, u'paper': 270, u'begin': 270, u'heaven': 269, u'nearbi': 267, u'flat': 267, u'skip': 267, u'per': 267, u'juic': 267, u'credit': 267, u'indian': 267, u'compani': 266, u'complimentari': 266, u'specialti': 266, u'cheesi': 266, u'parmesan': 265, u'clear': 265, u'cucumb': 264, u'relax': 263, u'pub': 263, u'son': 263, u'gem': 261, u'girlfriend': 261, u'throughout': 260, u'slaw': 260, u'own': 259, u'jack': 258, u'vietnames': 258, u'quesadilla': 258, u'mild': 257, u'dim': 257, u'lime': 257, u'pre': 256, u'allow': 255, u'brew': 254, u'overcook': 254, u'breast': 254, u'bother': 254, u'tap': 254, u'sum': 253, u'funni': 253, u'ten': 253, u'york': 253, u'chow': 252, u'afford': 252, u'tamal': 252, u'post': 252, u'alright': 252, u'accommod': 251, u'oz': 251, u'shake': 251, u'basket': 250, u'muffin': 250, u'featur': 249, u'accompani': 249, u'cowork': 248, u'beverag': 248, u'tend': 247, u'belli': 247, u'syrup': 247, u'fit': 246, u'mother': 246, u'separ': 245, u'notch': 245, u'cheddar': 243, u'pud': 243, u'diet': 243, u'martini': 243, u'overpr': 243, u'rave': 243, u'patti': 242, u'rude': 242, u'anymor': 242, u'north': 241, u'fabul': 241, u'wonton': 241, u'import': 240, u'sister': 240, u'caus': 240, u'movi': 240, u'takeout': 240, u'cinnamon': 239, u'older': 239, u'pile': 239, u'dad': 239, u'elsewher': 238, u'gift': 238, u'rang': 237, u'calori': 236, u'skin': 236, u'moment': 236, u'ta': 236, u'improv': 235, u'inform': 235, u'obvious': 235, u'stori': 234, u'ground': 234, u'promptli': 234, u'mistak': 233, u'larger': 233, u'clearli': 233, u'central': 233, u'fork': 233, u'particularli': 233, u'tempura': 233, u'annoy': 233, u'entertain': 232, u'hidden': 232, u'doubt': 232, u'straight': 232, u'pour': 231, u'parent': 231, u'difficult': 230, u'cabbag': 230, u'comment': 230, u'mein': 230, u'sun': 229, u'slider': 229, u'greas': 229, u'clam': 228, u'guest': 228, u'bore': 227, u'ridicul': 227, u'handl': 227, u'age': 227, u'confus': 226, u'wors': 226, u'mile': 226, u'memori': 226, u'english': 226, u'posit': 225, u'sesam': 225, u'sashimi': 225, u'vanilla': 225, u'onlin': 224, u'previou': 224, u'learn': 223, u'stomach': 223, u'product': 223, u'vibe': 223, u'california': 223, u'bruschetta': 222, u'cherri': 222, u'al': 222, u'brisket': 222, u'depend': 222, u'oven': 222, u'dozen': 221, u'finger': 221, u'sens': 221, u'ny': 221, u'wood': 221, u'apart': 220, u'board': 220, u'spectacular': 220, u'denni': 219, u'strang': 219, u'artichok': 219, u'closer': 219, u'alcohol': 218, u'giant': 218, u'refresh': 218, u'island': 217, u'fluffi': 217, u'balanc': 217, u'apolog': 217, u'charm': 216, u'marinara': 216, u'host': 216, u'count': 215, u'pineappl': 215, u'pecan': 215, u'macaroni': 215, u'west': 214, u'burn': 214, u'god': 214, u'warn': 214, u'express': 213, u'groupon': 213, u'major': 213, u'pesto': 212, u'savori': 212, u'invit': 212, u'variou': 211, u'bud': 211, u'everywher': 210, u'higher': 210, u'subway': 210, u'spent': 210, u'whip': 210, u'golden': 209, u'worri': 209, u'par': 209, u'pleasantli': 208, u'flour': 208, u'darn': 207, u'pan': 207, u'regist': 207, u'extens': 206, u'weather': 206, u'az': 206, u'deserv': 206, u'theme': 205, u'carri': 205, u'bigger': 205, u'peak': 205, u'oyster': 205, u'hawaiian': 204, u'snack': 204, u'pair': 204, u'goat': 203, u'polit': 203, u'sell': 202, u'toward': 202, u'thursday': 202, u'hamburg': 202, u'answer': 202, u'raw': 202, u'factor': 201, u'band': 201, u'inexpens': 201, u'pastrami': 201, u'lover': 201, u'assum': 200, u'steakhous': 200, u'overwhelm': 199, u'tart': 199, u'fountain': 199, u'cashier': 199, u'mr': 198, u'gon': 198, u'whenev': 198, u'six': 198, u'chill': 197, u'colleg': 197, u'freshli': 197, u'ass': 196, u'rel': 196, u'pool': 195, u'sake': 195, u'luckili': 195, u'layer': 195, u'win': 195, u'quiet': 194, u'accept': 194, u'pound': 194, u'groceri': 194, u'asparagu': 194, u'lost': 193, u'stuck': 193, u'omelett': 193, u'milk': 193, u'cater': 192, u'machin': 192, u'woman': 192, u'wear': 192, u'vinegar': 192, u'ayc': 192, u'ginger': 191, u'pastri': 191, u'besid': 191, u'yellow': 191, u'nut': 191, u'dont': 191, u'beyond': 191, u'process': 190, u'g': 190, u'napkin': 190, u'wheat': 189, u'correct': 189, u'soy': 188, u'bomb': 188, u'wild': 188, u'sick': 188, u'john': 187, u'certain': 187, u'sprout': 187, u'fatti': 186, u'experienc': 186, u'crap': 186}\n",
    "    #required\n",
    "    #required_features = list(required_features.keys())#  = dict(required_features, **vocab)\n",
    "    #Adding top 150 bigrams\n",
    "    #required_features += vocab #Here vocab is obtained from the vectorizer when run only for top 150 bigrams. Can be obtaind from req_bigrams as well\n",
    "    #print len(required_features)\n",
    "    #all_features.update(bigrams_dict)\n",
    "    #print len(all_features)\n",
    "    #all_features= Counter(all_features)\n",
    "    #best_words = all_features.keys()\n",
    "    all_features = {}\n",
    "    \n",
    "    \n",
    "    #print all_features#.values()\n",
    "    \n",
    "    new_vocab = list(new_vocab)\n",
    "    for k in range(len(new_vocab)):\n",
    "        new_vocab[k]\n",
    "    print len(new_vocab)\n",
    "    print new_vocab\n",
    "    #Saving features\n",
    "    import pickle\n",
    "    i = 0\n",
    "    for bw in new_vocab:#required_features:\n",
    "        all_features[bw] = i\n",
    "        i += 1\n",
    "    \n",
    "    filehandler = open(\"features.obj\",\"wb\")\n",
    "    pickle.dump(all_features,filehandler)\n",
    "    filehandler.close()"
   ]
  },
  {
   "cell_type": "code",
   "execution_count": 108,
   "metadata": {
    "collapsed": false,
    "scrolled": true
   },
   "outputs": [
    {
     "name": "stdout",
     "output_type": "stream",
     "text": [
      "<type 'numpy.ndarray'>\n",
      "<type 'numpy.ndarray'>\n",
      "18323\n",
      "u <type 'list'>\n",
      "17325\n",
      "u <type 'list'>\n",
      "17900\n",
      "u <type 'list'>\n",
      "530\n",
      "['bottle wine', 'lunch special', 'good food', 'tucked away', 'really good', 'one favorite', 'seemed like', 'new favorite', 'quick bite', 'much better', 'one thing', 'probably best', 'capital grille', 'pretty sure', 'walking distance', 'pad thai', 'make sure', 'wine list', 'pizza hut', 'food always', 'sesame chicken', 'couple times', 'authentic mexican', 'waitress came', 'bar area', 'definitely recommend', 'staff always', 'seated right', 'years ago', 'time food', 'special occasion', 'mediocre best', 'three stars', 'chocolate cake', 'would return', 'cheese crisp', 'food really', 'lunch buffet', 'right next', 'friendly staff', 'hole wall', 'right away', 'saving grace', 'beans rice', 'gon na', 'service ok', 'one star', 'fast food', 'food arrived', 'good service', 'garlic bread', 'would recommend', 'chicken salad', 'place food', 'great meal', 'biz photos', 'good things', 'really bad', 'soup salad', 'place great', 'long time', 'get wrong', 'taste buds', 'dining area', 'thin crust', 'made reservations', 'mac cheese', 'bring us', 'sat bar', 'saturday night', 'let know', 'perfectly cooked', 'dining experience', 'give try', 'big burrito', 'go place', 'french toast', 'bean dip', 'home made', 'much food', 'would say', 'give place', 'good really', 'many people', 'fried chicken', 'would come', 'whole thing', 'waited waited', 'hot fresh', 'food pretty', 'brown rice', 'took drink', 'pretty average', 'greek salad', 'get something', 'like eating', 'stay away', 'five minutes', 'service friendly', 'would think', 'spring rolls', 'taste good', 'take home', 'blown away', 'going get', 'first time', 'good nothing', 'restaurant week', 'really nice', 'sushi bar', 'wait wait', 'mediocre food', 'service pretty', 'wanted go', 'could used', 'back soon', 'central phoenix', 'laid back', 'bite eat', 'meat sauce', 'good however', 'gluten free', 'get better', 'good experience', 'walked away', 'green chili', 'chicken wings', 'food even', 'wine bar', 'send back', 'drive thru', 'next time', 'minute wait', 'seems like', 'husband ordered', 'give us', 'service really', 'told us', 'time soon', 'really tasty', 'tex mex', 'got ta', 'waste time', 'small plates', 'stars food', 'went lunch', 'iced tea', 'whole time', 'tasted like', 'must try', 'gave us', 'could eat', 'nothing special', 'food never', 'fast friendly', 'wait go', 'good place', 'place ok', 'anywhere else', 'really love', 'behind counter', 'lobster bisque', 'well worth', 'one favorites', 'two stars', 'one worst', 'think would', 'items menu', 'year old', 'got home', 'good ordered', 'take drink', 'always fresh', 'even get', 'would probably', 'next door', 'spicy chicken', 'pretty cool', 'love love', 'sports bar', 'running around', 'bad service', 'even better', 'light rail', 'actually pretty', 'three times', 'chain restaurant', 'ice cream', 'chicken shrimp', 'never came', 'definitely come', 'lacked flavor', 'fried rice', 'chicken sandwich', 'mashed potatoes', 'one bite', 'pretty good', 'look forward', 'food great', 'chain restaurants', 'parking lot', 'nice enough', 'time got', 'ordered chicken', 'place take', 'http www', 'sub par', 'time ordered', 'would go', 'anytime soon', 'way better', 'part meal', 'took order', 'went back', 'placed order', 'never go', 'good quality', 'com biz', 'looked like', 'family owned', 'food go', 'ordered two', 'something like', 'big deal', 'new york', 'poor service', 'decided try', 'really really', 'pretty much', 'years since', 'tastes like', 'try place', 'since last', 'said would', 'needless say', 'late night', 'many times', 'sweet tomatoes', 'sweet potato', 'got chicken', 'would never', 'co workers', 'cheese pizza', 'salt pepper', 'yelp event', 'chips salsa', 'food came', 'drink orders', 'back food', 'last visit', 'hit spot', 'red pepper', 'first choice', 'spring roll', 'time come', 'miso soup', 'every bite', 'taking order', 'food amazing', 'best ever', 'house made', 'also came', 'never disappointed', 'yelp reviews', 'bbq sauce', 'food place', 'deep fried', 'food one', 'cole slaw', 'bad place', 'could use', 'time order', 'service bad', 'came table', 'yelp com', 'good amount', 'quick lunch', 'little place', 'per person', 'get good', 'always order', 'egg roll', 'salad bar', 'perfect place', 'feel like', 'grocery store', 'place gets', 'great spot', 'th street', 'place packed', 'entr e', 'sat us', 'little bit', 'really want', 'red wine', 'place go', 'used love', 'one time', 'sauce tasted', 'service good', 'place years', 'sour cream', 'time get', 'two people', 'grilled chicken', 'next day', 'chinese food', 'high end', 'probably go', 'bbq pork', 'glass wine', 'great food', 'super friendly', 'fresh delicious', 'give stars', 'going back', 'customer service', 'time came', 'around pm', 'bad experience', 'bad either', 'high quality', 'last week', 'took forever', 'lunch hour', 'main course', 'seem like', 'service great', 'rice beans', 'think place', 'last night', 'return factor', 'olive oil', 'across street', 'decent place', 'pretty standard', 'go get', 'good one', 'decided order', 'birthday dinner', 'bad food', 'like something', 'drink order', 'get back', 'lunch place', 'would better', 'excellent service', 'white rice', 'melt mouth', 'orange chicken', 'good sign', 'cream cheese', 'cooked perfection', 'food would', 'seated us', 'ever go', 'asian food', 'stars service', 'deep dish', 'place always', 'red sauce', 'like place', 'ordered food', 'potato fries', 'onion rings', 'brought us', 'hot sauce', 'wait staff', 'absolutely delicious', 'staff friendly', 'happy hour', 'looked good', 'wanted like', 'several times', 'italian beef', 'hot sour', 'service excellent', 'sweet sour', 'last time', 'also ordered', 'food food', 'damn good', 'would like', 'got food', 'red lobster', 'first place', 'credit card', 'food mediocre', 'quality food', 'downtown phoenix', 'strip mall', 'would take', 'french fries', 'food delicious', 'wanted try', 'slow service', 'looks like', 'phoenix area', 'everything else', 'egg rolls', 'average best', 'outdoor seating', 'hash browns', 'pei wei', 'egg drop', 'something else', 'experienced better', 'told would', 'sit bar', 'server came', 'eye contact', 'coming back', 'fish chips', 'also great', 'never bad', 'chicken good', 'food order', 'better places', 'would rather', 'side salad', 'well done', 'great little', 'five stars', 'places like', 'waited minutes', 'chinese restaurant', 'like one', 'good job', 'creme brulee', 'never return', 'live music', 'pretty bad', 'date night', 'dining room', 'love place', 'lunch today', 'best part', 'chicago dog', 'hard find', 'great time', 'place order', 'service food', 'next us', 'get pay', 'would order', 'decided go', 'time time', 'place eat', 'go back', 'friday night', 'always great', 'high school', 'place like', 'felt like', 'kind place', 'every time', 'find something', 'want try', 'food good', 'four stars', 'place good', 'good time', 'even though', 'definitely return', 'bar food', 'better food', 'red devil', 'blue cheese', 'good deal', 'keep coming', 'minutes get', 'one day', 'something different', 'came back', 'prices reasonable', 'home fries', 'better service', 'carne asada', 'highly recommend', 'many years', 'back try', 'could see', 'great experience', 'something new', 'bread pudding', 'place empty', 'one night', 'come back', 'food service', 'oh well', 'every day', 'fine dining', 'definitely back', 'finally came', 'favorite places', 'ten minutes', 'really like', 'feels like', 'place really', 'enjoyed meal', 'spicy tuna', 'mexican food', 'delicious food', 'medium rare', 'order food', 'menu items', 'say place', 'good thing', 'sauce good', 'want go', 'let start', 'tomato sauce', 'another minutes', 'www yelp', 'good reviews', 'get order', 'every single', 'go lunch', 'one person', 'looking forward', 'check us', 'chicken breast', 'ever tasted', 'food excellent', 'great flavor', 'could tell', 'thai food', 'prime rib', 'sent back', 'gone downhill']\n"
     ]
    }
   ],
   "source": [
    "feature_selection(labels_sample, np.array(data_sample_copy))"
   ]
  },
  {
   "cell_type": "markdown",
   "metadata": {},
   "source": [
    "End"
   ]
  },
  {
   "cell_type": "code",
   "execution_count": 503,
   "metadata": {
    "collapsed": false
   },
   "outputs": [
    {
     "data": {
      "text/plain": [
       "(20000, 942)"
      ]
     },
     "execution_count": 503,
     "metadata": {},
     "output_type": "execute_result"
    }
   ],
   "source": [
    "preprocessed_data_sample.shape"
   ]
  },
  {
   "cell_type": "code",
   "execution_count": 504,
   "metadata": {
    "collapsed": false
   },
   "outputs": [
    {
     "name": "stdout",
     "output_type": "stream",
     "text": [
      "<type 'list'>\n"
     ]
    }
   ],
   "source": [
    "data_labels\n",
    "print type(all_features.keys())"
   ]
  },
  {
   "cell_type": "code",
   "execution_count": null,
   "metadata": {
    "collapsed": true
   },
   "outputs": [],
   "source": []
  },
  {
   "cell_type": "markdown",
   "metadata": {},
   "source": [
    "Choosing 20000 samples from the entire data - Splitting into train and test"
   ]
  },
  {
   "cell_type": "code",
   "execution_count": 505,
   "metadata": {
    "collapsed": false
   },
   "outputs": [
    {
     "name": "stdout",
     "output_type": "stream",
     "text": [
      "20000\n",
      "14000\n",
      "6000\n",
      "6000 14000\n"
     ]
    }
   ],
   "source": [
    "#train_plus_test = (train_length + test_length) * 3#20000\n",
    "train_plus_test=20000\n",
    "print train_plus_test\n",
    "ratio = int(train_plus_test * 0.7)\n",
    "labels = labels_sample[0:train_plus_test]\n",
    "#print test_length\n",
    "#ratio = train_length * 3\n",
    "print ratio\n",
    "X_train = preprocessed_data_sample[0:ratio]\n",
    "y_train = labels_sample[0:ratio]\n",
    "X_test = preprocessed_data_sample[ratio:train_plus_test]\n",
    "print len(X_test)\n",
    "y_test = labels_sample[ratio:train_plus_test]\n",
    "print len(X_test), len(y_train)\n",
    "\n"
   ]
  },
  {
   "cell_type": "code",
   "execution_count": 506,
   "metadata": {
    "collapsed": false,
    "scrolled": true
   },
   "outputs": [
    {
     "data": {
      "text/plain": [
       "19"
      ]
     },
     "execution_count": 506,
     "metadata": {},
     "output_type": "execute_result"
    }
   ],
   "source": [
    "sum( X_train[2][200:] == 1)"
   ]
  },
  {
   "cell_type": "code",
   "execution_count": 507,
   "metadata": {
    "collapsed": false
   },
   "outputs": [
    {
     "name": "stdout",
     "output_type": "stream",
     "text": [
      "21876    5\n",
      "21877    5\n",
      "21878    4\n",
      "21879    5\n",
      "21880    3\n",
      "21881    2\n",
      "21882    5\n",
      "21883    5\n",
      "21884    5\n",
      "21885    5\n",
      "21886    4\n",
      "21887    4\n",
      "21888    5\n",
      "21889    4\n",
      "21890    4\n",
      "21891    3\n",
      "21892    5\n",
      "21893    5\n",
      "21894    4\n",
      "21895    3\n",
      "21896    5\n",
      "21897    5\n",
      "21898    3\n",
      "21899    5\n",
      "21900    3\n",
      "21901    4\n",
      "21902    4\n",
      "21903    5\n",
      "21904    5\n",
      "21905    5\n",
      "        ..\n",
      "32808    3\n",
      "32809    2\n",
      "32810    5\n",
      "32811    1\n",
      "32812    5\n",
      "32813    4\n",
      "32814    3\n",
      "32815    4\n",
      "32816    2\n",
      "32817    4\n",
      "32818    1\n",
      "32819    5\n",
      "32820    4\n",
      "32821    4\n",
      "32822    1\n",
      "32823    5\n",
      "32824    3\n",
      "32825    4\n",
      "32826    3\n",
      "32827    4\n",
      "32828    5\n",
      "32829    1\n",
      "32830    1\n",
      "32831    2\n",
      "32832    5\n",
      "32833    1\n",
      "32834    4\n",
      "32835    2\n",
      "32836    5\n",
      "32837    4\n",
      "Name: stars, dtype: int64 \n",
      "\n",
      "\n",
      "0        4\n",
      "1        5\n",
      "2        5\n",
      "3        3\n",
      "4        2\n",
      "5        1\n",
      "6        4\n",
      "17       5\n",
      "18       5\n",
      "19       5\n",
      "20       4\n",
      "21       5\n",
      "22       5\n",
      "23       4\n",
      "24       5\n",
      "25       5\n",
      "26       4\n",
      "27       5\n",
      "28       4\n",
      "29       4\n",
      "30       5\n",
      "31       5\n",
      "32       5\n",
      "33       5\n",
      "34       5\n",
      "35       5\n",
      "36       3\n",
      "37       5\n",
      "38       5\n",
      "39       4\n",
      "        ..\n",
      "21846    3\n",
      "21847    4\n",
      "21848    2\n",
      "21849    5\n",
      "21850    3\n",
      "21851    5\n",
      "21852    5\n",
      "21853    2\n",
      "21854    3\n",
      "21855    4\n",
      "21856    4\n",
      "21857    4\n",
      "21858    4\n",
      "21859    5\n",
      "21860    4\n",
      "21861    5\n",
      "21862    5\n",
      "21863    5\n",
      "21864    4\n",
      "21865    4\n",
      "21866    5\n",
      "21867    3\n",
      "21868    4\n",
      "21869    4\n",
      "21870    5\n",
      "21871    4\n",
      "21872    5\n",
      "21873    5\n",
      "21874    4\n",
      "21875    3\n",
      "Name: stars, dtype: int64\n"
     ]
    }
   ],
   "source": [
    "print y_test, \"\\n\\n\\n\",y_train"
   ]
  },
  {
   "cell_type": "code",
   "execution_count": 508,
   "metadata": {
    "collapsed": true
   },
   "outputs": [],
   "source": [
    "import numpy as np\n",
    "def train_w(X, y, no_classes, no_features):\n",
    "   \n",
    "    w = np.zeros((no_classes, no_features))\n",
    "    #index = 0\n",
    "    class1 = []\n",
    "    class2 = []\n",
    "    class3 = []\n",
    "    class4 = []\n",
    "    class5 = []\n",
    "    index=0\n",
    "    for i in y:\n",
    "        if i==1:\n",
    "            class1.append(index)\n",
    "        elif i==2:\n",
    "            class2.append(index)\n",
    "        elif i==3:\n",
    "            class3.append(index)\n",
    "        elif i==4:\n",
    "            class4.append(index)\n",
    "        else:\n",
    "            class5.append(index)\n",
    "        index=index+1\n",
    "            \n",
    "    labels = np.array([class1,class2,class3,class4,class5])\n",
    "    #print X[labels[0]]\n",
    "    total_class1= sum(sum(X[labels[0]]))\n",
    "    #print total_class1\n",
    "    total_class2= sum(sum(X[labels[1]]))\n",
    "    total_class3= sum(sum(X[labels[2]]))\n",
    "    #print total_class2\n",
    "    total_class4= sum(sum(X[labels[3]]))\n",
    "    total_class5= sum(sum(X[labels[4]]))\n",
    "  \n",
    "    #print np.sum(X[labels[0],:])\n",
    "    for i in range(no_features):\n",
    "        sum_freq1 = np.sum(X[labels[0],i])\n",
    "        sum_freq2 = np.sum(X[labels[1],i])\n",
    "        sum_freq3 = np.sum(X[labels[2],i])\n",
    "        sum_freq4 = np.sum(X[labels[3],i])\n",
    "        sum_freq5 = np.sum(X[labels[4],i])\n",
    "        w[0][i] = (sum_freq1 * 1.0) /   total_class1\n",
    "        w[1][i] = (sum_freq2 * 1.0) /   total_class2\n",
    "        w[2][i] = (sum_freq3 * 1.0) /   total_class3\n",
    "        w[3][i] = (sum_freq4 * 1.0) /   total_class4\n",
    "        w[4][i] = (sum_freq5 * 1.0) /   total_class5\n",
    "    return w"
   ]
  },
  {
   "cell_type": "code",
   "execution_count": 510,
   "metadata": {
    "collapsed": false
   },
   "outputs": [
    {
     "name": "stdout",
     "output_type": "stream",
     "text": [
      "[[  3.38578615e-04   1.01573584e-03   2.09596285e-04 ...,   1.11247259e-03\n",
      "    2.74087450e-04   3.38578615e-04]\n",
      " [  6.99752395e-04   8.07406610e-04   6.05554957e-04 ...,   1.62827000e-03\n",
      "    2.42221983e-04   4.70987189e-04]\n",
      " [  6.26101698e-04   1.39668840e-03   1.03065972e-03 ...,   2.42734812e-03\n",
      "    3.85293353e-05   6.26101698e-04]\n",
      " [  8.77772965e-04   9.91769454e-04   1.30525980e-03 ...,   3.76758396e-03\n",
      "    1.70994733e-05   4.95884727e-04]\n",
      " [  8.20538496e-04   7.85769915e-04   9.59612817e-04 ...,   4.38084112e-03\n",
      "    2.08611482e-05   2.57287494e-04]]\n"
     ]
    }
   ],
   "source": [
    "no_classes = 5\n",
    "no_features = 942\n",
    "\n",
    "w = train_w(X_train, y_train, no_classes, no_features)\n",
    "print w"
   ]
  },
  {
   "cell_type": "code",
   "execution_count": 511,
   "metadata": {
    "collapsed": false
   },
   "outputs": [
    {
     "name": "stdout",
     "output_type": "stream",
     "text": [
      "6000\n"
     ]
    }
   ],
   "source": [
    "print len(y_test)"
   ]
  },
  {
   "cell_type": "code",
   "execution_count": 512,
   "metadata": {
    "collapsed": false
   },
   "outputs": [
    {
     "name": "stdout",
     "output_type": "stream",
     "text": [
      "6000\n",
      "[[ 0.  0.  0.  0.  0.]\n",
      " [ 0.  0.  0.  0.  0.]\n",
      " [ 0.  0.  0.  0.  0.]\n",
      " ..., \n",
      " [ 0.  0.  0.  0.  0.]\n",
      " [ 0.  0.  0.  0.  0.]\n",
      " [ 0.  0.  0.  0.  0.]]\n",
      "[[         -inf -513.26809386 -516.70428397 -518.94269497 -521.14899922]\n",
      " [         -inf -182.30043486 -179.20360249 -177.74800003 -176.70638405]\n",
      " [ -86.16997524  -83.03517884  -81.07770569  -79.31652665  -78.26449213]\n",
      " ..., \n",
      " [-328.85007291 -322.3332832  -320.53932728 -324.44862135 -327.93033643]\n",
      " [-452.81880716 -446.55799676 -441.89122117 -440.19073734 -441.28601025]\n",
      " [-199.57980853 -192.88694598 -188.14599922 -184.60656991 -185.63304823]]\n"
     ]
    }
   ],
   "source": [
    "\n",
    "prob =  np.zeros((len(X_test),5))\n",
    "print len(X_test)\n",
    "print prob\n",
    "for index in range(5):#5 classes\n",
    "    for review in range(len(X_test)): #no of test reviews\n",
    "        for feature in range(no_features): #features\n",
    "            if(X_test[review][feature] == 0.0):\n",
    "                prob[review][index] = prob[review][index] + np.log(1-w[index][feature])\n",
    "            else:\n",
    "                prob[review][index] = prob[review][index] + np.log(w[index][feature] * X_test[review][feature] )\n",
    "    \n",
    "# prob has 6000 rows and 2 cols\n",
    "# test_data_vector has 6000 rows and features cols\n",
    "# w has 2 rows has 2000 cols\n",
    "print prob "
   ]
  },
  {
   "cell_type": "code",
   "execution_count": 513,
   "metadata": {
    "collapsed": false
   },
   "outputs": [
    {
     "name": "stdout",
     "output_type": "stream",
     "text": [
      "-2.28910493144\n",
      "-2.1778422064\n",
      "-1.79964764208\n",
      "-1.16360805718\n",
      "-1.17881572354\n",
      "6000\n",
      "[[         -inf -515.44593607 -518.50393162 -520.10630303 -522.32781495]\n",
      " [         -inf -184.47827707 -181.00325014 -178.91160808 -177.88519977]\n",
      " [ -88.45908017  -85.21302105  -82.87735333  -80.48013471  -79.44330786]\n",
      " ..., \n",
      " [-331.13917785 -324.51112541 -322.33897493 -325.61222941 -329.10915215]\n",
      " [-455.10791209 -448.73583896 -443.69086881 -441.3543454  -442.46482597]\n",
      " [-201.86891346 -195.06478819 -189.94564686 -185.77017797 -186.81186396]]\n"
     ]
    }
   ],
   "source": [
    "\n",
    "pclass1=np.log(float(sum(y_train==1))/len(y_train))\n",
    "print pclass1\n",
    "pclass2=np.log( float(sum(y_train==2))/len(y_train) )\n",
    "print pclass2\n",
    "pclass3=np.log( float(sum(y_train==3))/len(y_train) )\n",
    "print pclass3\n",
    "pclass4=np.log( float(sum(y_train==4))/len(y_train) )\n",
    "print pclass4\n",
    "pclass5=np.log( float(sum(y_train==5))/len(y_train) )\n",
    "print pclass5\n",
    "print len(prob)\n",
    "for i in range(len(prob)):\n",
    "    prob[i][0]= prob[i][0]+pclass1\n",
    "    prob[i][1]= prob[i][1]+pclass2\n",
    "    prob[i][2]= prob[i][2]+pclass3\n",
    "    prob[i][3]= prob[i][3]+pclass4\n",
    "    prob[i][4]= prob[i][4]+pclass5\n",
    "print prob"
   ]
  },
  {
   "cell_type": "code",
   "execution_count": 514,
   "metadata": {
    "collapsed": false
   },
   "outputs": [
    {
     "name": "stdout",
     "output_type": "stream",
     "text": [
      "[ 5.  5.  5.  2.  2.  4.  5.  5.  5.  5.  5.  5.  4.  4.  3.  5.  5.  5.\n",
      "  5.  5.  3.  3.  5.  4.  4.  5.  5.  5.  5.  5.  5.  4.  5.  5.  5.  2.\n",
      "  4.  5.  5.  2.  4.  3.  2.  2.  4.  4.  4.  4.  2.  2.  4.  2.  3.  5.\n",
      "  1.  4.  5.  5.  4.  5.  5.  2.  5.  5.  5.  5.  5.  2.  5.  4.  5.  4.\n",
      "  5.  5.  5.  5.  5.  4.  5.  4.  5.  5.  5.  3.  2.  3.  2.  5.  5.  3.\n",
      "  4.  4.  2.  5.  1.  5.  5.  4.  4.]\n"
     ]
    }
   ],
   "source": [
    "\n",
    "pred=np.zeros(len(y_test))\n",
    "for i in range(len(prob)):\n",
    "    pred[i]= prob[i][:].argmax(axis=0)+1\n",
    "\n",
    "print pred[1:100]"
   ]
  },
  {
   "cell_type": "code",
   "execution_count": 515,
   "metadata": {
    "collapsed": false
   },
   "outputs": [
    {
     "name": "stdout",
     "output_type": "stream",
     "text": [
      "[[ 422  110   35   30   37]\n",
      " [ 140  231  162   87   35]\n",
      " [  60  138  351  332   87]\n",
      " [  36   71  255  906  667]\n",
      " [  29   37   53  449 1240]]\n"
     ]
    }
   ],
   "source": [
    "from sklearn.metrics import confusion_matrix\n",
    "c = confusion_matrix(y_test,pred)\n",
    "print c"
   ]
  },
  {
   "cell_type": "code",
   "execution_count": 517,
   "metadata": {
    "collapsed": false
   },
   "outputs": [
    {
     "data": {
      "text/plain": [
       "0.525"
      ]
     },
     "execution_count": 517,
     "metadata": {},
     "output_type": "execute_result"
    }
   ],
   "source": [
    "float((422+231+351+906+1240))/len(y_test)"
   ]
  },
  {
   "cell_type": "code",
   "execution_count": 519,
   "metadata": {
    "collapsed": false
   },
   "outputs": [
    {
     "name": "stdout",
     "output_type": "stream",
     "text": [
      "21876    5\n",
      "21877    5\n",
      "21878    4\n",
      "21879    5\n",
      "21880    3\n",
      "Name: stars, dtype: int64\n",
      "14540010704\n",
      "[2 2 2 ..., 0 2 2]\n"
     ]
    }
   ],
   "source": [
    "import copy\n",
    "print y_test[0:5]\n",
    "y_test_thresholded = np.array(copy.deepcopy(y_test))\n",
    "#print type(y_test_thresholded)\n",
    "#print y_test_thresholded\n",
    "y_test_thresholded[y_test_thresholded < 3] = 0\n",
    "y_test_thresholded[y_test_thresholded == 3] = 1\n",
    "y_test_thresholded[y_test_thresholded > 3] = 2\n",
    "#print  y_test_thresholded\n",
    "y_train_thresholded = np.array(copy.deepcopy(y_train))\n",
    "y_train_thresholded[y_train_thresholded < 3] = 0\n",
    "y_train_thresholded[y_train_thresholded == 3] = 1\n",
    "y_train_thresholded[y_train_thresholded > 3] = 2\n",
    "print id(y_test)\n",
    "print (y_test_thresholded)"
   ]
  },
  {
   "cell_type": "code",
   "execution_count": null,
   "metadata": {
    "collapsed": true
   },
   "outputs": [],
   "source": []
  },
  {
   "cell_type": "markdown",
   "metadata": {},
   "source": [
    "Test accuracies"
   ]
  },
  {
   "cell_type": "code",
   "execution_count": 520,
   "metadata": {
    "collapsed": false,
    "scrolled": true
   },
   "outputs": [
    {
     "name": "stdout",
     "output_type": "stream",
     "text": [
      "52.5\n"
     ]
    }
   ],
   "source": [
    "print sum(pred==y_test) * 100.0 / len(y_test)"
   ]
  },
  {
   "cell_type": "code",
   "execution_count": 230,
   "metadata": {
    "collapsed": false
   },
   "outputs": [],
   "source": [
    "#print pred, \"\\n\", y_test"
   ]
  },
  {
   "cell_type": "code",
   "execution_count": 468,
   "metadata": {
    "collapsed": false
   },
   "outputs": [
    {
     "name": "stdout",
     "output_type": "stream",
     "text": [
      "18.7333333333\n"
     ]
    }
   ],
   "source": []
  },
  {
   "cell_type": "code",
   "execution_count": 521,
   "metadata": {
    "collapsed": false
   },
   "outputs": [
    {
     "name": "stdout",
     "output_type": "stream",
     "text": [
      "[ 0.  2.  2. ...,  1.  2.  2.] \n",
      "[2 2 2 ..., 0 2 2]\n"
     ]
    }
   ],
   "source": [
    "pred[pred < 3] = 0\n",
    "pred[pred == 3] = 1\n",
    "pred[pred > 3] = 2\n",
    "print pred, \"\\n\", y_test_thresholded"
   ]
  },
  {
   "cell_type": "code",
   "execution_count": 232,
   "metadata": {
    "collapsed": false
   },
   "outputs": [],
   "source": [
    "#pred[predicted==1] = 1"
   ]
  },
  {
   "cell_type": "code",
   "execution_count": 522,
   "metadata": {
    "collapsed": false
   },
   "outputs": [
    {
     "name": "stdout",
     "output_type": "stream",
     "text": [
      "75.2666666667\n"
     ]
    }
   ],
   "source": [
    "print sum(pred==y_test_thresholded) * 100.0 / len(y_test_thresholded)"
   ]
  },
  {
   "cell_type": "code",
   "execution_count": 234,
   "metadata": {
    "collapsed": false
   },
   "outputs": [
    {
     "data": {
      "text/plain": [
       "array([[593, 169,  95],\n",
       "       [339, 676, 347],\n",
       "       [ 68, 155, 558]])"
      ]
     },
     "execution_count": 234,
     "metadata": {},
     "output_type": "execute_result"
    }
   ],
   "source": [
    "from sklearn.metrics import confusion_matrix\n",
    "confusion_matrix(pred, y_test_thresholded)"
   ]
  },
  {
   "cell_type": "code",
   "execution_count": 657,
   "metadata": {
    "collapsed": false
   },
   "outputs": [
    {
     "data": {
      "text/plain": [
       "array([[  86,   67,  267],\n",
       "       [  81,   58,  281],\n",
       "       [ 553,  422, 1785]])"
      ]
     },
     "execution_count": 657,
     "metadata": {},
     "output_type": "execute_result"
    }
   ],
   "source": [
    "from sklearn.metrics import confusion_matrix\n",
    "confusion_matrix(pred, y_test_thresholded)"
   ]
  },
  {
   "cell_type": "code",
   "execution_count": 658,
   "metadata": {
    "collapsed": false
   },
   "outputs": [
    {
     "data": {
      "text/plain": [
       "3600"
      ]
     },
     "execution_count": 658,
     "metadata": {},
     "output_type": "execute_result"
    }
   ],
   "source": [
    "len(y_test_thresholded)"
   ]
  },
  {
   "cell_type": "code",
   "execution_count": 659,
   "metadata": {
    "collapsed": false
   },
   "outputs": [
    {
     "name": "stdout",
     "output_type": "stream",
     "text": [
      "[2 0 2 2 0 2 2 2 0 2 0 2 2 2 2 2 2 2 2 2 2 0 2 2 2 2 2 2 2 2 2 2 0 2 2 2 2\n",
      " 2 2 2 0 2 2 2 2 2 2 2 2 2 2 0 2 2 2 2 2 2 2 0 2 2 2 0 2 0 2 2 2 2 2 0 2 0\n",
      " 2 0 2 0 2 2 2 2 2 2 0 2 2 2 2 2 2 2 2 2 2 2 2 2 2 2 2 2 2 2 2 2 2 2 2 2 0\n",
      " 2 2 0 2 2 2 2 2 2 2 2 2 0 2 0 2 0 2 0 2 2 2 2 2 2 2 0 0 2 2 0 2 0 2 2 0 2\n",
      " 0 2 2 2 2 2 2 2 0 2 2 2 2 2 2 2 2 2 2 2 2 2 2 2 2 2 2 2 2 2 2 2 2 2 2 2 0\n",
      " 2 2 2 2 2 2 2 0 2 2 2 2 2 2 2 2 2 0 2 0 2 2 2 2 0 2 2 2 2 2 2 0 2 2 2 2 2\n",
      " 2 2 2 2 2 2 2 2 2 2 2 2 2 2 2 2 2 2 2 2 2 0 2 2 2 0 2 2 2 2 2 2 2 2 0 2 2\n",
      " 2 2 2 2 2 2 2 2 2 2 2 2 2 2 2 0 2 2 2 2 0 2 0 2 2 2 2 2 2 0 2 2 2 2 2 0 2\n",
      " 2 2 2 2 2 0 0 2 2 2 2 2 2 2 2 2 0 2 2 2 2 2 2 2 2 2 2 0 2 0 2 0 2 2 2 0 2\n",
      " 2 0 2 2 2 2 2 2 2 2 2 2 2 2 2 2 2 2 0 0 2 2 2 2 2 2 0 2 2 2 2 2 2 2 2 2 2\n",
      " 2 2 2 2 2 2 2 2 2 2 2 2 0 2 2 2 2 2 2 0 2 2 2 2 2 2 2 2 2 2 0 2 2 2 2 2 2\n",
      " 2 2 2 2 2 2 2 2 2 2 2 2 2 2 2 2 2 2 2 2 0 2 2 2 2 2 2 2 2 2 2 0 2 2 2 2 2\n",
      " 2 0 2 0 0 2 2 2 2 2 2 2 2 2 2 2 0 2 2 2 2 2 2 2 2 2 0 2 2 2 0 2 2 2 2 2 2\n",
      " 0 2 2 2 2 2 0 2]\n"
     ]
    }
   ],
   "source": [
    "print pred[((pred!=1) & (y_test_thresholded==1))]\n",
    "#pred[]"
   ]
  },
  {
   "cell_type": "markdown",
   "metadata": {},
   "source": [
    "Train accuracies"
   ]
  },
  {
   "cell_type": "code",
   "execution_count": 660,
   "metadata": {
    "collapsed": false
   },
   "outputs": [
    {
     "name": "stdout",
     "output_type": "stream",
     "text": [
      "45.5476190476\n"
     ]
    }
   ],
   "source": [
    "pred = predict(w, X_train)\n",
    "print sum(pred==y_train) * 100.0 / len(y_train)"
   ]
  },
  {
   "cell_type": "code",
   "execution_count": 661,
   "metadata": {
    "collapsed": false
   },
   "outputs": [],
   "source": [
    "#pred = predict_binary(w, X_train)\n",
    "#pred.shape = (len(pred,))"
   ]
  },
  {
   "cell_type": "code",
   "execution_count": 662,
   "metadata": {
    "collapsed": false
   },
   "outputs": [
    {
     "name": "stdout",
     "output_type": "stream",
     "text": [
      "62.3214285714\n"
     ]
    }
   ],
   "source": [
    "pred[pred < 3] = 0\n",
    "pred[pred == 3] = 1\n",
    "pred[pred > 3] = 2\n",
    "print sum(pred==y_train_thresholded) * 100.0 / len(y_train_thresholded)"
   ]
  },
  {
   "cell_type": "code",
   "execution_count": 663,
   "metadata": {
    "collapsed": false
   },
   "outputs": [
    {
     "data": {
      "text/plain": [
       "0"
      ]
     },
     "execution_count": 663,
     "metadata": {},
     "output_type": "execute_result"
    }
   ],
   "source": [
    "sum(y_train==0)"
   ]
  },
  {
   "cell_type": "code",
   "execution_count": 190,
   "metadata": {
    "collapsed": false
   },
   "outputs": [],
   "source": [
    "y_train_bayes = np.array(copy.deepcopy(y_train))\n",
    "y_test_bayes = np.array(copy.deepcopy(y_test))\n",
    "y_train_bayes[y_train_bayes != 3] = 0\n",
    "y_train_bayes[y_train_bayes == 3] = 1\n",
    "y_test_bayes[y_test_bayes != 3] = 0\n",
    "y_test_bayes[y_test_bayes == 3] = 1"
   ]
  },
  {
   "cell_type": "code",
   "execution_count": 191,
   "metadata": {
    "collapsed": true
   },
   "outputs": [],
   "source": [
    "from sklearn.naive_bayes import MultinomialNB\n",
    "clf = MultinomialNB().fit(X_train, y_train_bayes)"
   ]
  },
  {
   "cell_type": "code",
   "execution_count": 192,
   "metadata": {
    "collapsed": false
   },
   "outputs": [
    {
     "data": {
      "text/plain": [
       "MultinomialNB(alpha=1.0, class_prior=None, fit_prior=True)"
      ]
     },
     "execution_count": 192,
     "metadata": {},
     "output_type": "execute_result"
    }
   ],
   "source": [
    "clf"
   ]
  },
  {
   "cell_type": "code",
   "execution_count": 193,
   "metadata": {
    "collapsed": true
   },
   "outputs": [],
   "source": [
    "predicted = clf.predict(X_test)"
   ]
  },
  {
   "cell_type": "code",
   "execution_count": 194,
   "metadata": {
    "collapsed": false
   },
   "outputs": [
    {
     "data": {
      "text/plain": [
       "array([0, 0, 0, ..., 1, 0, 0], dtype=int64)"
      ]
     },
     "execution_count": 194,
     "metadata": {},
     "output_type": "execute_result"
    }
   ],
   "source": [
    "predicted"
   ]
  },
  {
   "cell_type": "code",
   "execution_count": 195,
   "metadata": {
    "collapsed": false
   },
   "outputs": [
    {
     "data": {
      "text/plain": [
       "80.316666666666663"
      ]
     },
     "execution_count": 195,
     "metadata": {},
     "output_type": "execute_result"
    }
   ],
   "source": [
    "sum(predicted==y_test_bayes) * 100.0 / len(y_test_bayes)"
   ]
  },
  {
   "cell_type": "code",
   "execution_count": 221,
   "metadata": {
    "collapsed": false
   },
   "outputs": [
    {
     "data": {
      "text/plain": [
       "array([[4442,  591],\n",
       "       [ 590,  377]])"
      ]
     },
     "execution_count": 221,
     "metadata": {},
     "output_type": "execute_result"
    }
   ],
   "source": [
    "from sklearn.metrics import confusion_matrix\n",
    "confusion_matrix(predicted, y_test_bayes)"
   ]
  },
  {
   "cell_type": "code",
   "execution_count": 197,
   "metadata": {
    "collapsed": false
   },
   "outputs": [
    {
     "data": {
      "text/plain": [
       "5033"
      ]
     },
     "execution_count": 197,
     "metadata": {},
     "output_type": "execute_result"
    }
   ],
   "source": [
    "sum(predicted==0)"
   ]
  },
  {
   "cell_type": "code",
   "execution_count": null,
   "metadata": {
    "collapsed": false
   },
   "outputs": [],
   "source": [
    "y_train_bayes = "
   ]
  },
  {
   "cell_type": "code",
   "execution_count": null,
   "metadata": {
    "collapsed": false
   },
   "outputs": [],
   "source": [
    "y_test_thresholded"
   ]
  },
  {
   "cell_type": "code",
   "execution_count": null,
   "metadata": {
    "collapsed": false
   },
   "outputs": [],
   "source": [
    "type(required_features)"
   ]
  },
  {
   "cell_type": "code",
   "execution_count": null,
   "metadata": {
    "collapsed": false
   },
   "outputs": [],
   "source": [
    "required_features"
   ]
  },
  {
   "cell_type": "code",
   "execution_count": null,
   "metadata": {
    "collapsed": false
   },
   "outputs": [],
   "source": [
    "X_train[0][806:]"
   ]
  },
  {
   "cell_type": "markdown",
   "metadata": {
    "collapsed": true
   },
   "source": [
    "Linear Regression"
   ]
  },
  {
   "cell_type": "code",
   "execution_count": 165,
   "metadata": {
    "collapsed": false
   },
   "outputs": [],
   "source": [
    "from sklearn import datasets, linear_model\n",
    "regr = linear_model.LinearRegression()\n",
    "\n",
    "# Train the model using the training sets\n",
    "regr.fit(X_train, y_train)\n",
    "\n",
    "# The coefficients\n",
    "#print('Coefficients: \\n', regr.coef_)\n",
    "# The mean squared error\n",
    "pred = regr.predict(X_test)"
   ]
  },
  {
   "cell_type": "code",
   "execution_count": null,
   "metadata": {
    "collapsed": false
   },
   "outputs": [],
   "source": [
    "type(y_test)"
   ]
  },
  {
   "cell_type": "code",
   "execution_count": 166,
   "metadata": {
    "collapsed": false
   },
   "outputs": [],
   "source": [
    "pred = pred + 0.5\n",
    "pred = pred.astype('int32')"
   ]
  },
  {
   "cell_type": "code",
   "execution_count": 167,
   "metadata": {
    "collapsed": false
   },
   "outputs": [
    {
     "data": {
      "text/plain": [
       "array([4, 4, 4, ..., 2, 5, 4])"
      ]
     },
     "execution_count": 167,
     "metadata": {},
     "output_type": "execute_result"
    }
   ],
   "source": [
    "pred"
   ]
  },
  {
   "cell_type": "code",
   "execution_count": 168,
   "metadata": {
    "collapsed": false
   },
   "outputs": [
    {
     "name": "stdout",
     "output_type": "stream",
     "text": [
      "39.9333333333\n"
     ]
    }
   ],
   "source": [
    "print sum(pred==y_test) * 100.0 / len(y_test)"
   ]
  },
  {
   "cell_type": "code",
   "execution_count": 169,
   "metadata": {
    "collapsed": false
   },
   "outputs": [
    {
     "name": "stdout",
     "output_type": "stream",
     "text": [
      "69.9\n"
     ]
    }
   ],
   "source": [
    "pred[pred < 3] = 0\n",
    "pred[pred == 3] = 1\n",
    "pred[pred > 3] = 2\n",
    "print sum(pred==y_test_thresholded) * 100.0 / len(y_test_thresholded)"
   ]
  },
  {
   "cell_type": "code",
   "execution_count": 170,
   "metadata": {
    "collapsed": false
   },
   "outputs": [
    {
     "data": {
      "text/plain": [
       "array([[ 501,  100,   26],\n",
       "       [ 671,  493,  517],\n",
       "       [ 117,  375, 3200]])"
      ]
     },
     "execution_count": 170,
     "metadata": {},
     "output_type": "execute_result"
    }
   ],
   "source": [
    "from sklearn.metrics import confusion_matrix\n",
    "confusion_matrix(pred, y_test_thresholded)"
   ]
  },
  {
   "cell_type": "markdown",
   "metadata": {},
   "source": [
    "Poly reg"
   ]
  },
  {
   "cell_type": "code",
   "execution_count": null,
   "metadata": {
    "collapsed": false
   },
   "outputs": [],
   "source": [
    "from sklearn.preprocessing import PolynomialFeatures\n",
    "\n",
    "#poly = PolynomialFeatures(degree=2)\n",
    "X_polytrain = poly.fit_transform(X_train)\n",
    "X_polytest = poly.fit_transform(X_test)"
   ]
  },
  {
   "cell_type": "code",
   "execution_count": 97,
   "metadata": {
    "collapsed": false
   },
   "outputs": [
    {
     "name": "stdout",
     "output_type": "stream",
     "text": [
      "0.284221965582 -0.172709741248\n",
      "0.197498951053 -0.171850625518\n",
      "1.09700005757 -0.845088503491\n",
      "0.975699260883 -0.685537226321\n",
      "0.513749237699 -0.509695521277\n"
     ]
    }
   ],
   "source": [
    "for i in range(5):\n",
    "    print max(w[i]), min(w[i])"
   ]
  },
  {
   "cell_type": "code",
   "execution_count": 138,
   "metadata": {
    "collapsed": false
   },
   "outputs": [
    {
     "name": "stdout",
     "output_type": "stream",
     "text": [
      "5089\n",
      "1895\n",
      "1416\n"
     ]
    }
   ],
   "source": [
    "print sum(y_train_thresholded == 2)\n",
    "print sum(y_train_thresholded == 0)\n",
    "print sum(y_train_thresholded == 1)"
   ]
  },
  {
   "cell_type": "code",
   "execution_count": 392,
   "metadata": {
    "collapsed": false
   },
   "outputs": [
    {
     "data": {
      "text/plain": [
       "1253"
      ]
     },
     "execution_count": 392,
     "metadata": {},
     "output_type": "execute_result"
    }
   ],
   "source": [
    "required_features = {u'good': 20624, u'food': 17687, u'place': 17212, u'like': 14958, u'order': 14055, u'time': 11385, u'get': 11230, u'go': 11066, u'one': 10594, u'great': 9093, u'realli': 8709, u'servic': 8361, u'tri': 7686, u'chicken': 7556, u'back': 7295, u'would': 7039, u'restaur': 6513, u'come': 6247, u'also': 6075, u'love': 6066, u'menu': 6044, u'sauc': 5797, u'lunch': 5745, u'salad': 5741, u'eat': 5732, u'fri': 5714, u'littl': 5688, u'got': 5636, u'even': 5635, u'nice': 5556, u'chees': 5481, u'well': 5477, u'pretti': 5356, u'want': 5338, u'alway': 5194, u'look': 5054, u'make': 4997, u'tabl': 4820, u'came': 4791, u'tast': 4784, u'much': 4656, u'pizza': 4614, u'us': 4553, u'think': 4494, u'meal': 4446, u'bar': 4403, u'wait': 4382, u'know': 4376, u'drink': 4343, u'price': 4337, u'flavor': 4256, u'thing': 4253, u'best': 4222, u'sandwich': 4191, u'dish': 4141, u'say': 3952, u'side': 3931, u'better': 3931, u'serv': 3752, u'star': 3743, u'fresh': 3733, u'night': 3718, u'locat': 3717, u'dinner': 3700, u'could': 3673, u'take': 3670, u'delici': 3602, u'went': 3574, u'two': 3562, u'first': 3559, u'special': 3541, u'never': 3541, u'lot': 3505, u'enjoy': 3476, u'way': 3467, u'peopl': 3447, u'day': 3443, u'friend': 3440, u'sinc': 3423, u'right': 3400, u'bread': 3338, u'still': 3329, u'ask': 3299, u'hot': 3264, u'made': 3207, u'bit': 3192, u'friendli': 3134, u'soup': 3091, u'rice': 3039, u'year': 3016, u'sure': 2991, u'seem': 2983, u'bad': 2941, u'top': 2936, u'meat': 2919, u'though': 2912, u'give': 2902, u'someth': 2873, u'server': 2870, u'definit': 2859, u'review': 2844, u'burger': 2838, u'cook': 2813, u'see': 2789, u'around': 2780, u'use': 2774, u'roll': 2765, u'beef': 2647, u'said': 2645, u'small': 2643, u'last': 2635, u'favorit': 2629, u'visit': 2606, u'area': 2580, u'big': 2579, u'tasti': 2571, u'seat': 2558, u'need': 2546, u'mani': 2518, u'feel': 2510, u'sweet': 2494, u'breakfast': 2487, u'work': 2481, u'hour': 2455, u'egg': 2444, u'everyth': 2442, u'experi': 2435, u'next': 2427, u'plate': 2385, u'ok': 2377, u'minut': 2338, u'happi': 2307, u'potato': 2307, u'usual': 2306, u'busi': 2290, u'find': 2284, u'anoth': 2274, u'noth': 2264, u'long': 2256, u'ever': 2251, u'enough': 2242, u'taco': 2238, u'dine': 2222, u'staff': 2220, u'decid': 2191, u'took': 2183, u'steak': 2177, u'home': 2171, u'shrimp': 2167, u'beer': 2145, u'stop': 2116, u'larg': 2105, u'start': 2097, u'everi': 2095, u'walk': 2075, u'expect': 2048, u'new': 2044, u'bean': 2029, u'differ': 2024, u'grill': 2002, u'chip': 1996, u'sushi': 1994, u'check': 1985, u'reason': 1973, u'perfect': 1970, u'spici': 1962, u'item': 1960, u'wine': 1957, u'kind': 1951, u'offer': 1939, u'thought': 1934, u'actual': 1932, u'portion': 1928, u'probabl': 1917, u'mayb': 1914, u'spot': 1894, u'huge': 1892, u'old': 1884, u'fish': 1881, u'decent': 1878, u'end': 1866, u'cream': 1865, u'salsa': 1845, u'onion': 1844, u'sit': 1830, u'full': 1829, u'amaz': 1807, u'fast': 1807, u'howev': 1799, u'dessert': 1797, u'select': 1784, u'quit': 1777, u'qualiti': 1774, u'hous': 1744, u'half': 1726, u'option': 1724, u'insid': 1718, u'park': 1698, u'awesom': 1689, u'green': 1674, u'call': 1667, u'mexican': 1663, u'close': 1631, u'choic': 1617, u'pork': 1611, u'open': 1593, u'red': 1589, u'slice': 1566, u'super': 1564, u'appet': 1560, u'away': 1558, u'recommend': 1551, u'waitress': 1545, u'disappoint': 1544, u'fan': 1533, u'tomato': 1523, u'excel': 1516, u'put': 1511, u'chines': 1506, u'let': 1498, u'anyth': 1491, u'fill': 1490, u'coupl': 1488, u'entre': 1487, u'overal': 1478, u'pasta': 1478, u'ice': 1458, u'famili': 1458, u'almost': 1451, u'thai': 1451, u'worth': 1450, u'clean': 1446, u'els': 1433, u'style': 1427, u'town': 1421, u'size': 1409, u'italian': 1395, u'arriv': 1394, u'veggi': 1391, u'live': 1390, u'drive': 1387, u'quick': 1381, u'week': 1368, u'atmospher': 1357, u'oh': 1352, u'bite': 1348, u'room': 1339, u'hard': 1333, u'left': 1329, u'person': 1328, u'found': 1327, u'cours': 1323, u'burrito': 1320, u'three': 1306, u'yelp': 1304, u'least': 1298, u'wing': 1293, u'pick': 1289, u'outsid': 1289, u'part': 1287, u'noodl': 1277, u'final': 1277, u'husband': 1259, u'light': 1257, u'wonder': 1256, u'rememb': 1255, u'return': 1254, u'tea': 1249, u'either': 1248, u'help': 1246, u'water': 1244, u'bring': 1240, u'kid': 1238, u'piec': 1232, u'gener': 1232, u'includ': 1231, u'may': 1226, u'bacon': 1223, u'pepper': 1221, u'ye': 1218, u'mean': 1217, u'cheap': 1216, u'without': 1215, u'line': 1198, u'free': 1198, u'impress': 1191, u'bowl': 1190, u'tell': 1183, u'white': 1175, u'high': 1173, u'told': 1172, u'sever': 1167, u'keep': 1164, u'custom': 1161, u'chang': 1156, u'everyon': 1156, u'today': 1150, u'point': 1138, u'crispi': 1137, u'far': 1136, u'especi': 1133, u'brought': 1128, u'whole': 1125, u'dress': 1118, u'might': 1117, u'deal': 1110, u'name': 1110, u'regular': 1101, u'share': 1100, u'guy': 1096, u'less': 1089, u'late': 1085, u'mix': 1084, u'cool': 1084, u'dip': 1084, u'coffe': 1083, u'waiter': 1076, u'hand': 1074, u'extra': 1074, u'ate': 1073, u'guess': 1072, u'must': 1068, u'okay': 1067, u'manag': 1067, u'garlic': 1067, u'decor': 1065, u'surpris': 1057, u'averag': 1055, u'instead': 1053, u'real': 1050, u'group': 1050, u'pay': 1049, u'bbq': 1043, u'crowd': 1041, u'fine': 1041, u'fun': 1039, u'parti': 1037, u'cold': 1033, u'dri': 1033, u'leav': 1033, u'season': 1030, u'cake': 1024, u'chain': 1022, u'although': 1019, u'chocol': 1013, u'glass': 1013, u'door': 1006, u'plenti': 1006, u'run': 1003, u'warm': 1002, u'done': 999, u'care': 989, u'attent': 987, u'sometim': 983, u'local': 982, u'chili': 976, u'wrong': 975, u'pie': 973, u'wall': 969, u'pack': 964, u'amount': 964, u'mushroom': 960, u'type': 959, u'dog': 957, u'game': 955, u'sat': 955, u'pm': 955, u'past': 954, u'phoenix': 954, u'crust': 953, u'shop': 950, u'consist': 947, u'stuff': 946, u'watch': 946, u'gave': 945, u'second': 945, u'hit': 945, u'total': 943, u'finish': 941, u'head': 938, u'yummi': 936, u'sunday': 934, u'patio': 934, u'perfectli': 932, u'miss': 931, u'wife': 927, u'plu': 927, u'pancak': 926, u'street': 924, u'french': 924, u'notic': 923, u'someon': 922, u'quickli': 922, u'yet': 919, u'list': 919, u'ago': 917, u'fact': 916, u'sausag': 910, u'thank': 905, u'rib': 897, u'crave': 896, u'buffet': 894, u'cut': 892, u'crab': 889, u'toast': 884, u'show': 880, u'prepar': 863, u'w': 861, u'anyway': 857, u'recent': 854, u'talk': 854, u'tender': 849, u'wish': 849, u'butter': 846, u'owner': 838, u'corn': 830, u'often': 828, u'tortilla': 822, u'hope': 821, u'add': 820, u'counter': 814, u'front': 811, u'mind': 810, u'ad': 807, u'turn': 805, u'kitchen': 804, u'saturday': 804, u'later': 803, u'slow': 802, u'fantast': 801, u'typic': 796, u'lettuc': 795, u'bake': 792, u'lack': 791, u'authent': 787, u'wrap': 786, u'move': 784, u'pho': 783, u'soon': 780, u'felt': 779, u'four': 769, u'tip': 769, u'bagel': 764, u'happen': 762, u'strip': 756, u'rather': 751, u'pleas': 750, u'basic': 749, u'date': 749, u'seafood': 749, u'grab': 745, u'eaten': 743, u'set': 741, u'mom': 741, u'lobster': 739, u'hungri': 739, u'friday': 737, u'mention': 735, u'saw': 735, u'suggest': 734, u'stuf': 730, u'greasi': 723, u'normal': 723, u'joint': 722, u'veget': 722, u'bill': 721, u'soft': 719, u'diner': 717, u'curri': 717, u'varieti': 716, u'abl': 715, u'refil': 714, u'read': 714, u'spice': 712, u'bland': 712, u'thin': 712, u'roast': 711, u'problem': 710, u'standard': 710, u'combo': 708, u'bottl': 706, u'sign': 703, u'believ': 703, u'complet': 702, u'along': 702, u'choos': 699, u'alreadi': 698, u'enchilada': 697, u'solid': 696, u'base': 695, u'turkey': 694, u'vega': 694, u'absolut': 691, u'readi': 691, u'salmon': 691, u'brown': 691, u'sour': 689, u'birthday': 687, u'rate': 686, u'ingredi': 682, u'prefer': 682, u'play': 679, u'la': 678, u'stick': 677, u'except': 674, u'chef': 674, u'morn': 671, u'sub': 670, u'salt': 667, u'booth': 665, u'cover': 664, u'main': 663, u'etc': 661, u'cup': 660, u'store': 654, u'simpl': 651, u'medium': 647, u'note': 644, u'consid': 639, u'near': 639, u'valley': 637, u'thick': 636, u'comfort': 635, u'interest': 632, u'reserv': 630, u'girl': 629, u'serious': 628, u'brunch': 626, u'bartend': 625, u'oliv': 624, u'ton': 621, u'rest': 619, u'deli': 617, u'stand': 616, u'entir': 616, u'stay': 614, u'weekend': 611, u'card': 610, u'rare': 609, u'given': 607, u'money': 601, u'mall': 601, u'earli': 601, u'sound': 600, u'black': 599, u'gone': 598, u'month': 595, u'easi': 595, u'heard': 594, u'sort': 593, u'tuna': 592, u'mac': 591, u'man': 591, u'other': 586, u'greet': 585, u'american': 583, u'knew': 583, u'neighborhood': 583, u'short': 582, u'scottsdal': 579, u'glad': 579, u'smell': 579, u'mouth': 577, u'spinach': 577, u'music': 573, u'melt': 573, u'yum': 572, u'trip': 572, u'charg': 571, u'coupon': 569, u'salti': 566, u'wow': 565, u'ambianc': 561, u'meet': 558, u'across': 558, u'mine': 558, u'empti': 555, u'kept': 553, u'box': 550, u'pass': 549, u'oil': 549, u'school': 548, u'crisp': 547, u'ladi': 547, u'creami': 547, u'togeth': 542, u'satisfi': 541, u'gravi': 536, u'chop': 536, u'unfortun': 532, u'treat': 529, u'five': 528, u'n': 526, u'heat': 525, u'vegetarian': 525, u'pull': 524, u'waffl': 524, u'bun': 523, u'eye': 523, u'remind': 523, u'extrem': 521, u'behind': 520, u'anyon': 520, u'spring': 519, u'gyro': 518, u'lo': 517, u'seen': 517, u'combin': 516, u'tofu': 515, u'build': 513, u'job': 512, u'expens': 510, u'deliv': 510, u'case': 509, u'margarita': 509, u'rush': 508, u'kinda': 507, u'car': 507, u'buck': 507, u'split': 506, u'smoke': 506, u'low': 506, u'chose': 505, u'cafe': 503, u'homemad': 503, u'twice': 503, u'photo': 503, u'orang': 500, u'mash': 499, u'immedi': 498, u'honey': 497, u'asian': 496, u'dark': 494, u'figur': 493, u'compar': 492, u'excit': 489, u'hate': 486, u'yeah': 485, u'blue': 485, u'receiv': 483, u'rock': 482, u'number': 481, u'weird': 481, u'event': 481, u'exactli': 481, u'soda': 480, u'tradit': 480, u'idea': 475, u'charlott': 474, u'issu': 470, u'write': 467, u'drop': 466, u'space': 465, u'slightli': 465, u'establish': 464, u'textur': 463, u'incred': 462, u'whatev': 462, u'mostli': 461, u'ham': 460, u'origin': 459, u'addit': 457, u'mood': 456, u'hear': 456, u'biscuit': 456, u'buy': 455, u'life': 454, u'tv': 452, u'kick': 452, u'sport': 450, u'pita': 450, u'world': 447, u'omelet': 447, u'middl': 446, u'cooki': 445, u'duck': 445, u'chile': 445, u'plan': 445, u'crazi': 444, u'understand': 444, u'corner': 444, u'club': 444, u'realiz': 443, u'com': 441, u'uniqu': 441, u'hostess': 440, u'opt': 437, u'liter': 437, u'employe': 437, u'hubbi': 434, u'fairli': 433, u'matter': 433, u'b': 433, u'filet': 433, u'avail': 432, u'citi': 431, u'th': 431, u'pickl': 431, u'healthi': 430, u'complaint': 430, u'juici': 429, u'goe': 429, u'appl': 428, u'possibl': 428, u'word': 427, u'ranch': 426, u'boyfriend': 425, u'appreci': 424, u'fruit': 423, u'hang': 422, u'deliveri': 422, u'honestli': 422, u'casual': 422, u'taken': 421, u'valu': 420, u'due': 420, u'deep': 420, u'request': 420, u'beauti': 420, u'save': 419, u'window': 419, u'perhap': 418, u'updat': 417, u'upon': 417, u'scallop': 415, u'face': 415, u'provid': 414, u'cost': 413, u'dirti': 412, u'chanc': 412, u'non': 411, u'tini': 411, u'ring': 410, u'certainli': 410, u'forget': 409, u'crunchi': 408, u'app': 406, u'center': 406, u'lemon': 406, u'market': 406, u'fanci': 406, u'limit': 403, u'fix': 402, u'spend': 402, u'view': 402, u'bell': 399, u'pot': 398, u'meatbal': 398, u'easili': 397, u'avocado': 396, u'suppos': 395, u'classic': 395, u'folk': 394, u'pad': 393, u'broth': 392, u'pleasant': 392, u'highli': 392}#, u'present': 391, u'downtown': 391, u'tonight': 390, u'chicago': 390, u'smile': 389, u'level': 386, u'korean': 385, u'despit': 384, u'pictur': 383, u'fair': 383, u'heavi': 381, u'calamari': 381, u'c': 381, u'sampl': 379, u'e': 376, u'unless': 376, u'sorri': 375, u'step': 375, u'touch': 374, u'frozen': 374, u'loud': 373, u'forward': 373, u'cocktail': 373, u'thru': 371, u'pop': 371, u'opinion': 371, u'hash': 369, u'hole': 369, u'bag': 369, u'damn': 368, u'terribl': 367, u'longer': 367, u'min': 366, u'dive': 366, u'broccoli': 365, u'rich': 364, u'cheesecak': 364, u'doubl': 364, u'speak': 364, u'pricey': 363, u'lol': 363, u'cash': 362, u'plain': 362, u'daughter': 361, u'patron': 361, u'appar': 361, u'load': 360, u'south': 359, u'dollar': 359, u'moist': 359, u'frequent': 358, u'true': 358, u'afternoon': 356, u'cute': 356, u'strawberri': 356, u'within': 356, u'offic': 355, u'bf': 354, u'occas': 354, u'book': 354, u'floor': 353, u'agre': 353, u'somewher': 352, u'conveni': 352, u'mediocr': 351, u'welcom': 350, u'teriyaki': 350, u'color': 350, u'http': 349, u'version': 348, u'ball': 348, u'imagin': 347, u'shot': 347, u'bottom': 346, u'simpli': 346, u'appear': 345, u'jalapeno': 345, u'beat': 345, u'gotten': 344, u'hold': 343, u'suck': 343, u'similar': 342, u'carn': 342, u'carrot': 341, u'complain': 340, u'mustard': 340, u'sad': 340, u'greek': 339, u'prime': 339, u'round': 338, u'platter': 338, u'alon': 338, u'www': 337, u'truli': 337, u'p': 336, u'contain': 336, u'japanes': 335, u'leftov': 335, u'de': 334, u'paid': 334, u'bare': 334, u'babi': 333, u'ahead': 333, u'worker': 333, u'nacho': 332, u'banana': 332, u'basil': 330, u'follow': 330, u'countri': 330, u'steam': 330, u'continu': 329, u'worst': 327, u'road': 327, u'outstand': 327, u'enter': 326, u'overli': 326, u'singl': 324, u'chipotl': 323, u'fat': 323, u'yelper': 322, u'asada': 322, u'anywher': 322, u'bathroom': 322, u'boy': 321, u'question': 321, u'awhil': 321, u'smaller': 319, u'explain': 319, u'guacamol': 319, u'heart': 318, u'mayo': 318, u'eggplant': 317, u'station': 316, u'meh': 314, u'odd': 314, u'peanut': 313, u'st': 313, u'batter': 312, u'chewi': 310, u'sugar': 309, u'monday': 308, u'outdoor': 307, u'state': 307, u'biz': 307, u'tuesday': 306, u'chair': 305, u'strong': 305, u'forgot': 304, u'mess': 304, u'cozi': 304, u'poor': 302, u'becom': 302, u'met': 302, u'na': 302, u'shred': 302, u'pepperoni': 302, u'cuisin': 301, u'break': 301, u'desert': 301, u'mozzarella': 299, u'particular': 299, u'interior': 298, u'popular': 297, u'bunch': 297, u'shell': 297, u'forev': 296, u'hell': 295, u'tough': 295, u'delish': 294, u'pittsburgh': 291, u'mini': 291, u'garden': 290, u'otherwis': 290, u'coke': 289, u'admit': 289, u'fare': 288, u'fall': 288, u'somewhat': 288, u'phone': 288, u'buffalo': 287, u'lamb': 287, u'soggi': 287, u'futur': 287, u'effici': 286, u'coconut': 286, u'aw': 286, u'summer': 286, u'daili': 286, u'horribl': 285, u'gross': 284, u'delight': 284, u'known': 284, u'yesterday': 284, u'east': 283, u'young': 282, u'section': 281, u'co': 281, u'fajita': 281, u'hey': 280, u'convers': 279, u'celebr': 279, u'chunk': 279, u'hummu': 277, u'arizona': 277, u'fire': 276, u'avoid': 276, u'caesar': 276, u'ravioli': 276, u'mcdonald': 275, u'none': 274, u'bone': 274, u'die': 273, u'surprisingli': 272, u'throw': 272, u'nearli': 272, u'spaghetti': 271, u'describ': 271, u'paper': 270, u'begin': 270, u'heaven': 269, u'nearbi': 267, u'flat': 267, u'skip': 267, u'per': 267, u'juic': 267, u'credit': 267, u'indian': 267, u'compani': 266, u'complimentari': 266, u'specialti': 266, u'cheesi': 266, u'parmesan': 265, u'clear': 265, u'cucumb': 264, u'relax': 263, u'pub': 263, u'son': 263, u'gem': 261, u'girlfriend': 261, u'throughout': 260, u'slaw': 260, u'own': 259, u'jack': 258, u'vietnames': 258, u'quesadilla': 258, u'mild': 257, u'dim': 257, u'lime': 257, u'pre': 256, u'allow': 255, u'brew': 254, u'overcook': 254, u'breast': 254, u'bother': 254, u'tap': 254, u'sum': 253, u'funni': 253, u'ten': 253, u'york': 253, u'chow': 252, u'afford': 252, u'tamal': 252, u'post': 252, u'alright': 252, u'accommod': 251, u'oz': 251, u'shake': 251, u'basket': 250, u'muffin': 250, u'featur': 249, u'accompani': 249, u'cowork': 248, u'beverag': 248, u'tend': 247, u'belli': 247, u'syrup': 247, u'fit': 246, u'mother': 246, u'separ': 245, u'notch': 245, u'cheddar': 243, u'pud': 243, u'diet': 243, u'martini': 243, u'overpr': 243, u'rave': 243, u'patti': 242, u'rude': 242, u'anymor': 242, u'north': 241, u'fabul': 241, u'wonton': 241, u'import': 240, u'sister': 240, u'caus': 240, u'movi': 240, u'takeout': 240, u'cinnamon': 239, u'older': 239, u'pile': 239, u'dad': 239, u'elsewher': 238, u'gift': 238, u'rang': 237, u'calori': 236, u'skin': 236, u'moment': 236, u'ta': 236, u'improv': 235, u'inform': 235, u'obvious': 235, u'stori': 234, u'ground': 234, u'promptli': 234, u'mistak': 233, u'larger': 233, u'clearli': 233, u'central': 233, u'fork': 233, u'particularli': 233, u'tempura': 233, u'annoy': 233, u'entertain': 232, u'hidden': 232, u'doubt': 232, u'straight': 232, u'pour': 231, u'parent': 231, u'difficult': 230, u'cabbag': 230, u'comment': 230, u'mein': 230, u'sun': 229, u'slider': 229, u'greas': 229, u'clam': 228, u'guest': 228, u'bore': 227, u'ridicul': 227, u'handl': 227, u'age': 227, u'confus': 226, u'wors': 226, u'mile': 226, u'memori': 226, u'english': 226, u'posit': 225, u'sesam': 225, u'sashimi': 225, u'vanilla': 225, u'onlin': 224, u'previou': 224, u'learn': 223, u'stomach': 223, u'product': 223, u'vibe': 223, u'california': 223, u'bruschetta': 222, u'cherri': 222, u'al': 222, u'brisket': 222, u'depend': 222, u'oven': 222, u'dozen': 221, u'finger': 221, u'sens': 221, u'ny': 221, u'wood': 221, u'apart': 220, u'board': 220, u'spectacular': 220, u'denni': 219, u'strang': 219, u'artichok': 219, u'closer': 219, u'alcohol': 218, u'giant': 218, u'refresh': 218, u'island': 217, u'fluffi': 217, u'balanc': 217, u'apolog': 217, u'charm': 216, u'marinara': 216, u'host': 216, u'count': 215, u'pineappl': 215, u'pecan': 215, u'macaroni': 215, u'west': 214, u'burn': 214, u'god': 214, u'warn': 214, u'express': 213, u'groupon': 213, u'major': 213, u'pesto': 212, u'savori': 212, u'invit': 212, u'variou': 211, u'bud': 211, u'everywher': 210, u'higher': 210, u'subway': 210, u'spent': 210, u'whip': 210, u'golden': 209, u'worri': 209, u'par': 209, u'pleasantli': 208, u'flour': 208, u'darn': 207, u'pan': 207, u'regist': 207, u'extens': 206, u'weather': 206, u'az': 206, u'deserv': 206, u'theme': 205, u'carri': 205, u'bigger': 205, u'peak': 205, u'oyster': 205, u'hawaiian': 204, u'snack': 204, u'pair': 204, u'goat': 203, u'polit': 203, u'sell': 202, u'toward': 202, u'thursday': 202, u'hamburg': 202, u'answer': 202, u'raw': 202, u'factor': 201, u'band': 201, u'inexpens': 201, u'pastrami': 201, u'lover': 201, u'assum': 200, u'steakhous': 200, u'overwhelm': 199, u'tart': 199, u'fountain': 199, u'cashier': 199, u'mr': 198, u'gon': 198, u'whenev': 198, u'six': 198, u'chill': 197, u'colleg': 197, u'freshli': 197, u'ass': 196, u'rel': 196, u'pool': 195, u'sake': 195, u'luckili': 195, u'layer': 195, u'win': 195, u'quiet': 194, u'accept': 194, u'pound': 194, u'groceri': 194, u'asparagu': 194, u'lost': 193, u'stuck': 193, u'omelett': 193, u'milk': 193, u'cater': 192, u'machin': 192, u'woman': 192, u'wear': 192, u'vinegar': 192, u'ayc': 192, u'ginger': 191, u'pastri': 191, u'besid': 191, u'yellow': 191, u'nut': 191, u'dont': 191, u'beyond': 191, u'process': 190, u'g': 190, u'napkin': 190, u'wheat': 189, u'correct': 189, u'soy': 188, u'bomb': 188, u'wild': 188, u'sick': 188, u'john': 187, u'certain': 187, u'sprout': 187, u'fatti': 186, u'experienc': 186, u'crap': 186}\n",
    "len(required_features)"
   ]
  },
  {
   "cell_type": "code",
   "execution_count": 3,
   "metadata": {
    "collapsed": false
   },
   "outputs": [
    {
     "name": "stdout",
     "output_type": "stream",
     "text": [
      "{u'good food': 831, u'forget': 0, u'chain': 389, u'lack': 1, u'month': 2, u'four': 3, u'one thing': 886, u'hot sauc': 849, u'asian': 4, u'go': 390, u'hate': 6, u'chili': 272, u'pad thai': 891, u'long time': 860, u'decid': 391, u'middl': 392, u'head': 363, u'tv': 7, u'friendli': 393, u'certainli': 394, u'yummi': 395, u'grab': 605, u'th': 8, u'larg': 345, u'worth': 9, u'bar area': 764, u'brown': 396, u'scottsdal': 397, u'liter': 11, u'everi': 12, u'sausag': 398, u'great place': 839, u'far': 13, u'dessert': 399, u'fan': 14, u'excit': 199, u'cook': 400, u'cool': 120, u'tri': 402, u'much better': 876, u'school': 15, u'salad': 453, u'bring': 590, u'valley': 718, u'take home': 938, u'list': 16, u'item': 403, u'look forward': 861, u'right away': 916, u'small': 17, u'guy': 405, u'dip': 406, u'park lot': 892, u'enjoy': 18, u'pork': 408, u'littl bit': 859, u'neighborhood': 19, u'thin': 459, u'tea': 20, u'bacon': 21, u'place eat': 893, u'sign': 409, u'past': 22, u'dish': 5, u'rate': 24, u'street': 25, u'booth': 411, u'pass': 26, u'run': 347, u'realli want': 912, u'bake': 412, u'casual': 27, u'folk': 413, u'even': 36, u'waffl': 29, u'chicken salad': 776, u'sub': 30, u'compar': 414, u'fine': 217, u'crust': 216, u'melt': 415, u'sour': 458, u'new': 32, u'ever': 33, u'told': 34, u'toast': 219, u'full': 35, u'chose': 418, u'gener': 419, u'never': 246, u'french': 420, u'satisfi': 249, u'fun': 280, u'slow': 594, u'let': 422, u'dine room': 794, u'along': 423, u'greasi': 37, u'sinc': 424, u'valu': 38, u'wait': 425, u'box': 426, u'buck': 427, u'great': 428, u'vegetarian': 39, u'french fri': 815, u'dri': 40, u'french toast': 816, u'amount': 41, u'smoke': 42, u'pick': 43, u'healthi': 429, u'extrem': 430, u'chang': 301, u'pack': 282, u'give place': 824, u'chanc': 432, u'love': 433, u'extra': 434, u'app': 435, u'prefer': 436, u'homemad': 44, u'restaur': 223, u'brought': 45, u'ask': 46, u'chicken fri': 775, u'famili': 47, u'duck': 437, u'total': 48, u'establish': 49, u'select': 50, u'highli': 51, u'creami': 439, u'use': 440, u'eye': 52, u'would': 53, u'menu item': 872, u'visit': 441, u'two': 54, u'next': 442, u'readi': 284, u'live': 443, u'call': 362, u'crab': 444, u'food pretti': 813, u'taken': 57, u'suppos': 445, u'type': 58, u'tell': 59, u'today': 446, u'sort': 447, u'sushi': 286, u'door': 60, u'big fan': 769, u'club': 448, u'peopl': 449, u'appet': 450, u'impress': 451, u'notic': 61, u'glass': 62, u'warm': 63, u'stick': 64, u'actual': 704, u'glad': 65, u'must': 66, u'town': 67, u'grill': 68, u'rice': 225, u'word': 69, u'room': 70, u'hour': 71, u'hous': 72, u'car': 454, u'prepar': 455, u'work': 73, u'uniqu': 456, u'soup': 457, u'mall': 74, u'vega': 416, u'whatev': 417, u'meet': 460, u'food alway': 807, u'employe': 461, u'salti': 75, u'give': 76, u'slightli': 351, u'chip': 463, u'share': 77, u'honey': 78, u'heard': 465, u'crazi': 466, u'want': 79, u'wow': 80, u'drive': 580, u'shrimp': 707, u'dress': 81, u'servic good': 923, u'huge': 82, u'cours': 83, u'end': 84, u'sit': 468, u'rather': 86, u'anoth': 87, u'comfort': 88, u'perhap': 89, u'write': 469, u'alway': 470, u'sunday': 471, u'black bean': 771, u'anyon': 472, u'instead': 473, u'simpl': 93, u'pizza': 94, u'sandwich': 95, u'okay': 96, u'w': 159, u'may': 474, u'stop': 228, u'chines': 97, u'spot': 476, u'drive thru': 796, u'chines restaur': 779, u'wrong': 98, u'birthday': 478, u'excel': 230, u'beauti': 99, u'taco': 480, u'date': 481, u'salsa': 100, u'fish taco': 805, u'averag': 101, u'man': 482, u'tomato': 483, u'short': 102, u'honestli': 484, u'qualiti food': 906, u'light': 485, u'counter': 486, u'favorit': 487, u'greet': 103, u'issu': 488, u'green': 104, u'parti': 105, u'first': 106, u'egg': 107, u'order': 108, u'patio': 109, u'wine': 110, u'mexican': 111, u'help': 112, u'bowl': 643, u'move': 491, u'orang': 113, u'soon': 114, u'hungri': 385, u'cold': 492, u'still': 493, u'perfect': 494, u'style': 115, u'group': 495, u'thank': 496, u'gave us': 822, u'la': 497, u'lo': 498, u'fix': 116, u'avocado': 117, u'hot': 91, u'late': 118, u'window': 499, u'delici': 119, u'margarita': 401, u'might': 121, u'good place': 832, u'non': 501, u'good': 122, u'return': 123, u'food': 124, u'tofu': 354, u'overal': 502, u'ye': 125, u'mention': 503, u'disappoint': 92, u'front': 505, u'day': 506, u'bread': 126, u'choic': 127, u'meat': 128, u'anyth': 508, u'alway good': 761, u'drop': 509, u'oliv': 510, u'authent': 129, u'easili': 130, u'roast': 131, u'rock': 511, u'found': 132, u'went': 133, u'crunchi': 134, u'meal': 135, u'mean': 136, u'fish': 137, u'hard': 138, u'idea': 139, u'potato salad': 901, u'realli': 140, u'first visit': 804, u'bland': 166, u'pita': 252, u'expect': 142, u'year': 515, u'girl': 516, u'saturday': 143, u'special': 517, u'place get': 894, u'space': 518, u'goe': 144, u'fantast': 168, u'everi time': 799, u'lunch dinner': 865, u'stuf': 519, u'com': 658, u'got': 146, u'size': 541, u'red': 520, u'food great': 810, u'insid': 521, u'look like': 863, u'also good': 758, u'friday': 147, u'differ': 148, u'free': 149, u'standard': 150, u'pleasant': 151, u'cooki': 152, u'reason': 153, u'base': 154, u'believ': 155, u'realli good': 909, u'put': 156, u'order chicken': 889, u'realli like': 910, u'card': 522, u'care': 523, u'ate': 157, u'love place': 864, u'fairli': 297, u'waiter': 524, u'http www': 850, u'could': 525, u'mac': 477, u'keep': 526, u'lunch special': 866, u'thing': 527, u'american': 158, u'would go': 951, u'place': 528, u'outsid': 529, u'soda': 160, u'cook perfectli': 785, u'star': 749, u'think': 530, u'waitress': 531, u'veggi': 532, u'origin': 533, u'pleas': 407, u'dine': 161, u'attent': 479, u'feel': 162, u'next time': 879, u'qualiti': 534, u'number': 163, u'one': 535, u'alreadi': 164, u'ice tea': 852, u'mexican restaur': 874, u'owner': 537, u'decid tri': 790, u'thick': 167, u'custom': 358, u'miss': 145, u'fanci': 169, u'com biz': 782, u'given': 542, u'spinach': 171, u'top': 172, u'perfectli': 544, u'sometim': 173, u'least': 174, u'citi': 545, u'green bean': 841, u'ton': 175, u'bartend': 546, u'white': 182, u'kid': 302, u'offer': 365, u'final': 548, u'carn asada': 773, u'low': 716, u'option': 178, u'especi': 550, u'morn': 241, u'season': 551, u'park': 179, u'took': 180, u'part': 181, u'mostli': 552, u'kept': 304, u'thai': 553, u'highli recommend': 845, u'pancak': 547, u'boyfriend': 555, u'serv': 556, u'chef': 183, u'kind': 184, u'b': 185, u'late night': 857, u'burger': 23, u'provid': 186, u'year ago': 955, u'crave': 187, u'matter': 188, u'cost': 410, u'store': 177, u'sweet potato': 935, u'minut': 189, u'ranch': 190, u'atmospher': 191, u'first time': 803, u'mind': 192, u'mine': 193, u'dine experi': 793, u'like place': 858, u'medium': 364, u'servic friendli': 922, u'tabl': 467, u'need': 560, u'seen': 194, u'seem': 195, u'turn': 85, u'saw': 562, u'juici': 196, u'sat': 563, u'pickl': 306, u'last visit': 856, u'probabl': 564, u'hit spot': 846, u'tast good': 940, u'filet': 565, u'bagel': 318, u'mix': 567, u'high': 464, u'chees': 308, u'take': 568, u'alway great': 762, u'combin': 489, u'noth': 569, u'blue': 28, u'play': 200, u'sure': 571, u'plenti': 201, u'though': 202, u'time go': 942, u'price': 573, u'knew': 574, u'salmon': 203, u'would definit': 950, u'buffet': 575, u'gravi': 204, u'regular': 205, u'mouth': 206, u'plan': 207, u'eaten': 208, u'charg': 209, u'mani time': 870, u'tradit': 211, u'servic great': 924, u'hot dog': 848, u'gyro': 576, u'seafood': 577, u'later': 578, u'cover': 212, u'corn beef': 786, u'crowd': 356, u'got ta': 837, u'get food': 823, u'yum': 582, u'clean': 214, u'hear': 367, u'left': 313, u'salt': 583, u'someth': 242, u'fact': 585, u'shop': 586, u'minut later': 875, u'could use': 787, u'time order': 943, u'show': 587, u'dine area': 792, u'abl': 31, u'cheap': 588, u'anyway': 589, u'deep fri': 791, u'yelp com': 956, u'diner': 350, u'quit good': 907, u'chicken': 592, u'someth els': 927, u'find': 218, u'staff': 593, u'egg roll': 797, u'absolut': 220, u'exactli': 554, u'locat': 595, u'salad bar': 917, u'pretti': 221, u'menu': 222, u'charlott': 314, u'look good': 862, u'hash brown': 844, u'also order': 759, u'tast like': 941, u'busi': 224, u'black': 597, u'combo': 598, u'fast food': 800, u'chines food': 778, u'feel like': 801, u'hope': 600, u'plate': 226, u'hit': 227, u'get': 601, u'watch': 475, u'joint': 602, u'bean': 603, u'five star': 806, u'suggest': 291, u'place go': 895, u'bar': 229, u'consist': 369, u'one time': 887, u'alway get': 760, u'cream chees': 788, u'sauc': 231, u'twice': 232, u'bad': 233, u'stuff': 604, u'wish': 733, u'deli': 90, u'last time': 855, u'steak': 234, u'husband': 607, u'view': 608, u'reserv': 611, u'set': 235, u'figur': 243, u'noodl': 609, u'seat': 610, u'see': 236, u'soup salad': 928, u'tender': 237, u'close': 238, u'sport': 612, u'good servic': 834, u'best': 239, u'wonder': 613, u'said': 240, u'great food': 838, u'review': 614, u'good price': 833, u'weird': 431, u'experi': 244, u'across': 616, u'side': 245, u'appreci': 247, u'job': 617, u'entir': 618, u'come': 619, u'price reason': 904, u'seem like': 919, u'kitchen': 248, u'water': 421, u'last': 250, u'omelet': 724, u'money': 666, u'howev': 251, u'cup': 322, u'etc': 621, u'like': 687, u'next door': 878, u'mani': 622, u'fri chicken': 817, u'whole': 253, u'across street': 757, u'friendli servic': 821, u'reason price': 913, u'wall': 623, u'sweet': 255, u'pot': 624, u'food servic': 814, u'crispi': 256, u'arriv': 625, u'walk': 626, u'scallop': 257, u'go get': 828, u'away': 584, u'turkey': 629, u'better': 748, u'second': 628, u'make sure': 869, u'decent': 632, u'fri': 259, u'coupl': 631, u'three': 260, u'empti': 261, u'saturday night': 918, u'beer': 262, u'much': 263, u'treat': 633, u'interest': 264, u'basic': 265, u'addit': 620, u'tini': 266, u'pm': 267, u'life': 268, u'immedi': 634, u'mushroom': 269, u'want go': 948, u'includ': 360, u'meatbal': 557, u'corner': 591, u'togeth': 637, u'chile': 271, u'quick': 404, u'brunch': 638, u'case': 639, u'ingredi': 640, u'main': 500, u'look': 273, u'hostess': 274, u'solid': 275, u'servic': 276, u'bill': 277, u'say': 558, u'comfort food': 784, u'n': 278, u'near': 279, u'line': 368, u'bean rice': 766, u'gave': 327, u'everyon': 281, u'wait staff': 947, u'opt': 328, u'fri rice': 818, u'almost': 641, u'broth': 285, u'deliv': 559, u'roll': 377, u'food came': 808, u'staff friendli': 932, u'rib': 287, u'breakfast': 561, u'sever': 288, u'decor': 289, u'cafe': 372, u'open': 540, u'receiv': 290, u'pay': 642, u'make': 292, u'friend order': 820, u'wait minut': 946, u'trip': 373, u'sweet sour': 936, u'pad': 645, u'split': 293, u'fill': 646, u'mexican food': 873, u'complet': 294, u'week': 647, u'would like': 952, u'finish': 648, u'pho': 649, u'time': 387, u'one best': 882, u'grill chicken': 842, u'drink': 650, u'upon': 651, u'someon': 652, u'coffe': 653, u'hand': 296, u'last night': 854, u'hole wall': 847, u'garlic': 298, u'refil': 299, u'new york': 877, u'tuna': 300, u'typic': 627, u'strip mall': 934, u'recent': 176, u'butter': 303, u'would say': 953, u'burrito': 655, u'entre': 305, u'lunch': 657, u'give tri': 826, u'hubbi': 659, u'well': 660, u'one favorit': 884, u'thought': 661, u'person': 307, u'custom servic': 789, u'without': 662, u'expens': 309, u'choos': 663, u'everyth': 310, u'tast': 311, u'spend': 312, u'usual': 664, u'mom': 684, u'less': 665, u'sound': 10, u'biz photo': 770, u'half': 504, u'ambianc': 316, u'lunch time': 867, u'rest': 667, u'sour cream': 929, u'la vega': 853, u'talk': 490, u'flavor': 668, u'yet': 317, u'note': 566, u'cut': 319, u'ham': 320, u'easi': 321, u'also': 197, u'enough': 615, u'point': 254, u'except': 670, u'littl': 671, u'servic alway': 920, u'add': 672, u'spring roll': 931, u'ok': 323, u'enchilada': 324, u'els': 325, u'save': 326, u'kick': 673, u'build': 198, u'earli': 674, u'complaint': 329, u'tri someth': 945, u'photo': 315, u'around': 675, u'mayb': 330, u'read': 676, u'big': 331, u'ladi': 678, u'piec': 679, u'dark': 680, u'game': 332, u'realiz': 681, u'five': 682, u'know': 683, u'food order': 811, u'world': 685, u'bit': 333, u'name': 507, u'side salad': 926, u'crisp': 686, u'onion ring': 888, u'onion': 688, u'incred': 689, u'ring': 538, u'server': 690, u'remind': 334, u'serious': 388, u'updat': 512, u'night': 335, u'best ever': 767, u'soft': 692, u'manag': 693, u'italian': 694, u'right': 336, u'old': 337, u'often': 338, u'deal': 339, u'spring': 340, u'back': 341, u'fruit': 654, u'mash potato': 871, u'lobster': 695, u'home': 696, u'guess': 170, u'textur': 570, u'friend': 549, u'chocol': 343, u'mood': 698, u'normal': 572, u'definit': 699, u'ice': 344, u'place order': 898, u'leav': 700, u'market': 438, u'great servic': 840, u'realli nice': 911, u'either': 691, u'pepper': 701, u'felt': 380, u'sever time': 925, u'quit': 630, u'corn': 348, u'local': 599, u'tortilla': 606, u'go back': 827, u'although': 702, u'friday night': 819, u'pasta': 703, u'bite': 543, u'super': 349, u'tri place': 944, u'rare': 452, u'beef': 258, u'oh': 705, u'biscuit': 706, u'curri': 462, u'restaur week': 914, u'unfortun': 352, u'chop': 708, u'dinner': 353, u'old school': 881, u'place like': 897, u'felt like': 802, u'done': 165, u'drink order': 795, u'give star': 825, u'pretti much': 903, u'food good': 809, u'real': 283, u'consid': 381, u'coupon': 710, u'chain restaur': 774, u'pretti good': 902, u'place good': 896, u'due': 711, u'chip salsa': 780, u'want tri': 949, u'good time': 836, u'even though': 798, u'strip': 513, u'wrap': 355, u'hang': 295, u'veget': 732, u'behind': 596, u'fast': 357, u'bar food': 765, u'area': 713, u'long': 536, u'happi': 539, u'avail': 359, u'start': 714, u'appl': 715, u'one day': 883, u'way': 361, u'music': 55, u'came back': 772, u'amaz': 210, u'deliveri': 719, u'ago': 383, u'bottl': 720, u'buy': 721, u'taco bell': 937, u'rice bean': 915, u'recommend': 56, u'oil': 141, u'yeah': 514, u'noth special': 880, u'heat': 366, u'spici': 722, u'bun': 723, u'back tri': 763, u'mac chees': 868, u'stand': 709, u'eat': 725, u'spice': 726, u'pull': 727, u'rush': 728, u'made': 729, u'dirti': 730, u'happen': 743, u'possibl': 731, u'come back': 783, u'chicken sandwich': 777, u'potato': 384, u'us': 370, u'limit': 734, u'bbq': 635, u'cake': 735, u'problem': 736, u'quickli': 737, u'place pretti': 899, u'bell': 669, u'gone': 738, u'place realli': 900, u'tasti': 739, u'ad': 740, u'classic': 371, u'request': 579, u'servic food': 921, u'pie': 741, u'deep': 742, u'dog': 213, u'gon na': 830, u'face': 636, u'check': 644, u'order food': 890, u'cream': 744, u'happi hour': 843, u'surpris': 342, u'lemon': 374, u'good thing': 835, u'tip': 375, u'event': 745, u'lettuc': 712, u'other': 746, u'ice cream': 851, u'rememb': 747, u'varieti': 677, u'wing': 581, u'smell': 376, u'food place': 812, u'nice': 378, u'www yelp': 954, u'realli enjoy': 908, u'phoenix': 379, u'center': 656, u'stay': 750, u'slice': 697, u'kinda': 751, u'fresh': 752, u'weekend': 382, u'co worker': 781, u'one place': 885, u'yelp': 753, u'wife': 754, u'came': 386, u'lot': 717, u'mash': 755, u'portion': 756, u'take order': 939, u'sport bar': 930, u'awesom': 215, u'go wrong': 829, u'prime rib': 905, u'plu': 346, u'understand': 270, u'best part': 768, u'still good': 933}\n"
     ]
    }
   ],
   "source": [
    "print all_features"
   ]
  },
  {
   "cell_type": "code",
   "execution_count": 67,
   "metadata": {
    "collapsed": true
   },
   "outputs": [],
   "source": [
    "from nltk.corpus import wordnet as wn"
   ]
  },
  {
   "cell_type": "code",
   "execution_count": 84,
   "metadata": {
    "collapsed": false
   },
   "outputs": [
    {
     "data": {
      "text/plain": [
       "[Synset('delay.n.01'),\n",
       " Synset('delay.n.02'),\n",
       " Synset('delay.v.01'),\n",
       " Synset('delay.v.02'),\n",
       " Synset('stay.v.06'),\n",
       " Synset('check.v.07')]"
      ]
     },
     "execution_count": 84,
     "metadata": {},
     "output_type": "execute_result"
    }
   ],
   "source": [
    "wn.synsets('delay')\n",
    "#cat = wn.synset('amazing')\n",
    "#dog.path_similarity(cat)"
   ]
  },
  {
   "cell_type": "code",
   "execution_count": 156,
   "metadata": {
    "collapsed": false
   },
   "outputs": [
    {
     "data": {
      "text/plain": [
       "{'really good': 3,\n",
       " ('sandwich', 0.15509518477043674): 267,\n",
       " 'goodfood': 508,\n",
       " ('day', 0.125979843225084): 298,\n",
       " u'four': 3,\n",
       " u'asian': 4,\n",
       " u'hate': 6,\n",
       " u'pad thai': 15,\n",
       " 'food always': 21,\n",
       " 'pretty decent': 293,\n",
       " 'getfood': 145,\n",
       " (('good', 'thing'), 66): 134,\n",
       " u'worth': 9,\n",
       " u'lack': 1,\n",
       " ('waitress', 0.14532984977139124): 87,\n",
       " ('two', 0.16390328151986183): 456,\n",
       " u'deli': 90,\n",
       " 'eggrolls': 159,\n",
       " ('got', 0.2650242627846211): 222,\n",
       " 'every': 128,\n",
       " ('cheese', 0.24897349757372153): 227,\n",
       " u'school': 15,\n",
       " ('salad', 0.24617394550205302): 228,\n",
       " ('want', 0.15565509518477044): 266,\n",
       " u'look forward': 861,\n",
       " (('chips', 'salsa'), 74): 129,\n",
       " u'enjoy': 18,\n",
       " u'littl bit': 859,\n",
       " u'highli recommend': 845,\n",
       " u'bacon': 21,\n",
       " u'chef': 183,\n",
       " u'crave': 187,\n",
       " u'street': 25,\n",
       " ('sauce', 0.2828216851730895): 21,\n",
       " u'even': 93,\n",
       " ('big', 0.1354922279792746): 481,\n",
       " 'dim sum': 97,\n",
       " ('service', 0.43673012318029114): 207,\n",
       " (('looked', 'like'), 80): 370,\n",
       " u'new': 32,\n",
       " 'servicealways': 529,\n",
       " u'ever': 108,\n",
       " u'told': 34,\n",
       " ('place', 0.7359089212392684): 202,\n",
       " (('really', 'like'), 40): 197,\n",
       " (('taco', 'bell'), 63): 140,\n",
       " ('order', 0.27979274611398963): 421,\n",
       " u'bean rice': 766,\n",
       " (('place', 'like'), 79): 371,\n",
       " 'mac cheese': 120,\n",
       " 'good though': 162,\n",
       " u'saturday night': 918,\n",
       " (('next', 'door'), 40): 198,\n",
       " ('though', 0.194662187383352): 242,\n",
       " u'french fri': 815,\n",
       " u'dri': 40,\n",
       " ('one', 0.6067929457870673): 4,\n",
       " u'smoke': 42,\n",
       " u'still good': 308,\n",
       " u'would say': 151,\n",
       " ('bit', 0.1952220977976857): 241,\n",
       " ('way', 0.21064663618549967): 44,\n",
       " u'homemad': 44,\n",
       " u'brought': 45,\n",
       " u'total': 48,\n",
       " u'highli': 51,\n",
       " u'would': 132,\n",
       " 'food pretty': 137,\n",
       " u'chain restaur': 774,\n",
       " ('around', 0.1574134552580013): 78,\n",
       " u'call': 362,\n",
       " u'food pretti': 813,\n",
       " u'care': 523,\n",
       " u'type': 58,\n",
       " u'tell': 59,\n",
       " ('much', 0.28184193337687785): 22,\n",
       " u'notic': 61,\n",
       " u'glass': 62,\n",
       " u'warm': 63,\n",
       " 'spring rolls': 211,\n",
       " u'must': 66,\n",
       " (('food', 'great'), 298): 523,\n",
       " ('bread', 0.1455767077267637): 277,\n",
       " u'word': 69,\n",
       " u'room': 70,\n",
       " 'yearsago': 536,\n",
       " u'work': 73,\n",
       " u'first time': 229,\n",
       " (('iced', 'tea'), 88): 352,\n",
       " (('would', 'definitely'), 191): 554,\n",
       " u'food alway': 807,\n",
       " u'give': 241,\n",
       " ('dinner', 0.1394513389941215): 94,\n",
       " (('seemed', 'like'), 66): 135,\n",
       " u'honey': 78,\n",
       " ('fried', 0.14669652855543114): 276,\n",
       " (('something', 'else'), 51): 156,\n",
       " u'want': 250,\n",
       " u'staff friendli': 932,\n",
       " u'everi': 12,\n",
       " u'keep': 526,\n",
       " (('pretty', 'good'), 673): 300,\n",
       " u'end': 84,\n",
       " u'turn': 85,\n",
       " u'hot': 267,\n",
       " ('menu', 0.2965658827920866): 219,\n",
       " u'disappoint': 92,\n",
       " u'pizza': 275,\n",
       " (('service', 'great'), 83): 363,\n",
       " u'less': 665,\n",
       " u'chines': 97,\n",
       " 'highlyrecommend': 560,\n",
       " u'chines restaur': 779,\n",
       " u'wrong': 98,\n",
       " u'beauti': 99,\n",
       " u'salsa': 100,\n",
       " u'fish taco': 805,\n",
       " u'averag': 101,\n",
       " u'qualiti food': 906,\n",
       " (('service', 'great'), 305): 522,\n",
       " u'greet': 103,\n",
       " u'green': 104,\n",
       " u'order': 306,\n",
       " u'wine': 110,\n",
       " 'goodenough': 395,\n",
       " u'orang': 113,\n",
       " ('dinner', 0.1707726763717805): 257,\n",
       " u'good servic': 834,\n",
       " ('lot', 0.14800298618887645): 274,\n",
       " 'barfood': 374,\n",
       " u'fix': 116,\n",
       " u'avocado': 117,\n",
       " u'better': 25,\n",
       " ('ordered', 0.3445315416200075): 214,\n",
       " (('good', 'service'), 313): 519,\n",
       " 'lunch specials': 6,\n",
       " u'bread': 59,\n",
       " u'choic': 127,\n",
       " u'meat': 62,\n",
       " (('drive', 'thru'), 95): 115,\n",
       " ('came', 0.24449421425905188): 229,\n",
       " u'roast': 131,\n",
       " (('really', 'like'), 117): 328,\n",
       " u'went': 74,\n",
       " u'crunchi': 134,\n",
       " u'meal': 76,\n",
       " u'mean': 136,\n",
       " (('feel', 'like'), 292): 524,\n",
       " ('know', 0.2488569562377531): 27,\n",
       " 'fridaynight': 359,\n",
       " u'tip': 375,\n",
       " u'saturday': 143,\n",
       " u'goe': 144,\n",
       " 'twostars': 133,\n",
       " u'everi time': 799,\n",
       " ('soup', 0.14725643896976484): 275,\n",
       " (('little', 'bit'), 87): 356,\n",
       " 'mashed potatoes': 104,\n",
       " u'got': 106,\n",
       " (('really', 'good'), 104): 114,\n",
       " 'springrolls': 195,\n",
       " 'somethingelse': 156,\n",
       " (('menu', 'items'), 162): 576,\n",
       " u'right away': 71,\n",
       " u'hang': 295,\n",
       " 'little': 178,\n",
       " u'free': 149,\n",
       " u'standard': 150,\n",
       " ('still', 0.17581187010078386): 253,\n",
       " ('great', 0.577461139896373): 404,\n",
       " 'wanted': 124,\n",
       " u'ate': 157,\n",
       " u'lunch special': 141,\n",
       " ('well', 0.2550620509470934): 24,\n",
       " u'soda': 160,\n",
       " (('food', 'quality'), 44): 179,\n",
       " u'refil': 299,\n",
       " u'perfectli': 544,\n",
       " (('really', 'like'), 239): 533,\n",
       " 'minuteslater': 119,\n",
       " u'alreadi': 164,\n",
       " 'another': 170,\n",
       " u'thick': 167,\n",
       " u'fantast': 168,\n",
       " ('hot', 0.16554684583799925): 261,\n",
       " u'com biz': 107,\n",
       " 'service': 181,\n",
       " u'spinach': 171,\n",
       " u'top': 172,\n",
       " u'sometim': 173,\n",
       " 'big deal': 190,\n",
       " 'placego': 556,\n",
       " ('chicken', 0.39353363814500325): 14,\n",
       " ('best', 0.1690929451287794): 258,\n",
       " 'decided try': 201,\n",
       " 'frenchtoast': 585,\n",
       " 'really really': 206,\n",
       " 'pretty much': 207,\n",
       " u'took': 208,\n",
       " 'tastes like': 210,\n",
       " (('right', 'amount'), 149): 593,\n",
       " ('chicken', 0.40369540873460247): 211,\n",
       " (('hit', 'miss'), 88): 353,\n",
       " u'provid': 186,\n",
       " ('back', 0.3410189982728843): 412,\n",
       " u'second': 628,\n",
       " 'sourcream': 571,\n",
       " u'matter': 188,\n",
       " (('quality', 'food'), 70): 393,\n",
       " (('old', 'school'), 78): 373,\n",
       " u'minut': 189,\n",
       " (('even', 'though'), 322): 514,\n",
       " ('friendly', 0.1506159014557671): 272,\n",
       " u'pass': 26,\n",
       " u'mind': 192,\n",
       " u'mine': 193,\n",
       " u'seen': 194,\n",
       " u'seem': 195,\n",
       " (('go', 'back'), 206): 100,\n",
       " u'go wrong': 255,\n",
       " u'last visit': 258,\n",
       " u'hit spot': 846,\n",
       " ('said', 0.23971260613977793): 36,\n",
       " ('order', 0.29992534527808884): 218,\n",
       " u'season': 551,\n",
       " u'alway great': 762,\n",
       " 'padthai': 568,\n",
       " u'blue': 28,\n",
       " ('another', 0.13157894736842105): 290,\n",
       " ('food', 0.9176931690929452): 201,\n",
       " u'plenti': 201,\n",
       " u'though': 281,\n",
       " u'would definit': 950,\n",
       " u'gravi': 204,\n",
       " u'chicken salad': 776,\n",
       " u'mouth': 206,\n",
       " (('could', 'get'), 40): 194,\n",
       " u'tradit': 211,\n",
       " u'corn beef': 786,\n",
       " u'crowd': 356,\n",
       " 'definitely': 163,\n",
       " ('try', 0.22153788727136992): 234,\n",
       " u'came': 307,\n",
       " u'minut later': 875,\n",
       " u'could use': 787,\n",
       " u'dine area': 792,\n",
       " u'crust': 216,\n",
       " u'deep fri': 791,\n",
       " u'yelp com': 176,\n",
       " (('come', 'back'), 129): 105,\n",
       " u'comfort food': 784,\n",
       " u'toast': 219,\n",
       " u'absolut': 220,\n",
       " u'servic food': 921,\n",
       " u'salad bar': 19,\n",
       " u'menu': 22,\n",
       " u'restaur': 223,\n",
       " ('say', 0.1998693664271718): 48,\n",
       " u'busi': 224,\n",
       " u'chines food': 778,\n",
       " 'severaltimes': 558,\n",
       " u'plate': 226,\n",
       " (('last', 'time'), 219): 539,\n",
       " (('decided', 'try'), 69): 398,\n",
       " u'place like': 264,\n",
       " 'reasonably priced': 55,\n",
       " u'late night': 219,\n",
       " 'nothing special': 57,\n",
       " u'bar': 61,\n",
       " (('would', 'come'), 84): 358,\n",
       " u'one time': 63,\n",
       " u'sauc': 231,\n",
       " u'twice': 232,\n",
       " u'bad': 69,\n",
       " u'steak': 234,\n",
       " ('special', 0.1192573402417962): 498,\n",
       " ('going', 0.14184397163120568): 278,\n",
       " ('us', 0.2207913400522583): 235,\n",
       " (('next', 'time'), 250): 307,\n",
       " u'best': 91,\n",
       " u'said': 94,\n",
       " u'food place': 812,\n",
       " u'away': 584,\n",
       " u'figur': 243,\n",
       " ('never', 0.24493794905290658): 30,\n",
       " u'side': 140,\n",
       " u'never': 113,\n",
       " 'customer service': 112,\n",
       " 'however': 114,\n",
       " (('give', 'place'), 43): 181,\n",
       " (('good', 'thing'), 69): 399,\n",
       " u'kitchen': 248,\n",
       " u'howev': 251,\n",
       " 'rice beans': 256,\n",
       " 'las vegas': 18,\n",
       " ('last', 0.12046632124352331): 497,\n",
       " u'pita': 252,\n",
       " u'com': 658,\n",
       " 'asked': 153,\n",
       " ('going', 0.13367875647668392): 484,\n",
       " u'friendli servic': 821,\n",
       " u'food servic': 814,\n",
       " ('get', 0.5264532984977139): 5,\n",
       " 'hit miss': 167,\n",
       " 'seemedlike': 351,\n",
       " (('great', 'place'), 392): 511,\n",
       " u'beef': 233,\n",
       " 'cameback': 121,\n",
       " u'fri': 259,\n",
       " u'three': 260,\n",
       " u'beer': 262,\n",
       " u'much': 192,\n",
       " u'interest': 264,\n",
       " u'basic': 265,\n",
       " u'tini': 266,\n",
       " u'quickli': 737,\n",
       " u'life': 268,\n",
       " u'mushroom': 269,\n",
       " u'meatbal': 557,\n",
       " (('next', 'time'), 537): 504,\n",
       " u'chile': 271,\n",
       " u'chili': 272,\n",
       " 'would definitely': 215,\n",
       " ('us', 0.3559764859568909): 17,\n",
       " (('anything', 'else'), 42): 190,\n",
       " u'servic': 276,\n",
       " u'gon na': 84,\n",
       " u'n': 278,\n",
       " u'near': 279,\n",
       " 'onion rings': 231,\n",
       " (('sub', 'par'), 45): 174,\n",
       " 'foodgood': 505,\n",
       " 'woulddefinitely': 554,\n",
       " u'broth': 285,\n",
       " u'sushi': 286,\n",
       " ('happy', 0.13575129533678756): 479,\n",
       " u'sever': 288,\n",
       " 'several times': 47,\n",
       " ('want', 0.18288700195950358): 61,\n",
       " u'receiv': 290,\n",
       " u'suggest': 291,\n",
       " u'make': 263,\n",
       " ('well', 0.28929188255613125): 417,\n",
       " ('lunch', 0.20411495754408884): 46,\n",
       " u'split': 293,\n",
       " (('chips', 'salsa'), 166): 315,\n",
       " u'complet': 294,\n",
       " (('cream', 'cheese'), 48): 164,\n",
       " u'hand': 296,\n",
       " u'fairli': 297,\n",
       " u'would go': 144,\n",
       " u'garlic': 298,\n",
       " ('see', 0.15937295885042455): 74,\n",
       " u'tuna': 300,\n",
       " (('ice', 'cream'), 417): 509,\n",
       " u'kid': 302,\n",
       " u'butter': 303,\n",
       " u'kept': 304,\n",
       " u'deal': 339,\n",
       " ('went', 0.1849570735349011): 246,\n",
       " u'everyth': 310,\n",
       " u'left': 313,\n",
       " 'wouldgo': 333,\n",
       " u'charlott': 314,\n",
       " u'photo': 315,\n",
       " u'biz photo': 770,\n",
       " u'yet': 317,\n",
       " u'note': 566,\n",
       " u'ham': 320,\n",
       " u'easi': 321,\n",
       " (('dining', 'room'), 105): 338,\n",
       " ('bad', 0.1939156401642404): 243,\n",
       " u'enchilada': 324,\n",
       " u'els': 325,\n",
       " u'save': 326,\n",
       " 'friedrice': 527,\n",
       " u'gave': 327,\n",
       " u'opt': 328,\n",
       " ('even', 0.22573402417962005): 433,\n",
       " (('back', 'try'), 229): 535,\n",
       " u'mayb': 330,\n",
       " u'surpris': 342,\n",
       " ('rice', 0.1472893533638145): 86,\n",
       " (('prime', 'rib'), 147): 597,\n",
       " (('get', 'food'), 60): 145,\n",
       " u'remind': 334,\n",
       " (('also', 'ordered'), 49): 161,\n",
       " u'night': 72,\n",
       " u'right': 78,\n",
       " u'old': 337,\n",
       " 'stafffriendly': 549,\n",
       " ('little', 0.2842832469775475): 420,\n",
       " ('wait', 0.13065630397236616): 486,\n",
       " (('highly', 'recommend'), 185): 560,\n",
       " 'dining room': 230,\n",
       " ('even', 0.22284434490481522): 233,\n",
       " u'best part': 277,\n",
       " (('www', 'yelp'), 174): 566,\n",
       " u'ice': 344,\n",
       " 'everything': 101,\n",
       " u'place eat': 893,\n",
       " u'sever time': 925,\n",
       " (('potato', 'salad'), 177): 564,\n",
       " u'corn': 348,\n",
       " (('drink', 'order'), 53): 152,\n",
       " 'prettymuch': 532,\n",
       " (('across', 'street'), 43): 183,\n",
       " 'parkinglot': 528,\n",
       " u'super': 349,\n",
       " ('way', 0.1494818652849741): 464,\n",
       " (('tastes', 'like'), 43): 185,\n",
       " u'diner': 350,\n",
       " 'always good': 81,\n",
       " (('prime', 'rib'), 48): 165,\n",
       " u'unfortun': 352,\n",
       " u'dinner': 143,\n",
       " u'black bean': 771,\n",
       " 'every time': 150,\n",
       " 'makesure': 525,\n",
       " 'lastvisit': 172,\n",
       " (('las', 'vegas'), 206): 546,\n",
       " (('parking', 'lot'), 272): 528,\n",
       " 'friedchicken': 538,\n",
       " (('bar', 'area'), 150): 590,\n",
       " ('great', 0.3325867861142217): 215,\n",
       " u'wrap': 355,\n",
       " ('two', 0.23089483997387328): 38,\n",
       " ('hot', 0.17037996545768566): 449,\n",
       " u'bar food': 174,\n",
       " ('back', 0.3482642777155655): 213,\n",
       " 'people': 80,\n",
       " u'happi': 539,\n",
       " u'avail': 359,\n",
       " (('back', 'try'), 83): 362,\n",
       " u'way': 194,\n",
       " ('ordered', 0.26459412780656305): 426,\n",
       " u'music': 55,\n",
       " u'came back': 195,\n",
       " 'happy': 46,\n",
       " u'head': 363,\n",
       " u'medium': 364,\n",
       " (('food', 'ok'), 54): 151,\n",
       " u'offer': 365,\n",
       " u'recommend': 56,\n",
       " 'really enjoyed': 285,\n",
       " ('got', 0.2676165803108808): 425,\n",
       " u'heat': 366,\n",
       " u'hear': 367,\n",
       " ('next', 0.12564766839378239): 492,\n",
       " ('area', 0.13344531541620008): 288,\n",
       " u'come back': 222,\n",
       " u'chicken sandwich': 777,\n",
       " ('salad', 0.2447322970639033): 429,\n",
       " ('nothing', 0.189745264532985): 56,\n",
       " (('bar', 'area'), 70): 396,\n",
       " (('needless', 'say'), 48): 163,\n",
       " u'classic': 371,\n",
       " (('feel', 'like'), 85): 123,\n",
       " 'reallylike': 533,\n",
       " ('sandwich', 0.14758203799654576): 467,\n",
       " u'check': 644,\n",
       " 'menu items': 122,\n",
       " u'happi hour': 843,\n",
       " u'love place': 89,\n",
       " u'good thing': 260,\n",
       " ('good', 1.0139032815198619): 400,\n",
       " u'excel': 230,\n",
       " ('take', 0.13557858376511225): 480,\n",
       " 'onebest': 512,\n",
       " (('mac', 'cheese'), 191): 555,\n",
       " 'another minutes': 272,\n",
       " ('sauce', 0.2534527808883912): 224,\n",
       " u'smell': 376,\n",
       " u'roll': 377,\n",
       " (('iced', 'tea'), 156): 582,\n",
       " u'phoenix': 379,\n",
       " (('love', 'place'), 312): 520,\n",
       " u'felt': 380,\n",
       " ('bar', 0.20411495754408884): 45,\n",
       " u'consid': 381,\n",
       " u'weekend': 382,\n",
       " ('long', 0.14892227302416722): 85,\n",
       " (('looks', 'like'), 51): 155,\n",
       " ('last', 0.17896799477465708): 63,\n",
       " 'customerservice': 128,\n",
       " u'potato': 384,\n",
       " ('still', 0.18288700195950358): 62,\n",
       " (('top', 'notch'), 148): 596,\n",
       " u'time': 303,\n",
       " u'plu': 346,\n",
       " u'serious': 388,\n",
       " ('side', 0.14010450685826256): 91,\n",
       " 'drivethru': 327,\n",
       " 'muchbetter': 541,\n",
       " u'chain': 389,\n",
       " 'seemed like': 5,\n",
       " u'park lot': 892,\n",
       " u'time order': 943,\n",
       " u'long time': 16,\n",
       " u'decid': 391,\n",
       " u'middl': 392,\n",
       " (('pretty', 'much'), 91): 117,\n",
       " (('three', 'stars'), 112): 332,\n",
       " u'yummi': 395,\n",
       " ('great', 0.19333768778576094): 51,\n",
       " u'big fan': 769,\n",
       " ('two', 0.1784247853676745): 252,\n",
       " (('right', 'away'), 163): 573,\n",
       " ('pizza', 0.22273024167210972): 39,\n",
       " u'bar area': 36,\n",
       " u'brown': 396,\n",
       " u'scottsdal': 397,\n",
       " (('food', 'good'), 114): 109,\n",
       " (('seemed', 'like'), 92): 351,\n",
       " ('around', 0.13385146804835923): 483,\n",
       " u'cook': 400,\n",
       " (('best', 'part'), 43): 186,\n",
       " (('always', 'good'), 262): 530,\n",
       " u'cool': 120,\n",
       " (('take', 'order'), 57): 148,\n",
       " (('food', 'good'), 340): 303,\n",
       " 'takeorder': 148,\n",
       " ('side', 0.1791713325867861): 251,\n",
       " u'item': 403,\n",
       " ('people', 0.21456564337034617): 43,\n",
       " u'cooki': 152,\n",
       " 'saladbar': 357,\n",
       " u'dip': 406,\n",
       " u'pork': 408,\n",
       " (('cooked', 'perfectly'), 154): 583,\n",
       " u'sign': 409,\n",
       " (('place', 'go'), 190): 556,\n",
       " u'cost': 410,\n",
       " 'one star': 87,\n",
       " (('really', 'good'), 341): 302,\n",
       " u'bake': 412,\n",
       " (('dim', 'sum'), 74): 382,\n",
       " 'drinks': 273,\n",
       " (('food', 'good'), 508): 505,\n",
       " u'someth els': 927,\n",
       " u'melt': 415,\n",
       " 'dimsum': 382,\n",
       " u'five star': 806,\n",
       " ('tasty', 0.1274729376633072): 296,\n",
       " u'gener': 419,\n",
       " u'french': 420,\n",
       " u'water': 421,\n",
       " u'along': 423,\n",
       " (('long', 'time'), 89): 120,\n",
       " u'wait': 127,\n",
       " u'box': 426,\n",
       " u'buck': 427,\n",
       " ('night', 0.16796200345423143): 451,\n",
       " ('say', 0.17506532288167226): 254,\n",
       " 'cookedperfectly': 583,\n",
       " u'french toast': 244,\n",
       " u'healthi': 429,\n",
       " u'extrem': 430,\n",
       " u'weird': 431,\n",
       " u'give tri': 826,\n",
       " u'love': 158,\n",
       " 'fried chicken': 159,\n",
       " u'extra': 434,\n",
       " (('every', 'time'), 95): 348,\n",
       " u'prefer': 436,\n",
       " 'serviceslow': 192,\n",
       " (('rice', 'beans'), 77): 377,\n",
       " 'lunchspecials': 368,\n",
       " u'market': 438,\n",
       " u'creami': 439,\n",
       " (('really', 'really'), 40): 193,\n",
       " (('long', 'time'), 80): 367,\n",
       " ('went', 0.24395819725669496): 31,\n",
       " u'menu item': 872,\n",
       " u'visit': 441,\n",
       " u'live': 443,\n",
       " (('egg', 'roll'), 47): 170,\n",
       " (('lunch', 'specials'), 80): 368,\n",
       " u'today': 446,\n",
       " ('sandwich', 0.14532984977139124): 88,\n",
       " 'food ok': 202,\n",
       " u'club': 448,\n",
       " u'peopl': 449,\n",
       " 'yelpcom': 563,\n",
       " u'appet': 450,\n",
       " (('fried', 'rice'), 142): 319,\n",
       " u'great place': 216,\n",
       " 'orderedchicken': 376,\n",
       " u'take home': 221,\n",
       " u'car': 454,\n",
       " u'prepar': 455,\n",
       " u'uniqu': 456,\n",
       " (('go', 'way'), 71): 389,\n",
       " u'soup': 228,\n",
       " u'sour': 458,\n",
       " u'whatev': 417,\n",
       " ('since', 0.17245240761478164): 256,\n",
       " 'seems like': 291,\n",
       " ('around', 0.13960432997387084): 281,\n",
       " (('one', 'time'), 48): 166,\n",
       " (('seems', 'like'), 73): 385,\n",
       " u'slightli': 351,\n",
       " u'chip': 463,\n",
       " u'heard': 465,\n",
       " u'crazi': 466,\n",
       " u'tabl': 467,\n",
       " u'restaur week': 914,\n",
       " ('menu', 0.24232527759634226): 32,\n",
       " u'dress': 81,\n",
       " u'write': 469,\n",
       " 'rightaway': 573,\n",
       " u'sunday': 471,\n",
       " u'anyon': 472,\n",
       " u'actual': 704,\n",
       " 'reasonablypriced': 594,\n",
       " (('gon', 'na'), 43): 184,\n",
       " u'may': 474,\n",
       " (('would', 'like'), 56): 149,\n",
       " u'spot': 476,\n",
       " u'mac': 477,\n",
       " u'birthday': 478,\n",
       " u'date': 481,\n",
       " u'man': 482,\n",
       " 'combiz': 569,\n",
       " (('new', 'york'), 164): 572,\n",
       " 'maybe': 296,\n",
       " u'favorit': 487,\n",
       " ('nice', 0.2762224710712953): 221,\n",
       " u'servic friendli': 922,\n",
       " u'combin': 489,\n",
       " u'talk': 490,\n",
       " 'iced tea': 8,\n",
       " u'cold': 492,\n",
       " u'still': 13,\n",
       " (('bar', 'food'), 78): 374,\n",
       " u'group': 495,\n",
       " u'thank': 496,\n",
       " (('good', 'place'), 192): 553,\n",
       " ('service', 0.396286701208981): 410,\n",
       " u'window': 499,\n",
       " u'main': 500,\n",
       " u'good place': 37,\n",
       " (('place', 'pretty'), 73): 386,\n",
       " u'non': 501,\n",
       " u'tofu': 354,\n",
       " 'wwwyelp': 566,\n",
       " u'lunch': 50,\n",
       " (('late', 'night'), 207): 544,\n",
       " u'half': 504,\n",
       " (('good', 'great'), 87): 355,\n",
       " u'name': 507,\n",
       " u'drop': 509,\n",
       " u'oliv': 510,\n",
       " (('years', 'ago'), 228): 536,\n",
       " u'rock': 511,\n",
       " u'updat': 512,\n",
       " (('egg', 'roll'), 71): 390,\n",
       " u'yeah': 514,\n",
       " ('would', 0.28704663212435233): 419,\n",
       " u'year': 515,\n",
       " u'girl': 516,\n",
       " u'ice cream': 292,\n",
       " ('back', 0.4627694317439582): 8,\n",
       " 'foodservice': 550,\n",
       " u'space': 518,\n",
       " ('beef', 0.14101899827288428): 474,\n",
       " ('nice', 0.27003454231433505): 423,\n",
       " u'also good': 758,\n",
       " 'someoneelse': 189,\n",
       " 'parking lot': 115,\n",
       " ('little', 0.21848465055519267): 41,\n",
       " (('parking', 'lot'), 122): 326,\n",
       " u'grab': 605,\n",
       " u'card': 522,\n",
       " ('bread', 0.15251469627694317): 83,\n",
       " u'tortilla': 606,\n",
       " u'waiter': 524,\n",
       " 'sub par': 138,\n",
       " u'thing': 142,\n",
       " (('like', 'place'), 74): 381,\n",
       " u'place': 145,\n",
       " u'cook perfectli': 785,\n",
       " u'think': 299,\n",
       " u'first': 155,\n",
       " u'origin': 533,\n",
       " 'cheese': 156,\n",
       " u'one': 165,\n",
       " u'ice tea': 852,\n",
       " u'fast': 357,\n",
       " u'decid tri': 790,\n",
       " u'ring': 538,\n",
       " 'eventhough': 514,\n",
       " u'open': 540,\n",
       " u'size': 541,\n",
       " (('mashed', 'potatoes'), 175): 565,\n",
       " u'given': 542,\n",
       " 'looked like': 179,\n",
       " 'even better': 185,\n",
       " u'bite': 543,\n",
       " u'mexican restaur': 874,\n",
       " u'citi': 545,\n",
       " ('bad', 0.259634225996081): 23,\n",
       " u'green bean': 841,\n",
       " (('last', 'night'), 339): 513,\n",
       " u'white': 182,\n",
       " u'friend': 549,\n",
       " ('flavor', 0.17243631613324625): 65,\n",
       " u'especi': 550,\n",
       " (('food', 'service'), 197): 550,\n",
       " u'time go': 942,\n",
       " (('right', 'away'), 50): 158,\n",
       " (('last', 'time'), 115): 330,\n",
       " u'mostli': 552,\n",
       " u'thai': 553,\n",
       " u'seat': 610,\n",
       " ('times', 0.13232549458753265): 289,\n",
       " u'boyfriend': 555,\n",
       " u'serv': 556,\n",
       " (('spring', 'rolls'), 40): 195,\n",
       " 'gotta': 599,\n",
       " (('good', 'enough'), 70): 395,\n",
       " (('fast', 'food'), 313): 518,\n",
       " 'tasted': 240,\n",
       " (('really', 'nice'), 158): 579,\n",
       " 'creamcheese': 551,\n",
       " u'say': 247,\n",
       " 'ordered chicken': 180,\n",
       " u'deliv': 559,\n",
       " (('coming', 'back'), 63): 138,\n",
       " u'breakfast': 252,\n",
       " u'saw': 562,\n",
       " u'sat': 563,\n",
       " u'tast good': 940,\n",
       " u'filet': 565,\n",
       " ('best', 0.24861830742659757): 428,\n",
       " 'evenbetter': 591,\n",
       " ('also', 0.2808883911907428): 220,\n",
       " u'spring roll': 931,\n",
       " u'take': 269,\n",
       " 'tookorder': 173,\n",
       " ('sure', 0.14905008635578584): 465,\n",
       " u'noth': 569,\n",
       " (('food', 'ok'), 97): 345,\n",
       " (('like', 'place'), 151): 589,\n",
       " (('great', 'place'), 97): 344,\n",
       " u'sure': 279,\n",
       " u'normal': 572,\n",
       " u'price': 573,\n",
       " u'knew': 574,\n",
       " u'buffet': 575,\n",
       " ('first', 0.17012089810017272): 450,\n",
       " u'give star': 825,\n",
       " u'servic great': 924,\n",
       " u'gyro': 576,\n",
       " u'seafood': 577,\n",
       " u'later': 578,\n",
       " u'drive': 580,\n",
       " u'wing': 581,\n",
       " 'cooked perfectly': 173,\n",
       " 'alwaysgood': 530,\n",
       " u'salt': 583,\n",
       " u'hungri': 385,\n",
       " u'shop': 586,\n",
       " (('always', 'great'), 162): 574,\n",
       " u'show': 587,\n",
       " u'cheap': 588,\n",
       " ('like', 0.6901829040686823): 203,\n",
       " (('ice', 'cream'), 163): 316,\n",
       " u'corner': 591,\n",
       " 'good service': 133,\n",
       " (('every', 'time'), 315): 515,\n",
       " u'line': 368,\n",
       " u'egg roll': 110,\n",
       " u'slow': 594,\n",
       " ('fries', 0.1366181410974244): 286,\n",
       " u'enough': 615,\n",
       " u'hash brown': 844,\n",
       " u'also order': 759,\n",
       " u'tast like': 941,\n",
       " 'going': 27,\n",
       " u'black': 597,\n",
       " u'get': 42,\n",
       " ('nothing', 0.167973124300112): 260,\n",
       " 'little bit': 48,\n",
       " 'carneasada': 561,\n",
       " (('chinese', 'food'), 132): 325,\n",
       " u'alway get': 760,\n",
       " (('service', 'always'), 267): 529,\n",
       " 'topnotch': 596,\n",
       " 'olivegarden': 178,\n",
       " u'last time': 126,\n",
       " ('restaurant', 0.25046659201194477): 225,\n",
       " u'husband': 607,\n",
       " u'noodl': 609,\n",
       " (('ice', 'cream'), 72): 130,\n",
       " ('restaurant', 0.29000653167864143): 20,\n",
       " 'chinese food': 95,\n",
       " 'anythingelse': 190,\n",
       " u'sport': 612,\n",
       " u'wonder': 613,\n",
       " (('service', 'friendly'), 167): 570,\n",
       " 'reallyliked': 598,\n",
       " u'review': 614,\n",
       " ('small', 0.13203799654576856): 485,\n",
       " u'behind': 596,\n",
       " u'across': 616,\n",
       " (('mexican', 'food'), 91): 118,\n",
       " 'took forever': 117,\n",
       " 'took minutes': 118,\n",
       " (('really', 'liked'), 146): 598,\n",
       " 'comeback': 507,\n",
       " u'come': 125,\n",
       " (('food', 'came'), 83): 361,\n",
       " 'many': 32,\n",
       " ('thing', 0.15774003919007185): 77,\n",
       " ('tasted', 0.1420640104506858): 90,\n",
       " ('location', 0.1511758118701008): 270,\n",
       " u'next door': 286,\n",
       " u'mani': 622,\n",
       " (('staff', 'friendly'), 81): 365,\n",
       " ('asked', 0.19105160026126713): 55,\n",
       " u'across street': 245,\n",
       " u'reason price': 913,\n",
       " ('made', 0.17178314826910515): 67,\n",
       " u'pot': 624,\n",
       " 'minutes later': 166,\n",
       " 'happy hour': 168,\n",
       " u'turkey': 629,\n",
       " (('looked', 'like'), 135): 104,\n",
       " u'coupl': 631,\n",
       " u'drink order': 184,\n",
       " 'going back': 103,\n",
       " u'seem like': 919,\n",
       " (('come', 'back'), 457): 507,\n",
       " ('fresh', 0.14930944382232175): 273,\n",
       " u'quick': 404,\n",
       " ('every', 0.12072538860103627): 496,\n",
       " u'case': 639,\n",
       " 'great service': 237,\n",
       " u'might': 121,\n",
       " 'tastelike': 153,\n",
       " 'holewall': 567,\n",
       " u'wait staff': 947,\n",
       " u'fri rice': 818,\n",
       " ('good', 1.1388577827547592): 200,\n",
       " (('like', 'place'), 60): 143,\n",
       " ('would', 0.47028086218158066): 7,\n",
       " ('thing', 0.12915266890630833): 294,\n",
       " (('mac', 'cheese'), 97): 346,\n",
       " (('decided', 'try'), 48): 162,\n",
       " u'pay': 642,\n",
       " 'drinkorder': 152,\n",
       " u'trip': 373,\n",
       " u'pad': 645,\n",
       " 'also ordered': 270,\n",
       " (('good', 'service'), 171): 314,\n",
       " ('well', 0.24916013437849943): 226,\n",
       " u'mexican food': 274,\n",
       " u'week': 647,\n",
       " u'would like': 278,\n",
       " u'oil': 141,\n",
       " 'httpwww': 559,\n",
       " 'mashedpotatoes': 565,\n",
       " 'manytimes': 542,\n",
       " u'someon': 652,\n",
       " u'last night': 149,\n",
       " u'fruit': 654,\n",
       " 'quality food': 288,\n",
       " ('way', 0.18309070548712206): 248,\n",
       " (('go', 'back'), 580): 503,\n",
       " u'burrito': 655,\n",
       " u'hubbi': 659,\n",
       " u'without': 662,\n",
       " 'loveplace': 520,\n",
       " 'looks like': 305,\n",
       " 'everything else': 0,\n",
       " 'servicefriendly': 570,\n",
       " 'feltlike': 336,\n",
       " u'money': 666,\n",
       " u'rest': 667,\n",
       " (('reasonably', 'priced'), 148): 594,\n",
       " 'something else': 11,\n",
       " u'flavor': 90,\n",
       " u'except': 670,\n",
       " u'littl': 671,\n",
       " (('first', 'time'), 233): 308,\n",
       " ('cheese', 0.2759067357512953): 422,\n",
       " 'coming back': 31,\n",
       " ('right', 0.15752146323254945): 265,\n",
       " 'go way': 254,\n",
       " u'earli': 674,\n",
       " u'tri someth': 945,\n",
       " u'around': 40,\n",
       " u'read': 676,\n",
       " u'ladi': 678,\n",
       " 'gonna': 184,\n",
       " u'dark': 680,\n",
       " (('happy', 'hour'), 259): 305,\n",
       " u'mom': 684,\n",
       " u'world': 685,\n",
       " (('service', 'good'), 173): 313,\n",
       " u'onion ring': 888,\n",
       " u'server': 66,\n",
       " (('cream', 'cheese'), 76): 379,\n",
       " ('chicken', 0.36001727115716753): 411,\n",
       " 'someone else': 70,\n",
       " u'either': 691,\n",
       " ('got', 0.3638145003265839): 15,\n",
       " u'alway good': 761,\n",
       " u'go get': 828,\n",
       " u'nice': 75,\n",
       " u'manag': 693,\n",
       " 'quitegood': 380,\n",
       " (('feel', 'like'), 158): 317,\n",
       " ('place', 0.7171783148269105): 3,\n",
       " u'lobster': 695,\n",
       " ('eat', 0.23220117570215545): 37,\n",
       " 'greatplace': 511,\n",
       " 'goingback': 124,\n",
       " u'slice': 697,\n",
       " u'mood': 698,\n",
       " (('chinese', 'food'), 203): 548,\n",
       " (('go', 'back'), 353): 301,\n",
       " ('since', 0.16407599309153714): 455,\n",
       " ('love', 0.13904441955953714): 283,\n",
       " (('good', 'though'), 69): 397,\n",
       " u'tri place': 944,\n",
       " 'goway': 389,\n",
       " u'ok': 212,\n",
       " u'oh': 705,\n",
       " (('tasted', 'like'), 177): 101,\n",
       " 'favorite': 175,\n",
       " u'shrimp': 707,\n",
       " u'chop': 708,\n",
       " u'stand': 709,\n",
       " ('lunch', 0.2886873920552677): 418,\n",
       " u'pretti much': 903,\n",
       " u'food good': 157,\n",
       " u'coupon': 710,\n",
       " 'latenight': 544,\n",
       " 'food quality': 169,\n",
       " u'even though': 79,\n",
       " u'strip': 513,\n",
       " u'certainli': 394,\n",
       " u'area': 182,\n",
       " 'foodgreat': 523,\n",
       " ('many', 0.1288428324697755): 489,\n",
       " u'start': 714,\n",
       " 'tacobell': 394,\n",
       " u'low': 716,\n",
       " u'lot': 297,\n",
       " 'nextdoor': 198,\n",
       " 'said would': 60,\n",
       " u'valley': 718,\n",
       " 'carne asada': 199,\n",
       " ('meal', 0.1923579359895493): 53,\n",
       " u'rice bean': 915,\n",
       " ('could', 0.196528555431131): 239,\n",
       " u'noth special': 880,\n",
       " u'spici': 722,\n",
       " u'omelet': 724,\n",
       " ('location', 0.1541476159372959): 81,\n",
       " u'spice': 726,\n",
       " u'pull': 727,\n",
       " u'rush': 728,\n",
       " 'reallygood': 500,\n",
       " u'dirti': 730,\n",
       " u'possibl': 731,\n",
       " 'service good': 68,\n",
       " 'food service': 197,\n",
       " 'place pretty': 227,\n",
       " ('always', 0.13455258001306336): 97,\n",
       " u'place pretti': 899,\n",
       " u'gone': 738,\n",
       " u'tasti': 739,\n",
       " u'ad': 740,\n",
       " 'taste': 242,\n",
       " 'really like': 246,\n",
       " u'deep': 742,\n",
       " ('ok', 0.186152841280209): 59,\n",
       " 'tasty': 248,\n",
       " u'order food': 890,\n",
       " u'fill': 646,\n",
       " 'nothingspecial': 309,\n",
       " ('eat', 0.1957820082120194): 240,\n",
       " (('last', 'night'), 110): 111,\n",
       " (('years', 'ago'), 85): 122,\n",
       " u'realli enjoy': 908,\n",
       " 'foodpretty': 320,\n",
       " 'potatosalad': 564,\n",
       " ('server', 0.19170476812540824): 54,\n",
       " ('go', 0.4132138857782755): 210,\n",
       " u'wife': 754,\n",
       " u'mash': 755,\n",
       " u'sport bar': 930,\n",
       " (('great', 'food'), 314): 517,\n",
       " u'forget': 0,\n",
       " 'bararea': 590,\n",
       " 'one favorite': 4,\n",
       " u'month': 2,\n",
       " ...}"
      ]
     },
     "execution_count": 156,
     "metadata": {},
     "output_type": "execute_result"
    }
   ],
   "source": [
    "all_features"
   ]
  },
  {
   "cell_type": "code",
   "execution_count": null,
   "metadata": {
    "collapsed": true
   },
   "outputs": [],
   "source": []
  }
 ],
 "metadata": {
  "anaconda-cloud": {},
  "kernelspec": {
   "display_name": "Python [default]",
   "language": "python",
   "name": "python2"
  },
  "language_info": {
   "codemirror_mode": {
    "name": "ipython",
    "version": 2
   },
   "file_extension": ".py",
   "mimetype": "text/x-python",
   "name": "python",
   "nbconvert_exporter": "python",
   "pygments_lexer": "ipython2",
   "version": "2.7.12"
  }
 },
 "nbformat": 4,
 "nbformat_minor": 1
}
