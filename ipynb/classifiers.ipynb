{
 "cells": [
  {
   "cell_type": "code",
   "execution_count": null,
   "metadata": {
    "collapsed": true
   },
   "outputs": [],
   "source": [
    "import numpy as np\n",
    "from scipy.optimize import minimize"
   ]
  },
  {
   "cell_type": "code",
   "execution_count": null,
   "metadata": {
    "collapsed": true
   },
   "outputs": [],
   "source": [
    "def sigmoid(value):\n",
    "    #, value.shape()\n",
    "    return (1.0 / (1.0 + np.exp(-1.0 * value)))\n",
    "\n",
    "def cost_function(w, X, labels):\n",
    "    #print \"w func\", w, w.shape\n",
    "    #w.shape = (1, len(w))\n",
    "    #pred = sigmoid(np.dot(w, np.transpose(X)))\n",
    "    pred = np.dot(w, np.transpose(X))\n",
    "    #print pred.shape, labels.shape\n",
    "    #print \"pred\", pred\n",
    "    #error = -(np.dot(labels,np.transpose(np.log(pred))) + (np.dot((1 - labels) , np.transpose(np.log(1 - pred))))) / len(labels)\n",
    "    #multivariate\n",
    "    error = -np.dot(labels,np.transpose(np.log(pred))) / len(labels)\n",
    "    #binary\n",
    "    #error = (-np.dot(labels,np.transpose(np.log(sigmoid(pred)))) - np.dot((1 - labels), np.log(1 - np.transpose(sigmoid(pred))))) / len(labels)\n",
    "    #print \"error =\", error\n",
    "    grad = np.dot((pred - labels), X) / len(labels)\n",
    "    #print \"grad =\", grad\n",
    "    return [error, grad]\n",
    "\n",
    "def train_logistic_regression(X_train, y_train, no_classes):\n",
    "    no_features = len(X_train[0])\n",
    "    w  = np.zeros((no_classes, no_features))\n",
    "    print \"init\",w[:,:]\n",
    "    print len(w[0])\n",
    "    for i in range(len(w)):\n",
    "        print \"\\n\\nclass\", i+1, \"\\n\\n\\n\"\n",
    "        #multivariate\n",
    "        w[i] = minimize(cost_function, w[i].reshape((1,no_features)), args=(X_train, np.equal(y_train,(i+1))), method=\"Newton-CG\", jac=True).x\n",
    "        #binary\n",
    "        #w[i] = minimize(cost_function, w[i].reshape((1,no_features)), args=(X_train, y_train_thresholded), method=\"Newton-CG\", jac=True).x\n",
    "    #temp = np.matrix(temp)\n",
    "    #w = np.matrix(temp)\n",
    "    #print \"this is temp\", temp\n",
    "    print w\n",
    "    return w"
   ]
  }
 ],
 "metadata": {
  "anaconda-cloud": {},
  "kernelspec": {
   "display_name": "Python [default]",
   "language": "python",
   "name": "python2"
  },
  "language_info": {
   "codemirror_mode": {
    "name": "ipython",
    "version": 2
   },
   "file_extension": ".py",
   "mimetype": "text/x-python",
   "name": "python",
   "nbconvert_exporter": "python",
   "pygments_lexer": "ipython2",
   "version": "2.7.12"
  }
 },
 "nbformat": 4,
 "nbformat_minor": 1
}
