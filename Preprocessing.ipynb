{
 "cells": [
  {
   "cell_type": "code",
<<<<<<< HEAD
   "execution_count": 6,
=======
   "execution_count": 3,
>>>>>>> d5ced227d735f0033f2e0f8ff9e0c498de55d037
   "metadata": {
    "collapsed": false
   },
   "outputs": [
    {
<<<<<<< HEAD
     "ename": "IOError",
     "evalue": "File Data\\yelp_academic_dataset_review.csv does not exist",
     "output_type": "error",
     "traceback": [
      "\u001b[0;31m---------------------------------------------------------------------------\u001b[0m",
      "\u001b[0;31mIOError\u001b[0m                                   Traceback (most recent call last)",
      "\u001b[0;32m<ipython-input-6-bff040bed743>\u001b[0m in \u001b[0;36m<module>\u001b[0;34m()\u001b[0m\n\u001b[1;32m      1\u001b[0m \u001b[0;32mimport\u001b[0m \u001b[0mpandas\u001b[0m \u001b[0;32mas\u001b[0m \u001b[0mpd\u001b[0m\u001b[0;34m\u001b[0m\u001b[0m\n\u001b[0;32m----> 2\u001b[0;31m \u001b[0mdata\u001b[0m \u001b[0;34m=\u001b[0m \u001b[0mpd\u001b[0m\u001b[0;34m.\u001b[0m\u001b[0mread_csv\u001b[0m\u001b[0;34m(\u001b[0m\u001b[0;34m\"Data\\yelp_academic_dataset_review.csv\"\u001b[0m\u001b[0;34m)\u001b[0m\u001b[0;34m\u001b[0m\u001b[0m\n\u001b[0m",
      "\u001b[0;32m/Users/avaniarora/anaconda/lib/python2.7/site-packages/pandas/io/parsers.pyc\u001b[0m in \u001b[0;36mparser_f\u001b[0;34m(filepath_or_buffer, sep, delimiter, header, names, index_col, usecols, squeeze, prefix, mangle_dupe_cols, dtype, engine, converters, true_values, false_values, skipinitialspace, skiprows, skipfooter, nrows, na_values, keep_default_na, na_filter, verbose, skip_blank_lines, parse_dates, infer_datetime_format, keep_date_col, date_parser, dayfirst, iterator, chunksize, compression, thousands, decimal, lineterminator, quotechar, quoting, escapechar, comment, encoding, dialect, tupleize_cols, error_bad_lines, warn_bad_lines, skip_footer, doublequote, delim_whitespace, as_recarray, compact_ints, use_unsigned, low_memory, buffer_lines, memory_map, float_precision)\u001b[0m\n\u001b[1;32m    560\u001b[0m                     skip_blank_lines=skip_blank_lines)\n\u001b[1;32m    561\u001b[0m \u001b[0;34m\u001b[0m\u001b[0m\n\u001b[0;32m--> 562\u001b[0;31m         \u001b[0;32mreturn\u001b[0m \u001b[0m_read\u001b[0m\u001b[0;34m(\u001b[0m\u001b[0mfilepath_or_buffer\u001b[0m\u001b[0;34m,\u001b[0m \u001b[0mkwds\u001b[0m\u001b[0;34m)\u001b[0m\u001b[0;34m\u001b[0m\u001b[0m\n\u001b[0m\u001b[1;32m    563\u001b[0m \u001b[0;34m\u001b[0m\u001b[0m\n\u001b[1;32m    564\u001b[0m     \u001b[0mparser_f\u001b[0m\u001b[0;34m.\u001b[0m\u001b[0m__name__\u001b[0m \u001b[0;34m=\u001b[0m \u001b[0mname\u001b[0m\u001b[0;34m\u001b[0m\u001b[0m\n",
      "\u001b[0;32m/Users/avaniarora/anaconda/lib/python2.7/site-packages/pandas/io/parsers.pyc\u001b[0m in \u001b[0;36m_read\u001b[0;34m(filepath_or_buffer, kwds)\u001b[0m\n\u001b[1;32m    313\u001b[0m \u001b[0;34m\u001b[0m\u001b[0m\n\u001b[1;32m    314\u001b[0m     \u001b[0;31m# Create the parser.\u001b[0m\u001b[0;34m\u001b[0m\u001b[0;34m\u001b[0m\u001b[0m\n\u001b[0;32m--> 315\u001b[0;31m     \u001b[0mparser\u001b[0m \u001b[0;34m=\u001b[0m \u001b[0mTextFileReader\u001b[0m\u001b[0;34m(\u001b[0m\u001b[0mfilepath_or_buffer\u001b[0m\u001b[0;34m,\u001b[0m \u001b[0;34m**\u001b[0m\u001b[0mkwds\u001b[0m\u001b[0;34m)\u001b[0m\u001b[0;34m\u001b[0m\u001b[0m\n\u001b[0m\u001b[1;32m    316\u001b[0m \u001b[0;34m\u001b[0m\u001b[0m\n\u001b[1;32m    317\u001b[0m     \u001b[0;32mif\u001b[0m \u001b[0;34m(\u001b[0m\u001b[0mnrows\u001b[0m \u001b[0;32mis\u001b[0m \u001b[0;32mnot\u001b[0m \u001b[0mNone\u001b[0m\u001b[0;34m)\u001b[0m \u001b[0;32mand\u001b[0m \u001b[0;34m(\u001b[0m\u001b[0mchunksize\u001b[0m \u001b[0;32mis\u001b[0m \u001b[0;32mnot\u001b[0m \u001b[0mNone\u001b[0m\u001b[0;34m)\u001b[0m\u001b[0;34m:\u001b[0m\u001b[0;34m\u001b[0m\u001b[0m\n",
      "\u001b[0;32m/Users/avaniarora/anaconda/lib/python2.7/site-packages/pandas/io/parsers.pyc\u001b[0m in \u001b[0;36m__init__\u001b[0;34m(self, f, engine, **kwds)\u001b[0m\n\u001b[1;32m    643\u001b[0m             \u001b[0mself\u001b[0m\u001b[0;34m.\u001b[0m\u001b[0moptions\u001b[0m\u001b[0;34m[\u001b[0m\u001b[0;34m'has_index_names'\u001b[0m\u001b[0;34m]\u001b[0m \u001b[0;34m=\u001b[0m \u001b[0mkwds\u001b[0m\u001b[0;34m[\u001b[0m\u001b[0;34m'has_index_names'\u001b[0m\u001b[0;34m]\u001b[0m\u001b[0;34m\u001b[0m\u001b[0m\n\u001b[1;32m    644\u001b[0m \u001b[0;34m\u001b[0m\u001b[0m\n\u001b[0;32m--> 645\u001b[0;31m         \u001b[0mself\u001b[0m\u001b[0;34m.\u001b[0m\u001b[0m_make_engine\u001b[0m\u001b[0;34m(\u001b[0m\u001b[0mself\u001b[0m\u001b[0;34m.\u001b[0m\u001b[0mengine\u001b[0m\u001b[0;34m)\u001b[0m\u001b[0;34m\u001b[0m\u001b[0m\n\u001b[0m\u001b[1;32m    646\u001b[0m \u001b[0;34m\u001b[0m\u001b[0m\n\u001b[1;32m    647\u001b[0m     \u001b[0;32mdef\u001b[0m \u001b[0mclose\u001b[0m\u001b[0;34m(\u001b[0m\u001b[0mself\u001b[0m\u001b[0;34m)\u001b[0m\u001b[0;34m:\u001b[0m\u001b[0;34m\u001b[0m\u001b[0m\n",
      "\u001b[0;32m/Users/avaniarora/anaconda/lib/python2.7/site-packages/pandas/io/parsers.pyc\u001b[0m in \u001b[0;36m_make_engine\u001b[0;34m(self, engine)\u001b[0m\n\u001b[1;32m    797\u001b[0m     \u001b[0;32mdef\u001b[0m \u001b[0m_make_engine\u001b[0m\u001b[0;34m(\u001b[0m\u001b[0mself\u001b[0m\u001b[0;34m,\u001b[0m \u001b[0mengine\u001b[0m\u001b[0;34m=\u001b[0m\u001b[0;34m'c'\u001b[0m\u001b[0;34m)\u001b[0m\u001b[0;34m:\u001b[0m\u001b[0;34m\u001b[0m\u001b[0m\n\u001b[1;32m    798\u001b[0m         \u001b[0;32mif\u001b[0m \u001b[0mengine\u001b[0m \u001b[0;34m==\u001b[0m \u001b[0;34m'c'\u001b[0m\u001b[0;34m:\u001b[0m\u001b[0;34m\u001b[0m\u001b[0m\n\u001b[0;32m--> 799\u001b[0;31m             \u001b[0mself\u001b[0m\u001b[0;34m.\u001b[0m\u001b[0m_engine\u001b[0m \u001b[0;34m=\u001b[0m \u001b[0mCParserWrapper\u001b[0m\u001b[0;34m(\u001b[0m\u001b[0mself\u001b[0m\u001b[0;34m.\u001b[0m\u001b[0mf\u001b[0m\u001b[0;34m,\u001b[0m \u001b[0;34m**\u001b[0m\u001b[0mself\u001b[0m\u001b[0;34m.\u001b[0m\u001b[0moptions\u001b[0m\u001b[0;34m)\u001b[0m\u001b[0;34m\u001b[0m\u001b[0m\n\u001b[0m\u001b[1;32m    800\u001b[0m         \u001b[0;32melse\u001b[0m\u001b[0;34m:\u001b[0m\u001b[0;34m\u001b[0m\u001b[0m\n\u001b[1;32m    801\u001b[0m             \u001b[0;32mif\u001b[0m \u001b[0mengine\u001b[0m \u001b[0;34m==\u001b[0m \u001b[0;34m'python'\u001b[0m\u001b[0;34m:\u001b[0m\u001b[0;34m\u001b[0m\u001b[0m\n",
      "\u001b[0;32m/Users/avaniarora/anaconda/lib/python2.7/site-packages/pandas/io/parsers.pyc\u001b[0m in \u001b[0;36m__init__\u001b[0;34m(self, src, **kwds)\u001b[0m\n\u001b[1;32m   1211\u001b[0m         \u001b[0mkwds\u001b[0m\u001b[0;34m[\u001b[0m\u001b[0;34m'allow_leading_cols'\u001b[0m\u001b[0;34m]\u001b[0m \u001b[0;34m=\u001b[0m \u001b[0mself\u001b[0m\u001b[0;34m.\u001b[0m\u001b[0mindex_col\u001b[0m \u001b[0;32mis\u001b[0m \u001b[0;32mnot\u001b[0m \u001b[0mFalse\u001b[0m\u001b[0;34m\u001b[0m\u001b[0m\n\u001b[1;32m   1212\u001b[0m \u001b[0;34m\u001b[0m\u001b[0m\n\u001b[0;32m-> 1213\u001b[0;31m         \u001b[0mself\u001b[0m\u001b[0;34m.\u001b[0m\u001b[0m_reader\u001b[0m \u001b[0;34m=\u001b[0m \u001b[0m_parser\u001b[0m\u001b[0;34m.\u001b[0m\u001b[0mTextReader\u001b[0m\u001b[0;34m(\u001b[0m\u001b[0msrc\u001b[0m\u001b[0;34m,\u001b[0m \u001b[0;34m**\u001b[0m\u001b[0mkwds\u001b[0m\u001b[0;34m)\u001b[0m\u001b[0;34m\u001b[0m\u001b[0m\n\u001b[0m\u001b[1;32m   1214\u001b[0m \u001b[0;34m\u001b[0m\u001b[0m\n\u001b[1;32m   1215\u001b[0m         \u001b[0;31m# XXX\u001b[0m\u001b[0;34m\u001b[0m\u001b[0;34m\u001b[0m\u001b[0m\n",
      "\u001b[0;32mpandas/parser.pyx\u001b[0m in \u001b[0;36mpandas.parser.TextReader.__cinit__ (pandas/parser.c:3427)\u001b[0;34m()\u001b[0m\n",
      "\u001b[0;32mpandas/parser.pyx\u001b[0m in \u001b[0;36mpandas.parser.TextReader._setup_parser_source (pandas/parser.c:6861)\u001b[0;34m()\u001b[0m\n",
      "\u001b[0;31mIOError\u001b[0m: File Data\\yelp_academic_dataset_review.csv does not exist"
=======
     "ename": "KeyboardInterrupt",
     "evalue": "",
     "output_type": "error",
     "traceback": [
      "\u001b[0;31m---------------------------------------------------------------------------\u001b[0m",
      "\u001b[0;31mKeyboardInterrupt\u001b[0m                         Traceback (most recent call last)",
      "\u001b[0;32m<ipython-input-3-9b24dadda2a1>\u001b[0m in \u001b[0;36m<module>\u001b[0;34m()\u001b[0m\n\u001b[1;32m      1\u001b[0m \u001b[0;32mimport\u001b[0m \u001b[0mpandas\u001b[0m \u001b[0;32mas\u001b[0m \u001b[0mpd\u001b[0m\u001b[0;34m\u001b[0m\u001b[0m\n\u001b[0;32m----> 2\u001b[0;31m \u001b[0mdata\u001b[0m \u001b[0;34m=\u001b[0m \u001b[0mpd\u001b[0m\u001b[0;34m.\u001b[0m\u001b[0mread_csv\u001b[0m\u001b[0;34m(\u001b[0m\u001b[0;34m\"Data/yelp_academic_dataset_review.csv\"\u001b[0m\u001b[0;34m)\u001b[0m\u001b[0;34m\u001b[0m\u001b[0m\n\u001b[0m\u001b[1;32m      3\u001b[0m \u001b[0mlen\u001b[0m\u001b[0;34m(\u001b[0m\u001b[0mdata\u001b[0m\u001b[0;34m)\u001b[0m\u001b[0;34m\u001b[0m\u001b[0m\n",
      "\u001b[0;32m/Users/Sanjana/anaconda/lib/python2.7/site-packages/pandas/io/parsers.pyc\u001b[0m in \u001b[0;36mparser_f\u001b[0;34m(filepath_or_buffer, sep, delimiter, header, names, index_col, usecols, squeeze, prefix, mangle_dupe_cols, dtype, engine, converters, true_values, false_values, skipinitialspace, skiprows, skipfooter, nrows, na_values, keep_default_na, na_filter, verbose, skip_blank_lines, parse_dates, infer_datetime_format, keep_date_col, date_parser, dayfirst, iterator, chunksize, compression, thousands, decimal, lineterminator, quotechar, quoting, escapechar, comment, encoding, dialect, tupleize_cols, error_bad_lines, warn_bad_lines, skip_footer, doublequote, delim_whitespace, as_recarray, compact_ints, use_unsigned, low_memory, buffer_lines, memory_map, float_precision)\u001b[0m\n\u001b[1;32m    560\u001b[0m                     skip_blank_lines=skip_blank_lines)\n\u001b[1;32m    561\u001b[0m \u001b[0;34m\u001b[0m\u001b[0m\n\u001b[0;32m--> 562\u001b[0;31m         \u001b[0;32mreturn\u001b[0m \u001b[0m_read\u001b[0m\u001b[0;34m(\u001b[0m\u001b[0mfilepath_or_buffer\u001b[0m\u001b[0;34m,\u001b[0m \u001b[0mkwds\u001b[0m\u001b[0;34m)\u001b[0m\u001b[0;34m\u001b[0m\u001b[0m\n\u001b[0m\u001b[1;32m    563\u001b[0m \u001b[0;34m\u001b[0m\u001b[0m\n\u001b[1;32m    564\u001b[0m     \u001b[0mparser_f\u001b[0m\u001b[0;34m.\u001b[0m\u001b[0m__name__\u001b[0m \u001b[0;34m=\u001b[0m \u001b[0mname\u001b[0m\u001b[0;34m\u001b[0m\u001b[0m\n",
      "\u001b[0;32m/Users/Sanjana/anaconda/lib/python2.7/site-packages/pandas/io/parsers.pyc\u001b[0m in \u001b[0;36m_read\u001b[0;34m(filepath_or_buffer, kwds)\u001b[0m\n\u001b[1;32m    323\u001b[0m         \u001b[0;32mreturn\u001b[0m \u001b[0mparser\u001b[0m\u001b[0;34m\u001b[0m\u001b[0m\n\u001b[1;32m    324\u001b[0m \u001b[0;34m\u001b[0m\u001b[0m\n\u001b[0;32m--> 325\u001b[0;31m     \u001b[0;32mreturn\u001b[0m \u001b[0mparser\u001b[0m\u001b[0;34m.\u001b[0m\u001b[0mread\u001b[0m\u001b[0;34m(\u001b[0m\u001b[0;34m)\u001b[0m\u001b[0;34m\u001b[0m\u001b[0m\n\u001b[0m\u001b[1;32m    326\u001b[0m \u001b[0;34m\u001b[0m\u001b[0m\n\u001b[1;32m    327\u001b[0m _parser_defaults = {\n",
      "\u001b[0;32m/Users/Sanjana/anaconda/lib/python2.7/site-packages/pandas/io/parsers.pyc\u001b[0m in \u001b[0;36mread\u001b[0;34m(self, nrows)\u001b[0m\n\u001b[1;32m    813\u001b[0m                 \u001b[0;32mraise\u001b[0m \u001b[0mValueError\u001b[0m\u001b[0;34m(\u001b[0m\u001b[0;34m'skip_footer not supported for iteration'\u001b[0m\u001b[0;34m)\u001b[0m\u001b[0;34m\u001b[0m\u001b[0m\n\u001b[1;32m    814\u001b[0m \u001b[0;34m\u001b[0m\u001b[0m\n\u001b[0;32m--> 815\u001b[0;31m         \u001b[0mret\u001b[0m \u001b[0;34m=\u001b[0m \u001b[0mself\u001b[0m\u001b[0;34m.\u001b[0m\u001b[0m_engine\u001b[0m\u001b[0;34m.\u001b[0m\u001b[0mread\u001b[0m\u001b[0;34m(\u001b[0m\u001b[0mnrows\u001b[0m\u001b[0;34m)\u001b[0m\u001b[0;34m\u001b[0m\u001b[0m\n\u001b[0m\u001b[1;32m    816\u001b[0m \u001b[0;34m\u001b[0m\u001b[0m\n\u001b[1;32m    817\u001b[0m         \u001b[0;32mif\u001b[0m \u001b[0mself\u001b[0m\u001b[0;34m.\u001b[0m\u001b[0moptions\u001b[0m\u001b[0;34m.\u001b[0m\u001b[0mget\u001b[0m\u001b[0;34m(\u001b[0m\u001b[0;34m'as_recarray'\u001b[0m\u001b[0;34m)\u001b[0m\u001b[0;34m:\u001b[0m\u001b[0;34m\u001b[0m\u001b[0m\n",
      "\u001b[0;32m/Users/Sanjana/anaconda/lib/python2.7/site-packages/pandas/io/parsers.pyc\u001b[0m in \u001b[0;36mread\u001b[0;34m(self, nrows)\u001b[0m\n\u001b[1;32m   1312\u001b[0m     \u001b[0;32mdef\u001b[0m \u001b[0mread\u001b[0m\u001b[0;34m(\u001b[0m\u001b[0mself\u001b[0m\u001b[0;34m,\u001b[0m \u001b[0mnrows\u001b[0m\u001b[0;34m=\u001b[0m\u001b[0mNone\u001b[0m\u001b[0;34m)\u001b[0m\u001b[0;34m:\u001b[0m\u001b[0;34m\u001b[0m\u001b[0m\n\u001b[1;32m   1313\u001b[0m         \u001b[0;32mtry\u001b[0m\u001b[0;34m:\u001b[0m\u001b[0;34m\u001b[0m\u001b[0m\n\u001b[0;32m-> 1314\u001b[0;31m             \u001b[0mdata\u001b[0m \u001b[0;34m=\u001b[0m \u001b[0mself\u001b[0m\u001b[0;34m.\u001b[0m\u001b[0m_reader\u001b[0m\u001b[0;34m.\u001b[0m\u001b[0mread\u001b[0m\u001b[0;34m(\u001b[0m\u001b[0mnrows\u001b[0m\u001b[0;34m)\u001b[0m\u001b[0;34m\u001b[0m\u001b[0m\n\u001b[0m\u001b[1;32m   1315\u001b[0m         \u001b[0;32mexcept\u001b[0m \u001b[0mStopIteration\u001b[0m\u001b[0;34m:\u001b[0m\u001b[0;34m\u001b[0m\u001b[0m\n\u001b[1;32m   1316\u001b[0m             \u001b[0;32mif\u001b[0m \u001b[0mself\u001b[0m\u001b[0;34m.\u001b[0m\u001b[0m_first_chunk\u001b[0m\u001b[0;34m:\u001b[0m\u001b[0;34m\u001b[0m\u001b[0m\n",
      "\u001b[0;31mKeyboardInterrupt\u001b[0m: "
>>>>>>> d5ced227d735f0033f2e0f8ff9e0c498de55d037
     ]
    }
   ],
   "source": [
    "import pandas as pd\n",
<<<<<<< HEAD
    "data = pd.read_csv(\"Data\\yelp_academic_dataset_review.csv\")"
=======
    "data = pd.read_csv(\"Data/yelp_academic_dataset_review.csv\")\n",
    "len(data)"
>>>>>>> d5ced227d735f0033f2e0f8ff9e0c498de55d037
   ]
  },
  {
   "cell_type": "code",
<<<<<<< HEAD
   "execution_count": 7,
=======
   "execution_count": 4,
>>>>>>> d5ced227d735f0033f2e0f8ff9e0c498de55d037
   "metadata": {
    "collapsed": false
   },
   "outputs": [
    {
     "ename": "NameError",
     "evalue": "name 'data' is not defined",
     "output_type": "error",
     "traceback": [
      "\u001b[0;31m---------------------------------------------------------------------------\u001b[0m",
      "\u001b[0;31mNameError\u001b[0m                                 Traceback (most recent call last)",
<<<<<<< HEAD
      "\u001b[0;32m<ipython-input-7-4e3a092380ec>\u001b[0m in \u001b[0;36m<module>\u001b[0;34m()\u001b[0m\n\u001b[0;32m----> 1\u001b[0;31m \u001b[0mlist\u001b[0m\u001b[0;34m(\u001b[0m\u001b[0mdata\u001b[0m\u001b[0;34m)\u001b[0m\u001b[0;34m\u001b[0m\u001b[0m\n\u001b[0m",
=======
      "\u001b[0;32m<ipython-input-4-4e3a092380ec>\u001b[0m in \u001b[0;36m<module>\u001b[0;34m()\u001b[0m\n\u001b[0;32m----> 1\u001b[0;31m \u001b[0mlist\u001b[0m\u001b[0;34m(\u001b[0m\u001b[0mdata\u001b[0m\u001b[0;34m)\u001b[0m\u001b[0;34m\u001b[0m\u001b[0m\n\u001b[0m",
>>>>>>> d5ced227d735f0033f2e0f8ff9e0c498de55d037
      "\u001b[0;31mNameError\u001b[0m: name 'data' is not defined"
     ]
    }
   ],
   "source": [
    " list(data)"
   ]
  },
  {
   "cell_type": "code",
   "execution_count": null,
   "metadata": {
    "collapsed": false
   },
   "outputs": [],
   "source": []
  },
  {
   "cell_type": "code",
   "execution_count": null,
   "metadata": {
    "collapsed": false
   },
   "outputs": [],
   "source": [
    "data[1:1000][[2,3,5,9,6]]"
   ]
  },
  {
   "cell_type": "code",
   "execution_count": null,
   "metadata": {
    "collapsed": false
   },
   "outputs": [],
   "source": [
    "business_data = pd.read_csv(\"Data/yelp_academic_dataset_business.csv\")\n",
    "len(business_data)"
   ]
  },
  {
   "cell_type": "code",
   "execution_count": null,
   "metadata": {
    "collapsed": false
   },
   "outputs": [],
   "source": [
    "list(business_data)"
   ]
  },
  {
   "cell_type": "code",
   "execution_count": null,
   "metadata": {
    "collapsed": false
   },
   "outputs": [],
   "source": [
    "business_id = business_data[:][['business_id','categories']]"
   ]
  },
  {
   "cell_type": "code",
   "execution_count": null,
   "metadata": {
    "collapsed": false
   },
   "outputs": [],
   "source": [
    "data = pd.merge(data, business_id, on='business_id')\n",
    "len(data)"
   ]
  },
  {
   "cell_type": "code",
   "execution_count": null,
   "metadata": {
    "collapsed": false
   },
   "outputs": [],
   "source": [
    "list(data)"
   ]
  },
  {
   "cell_type": "code",
   "execution_count": null,
   "metadata": {
    "collapsed": false
   },
   "outputs": [],
   "source": [
    "rest_exist=[]\n",
    "for i in data[:]['categories']:\n",
    "    if \"Restaurants\" in i:\n",
    "        rest_exist.append(True)\n",
    "    else:\n",
    "        rest_exist.append(False)\n",
    "        \n",
    "    "
   ]
  },
  {
   "cell_type": "code",
   "execution_count": null,
   "metadata": {
    "collapsed": false
   },
   "outputs": [],
   "source": [
    "list(data)"
   ]
  },
  {
   "cell_type": "code",
   "execution_count": null,
   "metadata": {
    "collapsed": false
   },
   "outputs": [],
   "source": [
    "data['rest_exist']=rest_exist"
   ]
  },
  {
   "cell_type": "code",
   "execution_count": null,
   "metadata": {
    "collapsed": false
   },
   "outputs": [],
   "source": [
    "list(data)"
   ]
  },
  {
   "cell_type": "code",
   "execution_count": null,
   "metadata": {
    "collapsed": false
   },
   "outputs": [],
   "source": [
    "data= data[:][[2,3,5,6,9,11]]"
   ]
  },
  {
   "cell_type": "code",
   "execution_count": null,
   "metadata": {
    "collapsed": false
   },
   "outputs": [],
   "source": [
    "data=data[data['rest_exist']][:]"
   ]
  },
  {
   "cell_type": "code",
   "execution_count": null,
   "metadata": {
    "collapsed": false
   },
   "outputs": [],
   "source": [
    "data=data.drop('rest_exist',1)"
   ]
  },
  {
   "cell_type": "code",
   "execution_count": null,
   "metadata": {
    "collapsed": false
   },
   "outputs": [],
   "source": [
    "pd.set_option('display.max_colwidth',-1)"
   ]
  },
  {
   "cell_type": "code",
   "execution_count": null,
   "metadata": {
    "collapsed": false
   },
   "outputs": [],
   "source": [
    "data[0:1]['text']"
   ]
  },
  {
   "cell_type": "code",
   "execution_count": null,
   "metadata": {
    "collapsed": false
   },
   "outputs": [],
   "source": [
    "data.describe()"
   ]
  },
  {
   "cell_type": "code",
   "execution_count": null,
   "metadata": {
    "collapsed": false
   },
   "outputs": [],
   "source": [
    "import copy\n",
    "data_labels = copy.deepcopy(data[\"stars\"])\n",
    "#labels[0:5]\n",
    "len(data_labels)\n",
    "print (data_labels)\n",
    "\n",
    "#len(data)\n",
    "#data_labels = data[\"stars\"]\n",
    "#print len(data_labels)\n",
    "#print len(data_labels), len(data)"
   ]
  },
  {
   "cell_type": "code",
   "execution_count": null,
   "metadata": {
    "collapsed": false
   },
   "outputs": [],
   "source": [
    "print len(data[\"text\"])\n",
    "#print (data[\"text\"])[2992]\n",
    "print type(data[\"text\"][0])"
   ]
  },
  {
   "cell_type": "markdown",
   "metadata": {
    "collapsed": true
   },
   "source": [
    " Text Preprocessing\n",
    " 1. Remove stop words and number and punctuations"
   ]
  },
  {
   "cell_type": "code",
   "execution_count": null,
   "metadata": {
    "collapsed": false
   },
   "outputs": [],
   "source": [
    "import nltk\n",
    "from nltk import word_tokenize\n",
    "from nltk.corpus import stopwords\n",
    "\n",
    "import string\n",
    "#remove stop words and punctuations.\n",
    "samples = 15000\n",
    "data_sample = data[0:samples]['text'].str.lower()#.split('\\n')\n",
    "labels_sample = data_labels[0:samples]\n",
    "#print data_sample\n",
    "#print (data_sample)\n",
    "print len(data_sample)\n",
    "print  type(data_sample)\n",
    "#print data_sample[2992]"
   ]
  },
  {
   "cell_type": "code",
   "execution_count": null,
   "metadata": {
    "collapsed": false
   },
   "outputs": [],
   "source": [
    "labels_sample"
   ]
  },
  {
   "cell_type": "code",
   "execution_count": null,
   "metadata": {
    "collapsed": false
   },
   "outputs": [],
   "source": [
    "import re\n",
    "#data_sample = list(data_sample)\n",
    "stop = stopwords.words('english')# + list(string.punctuation) + ['0', '1', '2', '3', '4', '5', '6', '7', '8', '9']\n",
    "#data_sample.apply(re.sub, args=(\"[^a-zA-Z]\", \" \", data_sample))\n",
    "#for i in range(len(data_sample)):\n",
    "    \n",
    "#data_sample = [re.sub(\"[^a-zA-Z]\", \" \", sample) for sample in data_sample]\n",
    "data_sample = data_sample.str.replace(\"[^a-zA-Z ]\", \"\")#, \" \")\n",
    "\n",
    "#email = re.sub(\"[^a-zA-Z]\", \" \", email)"
   ]
  },
  {
   "cell_type": "code",
   "execution_count": null,
   "metadata": {
    "collapsed": false
   },
   "outputs": [],
   "source": [
    "len(data_sample)\n"
   ]
  },
  {
   "cell_type": "markdown",
   "metadata": {},
   "source": [
    "Remove stopwords"
   ]
  },
  {
   "cell_type": "code",
   "execution_count": null,
   "metadata": {
    "collapsed": false
   },
   "outputs": [],
   "source": [
    "preprocessed_data_sample = [[i for i in word_tokenize(sentence) if i not in stop] for sentence in data_sample]"
   ]
  },
  {
   "cell_type": "code",
   "execution_count": null,
   "metadata": {
    "collapsed": false
   },
   "outputs": [],
   "source": [
    "print preprocessed_data_sample[0]\n",
    "print \"hello\"\n",
    "print preprocessed_data_sample[1]"
   ]
  },
  {
   "cell_type": "markdown",
   "metadata": {},
   "source": [
    " 2. Stemming"
   ]
  },
  {
   "cell_type": "code",
   "execution_count": null,
   "metadata": {
    "collapsed": true
   },
   "outputs": [],
   "source": [
    "import pickle\n",
    "\n",
    "#filehandler = open(\"features.obj\",\"wb\")\n",
    "#pickle.dump(all_features,filehandler)\n",
    "#filehandler.close()\n",
    "\n",
    "file = open(\"features.obj\",'rb')\n",
    "all_features = pickle.load(file)\n",
    "file.close()"
   ]
  },
  {
   "cell_type": "code",
   "execution_count": null,
   "metadata": {
    "collapsed": false
   },
   "outputs": [],
   "source": []
  },
  {
   "cell_type": "code",
   "execution_count": null,
   "metadata": {
    "collapsed": false
   },
   "outputs": [],
   "source": [
    "def vectorize(preprocessed_data_sample):\n",
    "    from sklearn.feature_extraction.text import CountVectorizer\n",
    "\n",
    "    # Initialize the \"CountVectorizer\" object, which is scikit-learn's\n",
    "    # bag of words tool.\n",
    "    no_features = 150#800#600#350\n",
    "    #ngram_range=(1, 1)\n",
    "    vectorizer = CountVectorizer(analyzer = \"word\", tokenizer = None, preprocessor = None, stop_words = None, vocabulary = all_features, ngram_range=(1,2))#, #, max_features = no_features, ngram_range=(2,2)) \n",
    "    #vectorizer = CountVectorizer(analyzer = \"word\", tokenizer = None, preprocessor = None, stop_words = None, ngram_range=(2,2), max_features = no_features)\n",
    "    # fit_transform() does two functions: First, it fits the model\n",
    "    # and learns the vocabulary; second, it transforms our training data\n",
    "    # into feature vectors. The input to fit_transform should be a list of \n",
    "    # strings.\n",
    "    train_data_features = vectorizer.fit_transform(preprocessed_data_sample)\n",
    "\n",
    "    # Numpy arrays are easy to work with, so convert the result to an \n",
    "    # array\n",
    "    train_data_features = train_data_features.toarray()\n",
    "    return [train_data_features, vectorizer, no_features]"
   ]
  },
  {
   "cell_type": "code",
   "execution_count": null,
   "metadata": {
    "collapsed": false
   },
   "outputs": [],
   "source": [
    "from nltk.stem.porter import *\n",
    "import sys\n",
    "print \"stemming \"\n",
    "#Create a new Porter stemmer.\n",
    "stemmer = PorterStemmer()\n",
    "#try:\n",
    "for i in range(len(preprocessed_data_sample)):\n",
    "    preprocessed_data_sample[i] = \" \".join([stemmer.stem(str(word)) for word in preprocessed_data_sample[i]])\n",
    "data_sample_copy = preprocessed_data_sample    \n",
    "[preprocessed_data_sample, vectorizer, no_features] = vectorize(preprocessed_data_sample)"
   ]
  },
  {
   "cell_type": "code",
   "execution_count": null,
   "metadata": {
    "collapsed": false
   },
   "outputs": [],
   "source": [
    "#Trial for wordcount without stemming\n",
    "#for i in range(len(preprocessed_data_sample)):\n",
    "#    preprocessed_data_sample[i] = \" \".join(preprocessed_data_sample[i])\n",
    "#preprocessed_data_sample = vectorize(preprocessed_data_sample)"
   ]
  },
  {
   "cell_type": "code",
   "execution_count": null,
   "metadata": {
    "collapsed": false
   },
   "outputs": [],
   "source": [
    "vocab = vectorizer.get_feature_names()\n",
    "#counts = vectorizer.get_params()\n",
    "#print counts\n",
    "print len(vocab)\n",
    "print type(vocab)\n",
    "print vocab"
   ]
  },
  {
   "cell_type": "markdown",
   "metadata": {},
   "source": [
    "Feature Selection - One time"
   ]
  },
  {
   "cell_type": "markdown",
   "metadata": {},
   "source": [
    "Find number of actual bigrams"
   ]
  },
  {
   "cell_type": "code",
   "execution_count": null,
   "metadata": {
    "collapsed": false
   },
   "outputs": [],
   "source": [
    "vocab_list_count = [len(word_here.split()) for word_here in vocab]  "
   ]
  },
  {
   "cell_type": "code",
   "execution_count": null,
   "metadata": {
    "collapsed": false
   },
   "outputs": [],
   "source": [
    "import collections\n",
    "counter = collections.Counter(vocab_list_count)\n",
    "print counter"
   ]
  },
  {
   "cell_type": "markdown",
   "metadata": {},
   "source": [
    "Obtain unigram count"
   ]
  },
  {
   "cell_type": "code",
   "execution_count": null,
   "metadata": {
    "collapsed": false
   },
   "outputs": [],
   "source": [
    "print len(vocab)\n",
    "print type(vocab)\n",
    "data_sample_string = \" \".join(data_sample_copy)\n",
    "data_sample_string[1:15000]\n",
    "from collections import Counter\n",
    "\n",
    "temp_words = data_sample_string.split()\n",
    "wordCount = Counter(temp_words)\n",
    "print wordCount\n",
    "#print wordCount"
   ]
  },
  {
   "cell_type": "markdown",
   "metadata": {},
   "source": [
    "Obtain bigram count"
   ]
  },
  {
   "cell_type": "code",
   "execution_count": null,
   "metadata": {
    "collapsed": false
   },
   "outputs": [],
   "source": [
    "import re\n",
    "from itertools import islice, izip\n",
    "words = re.findall(\"\\w+\", data_sample_string)\n",
    "req_bigrams = Counter(izip(words, islice(words, 1, None))).most_common(150)\n",
    "print req_bigrams"
   ]
  },
  {
   "cell_type": "code",
   "execution_count": null,
   "metadata": {
    "collapsed": false
   },
   "outputs": [],
   "source": [
    "#required_features = {u'food': 11288, u'good': 10313, u'place': 9703, u'order': 7331, u'great': 6734, u'like': 6499, u'go': 6076, u'get': 6010, u'time': 5996, u'one': 5363, u'servic': 5239, u'restaur': 4473, u'would': 4369, u'realli': 4268, u'back': 4167, u'tri': 3893, u'pizza': 3758, u'also': 3464, u'love': 3415, u'best': 3399, u'even': 3295, u'nice': 3237, u'come': 3174, u'eat': 3161, u'us': 3148, u'chees': 3147, u'dont': 3136, u'fri': 3103, u'bar': 3100, u'got': 3079, u'ive': 3077, u'menu': 3070, u'tabl': 3043, u'alway': 2920, u'wait': 2906, u'chicken': 2903, u'well': 2846, u'salad': 2787, u'im': 2783, u'make': 2757, u'littl': 2736, u'sauc': 2726, u'want': 2709, u'delici': 2708, u'drink': 2694, u'meal': 2690, u'look': 2592, u'tast': 2529, u'came': 2509, u'beer': 2505, u'pittsburgh': 2499, u'price': 2475, u'pretti': 2456, u'sandwich': 2433, u'night': 2414, u'much': 2297, u'never': 2288, u'lunch': 2242, u'went': 2230, u'didnt': 2221, u'dinner': 2174, u'could': 2134, u'definit': 2106, u'peopl': 2093, u'first': 2079, u'think': 2075, u'say': 2073, u'thing': 2029, u'better': 2029, u'ask': 2025, u'serv': 2002, u'dish': 1992, u'friend': 1966, u'experi': 1951, u'two': 1934, u'know': 1933, u'take': 1924, u'friendli': 1910, u'enjoy': 1908, u'made': 1900, u'flavor': 1871, u'side': 1822, u'staff': 1814, u'server': 1807, u'special': 1804, u'seat': 1793, u'fresh': 1785, u'bread': 1784, u'burger': 1755, u'ever': 1753, u'cook': 1742, u'way': 1699, u'top': 1694, u'recommend': 1689, u'minut': 1677, u'day': 1667, u'visit': 1648, u'lot': 1634, u'right': 1628, u'bit': 1600, u'favorit': 1589, u'still': 1587, u'around': 1582, u'star': 1580, u'give': 1546, u'wasnt': 1540, u'though': 1525, u'amaz': 1521, u'bad': 1514, u'seem': 1510, u'said': 1498, u'waitress': 1498, u'hot': 1496, u'sure': 1488, u'year': 1468, u'busi': 1450, u'sinc': 1435, u'review': 1435, u'someth': 1433, u'atmospher': 1416, u'roll': 1415, u'small': 1396, u'expect': 1363, u'area': 1356, u'cant': 1353, u'excel': 1343, u'feel': 1339, u'steak': 1335, u'took': 1326, u'walk': 1323, u'pasta': 1314, u'last': 1305, u'locat': 1305, u'mani': 1300, u'need': 1300, u'appet': 1298, u'select': 1291, u'everi': 1285, u'everyth': 1279, u'stop': 1271, u'use': 1271, u'disappoint': 1270, u'find': 1269, u'work': 1252, u'soup': 1251, u'potato': 1250, u'hour': 1244, u'dine': 1244, u'meat': 1242, u'anoth': 1218, u'wine': 1207, u'tasti': 1206, u'noth': 1198, u'see': 1197, u'perfect': 1188, u'sweet': 1179, u'dessert': 1176, u'next': 1173, u'reason': 1173, u'portion': 1171, u'your': 1164, u'home': 1163, u'italian': 1154, u'big': 1148, u'worth': 1147, u'long': 1140, u'enough': 1140, u'start': 1117, u'sushi': 1107, u'awesom': 1090, u'usual': 1087, u'new': 1075, u'larg': 1068, u'plate': 1066, u'differ': 1059, u'entre': 1052, u'check': 1051, u'end': 1048, u'fish': 1044, u'actual': 1039, u'grill': 1034, u'qualiti': 1033, u'id': 1024, u'that': 1021, u'happi': 1009, u'howev': 1006, u'quit': 1003, u'charlott': 1003, u'sit': 1002, u'huge': 994, u'decid': 982, u'offer': 976, u'breakfast': 970, u'shrimp': 965, u'probabl': 964, u'ok': 963, u'spot': 956, u'option': 944, u'kind': 942, u'live': 918, u'decent': 916, u'park': 910, u'manag': 906, u'anyth': 906, u'thought': 901, u'told': 897, u'cake': 889, u'away': 880, u'call': 877, u'egg': 869, u'close': 866, u'wonder': 863, u'famili': 852, u'half': 851, u'beef': 847, u'green': 841, u'person': 832, u'full': 827, u'crowd': 824, u'mayb': 824, u'dog': 814, u'els': 812, u'old': 808, u'choic': 808, u'room': 807, u'wing': 804, u'tomato': 804, u'spici': 801, u'cours': 799, u'left': 798, u'outsid': 796, u'game': 795, u'slice': 789, u'open': 787, u'without': 780, u'let': 779, u'overal': 777, u'cold': 775, u'arriv': 770, u'waiter': 761, u'put': 758, u'attent': 757, u'reserv': 754, u'almost': 754, u'rice': 752, u'everyon': 752, u'parti': 749, u'week': 746, u'item': 746, u'found': 745, u'custom': 745, u'ill': 742, u'return': 732, u'three': 729, u'husband': 724, u'brunch': 721, u'insid': 718, u'point': 708, u'absolut': 707, u'gener': 706, u'pancak': 704, u'super': 703, u'local': 696, u'fantast': 693, u'group': 687, u'onion': 687, u'coupl': 685, u'help': 685, u'cream': 679, u'town': 677, u'quick': 675, u'least': 667, u'sever': 665, u'fill': 665, u'isnt': 663, u'part': 662, u'leav': 659, u'high': 646, u'bartend': 646, u'lobster': 645, u'must': 645, u'hous': 643, u'salmon': 643, u'final': 643, u'mac': 642, u'bacon': 641, u'fan': 638, u'may': 637, u'perfectli': 629, u'hard': 627, u'includ': 626, u'bring': 626, u'crust': 625, u'especi': 624, u'list': 623, u'decor': 622, u'season': 622, u'fast': 619, u'street': 618, u'far': 612, u'size': 610, u'sat': 609, u'hand': 608, u'bite': 607, u'ate': 606, u'chang': 605, u'impress': 603, u'brought': 603, u'glass': 603, u'second': 601, u'piec': 595, u'citi': 595, u'pay': 594, u'guy': 593, u'red': 592, u'dress': 591, u'pork': 588, u'light': 588, u'fun': 587, u'coffe': 587, u'tell': 584, u'fine': 583, u'prepar': 582, u'wife': 579, u'averag': 578, u'french': 578, u'kitchen': 577, u'mix': 577, u'doesnt': 576, u'chines': 573, u'either': 573, u'wont': 570, u'thai': 570, u'water': 568, u'warm': 566, u'care': 563, u'wrong': 562, u'whole': 562, u'veggi': 560, u'done': 559, u'line': 558, u'saturday': 557, u'dri': 557, u'although': 555, u'crab': 552, u'less': 549, u'bean': 547, u'watch': 544, u'show': 543, u'pick': 541, u'finish': 538, u'gave': 537, u'mean': 536, u'couldnt': 533, u'regular': 533, u'cheap': 532, u'real': 532, u'move': 531, u'often': 531, u'oliv': 529, u'pack': 528, u'keep': 526, u'rememb': 525, u'someon': 525, u'free': 525, u'okay': 524, u'might': 524, u'pm': 523, u'extra': 521, u'name': 521, u'sausag': 517, u'pepper': 516, u'eaten': 512, u'amount': 510, u'surpris': 509, u'instead': 509, u'miss': 508, u'sunday': 507, u'chocol': 506, u'highli': 506, u'felt': 504, u'clean': 502, u'wish': 500, u'ye': 500}\n",
    "#print len(required_features)\n",
    "required_features = {u'food': 11288, u'good': 10313, u'place': 9703, u'order': 7331, u'great': 6734, u'like': 6499, u'go': 6076, u'get': 6010, u'time': 5996, u'one': 5363, u'servic': 5239, u'restaur': 4473, u'would': 4369, u'realli': 4268, u'back': 4167, u'tri': 3893, u'pizza': 3758, u'also': 3464, u'love': 3415, u'best': 3399, u'even': 3295, u'nice': 3237, u'come': 3174, u'eat': 3161, u'us': 3148, u'chees': 3147, u'dont': 3136, u'fri': 3103, u'bar': 3100, u'got': 3079, u'ive': 3077, u'menu': 3070, u'tabl': 3043, u'alway': 2920, u'wait': 2906, u'chicken': 2903, u'well': 2846, u'salad': 2787, u'im': 2783, u'make': 2757, u'littl': 2736, u'sauc': 2726, u'want': 2709, u'delici': 2708, u'drink': 2694, u'meal': 2690, u'look': 2592, u'tast': 2529, u'came': 2509, u'beer': 2505, u'pittsburgh': 2499, u'price': 2475, u'pretti': 2456, u'sandwich': 2433, u'night': 2414, u'much': 2297, u'never': 2288, u'lunch': 2242, u'went': 2230, u'didnt': 2221, u'dinner': 2174, u'could': 2134, u'definit': 2106, u'peopl': 2093, u'first': 2079, u'think': 2075, u'say': 2073, u'thing': 2029, u'better': 2029, u'ask': 2025, u'serv': 2002, u'dish': 1992, u'friend': 1966, u'experi': 1951, u'two': 1934, u'know': 1933, u'take': 1924, u'friendli': 1910, u'enjoy': 1908, u'made': 1900, u'flavor': 1871, u'side': 1822, u'staff': 1814, u'server': 1807, u'special': 1804, u'seat': 1793, u'fresh': 1785, u'bread': 1784, u'burger': 1755, u'ever': 1753, u'cook': 1742, u'way': 1699, u'top': 1694, u'recommend': 1689, u'minut': 1677, u'day': 1667, u'visit': 1648, u'lot': 1634, u'right': 1628, u'bit': 1600, u'favorit': 1589, u'still': 1587, u'around': 1582, u'star': 1580, u'give': 1546, u'wasnt': 1540, u'though': 1525, u'amaz': 1521, u'bad': 1514, u'seem': 1510, u'said': 1498, u'waitress': 1498, u'hot': 1496, u'sure': 1488, u'year': 1468, u'busi': 1450, u'sinc': 1435, u'review': 1435, u'someth': 1433, u'atmospher': 1416, u'roll': 1415, u'small': 1396, u'expect': 1363, u'area': 1356, u'cant': 1353, u'excel': 1343, u'feel': 1339, u'steak': 1335, u'took': 1326, u'walk': 1323, u'pasta': 1314, u'last': 1305, u'locat': 1305, u'mani': 1300, u'need': 1300, u'appet': 1298, u'select': 1291, u'everi': 1285, u'everyth': 1279, u'stop': 1271, u'use': 1271, u'disappoint': 1270, u'find': 1269, u'work': 1252, u'soup': 1251, u'potato': 1250, u'hour': 1244, u'dine': 1244, u'meat': 1242, u'anoth': 1218, u'wine': 1207, u'tasti': 1206, u'noth': 1198, u'see': 1197, u'perfect': 1188, u'sweet': 1179, u'dessert': 1176, u'next': 1173, u'reason': 1173, u'portion': 1171, u'your': 1164, u'home': 1163, u'italian': 1154, u'big': 1148, u'worth': 1147, u'long': 1140, u'enough': 1140, u'start': 1117, u'sushi': 1107, u'awesom': 1090, u'usual': 1087, u'new': 1075, u'larg': 1068, u'plate': 1066, u'differ': 1059, u'entre': 1052, u'check': 1051, u'end': 1048, u'fish': 1044, u'actual': 1039, u'grill': 1034, u'qualiti': 1033, u'id': 1024, u'that': 1021, u'happi': 1009, u'howev': 1006, u'quit': 1003, u'charlott': 1003, u'sit': 1002, u'huge': 994, u'decid': 982, u'offer': 976, u'breakfast': 970, u'shrimp': 965, u'probabl': 964, u'ok': 963, u'spot': 956, u'option': 944, u'kind': 942, u'live': 918, u'decent': 916, u'park': 910, u'manag': 906, u'anyth': 906, u'thought': 901, u'told': 897, u'cake': 889, u'away': 880, u'call': 877, u'egg': 869, u'close': 866, u'wonder': 863, u'famili': 852, u'half': 851, u'beef': 847, u'green': 841, u'person': 832, u'full': 827, u'crowd': 824, u'mayb': 824, u'dog': 814, u'els': 812, u'old': 808, u'choic': 808, u'room': 807, u'wing': 804, u'tomato': 804, u'spici': 801, u'cours': 799, u'left': 798, u'outsid': 796, u'game': 795, u'slice': 789, u'open': 787, u'without': 780, u'let': 779, u'overal': 777, u'cold': 775, u'arriv': 770, u'waiter': 761, u'put': 758, u'attent': 757, u'reserv': 754, u'almost': 754, u'rice': 752, u'everyon': 752, u'parti': 749, u'week': 746, u'item': 746, u'found': 745, u'custom': 745, u'ill': 742, u'return': 732, u'three': 729, u'husband': 724, u'brunch': 721, u'insid': 718, u'point': 708, u'absolut': 707, u'gener': 706, u'pancak': 704, u'super': 703, u'local': 696, u'fantast': 693, u'group': 687, u'onion': 687, u'coupl': 685, u'help': 685, u'cream': 679, u'town': 677, u'quick': 675, u'least': 667, u'sever': 665, u'fill': 665, u'isnt': 663, u'part': 662, u'leav': 659, u'high': 646, u'bartend': 646, u'lobster': 645, u'must': 645, u'hous': 643, u'salmon': 643, u'final': 643, u'mac': 642, u'bacon': 641, u'fan': 638, u'may': 637, u'perfectli': 629, u'hard': 627, u'includ': 626, u'bring': 626, u'crust': 625, u'especi': 624, u'list': 623, u'decor': 622, u'season': 622, u'fast': 619, u'street': 618, u'far': 612, u'size': 610, u'sat': 609, u'hand': 608, u'bite': 607, u'ate': 606, u'chang': 605, u'impress': 603, u'brought': 603, u'glass': 603, u'second': 601, u'piec': 595, u'citi': 595, u'pay': 594, u'guy': 593, u'red': 592, u'dress': 591, u'pork': 588, u'light': 588, u'fun': 587, u'coffe': 587, u'tell': 584, u'fine': 583, u'prepar': 582, u'wife': 579, u'averag': 578, u'french': 578, u'kitchen': 577, u'mix': 577, u'doesnt': 576, u'chines': 573, u'either': 573, u'wont': 570, u'thai': 570, u'water': 568, u'warm': 566, u'care': 563, u'wrong': 562, u'whole': 562, u'veggi': 560, u'done': 559, u'line': 558, u'saturday': 557, u'dri': 557, u'although': 555, u'crab': 552, u'less': 549, u'bean': 547, u'watch': 544, u'show': 543, u'pick': 541, u'finish': 538, u'gave': 537, u'mean': 536, u'couldnt': 533, u'regular': 533, u'cheap': 532, u'real': 532, u'move': 531, u'often': 531, u'oliv': 529, u'pack': 528, u'keep': 526, u'rememb': 525, u'someon': 525, u'free': 525, u'okay': 524, u'might': 524, u'pm': 523, u'extra': 521, u'name': 521, u'sausag': 517, u'pepper': 516, u'eaten': 512, u'amount': 510, u'surpris': 509, u'instead': 509, u'miss': 508, u'sunday': 507, u'chocol': 506, u'highli': 506, u'felt': 504, u'clean': 502, u'wish': 500, u'ye': 500, u'white': 499, u'owner': 498, u'style': 498, u'yet': 496, u'past': 494, u'wouldnt': 494, u'there': 493, u'consist': 493, u'butter': 492, u'hope': 491, u'crispi': 491, u'neighborhood': 491, u'share': 490, u'door': 488, u'extrem': 488, u'cool': 485, u'mushroom': 484, u'ice': 481, u'slow': 480, u'friday': 478, u'kid': 478, u'weekend': 476, u'diner': 474, u'pleas': 474, u'oh': 473, u'date': 473, u'thank': 468, u'abl': 468, u'quickli': 467, u'complet': 466, u'toast': 465, u'cut': 464, u'hit': 462, u'birthday': 461, u'bland': 459, u'run': 458, u'later': 456, u'total': 456, u'rib': 456, u'bottl': 455, u'fact': 454, u'recent': 453, u'boyfriend': 452, u'front': 452, u'pho': 451, u'sometim': 449, u'talk': 448, u'tea': 446, u'suggest': 446, u'guess': 444, u'rather': 443, u'trip': 441, u'deal': 437, u'head': 434, u'late': 433, u'money': 433, u'plu': 433, u'main': 433, u'chef': 429, u'german': 429, u'seafood': 428, u'mention': 427, u'buffet': 426, u'type': 426, u'theyr': 422, u'typic': 422, u'given': 421, u'corn': 417, u'chip': 416, u'problem': 414, u'terribl': 413, u'bill': 411, u'lack': 411, u'shop': 410, u'stand': 410, u'dip': 410, u'havent': 407, u'authent': 405, u'tip': 404, u'stuf': 401, u'taco': 400, u'except': 400, u'vegetarian': 400, u'rare': 398, u'hoagi': 398, u'ago': 398, u'cocktail': 398, u'turn': 396, u'downtown': 396, u'expens': 395, u'heard': 394, u'blue': 393, u'spinach': 393, u'bbq': 393, u'stay': 392, u'plenti': 392, u'today': 388, u'uptown': 387, u'youll': 386, u'incred': 385, u'yummi': 385, u'deliveri': 384, u'receiv': 384, u'ingredi': 382, u'empti': 381, u'tender': 381, u'read': 380, u'veget': 380, u'deliv': 379, u'mind': 379, u'comfort': 378, u'worst': 378, u'ad': 377, u'garlic': 377, u'other': 376, u'set': 375, u'happen': 375, u'entir': 375, u'grab': 374, u'short': 373, u'tuna': 372, u'lettuc': 371, u'pie': 370, u'four': 369, u'base': 367, u'rate': 367, u'noodl': 366, u'interest': 365, u'chain': 362, u'varieti': 362, u'hostess': 362, u'add': 360, u'homemad': 360, u'ambianc': 358, u'uniqu': 358, u'greasi': 358, u'martini': 358, u'soon': 358, u'yelp': 358, u'standard': 356, u'normal': 356, u'medium': 354, u'hungri': 351, u'ravioli': 350, u'n': 349, u'drive': 349, u'believ': 349, u'complaint': 348, u'consid': 344, u'werent': 344, u'anyon': 344, u'beauti': 344, u'bottom': 343, u'filet': 343, u'patio': 343, u'gone': 342, u'alreadi': 338, u'saw': 338, u'solid': 336, u'basic': 335, u'rest': 335, u'wall': 334, u'understand': 333, u'notic': 333, u'calamari': 332, u'chop': 331, u'rock': 331, u'cash': 328, u'rude': 327, u'simpl': 326, u'twice': 326, u'mert': 326, u'cover': 325, u'scallop': 325, u'strip': 325, u'treat': 325, u'wrap': 324, u'prefer': 323, u'stuff': 321, u'readi': 321, u'joint': 321, u'month': 319, u'split': 317, u'roast': 315, u'bowl': 315, u'black': 314, u'salt': 314, u'stick': 314, u'cornbread': 311, u'near': 310, u'pricey': 310, u'soul': 309, u'card': 308, u'thin': 307, u'charg': 306, u'thick': 306, u'pleasant': 305, u'across': 305, u'etc': 304, u'choos': 303, u'lamb': 302, u'excit': 302, u'oil': 302, u'earli': 302, u'play': 301, u'togeth': 301, u'immedi': 300, u'mouth': 299, u'sort': 299, u'serious': 298, u'space': 295, u'five': 295, u'refil': 293, u'establish': 293, u'greet': 292, u'spring': 291, u'slaw': 289, u'spice': 288, u'store': 288, u'curri': 288, u'horribl': 287, u'kept': 287, u'world': 284, u'salti': 284, u'girl': 284, u'unfortun': 284, u'mediocr': 283, u'along': 282, u'certainli': 281, u'arent': 280, u'job': 280, u'crave': 280, u'seen': 279, u'complain': 279, u'write': 279, u'cup': 278, u'slightli': 278, u'meatbal': 278, u'tofu': 277, u'satisfi': 277, u'crepe': 277, u'chili': 276, u'loud': 276, u'spend': 276, u'sound': 275, u'primanti': 274, u'floor': 274, u'tradit': 273, u'counter': 273, u'chanc': 273, u'brown': 273, u'easi': 272, u'soft': 272, u'dark': 271, u'liter': 271, u'glad': 271, u'addit': 269, u'music': 268, u'life': 268, u'issu': 268, u'plan': 267, u'note': 267, u'wed': 266, u'hate': 266, u'southern': 266, u'exactli': 266, u'sub': 265, u'cuisin': 265, u'melt': 263, u'frozen': 262, u'man': 262, u'simpli': 262, u'casbah': 261, u'occas': 261, u'knew': 261, u'wow': 260, u'hotel': 260, u'event': 259, u'request': 259, u'mom': 259, u'app': 258, u'bake': 258, u'sign': 258, u'present': 258, u'die': 258, u'turkey': 257, u'burrito': 257, u'outdoor': 256, u'gyro': 256, u'american': 255, u'smoke': 255, u'buffalo': 254, u'sport': 254, u'ton': 253, u'rush': 252, u'aw': 252, u'anyway': 252, u'hear': 252, u'idea': 251, u'pass': 250, u'ladi': 250, u'soba': 250, u'tv': 250, u'min': 250, u'upstair': 250, u'quiet': 249, u'casual': 248, u'behind': 248, u'sour': 248, u'pepperoni': 248, u'weve': 248, u'cost': 247, u'tini': 247, u'girlfriend': 247, u'appl': 247, u'chose': 246, u'avail': 246, u'overpr': 246, u'mine': 246, u'poor': 245, u'welcom': 245, u'lidia': 244, u'opinion': 244, u'smell': 243, u'suppos': 242, u'appreci': 240, u'mash': 239, u'provid': 239, u'pub': 237, u'fairli': 237, u'taken': 237, u'collard': 237, u'outstand': 237, u'possibl': 236, u'draft': 236, u'compar': 235, u'honestli': 235, u'employe': 234, u'tap': 234, u'low': 233, u'meet': 232, u'yum': 232, u'due': 232, u'number': 231, u'mostli': 231, u'anywher': 231, u'cozi': 231, u'morn': 230, u'patron': 230, u'takeout': 228, u'banana': 226, u'textur': 226, u'eye': 225, u'combin': 224, u'within': 224, u'creami': 224, u'realiz': 223, u'booth': 223, u'pull': 221, u'bun': 221, u'build': 221, u'plain': 221, u'save': 220, u'tonight': 219, u'frequent': 219, u'paid': 219, u'truli': 219, u'sorri': 219, u'pita': 219, u'easili': 219, u'agre': 218, u'trio': 218, u'dirti': 217, u'matter': 217, u'heart': 217, u'rich': 216, u'forward': 216, u'broccoli': 216, u'despit': 216, u'classic': 215, u'accommod': 214, u'box': 213, u'celebr': 213, u'true': 213, u'forget': 213, u'appar': 212, u'gotten': 212, u'somewher': 211, u'figur': 211, u'crisp': 211, u'apolog': 211, u'fanci': 211, u'origin': 210, u'middl': 210, u'afternoon': 209, u'duck': 209, u'pickl': 209, u'crazi': 208, u'burgh': 208, u'explain': 208, u'dollar': 207, u'convers': 206, u'avoid': 206, u'juici': 206, u'harri': 205, u'level': 205, u'ds': 205, u'upon': 205, u'word': 205, u'shadysid': 204, u'sampl': 204, u'fair': 204, u'buy': 204, u'summer': 204, u'soggi': 203, u'school': 202, u'buck': 202, u'mood': 201, u'longer': 201, u'gnocchi': 200, u'weird': 200, u'market': 200}\n",
    "print len(required_features)\n",
    "#required_features = {u'food': 11288, u'good': 10313, u'place': 9703, u'order': 7331, u'great': 6734, u'like': 6499, u'go': 6076, u'get': 6010, u'time': 5996, u'one': 5363, u'servic': 5239, u'restaur': 4473, u'would': 4369, u'realli': 4268, u'back': 4167, u'tri': 3893, u'pizza': 3758, u'also': 3464, u'love': 3415, u'best': 3399, u'even': 3295, u'nice': 3237, u'come': 3174, u'eat': 3161, u'us': 3148, u'chees': 3147, u'dont': 3136, u'fri': 3103, u'bar': 3100, u'got': 3079, u'ive': 3077, u'menu': 3070, u'tabl': 3043, u'alway': 2920, u'wait': 2906, u'chicken': 2903, u'well': 2846, u'salad': 2787, u'im': 2783, u'make': 2757, u'littl': 2736, u'sauc': 2726, u'want': 2709, u'delici': 2708, u'drink': 2694, u'meal': 2690, u'look': 2592, u'tast': 2529, u'came': 2509, u'beer': 2505, u'pittsburgh': 2499, u'price': 2475, u'pretti': 2456, u'sandwich': 2433, u'night': 2414, u'much': 2297, u'never': 2288, u'lunch': 2242, u'went': 2230, u'didnt': 2221, u'dinner': 2174, u'could': 2134, u'definit': 2106, u'peopl': 2093, u'first': 2079, u'think': 2075, u'say': 2073, u'thing': 2029, u'better': 2029, u'ask': 2025, u'serv': 2002, u'dish': 1992, u'friend': 1966, u'experi': 1951, u'two': 1934, u'know': 1933, u'take': 1924, u'friendli': 1910, u'enjoy': 1908, u'made': 1900, u'flavor': 1871, u'side': 1822, u'staff': 1814, u'server': 1807, u'special': 1804, u'seat': 1793, u'fresh': 1785, u'bread': 1784, u'burger': 1755, u'ever': 1753, u'cook': 1742, u'way': 1699, u'top': 1694, u'recommend': 1689, u'minut': 1677, u'day': 1667, u'visit': 1648, u'lot': 1634, u'right': 1628, u'bit': 1600, u'favorit': 1589, u'still': 1587, u'around': 1582, u'star': 1580, u'give': 1546, u'wasnt': 1540, u'though': 1525, u'amaz': 1521, u'bad': 1514, u'seem': 1510, u'said': 1498, u'waitress': 1498, u'hot': 1496, u'sure': 1488, u'year': 1468, u'busi': 1450, u'sinc': 1435, u'review': 1435, u'someth': 1433, u'atmospher': 1416, u'roll': 1415, u'small': 1396, u'expect': 1363, u'area': 1356, u'cant': 1353, u'excel': 1343, u'feel': 1339, u'steak': 1335, u'took': 1326, u'walk': 1323, u'pasta': 1314, u'last': 1305, u'locat': 1305, u'mani': 1300, u'need': 1300, u'appet': 1298, u'select': 1291, u'everi': 1285, u'everyth': 1279, u'stop': 1271, u'use': 1271, u'disappoint': 1270, u'find': 1269, u'work': 1252, u'soup': 1251, u'potato': 1250, u'hour': 1244, u'dine': 1244, u'meat': 1242, u'anoth': 1218, u'wine': 1207, u'tasti': 1206, u'noth': 1198, u'see': 1197, u'perfect': 1188, u'sweet': 1179, u'dessert': 1176, u'next': 1173, u'reason': 1173, u'portion': 1171, u'your': 1164, u'home': 1163, u'italian': 1154, u'big': 1148, u'worth': 1147, u'long': 1140, u'enough': 1140, u'start': 1117, u'sushi': 1107, u'awesom': 1090, u'usual': 1087, u'new': 1075, u'larg': 1068, u'plate': 1066, u'differ': 1059, u'entre': 1052, u'check': 1051, u'end': 1048, u'fish': 1044, u'actual': 1039, u'grill': 1034, u'qualiti': 1033, u'id': 1024, u'that': 1021, u'happi': 1009, u'howev': 1006, u'quit': 1003, u'charlott': 1003, u'sit': 1002, u'huge': 994, u'decid': 982, u'offer': 976, u'breakfast': 970, u'shrimp': 965, u'probabl': 964, u'ok': 963, u'spot': 956, u'option': 944, u'kind': 942, u'live': 918, u'decent': 916, u'park': 910, u'manag': 906, u'anyth': 906, u'thought': 901, u'told': 897, u'cake': 889, u'away': 880, u'call': 877, u'egg': 869, u'close': 866, u'wonder': 863, u'famili': 852, u'half': 851, u'beef': 847, u'green': 841, u'person': 832, u'full': 827, u'crowd': 824, u'mayb': 824, u'dog': 814, u'els': 812, u'old': 808, u'choic': 808, u'room': 807, u'wing': 804, u'tomato': 804, u'spici': 801, u'cours': 799, u'left': 798, u'outsid': 796, u'game': 795, u'slice': 789, u'open': 787, u'without': 780, u'let': 779, u'overal': 777, u'cold': 775, u'arriv': 770, u'waiter': 761, u'put': 758, u'attent': 757, u'reserv': 754, u'almost': 754, u'rice': 752, u'everyon': 752, u'parti': 749, u'week': 746, u'item': 746, u'found': 745, u'custom': 745, u'ill': 742, u'return': 732, u'three': 729, u'husband': 724, u'brunch': 721, u'insid': 718, u'point': 708, u'absolut': 707, u'gener': 706, u'pancak': 704, u'super': 703, u'local': 696, u'fantast': 693, u'group': 687, u'onion': 687, u'coupl': 685, u'help': 685, u'cream': 679, u'town': 677, u'quick': 675, u'least': 667, u'sever': 665, u'fill': 665, u'isnt': 663, u'part': 662, u'leav': 659, u'high': 646, u'bartend': 646, u'lobster': 645, u'must': 645, u'hous': 643, u'salmon': 643, u'final': 643, u'mac': 642, u'bacon': 641, u'fan': 638, u'may': 637, u'perfectli': 629, u'hard': 627, u'includ': 626, u'bring': 626, u'crust': 625, u'especi': 624, u'list': 623, u'decor': 622, u'season': 622, u'fast': 619, u'street': 618, u'far': 612, u'size': 610, u'sat': 609, u'hand': 608, u'bite': 607, u'ate': 606, u'chang': 605, u'impress': 603, u'brought': 603, u'glass': 603, u'second': 601, u'piec': 595, u'citi': 595, u'pay': 594, u'guy': 593, u'red': 592, u'dress': 591, u'pork': 588, u'light': 588, u'fun': 587, u'coffe': 587, u'tell': 584, u'fine': 583, u'prepar': 582, u'wife': 579, u'averag': 578, u'french': 578, u'kitchen': 577, u'mix': 577, u'doesnt': 576, u'chines': 573, u'either': 573, u'wont': 570, u'thai': 570, u'water': 568, u'warm': 566, u'care': 563, u'wrong': 562, u'whole': 562, u'veggi': 560, u'done': 559, u'line': 558, u'saturday': 557, u'dri': 557, u'although': 555, u'crab': 552, u'less': 549, u'bean': 547, u'watch': 544, u'show': 543, u'pick': 541, u'finish': 538, u'gave': 537, u'mean': 536, u'couldnt': 533, u'regular': 533, u'cheap': 532, u'real': 532, u'move': 531, u'often': 531, u'oliv': 529, u'pack': 528, u'keep': 526, u'rememb': 525, u'someon': 525, u'free': 525, u'okay': 524, u'might': 524, u'pm': 523, u'extra': 521, u'name': 521, u'sausag': 517, u'pepper': 516, u'eaten': 512, u'amount': 510, u'surpris': 509, u'instead': 509, u'miss': 508, u'sunday': 507, u'chocol': 506, u'highli': 506, u'felt': 504, u'clean': 502, u'wish': 500, u'ye': 500, u'white': 499, u'owner': 498, u'style': 498, u'yet': 496, u'past': 494, u'wouldnt': 494, u'there': 493, u'consist': 493, u'butter': 492, u'hope': 491, u'crispi': 491, u'neighborhood': 491, u'share': 490, u'door': 488, u'extrem': 488, u'cool': 485, u'mushroom': 484, u'ice': 481, u'slow': 480, u'friday': 478, u'kid': 478, u'weekend': 476, u'diner': 474, u'pleas': 474, u'oh': 473, u'date': 473, u'thank': 468, u'abl': 468, u'quickli': 467, u'complet': 466, u'toast': 465, u'cut': 464, u'hit': 462, u'birthday': 461, u'bland': 459, u'run': 458, u'later': 456, u'total': 456, u'rib': 456, u'bottl': 455, u'fact': 454, u'recent': 453, u'boyfriend': 452, u'front': 452, u'pho': 451, u'sometim': 449, u'talk': 448, u'tea': 446, u'suggest': 446, u'guess': 444, u'rather': 443, u'trip': 441, u'deal': 437, u'head': 434, u'late': 433, u'money': 433, u'plu': 433, u'main': 433, u'chef': 429, u'german': 429, u'seafood': 428, u'mention': 427, u'buffet': 426, u'type': 426, u'theyr': 422, u'typic': 422, u'given': 421, u'corn': 417, u'chip': 416, u'problem': 414, u'terribl': 413, u'bill': 411, u'lack': 411, u'shop': 410, u'stand': 410, u'dip': 410, u'havent': 407, u'authent': 405, u'tip': 404, u'stuf': 401, u'taco': 400, u'except': 400, u'vegetarian': 400, u'rare': 398, u'hoagi': 398, u'ago': 398, u'cocktail': 398, u'turn': 396, u'downtown': 396, u'expens': 395, u'heard': 394, u'blue': 393, u'spinach': 393, u'bbq': 393, u'stay': 392, u'plenti': 392, u'today': 388, u'uptown': 387, u'youll': 386, u'incred': 385, u'yummi': 385, u'deliveri': 384, u'receiv': 384, u'ingredi': 382, u'empti': 381, u'tender': 381, u'read': 380, u'veget': 380, u'deliv': 379, u'mind': 379, u'comfort': 378, u'worst': 378, u'ad': 377, u'garlic': 377, u'other': 376, u'set': 375, u'happen': 375, u'entir': 375, u'grab': 374, u'short': 373, u'tuna': 372, u'lettuc': 371, u'pie': 370, u'four': 369, u'base': 367, u'rate': 367, u'noodl': 366, u'interest': 365, u'chain': 362, u'varieti': 362, u'hostess': 362, u'add': 360, u'homemad': 360, u'ambianc': 358, u'uniqu': 358, u'greasi': 358, u'martini': 358, u'soon': 358, u'yelp': 358, u'standard': 356, u'normal': 356, u'medium': 354, u'hungri': 351, u'ravioli': 350, u'n': 349, u'drive': 349, u'believ': 349, u'complaint': 348, u'consid': 344, u'werent': 344, u'anyon': 344, u'beauti': 344, u'bottom': 343, u'filet': 343, u'patio': 343, u'gone': 342, u'alreadi': 338, u'saw': 338, u'solid': 336, u'basic': 335, u'rest': 335, u'wall': 334, u'understand': 333, u'notic': 333, u'calamari': 332, u'chop': 331, u'rock': 331, u'cash': 328, u'rude': 327, u'simpl': 326, u'twice': 326, u'mert': 326, u'cover': 325, u'scallop': 325, u'strip': 325, u'treat': 325, u'wrap': 324, u'prefer': 323, u'stuff': 321, u'readi': 321, u'joint': 321, u'month': 319, u'split': 317, u'roast': 315, u'bowl': 315, u'black': 314, u'salt': 314, u'stick': 314, u'cornbread': 311, u'near': 310, u'pricey': 310, u'soul': 309, u'card': 308, u'thin': 307, u'charg': 306, u'thick': 306, u'pleasant': 305, u'across': 305, u'etc': 304, u'choos': 303, u'lamb': 302, u'excit': 302, u'oil': 302, u'earli': 302, u'play': 301, u'togeth': 301, u'immedi': 300}\n",
    "#print len(required_features)\n",
    "#required_features = {u'food': 11288, u'good': 10313, u'place': 9703, u'order': 7331, u'great': 6734, u'like': 6499, u'go': 6076, u'get': 6010, u'time': 5996, u'one': 5363, u'servic': 5239, u'restaur': 4473, u'would': 4369, u'realli': 4268, u'back': 4167, u'tri': 3893, u'pizza': 3758, u'also': 3464, u'love': 3415, u'best': 3399, u'even': 3295, u'nice': 3237, u'come': 3174, u'eat': 3161, u'us': 3148, u'chees': 3147, u'dont': 3136, u'fri': 3103, u'bar': 3100, u'got': 3079, u'ive': 3077, u'menu': 3070, u'tabl': 3043, u'alway': 2920, u'wait': 2906, u'chicken': 2903, u'well': 2846, u'salad': 2787, u'im': 2783, u'make': 2757, u'littl': 2736, u'sauc': 2726, u'want': 2709, u'delici': 2708, u'drink': 2694, u'meal': 2690, u'look': 2592, u'tast': 2529, u'came': 2509, u'beer': 2505, u'pittsburgh': 2499, u'price': 2475, u'pretti': 2456, u'sandwich': 2433, u'night': 2414, u'much': 2297, u'never': 2288, u'lunch': 2242, u'went': 2230, u'didnt': 2221, u'dinner': 2174, u'could': 2134, u'definit': 2106, u'peopl': 2093, u'first': 2079, u'think': 2075, u'say': 2073, u'thing': 2029, u'better': 2029, u'ask': 2025, u'serv': 2002, u'dish': 1992, u'friend': 1966, u'experi': 1951, u'two': 1934, u'know': 1933, u'take': 1924, u'friendli': 1910, u'enjoy': 1908, u'made': 1900, u'flavor': 1871, u'side': 1822, u'staff': 1814, u'server': 1807, u'special': 1804, u'seat': 1793, u'fresh': 1785, u'bread': 1784, u'burger': 1755, u'ever': 1753, u'cook': 1742, u'way': 1699, u'top': 1694, u'recommend': 1689, u'minut': 1677, u'day': 1667, u'visit': 1648, u'lot': 1634, u'right': 1628, u'bit': 1600, u'favorit': 1589, u'still': 1587, u'around': 1582, u'star': 1580, u'give': 1546, u'wasnt': 1540, u'though': 1525, u'amaz': 1521, u'bad': 1514, u'seem': 1510, u'said': 1498, u'waitress': 1498, u'hot': 1496, u'sure': 1488, u'year': 1468, u'busi': 1450, u'sinc': 1435, u'review': 1435, u'someth': 1433, u'atmospher': 1416, u'roll': 1415, u'small': 1396, u'expect': 1363, u'area': 1356, u'cant': 1353, u'excel': 1343, u'feel': 1339, u'steak': 1335, u'took': 1326, u'walk': 1323, u'pasta': 1314, u'last': 1305, u'locat': 1305, u'mani': 1300, u'need': 1300, u'appet': 1298, u'select': 1291, u'everi': 1285, u'everyth': 1279, u'stop': 1271, u'use': 1271, u'disappoint': 1270, u'find': 1269, u'work': 1252, u'soup': 1251, u'potato': 1250, u'hour': 1244, u'dine': 1244, u'meat': 1242, u'anoth': 1218, u'wine': 1207, u'tasti': 1206, u'noth': 1198, u'see': 1197, u'perfect': 1188, u'sweet': 1179, u'dessert': 1176, u'next': 1173, u'reason': 1173, u'portion': 1171, u'your': 1164, u'home': 1163, u'italian': 1154, u'big': 1148, u'worth': 1147, u'long': 1140, u'enough': 1140, u'start': 1117, u'sushi': 1107, u'awesom': 1090, u'usual': 1087, u'new': 1075, u'larg': 1068, u'plate': 1066, u'differ': 1059, u'entre': 1052, u'check': 1051, u'end': 1048, u'fish': 1044, u'actual': 1039, u'grill': 1034, u'qualiti': 1033, u'id': 1024, u'that': 1021, u'happi': 1009, u'howev': 1006, u'quit': 1003, u'charlott': 1003, u'sit': 1002, u'huge': 994, u'decid': 982, u'offer': 976, u'breakfast': 970, u'shrimp': 965, u'probabl': 964, u'ok': 963, u'spot': 956, u'option': 944, u'kind': 942, u'live': 918, u'decent': 916, u'park': 910, u'manag': 906, u'anyth': 906, u'thought': 901, u'told': 897, u'cake': 889, u'away': 880, u'call': 877, u'egg': 869, u'close': 866, u'wonder': 863, u'famili': 852, u'half': 851, u'beef': 847, u'green': 841, u'person': 832, u'full': 827, u'crowd': 824, u'mayb': 824, u'dog': 814, u'els': 812, u'old': 808, u'choic': 808, u'room': 807, u'wing': 804, u'tomato': 804, u'spici': 801, u'cours': 799, u'left': 798, u'outsid': 796, u'game': 795, u'slice': 789, u'open': 787, u'without': 780, u'let': 779, u'overal': 777, u'cold': 775, u'arriv': 770, u'waiter': 761, u'put': 758, u'attent': 757, u'reserv': 754, u'almost': 754, u'rice': 752, u'everyon': 752, u'parti': 749, u'week': 746, u'item': 746, u'found': 745, u'custom': 745, u'ill': 742, u'return': 732, u'three': 729, u'husband': 724, u'brunch': 721, u'insid': 718, u'point': 708, u'absolut': 707, u'gener': 706, u'pancak': 704, u'super': 703, u'local': 696, u'fantast': 693, u'group': 687, u'onion': 687, u'coupl': 685, u'help': 685, u'cream': 679, u'town': 677, u'quick': 675, u'least': 667, u'sever': 665, u'fill': 665, u'isnt': 663, u'part': 662, u'leav': 659, u'high': 646, u'bartend': 646, u'lobster': 645, u'must': 645, u'hous': 643, u'salmon': 643, u'final': 643, u'mac': 642, u'bacon': 641, u'fan': 638, u'may': 637, u'perfectli': 629, u'hard': 627, u'includ': 626, u'bring': 626, u'crust': 625, u'especi': 624, u'list': 623, u'decor': 622, u'season': 622, u'fast': 619, u'street': 618, u'far': 612, u'size': 610, u'sat': 609, u'hand': 608, u'bite': 607, u'ate': 606, u'chang': 605, u'impress': 603, u'brought': 603, u'glass': 603, u'second': 601, u'piec': 595, u'citi': 595, u'pay': 594, u'guy': 593, u'red': 592, u'dress': 591, u'pork': 588, u'light': 588, u'fun': 587, u'coffe': 587, u'tell': 584, u'fine': 583, u'prepar': 582, u'wife': 579, u'averag': 578, u'french': 578, u'kitchen': 577, u'mix': 577, u'doesnt': 576, u'chines': 573, u'either': 573, u'wont': 570, u'thai': 570, u'water': 568, u'warm': 566, u'care': 563, u'wrong': 562, u'whole': 562, u'veggi': 560, u'done': 559, u'line': 558, u'saturday': 557, u'dri': 557, u'although': 555, u'crab': 552, u'less': 549, u'bean': 547, u'watch': 544, u'show': 543, u'pick': 541, u'finish': 538, u'gave': 537, u'mean': 536, u'couldnt': 533, u'regular': 533, u'cheap': 532, u'real': 532, u'move': 531, u'often': 531, u'oliv': 529, u'pack': 528, u'keep': 526, u'rememb': 525, u'someon': 525, u'free': 525, u'okay': 524, u'might': 524, u'pm': 523, u'extra': 521, u'name': 521, u'sausag': 517, u'pepper': 516, u'eaten': 512, u'amount': 510, u'surpris': 509, u'instead': 509, u'miss': 508, u'sunday': 507, u'chocol': 506, u'highli': 506, u'felt': 504, u'clean': 502, u'wish': 500, u'ye': 500, u'white': 499, u'owner': 498, u'style': 498, u'yet': 496, u'past': 494, u'wouldnt': 494, u'there': 493, u'consist': 493, u'butter': 492, u'hope': 491, u'crispi': 491, u'neighborhood': 491, u'share': 490, u'door': 488, u'extrem': 488, u'cool': 485, u'mushroom': 484, u'ice': 481, u'slow': 480, u'friday': 478, u'kid': 478, u'weekend': 476, u'diner': 474, u'pleas': 474, u'oh': 473, u'date': 473, u'thank': 468, u'abl': 468, u'quickli': 467, u'complet': 466, u'toast': 465, u'cut': 464, u'hit': 462, u'birthday': 461, u'bland': 459, u'run': 458, u'later': 456, u'total': 456, u'rib': 456, u'bottl': 455, u'fact': 454, u'recent': 453, u'boyfriend': 452, u'front': 452, u'pho': 451, u'sometim': 449, u'talk': 448, u'tea': 446, u'suggest': 446, u'guess': 444, u'rather': 443, u'trip': 441, u'deal': 437, u'head': 434, u'late': 433, u'money': 433, u'plu': 433, u'main': 433, u'chef': 429, u'german': 429, u'seafood': 428, u'mention': 427, u'buffet': 426, u'type': 426, u'theyr': 422, u'typic': 422, u'given': 421, u'corn': 417, u'chip': 416, u'problem': 414, u'terribl': 413, u'bill': 411, u'lack': 411, u'shop': 410, u'stand': 410, u'dip': 410, u'havent': 407, u'authent': 405, u'tip': 404, u'stuf': 401, u'taco': 400, u'except': 400, u'vegetarian': 400, u'rare': 398, u'hoagi': 398, u'ago': 398, u'cocktail': 398, u'turn': 396, u'downtown': 396, u'expens': 395, u'heard': 394, u'blue': 393, u'spinach': 393, u'bbq': 393, u'stay': 392, u'plenti': 392, u'today': 388, u'uptown': 387, u'youll': 386, u'incred': 385, u'yummi': 385, u'deliveri': 384, u'receiv': 384, u'ingredi': 382, u'empti': 381, u'tender': 381, u'read': 380, u'veget': 380, u'deliv': 379, u'mind': 379, u'comfort': 378, u'worst': 378, u'ad': 377, u'garlic': 377, u'other': 376, u'set': 375, u'happen': 375, u'entir': 375, u'grab': 374, u'short': 373, u'tuna': 372, u'lettuc': 371, u'pie': 370, u'four': 369, u'base': 367, u'rate': 367, u'noodl': 366, u'interest': 365, u'chain': 362, u'varieti': 362, u'hostess': 362, u'add': 360, u'homemad': 360, u'ambianc': 358, u'uniqu': 358, u'greasi': 358, u'martini': 358, u'soon': 358, u'yelp': 358, u'standard': 356, u'normal': 356, u'medium': 354, u'hungri': 351, u'ravioli': 350, u'n': 349, u'drive': 349, u'believ': 349, u'complaint': 348, u'consid': 344, u'werent': 344, u'anyon': 344, u'beauti': 344, u'bottom': 343, u'filet': 343, u'patio': 343, u'gone': 342, u'alreadi': 338, u'saw': 338, u'solid': 336, u'basic': 335, u'rest': 335, u'wall': 334, u'understand': 333, u'notic': 333, u'calamari': 332, u'chop': 331, u'rock': 331, u'cash': 328, u'rude': 327, u'simpl': 326, u'twice': 326, u'mert': 326, u'cover': 325, u'scallop': 325, u'strip': 325, u'treat': 325, u'wrap': 324, u'prefer': 323, u'stuff': 321, u'readi': 321, u'joint': 321, u'month': 319, u'split': 317, u'roast': 315, u'bowl': 315, u'black': 314, u'salt': 314, u'stick': 314, u'cornbread': 311, u'near': 310, u'pricey': 310, u'soul': 309, u'card': 308, u'thin': 307, u'charg': 306, u'thick': 306, u'pleasant': 305, u'across': 305, u'etc': 304, u'choos': 303, u'lamb': 302, u'excit': 302, u'oil': 302, u'earli': 302, u'play': 301, u'togeth': 301, u'immedi': 300, u'mouth': 299, u'sort': 299, u'serious': 298, u'space': 295, u'five': 295, u'refil': 293, u'establish': 293, u'greet': 292, u'spring': 291, u'slaw': 289, u'spice': 288, u'store': 288, u'curri': 288, u'horribl': 287, u'kept': 287, u'world': 284, u'salti': 284, u'girl': 284, u'unfortun': 284, u'mediocr': 283, u'along': 282, u'certainli': 281, u'arent': 280, u'job': 280, u'crave': 280, u'seen': 279, u'complain': 279, u'write': 279, u'cup': 278, u'slightli': 278, u'meatbal': 278, u'tofu': 277, u'satisfi': 277, u'crepe': 277, u'chili': 276, u'loud': 276, u'spend': 276, u'sound': 275, u'primanti': 274, u'floor': 274, u'tradit': 273, u'counter': 273, u'chanc': 273, u'brown': 273, u'easi': 272, u'soft': 272, u'dark': 271, u'liter': 271, u'glad': 271, u'addit': 269, u'music': 268, u'life': 268, u'issu': 268, u'plan': 267, u'note': 267, u'wed': 266, u'hate': 266, u'southern': 266, u'exactli': 266, u'sub': 265, u'cuisin': 265, u'melt': 263, u'frozen': 262, u'man': 262, u'simpli': 262, u'casbah': 261, u'occas': 261, u'knew': 261, u'wow': 260, u'hotel': 260, u'event': 259, u'request': 259, u'mom': 259, u'app': 258, u'bake': 258, u'sign': 258, u'present': 258, u'die': 258, u'turkey': 257, u'burrito': 257, u'outdoor': 256, u'gyro': 256, u'american': 255, u'smoke': 255, u'buffalo': 254, u'sport': 254, u'ton': 253, u'rush': 252, u'aw': 252, u'anyway': 252, u'hear': 252, u'idea': 251, u'pass': 250, u'ladi': 250, u'soba': 250, u'tv': 250, u'min': 250, u'upstair': 250, u'quiet': 249, u'casual': 248, u'behind': 248, u'sour': 248, u'pepperoni': 248, u'weve': 248, u'cost': 247, u'tini': 247, u'girlfriend': 247, u'appl': 247, u'chose': 246, u'avail': 246, u'overpr': 246, u'mine': 246, u'poor': 245, u'welcom': 245, u'lidia': 244, u'opinion': 244, u'smell': 243, u'suppos': 242, u'appreci': 240, u'mash': 239, u'provid': 239, u'pub': 237, u'fairli': 237, u'taken': 237, u'collard': 237, u'outstand': 237, u'possibl': 236, u'draft': 236, u'compar': 235, u'honestli': 235, u'employe': 234, u'tap': 234, u'low': 233, u'meet': 232, u'yum': 232, u'due': 232, u'number': 231, u'mostli': 231, u'anywher': 231, u'cozi': 231, u'morn': 230, u'patron': 230, u'takeout': 228, u'banana': 226, u'textur': 226, u'eye': 225, u'combin': 224, u'within': 224, u'creami': 224, u'realiz': 223, u'booth': 223, u'pull': 221, u'bun': 221, u'build': 221, u'plain': 221, u'save': 220, u'tonight': 219, u'frequent': 219, u'paid': 219, u'truli': 219, u'sorri': 219, u'pita': 219, u'easili': 219, u'agre': 218, u'trio': 218, u'dirti': 217, u'matter': 217, u'heart': 217, u'rich': 216, u'forward': 216, u'broccoli': 216, u'despit': 216, u'classic': 215, u'accommod': 214, u'box': 213, u'celebr': 213, u'true': 213, u'forget': 213, u'appar': 212, u'gotten': 212, u'somewher': 211, u'figur': 211, u'crisp': 211, u'apolog': 211, u'fanci': 211, u'origin': 210, u'middl': 210, u'afternoon': 209, u'duck': 209, u'pickl': 209, u'crazi': 208, u'burgh': 208, u'explain': 208, u'dollar': 207, u'convers': 206, u'avoid': 206, u'juici': 206, u'harri': 205, u'level': 205, u'ds': 205, u'upon': 205, u'word': 205, u'shadysid': 204, u'sampl': 204, u'fair': 204, u'buy': 204, u'summer': 204, u'soggi': 203, u'school': 202, u'buck': 202, u'mood': 201, u'longer': 201, u'gnocchi': 200, u'weird': 200, u'market': 200}\n",
    "#print len(required_features)\n",
    "#required_features = {u'food': 11288, u'good': 10313, u'place': 9703, u'order': 7331, u'great': 6734, u'like': 6499, u'go': 6076, u'get': 6010, u'time': 5996, u'one': 5363, u'servic': 5239, u'restaur': 4473, u'would': 4369, u'realli': 4268, u'back': 4167, u'tri': 3893, u'pizza': 3758, u'also': 3464, u'love': 3415, u'best': 3399, u'even': 3295, u'nice': 3237, u'come': 3174, u'eat': 3161, u'us': 3148, u'chees': 3147, u'dont': 3136, u'fri': 3103, u'bar': 3100, u'got': 3079, u'ive': 3077, u'menu': 3070, u'tabl': 3043, u'alway': 2920, u'wait': 2906, u'chicken': 2903, u'well': 2846, u'salad': 2787, u'im': 2783, u'make': 2757, u'littl': 2736, u'sauc': 2726, u'want': 2709, u'delici': 2708, u'drink': 2694, u'meal': 2690, u'look': 2592, u'tast': 2529, u'came': 2509, u'beer': 2505, u'pittsburgh': 2499, u'price': 2475, u'pretti': 2456, u'sandwich': 2433, u'night': 2414, u'much': 2297, u'never': 2288, u'lunch': 2242, u'went': 2230, u'didnt': 2221, u'dinner': 2174, u'could': 2134, u'definit': 2106, u'peopl': 2093, u'first': 2079, u'think': 2075, u'say': 2073, u'thing': 2029, u'better': 2029, u'ask': 2025, u'serv': 2002, u'dish': 1992, u'friend': 1966, u'experi': 1951, u'two': 1934, u'know': 1933, u'take': 1924, u'friendli': 1910, u'enjoy': 1908, u'made': 1900, u'flavor': 1871, u'side': 1822, u'staff': 1814, u'server': 1807, u'special': 1804, u'seat': 1793, u'fresh': 1785, u'bread': 1784, u'burger': 1755, u'ever': 1753, u'cook': 1742, u'way': 1699, u'top': 1694, u'recommend': 1689, u'minut': 1677, u'day': 1667, u'visit': 1648, u'lot': 1634, u'right': 1628, u'bit': 1600, u'favorit': 1589, u'still': 1587, u'around': 1582, u'star': 1580, u'give': 1546, u'wasnt': 1540, u'though': 1525, u'amaz': 1521, u'bad': 1514, u'seem': 1510, u'said': 1498, u'waitress': 1498, u'hot': 1496, u'sure': 1488, u'year': 1468, u'busi': 1450, u'sinc': 1435, u'review': 1435, u'someth': 1433, u'atmospher': 1416, u'roll': 1415, u'small': 1396, u'expect': 1363, u'area': 1356, u'cant': 1353, u'excel': 1343, u'feel': 1339, u'steak': 1335, u'took': 1326, u'walk': 1323, u'pasta': 1314, u'last': 1305, u'locat': 1305, u'mani': 1300, u'need': 1300, u'appet': 1298, u'select': 1291, u'everi': 1285, u'everyth': 1279, u'stop': 1271, u'use': 1271, u'disappoint': 1270, u'find': 1269, u'work': 1252, u'soup': 1251, u'potato': 1250, u'hour': 1244, u'dine': 1244, u'meat': 1242, u'anoth': 1218, u'wine': 1207, u'tasti': 1206, u'noth': 1198, u'see': 1197, u'perfect': 1188, u'sweet': 1179, u'dessert': 1176, u'next': 1173, u'reason': 1173, u'portion': 1171, u'your': 1164, u'home': 1163, u'italian': 1154, u'big': 1148, u'worth': 1147, u'long': 1140, u'enough': 1140, u'start': 1117, u'sushi': 1107, u'awesom': 1090, u'usual': 1087, u'new': 1075, u'larg': 1068, u'plate': 1066, u'differ': 1059, u'entre': 1052, u'check': 1051, u'end': 1048, u'fish': 1044, u'actual': 1039, u'grill': 1034, u'qualiti': 1033, u'id': 1024, u'that': 1021, u'happi': 1009, u'howev': 1006, u'quit': 1003, u'charlott': 1003, u'sit': 1002, u'huge': 994, u'decid': 982, u'offer': 976, u'breakfast': 970, u'shrimp': 965, u'probabl': 964, u'ok': 963, u'spot': 956, u'option': 944, u'kind': 942, u'live': 918, u'decent': 916, u'park': 910, u'manag': 906, u'anyth': 906, u'thought': 901, u'told': 897, u'cake': 889, u'away': 880, u'call': 877, u'egg': 869, u'close': 866, u'wonder': 863, u'famili': 852, u'half': 851, u'beef': 847, u'green': 841, u'person': 832, u'full': 827, u'crowd': 824, u'mayb': 824, u'dog': 814, u'els': 812, u'old': 808, u'choic': 808, u'room': 807, u'wing': 804, u'tomato': 804, u'spici': 801, u'cours': 799, u'left': 798, u'outsid': 796, u'game': 795, u'slice': 789, u'open': 787, u'without': 780, u'let': 779, u'overal': 777, u'cold': 775, u'arriv': 770, u'waiter': 761, u'put': 758, u'attent': 757, u'reserv': 754, u'almost': 754, u'rice': 752, u'everyon': 752, u'parti': 749, u'week': 746, u'item': 746, u'found': 745, u'custom': 745, u'ill': 742, u'return': 732, u'three': 729, u'husband': 724, u'brunch': 721, u'insid': 718, u'point': 708, u'absolut': 707, u'gener': 706, u'pancak': 704, u'super': 703, u'local': 696, u'fantast': 693, u'group': 687, u'onion': 687, u'coupl': 685, u'help': 685, u'cream': 679, u'town': 677, u'quick': 675, u'least': 667, u'sever': 665, u'fill': 665, u'isnt': 663, u'part': 662, u'leav': 659, u'high': 646, u'bartend': 646, u'lobster': 645, u'must': 645, u'hous': 643, u'salmon': 643, u'final': 643, u'mac': 642, u'bacon': 641, u'fan': 638, u'may': 637, u'perfectli': 629, u'hard': 627, u'includ': 626, u'bring': 626, u'crust': 625, u'especi': 624, u'list': 623, u'decor': 622, u'season': 622, u'fast': 619, u'street': 618, u'far': 612, u'size': 610, u'sat': 609, u'hand': 608, u'bite': 607, u'ate': 606, u'chang': 605, u'impress': 603, u'brought': 603, u'glass': 603, u'second': 601, u'piec': 595, u'citi': 595, u'pay': 594, u'guy': 593, u'red': 592, u'dress': 591, u'pork': 588, u'light': 588, u'fun': 587, u'coffe': 587, u'tell': 584, u'fine': 583, u'prepar': 582, u'wife': 579, u'averag': 578, u'french': 578, u'kitchen': 577, u'mix': 577, u'doesnt': 576, u'chines': 573, u'either': 573, u'wont': 570, u'thai': 570, u'water': 568, u'warm': 566, u'care': 563, u'wrong': 562, u'whole': 562, u'veggi': 560, u'done': 559, u'line': 558, u'saturday': 557, u'dri': 557, u'although': 555, u'crab': 552, u'less': 549, u'bean': 547, u'watch': 544, u'show': 543, u'pick': 541, u'finish': 538, u'gave': 537, u'mean': 536, u'couldnt': 533, u'regular': 533, u'cheap': 532, u'real': 532, u'move': 531, u'often': 531, u'oliv': 529, u'pack': 528, u'keep': 526, u'rememb': 525, u'someon': 525, u'free': 525, u'okay': 524, u'might': 524, u'pm': 523, u'extra': 521, u'name': 521, u'sausag': 517, u'pepper': 516, u'eaten': 512, u'amount': 510, u'surpris': 509, u'instead': 509, u'miss': 508, u'sunday': 507, u'chocol': 506, u'highli': 506, u'felt': 504, u'clean': 502, u'wish': 500, u'ye': 500, u'white': 499, u'owner': 498, u'style': 498, u'yet': 496, u'past': 494, u'wouldnt': 494, u'there': 493, u'consist': 493, u'butter': 492, u'hope': 491, u'crispi': 491, u'neighborhood': 491, u'share': 490, u'door': 488, u'extrem': 488, u'cool': 485, u'mushroom': 484, u'ice': 481, u'slow': 480, u'friday': 478, u'kid': 478, u'weekend': 476, u'diner': 474, u'pleas': 474, u'oh': 473, u'date': 473, u'thank': 468, u'abl': 468, u'quickli': 467, u'complet': 466, u'toast': 465, u'cut': 464, u'hit': 462, u'birthday': 461, u'bland': 459, u'run': 458, u'later': 456, u'total': 456, u'rib': 456, u'bottl': 455, u'fact': 454, u'recent': 453, u'boyfriend': 452, u'front': 452, u'pho': 451, u'sometim': 449, u'talk': 448, u'tea': 446, u'suggest': 446, u'guess': 444, u'rather': 443, u'trip': 441, u'deal': 437, u'head': 434, u'late': 433, u'money': 433, u'plu': 433, u'main': 433, u'chef': 429, u'german': 429, u'seafood': 428, u'mention': 427, u'buffet': 426, u'type': 426, u'theyr': 422, u'typic': 422, u'given': 421, u'corn': 417, u'chip': 416, u'problem': 414, u'terribl': 413, u'bill': 411, u'lack': 411, u'shop': 410, u'stand': 410, u'dip': 410, u'havent': 407, u'authent': 405, u'tip': 404, u'stuf': 401, u'taco': 400, u'except': 400, u'vegetarian': 400, u'rare': 398, u'hoagi': 398, u'ago': 398, u'cocktail': 398, u'turn': 396, u'downtown': 396, u'expens': 395, u'heard': 394, u'blue': 393, u'spinach': 393, u'bbq': 393, u'stay': 392, u'plenti': 392, u'today': 388, u'uptown': 387, u'youll': 386, u'incred': 385, u'yummi': 385, u'deliveri': 384, u'receiv': 384, u'ingredi': 382, u'empti': 381, u'tender': 381, u'read': 380, u'veget': 380, u'deliv': 379, u'mind': 379, u'comfort': 378, u'worst': 378, u'ad': 377, u'garlic': 377, u'other': 376, u'set': 375, u'happen': 375, u'entir': 375, u'grab': 374, u'short': 373, u'tuna': 372, u'lettuc': 371, u'pie': 370, u'four': 369, u'base': 367, u'rate': 367, u'noodl': 366, u'interest': 365, u'chain': 362, u'varieti': 362, u'hostess': 362, u'add': 360, u'homemad': 360, u'ambianc': 358, u'uniqu': 358, u'greasi': 358, u'martini': 358, u'soon': 358, u'yelp': 358, u'standard': 356, u'normal': 356, u'medium': 354, u'hungri': 351, u'ravioli': 350, u'n': 349, u'drive': 349, u'believ': 349, u'complaint': 348, u'consid': 344, u'werent': 344, u'anyon': 344, u'beauti': 344, u'bottom': 343, u'filet': 343, u'patio': 343, u'gone': 342, u'alreadi': 338, u'saw': 338, u'solid': 336, u'basic': 335, u'rest': 335, u'wall': 334, u'understand': 333, u'notic': 333, u'calamari': 332, u'chop': 331, u'rock': 331, u'cash': 328, u'rude': 327, u'simpl': 326, u'twice': 326, u'mert': 326, u'cover': 325, u'scallop': 325, u'strip': 325, u'treat': 325, u'wrap': 324, u'prefer': 323, u'stuff': 321, u'readi': 321, u'joint': 321, u'month': 319, u'split': 317, u'roast': 315, u'bowl': 315, u'black': 314, u'salt': 314, u'stick': 314, u'cornbread': 311, u'near': 310, u'pricey': 310, u'soul': 309, u'card': 308, u'thin': 307, u'charg': 306, u'thick': 306, u'pleasant': 305, u'across': 305, u'etc': 304, u'choos': 303, u'lamb': 302, u'excit': 302, u'oil': 302, u'earli': 302, u'play': 301, u'togeth': 301, u'immedi': 300, u'mouth': 299, u'sort': 299, u'serious': 298, u'space': 295, u'five': 295, u'refil': 293, u'establish': 293, u'greet': 292, u'spring': 291, u'slaw': 289, u'spice': 288, u'store': 288, u'curri': 288, u'horribl': 287, u'kept': 287, u'world': 284, u'salti': 284, u'girl': 284, u'unfortun': 284, u'mediocr': 283, u'along': 282, u'certainli': 281, u'arent': 280, u'job': 280, u'crave': 280, u'seen': 279, u'complain': 279, u'write': 279, u'cup': 278, u'slightli': 278, u'meatbal': 278, u'tofu': 277, u'satisfi': 277, u'crepe': 277, u'chili': 276, u'loud': 276, u'spend': 276, u'sound': 275, u'primanti': 274, u'floor': 274, u'tradit': 273, u'counter': 273, u'chanc': 273, u'brown': 273, u'easi': 272, u'soft': 272, u'dark': 271, u'liter': 271, u'glad': 271, u'addit': 269, u'music': 268, u'life': 268, u'issu': 268, u'plan': 267, u'note': 267, u'wed': 266, u'hate': 266, u'southern': 266, u'exactli': 266, u'sub': 265, u'cuisin': 265, u'melt': 263, u'frozen': 262, u'man': 262, u'simpli': 262, u'casbah': 261, u'occas': 261, u'knew': 261, u'wow': 260, u'hotel': 260, u'event': 259, u'request': 259, u'mom': 259, u'app': 258, u'bake': 258, u'sign': 258, u'present': 258, u'die': 258, u'turkey': 257, u'burrito': 257, u'outdoor': 256, u'gyro': 256, u'american': 255, u'smoke': 255, u'buffalo': 254, u'sport': 254, u'ton': 253, u'rush': 252, u'aw': 252, u'anyway': 252, u'hear': 252, u'idea': 251, u'pass': 250, u'ladi': 250, u'soba': 250, u'tv': 250, u'min': 250, u'upstair': 250, u'quiet': 249, u'casual': 248, u'behind': 248, u'sour': 248, u'pepperoni': 248, u'weve': 248, u'cost': 247, u'tini': 247, u'girlfriend': 247, u'appl': 247, u'chose': 246, u'avail': 246, u'overpr': 246, u'mine': 246, u'poor': 245, u'welcom': 245, u'lidia': 244, u'opinion': 244, u'smell': 243, u'suppos': 242, u'appreci': 240, u'mash': 239, u'provid': 239, u'pub': 237, u'fairli': 237, u'taken': 237, u'collard': 237, u'outstand': 237, u'possibl': 236, u'draft': 236, u'compar': 235, u'honestli': 235, u'employe': 234, u'tap': 234, u'low': 233, u'meet': 232, u'yum': 232, u'due': 232, u'number': 231, u'mostli': 231, u'anywher': 231, u'cozi': 231, u'morn': 230, u'patron': 230, u'takeout': 228, u'banana': 226, u'textur': 226, u'eye': 225, u'combin': 224, u'within': 224, u'creami': 224, u'realiz': 223, u'booth': 223, u'pull': 221, u'bun': 221, u'build': 221, u'plain': 221, u'save': 220, u'tonight': 219, u'frequent': 219, u'paid': 219, u'truli': 219, u'sorri': 219, u'pita': 219, u'easili': 219, u'agre': 218, u'trio': 218, u'dirti': 217, u'matter': 217, u'heart': 217, u'rich': 216, u'forward': 216, u'broccoli': 216, u'despit': 216, u'classic': 215, u'accommod': 214, u'box': 213, u'celebr': 213, u'true': 213, u'forget': 213, u'appar': 212, u'gotten': 212, u'somewher': 211, u'figur': 211, u'crisp': 211, u'apolog': 211, u'fanci': 211, u'origin': 210, u'middl': 210, u'afternoon': 209, u'duck': 209, u'pickl': 209, u'crazi': 208, u'burgh': 208, u'explain': 208, u'dollar': 207, u'convers': 206, u'avoid': 206, u'juici': 206, u'harri': 205, u'level': 205, u'ds': 205, u'upon': 205, u'word': 205, u'shadysid': 204, u'sampl': 204, u'fair': 204, u'buy': 204, u'summer': 204, u'soggi': 203, u'school': 202, u'buck': 202, u'mood': 201, u'longer': 201, u'gnocchi': 200, u'weird': 200, u'market': 200, u'case': 199, u'relax': 199, u'speak': 199, u'squar': 198, u'opt': 198, u'unless': 198, u'drop': 197, u'broth': 197, u'pretzel': 196, u'sister': 196, u'alon': 196, u'lemon': 196, u'chicago': 196, u'gem': 195, u'touch': 195, u'limit': 195, u'garden': 195, u'beat': 195, u'coleslaw': 194, u'basil': 194, u'pamela': 194, u'hummu': 194, u'th': 194, u'singl': 194, u'tessaro': 193, u'knowledg': 192, u'continu': 191, u'walnut': 190, u'valu': 190, u'corner': 190, u'south': 189, u'obvious': 189, u'fix': 188, u'hang': 188, u'capit': 188, u'rave': 188, u'state': 188, u'bare': 187, u'veal': 185, u'grit': 185, u'combo': 185, u'heavi': 184, u'cafe': 184, u'ahead': 184, u'heat': 184, u'ridicul': 184, u'appear': 183, u'youd': 183, u'folk': 182, u'smile': 182, u'famou': 181, u'guest': 181, u'tuesday': 180, u'hill': 180, u'question': 180, u'shot': 180, u'remind': 180, u'platter': 179, u'window': 179, u'goe': 179, u'cowork': 179, u'phone': 179, u'whatev': 178, u'mimosa': 177, u'nacho': 177, u'perhap': 177, u'otherwis': 177, u'host': 177, u'book': 177, u'indian': 176, u'dive': 176, u'vietnames': 175, u'fabul': 175, u'penn': 175, u'irish': 175, u'block': 174, u'somewhat': 174, u'brew': 173, u'overcook': 173, u'strawberri': 173, u'comment': 173, u'pop': 173, u'daili': 173, u'korean': 172, u'tough': 172, u'follow': 171, u'per': 171, u'clear': 171, u'imagin': 170, u'mess': 169, u'bother': 169, u'delight': 169, u'known': 169, u'pictur': 168, u'face': 168, u'daughter': 168, u'asian': 168, u'credit': 168, u'desert': 168, u'round': 167, u'cute': 167, u'forgot': 167, u'mother': 166, u'tram': 166, u'cabbag': 165, u'polit': 165, u'steam': 165, u'bathroom': 165, u'version': 164, u'interior': 164, u'dad': 164, u'vibe': 163, u'young': 163, u'overli': 163, u'fare': 162, u'greek': 162, u'mozzarella': 161, u'car': 161, u'cajun': 161, u'becom': 160, u'north': 160, u'clearli': 160, u'pair': 160, u'fall': 160, u'monday': 160, u'nearbi': 160, u'describ': 160, u'travel': 159, u'bloomfield': 159, u'w': 158, u'spent': 158, u'omelet': 158, u'vegan': 158, u'step': 157, u'upscal': 157, u'sad': 157, u'pad': 157, u'profession': 156, u'chewi': 156, u'conveni': 156, u'hadnt': 156, u'smaller': 156, u'wors': 156, u'bagel': 156, u'woman': 155, u'hold': 155, u'gravi': 154, u'salsa': 154, u'fruit': 154, u'particularli': 154, u'none': 153, u'risotto': 153, u'mistak': 152, u'morton': 152, u'kick': 152, u'odd': 152, u'raw': 152, u'mussel': 150, u'yeah': 150, u'kinda': 150, u'mexican': 150, u'bag': 150, u'throughout': 150, u'pumpkin': 149, u'mustard': 149, u'load': 149, u'youv': 149, u'inform': 148, u'theyv': 148, u'elsewher': 147, u'goat': 147, u'spectacular': 147, u'cooki': 146, u'colleg': 146, u'stapl': 146, u'twist': 146, u'sugar': 146, u'specialti': 146, u'goto': 145, u'disgust': 145, u'accept': 145, u'beyond': 145, u'ham': 144, u'chair': 144, u'doubt': 144, u'damn': 144, u'awhil': 144, u'cole': 143, u'gross': 143, u'deep': 143, u'caus': 142, u'giant': 142, u'multipl': 141, u'popular': 141, u'tend': 141, u'sea': 141, u'forev': 141, u'healthi': 141, u'balanc': 141, u'notch': 141, u'similar': 140, u'afford': 140, u'promptli': 140, u'byob': 140, u'pour': 140, u'posit': 139, u'strong': 139, u'environ': 139, u'updat': 139, u'nearli': 139, u'assum': 138, u'boy': 138, u'charm': 138, u'sens': 138, u'skip': 138, u'caesar': 138, u'max': 138, u'rang': 138, u'attitud': 138, u'particular': 138, u'allow': 137, u'honey': 137, u'import': 136, u'hotcak': 136, u'difficult': 136, u'clam': 136, u'bunch': 136, u'parent': 136, u'previou': 136, u'girasol': 136, u'crunchi': 136, u'view': 136, u'deli': 135, u'wast': 135, u'surprisingli': 135, u'weather': 135, u'thursday': 135, u'moist': 135, u'neg': 134, u'member': 134, u'son': 134, u'st': 134, u'featur': 134, u'break': 134, u'begin': 134, u'separ': 133, u'pud': 133, u'dough': 133, u'six': 133, u'club': 133, u'oven': 133, u'hype': 132, u'apart': 132, u'spaghetti': 132, u'brother': 132, u'meh': 131, u'whenev': 131, u'confus': 131, u'reuben': 130, u'what': 130, u'romant': 130, u'spread': 130, u'tiramisu': 130, u'sent': 130, u'fat': 130, u'waitstaff': 129, u'ranch': 129, u'wood': 129, u'chat': 128, u'met': 128, u'ignor': 128, u'burnt': 128, u'moment': 128, u'la': 128, u'cheesi': 128, u'greas': 128, u'ticket': 128, u'extens': 127, u'tortilla': 127, u'ring': 127, u'alexand': 127, u'dumpl': 127, u'bc': 127, u'throw': 127, u'mayo': 127, u'futur': 127, u'wednesday': 126, u'cave': 126, u'basket': 126, u'coupon': 126, u'lasagna': 126, u'larger': 126, u'cheesecak': 126, u'savori': 126, u'enter': 125, u'parmesan': 125, u'fianc': 125, u'older': 125, u'handl': 125, u'bone': 125, u'whether': 125, u'patti': 125, u'contain': 125, u'sampler': 125, u'sear': 124, u'prompt': 124, u'catfish': 124, u'flat': 124, u'doubl': 124, u'district': 124, u'vodka': 124, u'wild': 124, u'chill': 123, u'ball': 123, u'accompani': 123, u'worri': 123, u'fire': 122, u'batter': 122, u'strang': 122, u'honest': 122, u'chunk': 121, u'pea': 121, u'admit': 121, u'suck': 121, u'catch': 121, u'tasteless': 121, u'compani': 120, u'paper': 120, u'improv': 120, u'center': 120, u'deserv': 120, u'steakhous': 120, u'craft': 120, u'orang': 119, u'warn': 119, u'anniversari': 119, u'creativ': 118, u'delish': 118, u'effici': 118, u'ny': 118, u'rel': 118, u'asparagu': 118, u'pile': 118, u'annoy': 118, u'fit': 117, u'phenomen': 117, u'stori': 117, u'umi': 117, u'mad': 117, u'yesterday': 117, u'desir': 116, u'hell': 116, u'besid': 115, u'valet': 115, u'creme': 115, u'carrot': 115, u'sell': 114, u'ambienc': 114, u'al': 114, u'own': 114, u'answer': 114, u'hash': 113, u'companion': 113, u'alcohol': 113, u'pot': 113, u'overwhelm': 112, u'countri': 112, u'juic': 112, u'major': 112, u'learn': 111, u'fiori': 111, u'color': 111, u'oz': 111, u'straight': 111, u'invit': 111, u'road': 111, u'babi': 110, u'lost': 110, u'higher': 110, u'bloodi': 110, u'funni': 110, u'hey': 110, u'zucchini': 110, u'gift': 110, u'vinegar': 110, u'groceri': 110, u'par': 110, u'macaroni': 110, u'leftov': 109, u'dorstop': 109, u'ten': 109, u'experienc': 109, u'bisqu': 108, u'bro': 108, u'bore': 108, u'toward': 108, u'ginger': 108, u'breast': 108, u'tso': 108, u'shame': 108, u'situat': 108, u'mari': 108, u'beto': 107, u'section': 107, u'depend': 107, u'pgh': 107, u'age': 107, u'soda': 106, u'signatur': 106, u'hibachi': 106, u'sadli': 106, u'eggplant': 106, u'ketchup': 106, u'raspberri': 106, u'biscuit': 106, u'station': 105, u'equal': 105, u'bought': 105, u'send': 105, u'feta': 105, u'compliment': 105, u'heaven': 105, u'memori': 105, u'joke': 104, u'marinara': 104, u'omelett': 104, u'win': 104, u'alright': 104, u'certain': 104, u'superb': 104, u'onlin': 103, u'storm': 103, u'fail': 103, u'offic': 103, u'ricotta': 103, u'memor': 103, u'third': 102, u'finger': 102, u'he': 102, u'god': 102, u'sick': 102, u'wide': 102, u'york': 102, u'mignon': 101, u'pesto': 101, u'butteri': 101, u'margarita': 101, u'bigger': 101, u'pleasantli': 101, u'biggest': 101, u'gourmet': 101, u'freshli': 101, u'nyc': 101, u'children': 101, u'stomach': 100, u'carolina': 100, u'variou': 100, u'carri': 100, u'specif': 100, u'hole': 100}\n",
    "#print len(required_features)\n",
    "#vocab_features = required_features.keys() \n",
    "#print len(vocab_features)\n",
    "#bigrams_dict = {}\n",
    "#for bigram in req_bigrams:\n",
    "#    bigrams_dict[bigram[0][0] + \" \" + bigram[0][1]] = bigram[1]  \n",
    "#print bigrams_dict\n",
    "#print vocab_features\n",
    "#print vocab\n",
    "#print \"\\n\\n\\n\"\n",
    "#print vocab_features\n",
    "#for v in vocab_features:\n",
    "#    print wordCount[v]\n",
    "#bigram_features = bigrams_dict.keys()\n",
    "#print len(bigram_features)\n",
    "#print bigram_features\n",
    "\n",
    "required_features = list(required_features.keys())#  = dict(required_features, **vocab)\n",
    "required_features += vocab\n",
    "print len(required_features)\n",
    "#all_features.update(bigrams_dict)\n",
    "#print len(all_features)\n",
    "#all_features= Counter(all_features)\n",
    "#best_words = all_features.keys()\n",
    "all_features = {}\n",
    "i = 0\n",
    "for bw in required_features:\n",
    "    all_features[bw] = i\n",
    "    i += 1\n",
    "print all_features#.values()"
   ]
  },
  {
   "cell_type": "code",
   "execution_count": null,
   "metadata": {
    "collapsed": true
   },
   "outputs": [],
   "source": [
    "import pickle\n",
    "\n",
    "filehandler = open(\"features.obj\",\"wb\")\n",
    "pickle.dump(all_features,filehandler)\n",
    "filehandler.close()\n",
    "\n",
    "#file = open(\"Fruits.obj\",'rb')\n",
    "#object_file = pickle.load(file)\n",
    "#file.close()"
   ]
  },
  {
   "cell_type": "code",
   "execution_count": null,
   "metadata": {
    "collapsed": false
   },
   "outputs": [],
   "source": [
    "required_features"
   ]
  },
  {
   "cell_type": "markdown",
   "metadata": {},
   "source": [
    "End"
   ]
  },
  {
   "cell_type": "code",
   "execution_count": null,
   "metadata": {
    "collapsed": false
   },
   "outputs": [],
   "source": [
    "preprocessed_data_sample.shape"
   ]
  },
  {
   "cell_type": "code",
   "execution_count": null,
   "metadata": {
    "collapsed": false
   },
   "outputs": [],
   "source": [
    "data_labels"
   ]
  },
  {
   "cell_type": "code",
   "execution_count": null,
   "metadata": {
    "collapsed": false
   },
   "outputs": [],
   "source": [
    "train_plus_test = 12000\n",
    "ratio = int(train_plus_test * 0.7)\n",
    "labels = labels_sample[0:train_plus_test]\n",
    "X_train = preprocessed_data_sample[0:ratio]\n",
    "y_train = labels[0:ratio]\n",
    "X_test = preprocessed_data_sample[ratio:train_plus_test]\n",
    "y_test = labels[ratio:train_plus_test]\n",
    "#y_train[y_train < 3] = 0\n",
    "#y_train[y_train >= 3] = 1\n",
    "#y_test[y_test < 3] = 0\n",
    "#y_test[y_test >= 3] = 1\n",
    "print len(X_train), len(y_train)"
   ]
  },
  {
   "cell_type": "code",
   "execution_count": null,
   "metadata": {
    "collapsed": false,
    "scrolled": true
   },
   "outputs": [],
   "source": [
    "X_train[1][806:]"
   ]
  },
  {
   "cell_type": "code",
   "execution_count": null,
   "metadata": {
    "collapsed": false
   },
   "outputs": [],
   "source": [
    "print y_test, \"\\n\\n\\n\",y_train"
   ]
  },
  {
   "cell_type": "code",
   "execution_count": null,
   "metadata": {
    "collapsed": true
   },
   "outputs": [],
   "source": [
    "def sigmoid(value):\n",
    "    #, value.shape()\n",
    "    return (1.0 / (1.0 + np.exp(-1.0 * value)))"
   ]
  },
  {
   "cell_type": "code",
   "execution_count": null,
   "metadata": {
    "collapsed": false
   },
   "outputs": [],
   "source": [
    "def cost_function(w, X, labels):\n",
    "    #print \"w func\", w, w.shape\n",
    "    #w.shape = (1, len(w))\n",
    "    #pred = sigmoid(np.dot(w, np.transpose(X)))\n",
    "    pred = np.dot(w, np.transpose(X))\n",
    "    #print pred.shape, labels.shape\n",
    "    #print \"pred\", pred\n",
    "    #error = -(np.dot(labels,np.transpose(np.log(pred))) + (np.dot((1 - labels) , np.transpose(np.log(1 - pred))))) / len(labels)\n",
    "    #multivariate\n",
    "    error = -np.dot(labels,np.transpose(np.log(pred))) / len(labels)\n",
    "    #binary\n",
    "    #error = (-np.dot(labels,np.transpose(np.log(sigmoid(pred)))) - np.dot((1 - labels), np.log(1 - np.transpose(sigmoid(pred))))) / len(labels)\n",
    "    #print \"error =\", error\n",
    "    grad = np.dot((pred - labels), X) / len(labels)\n",
    "    #print \"grad =\", grad\n",
    "    return [error, grad]"
   ]
  },
  {
   "cell_type": "code",
   "execution_count": null,
   "metadata": {
    "collapsed": false
   },
   "outputs": [],
   "source": [
    "import numpy as np\n",
    "no_classes = 5\n",
    "#global w\n",
    "no_features = len(vocab)\n",
    "#w = np.random.uniform(low=-1.0, high=1.0, size=(3,3))\n",
    "w  = np.zeros((no_classes, no_features))\n",
    "#w = np.matrix(w)\n",
    "print \"init\",w[:,:]\n",
    "print len(w[0])\n",
    "#print \"init\",np.transpose(w[:,:])"
   ]
  },
  {
   "cell_type": "code",
   "execution_count": null,
   "metadata": {
    "collapsed": false
   },
   "outputs": [],
   "source": [
    "import copy\n",
    "print y_test[0:5]\n",
    "y_test_thresholded = np.array(copy.deepcopy(y_test))\n",
    "#print type(y_test_thresholded)\n",
    "#print y_test_thresholded\n",
    "y_test_thresholded[y_test_thresholded < 3] = 0\n",
    "y_test_thresholded[y_test_thresholded >= 3] = 1\n",
    "#print  y_test_thresholded\n",
    "y_train_thresholded = np.array(copy.deepcopy(y_train))\n",
    "y_train_thresholded[y_train_thresholded < 3] = 0\n",
    "y_train_thresholded[y_train_thresholded >= 3] = 1\n",
    "print id(y_test)\n",
    "print (y_test_thresholded),"
   ]
  },
  {
   "cell_type": "code",
   "execution_count": null,
   "metadata": {
    "collapsed": true
   },
   "outputs": [],
   "source": [
    "from scipy.optimize import minimize\n",
    "#print type(np.array(np.equal(target,1)))\n",
    "def main():\n",
    "    for i in range(len(w)):\n",
    "        print \"\\n\\nclass\", i+1, \"\\n\\n\\n\"\n",
    "        #multivariate\n",
    "        w[i] = minimize(cost_function, w[i].reshape((1,no_features)), args=(X_train, np.equal(y_train,(i+1))), method=\"Newton-CG\", jac=True).x\n",
    "        #binary\n",
    "        #w[i] = minimize(cost_function, w[i].reshape((1,no_features)), args=(X_train, y_train_thresholded), method=\"Newton-CG\", jac=True).x\n",
    "    #temp = np.matrix(temp)\n",
    "    #w = np.matrix(temp)\n",
    "    #print \"this is temp\", temp\n",
    "    print w"
   ]
  },
  {
   "cell_type": "code",
   "execution_count": null,
   "metadata": {
    "collapsed": false
   },
   "outputs": [],
   "source": [
    "main()"
   ]
  },
  {
   "cell_type": "code",
   "execution_count": null,
   "metadata": {
    "collapsed": false
   },
   "outputs": [],
   "source": [
    "print len(X_train)\n",
    "print len(y_train)"
   ]
  },
  {
   "cell_type": "code",
   "execution_count": null,
   "metadata": {
    "collapsed": false
   },
   "outputs": [],
   "source": [
    "print (w[0][806:])"
   ]
  },
  {
   "cell_type": "code",
   "execution_count": null,
   "metadata": {
    "collapsed": false
   },
   "outputs": [],
   "source": [
    "min(y_train)\n"
   ]
  },
  {
   "cell_type": "code",
   "execution_count": null,
   "metadata": {
    "collapsed": true
   },
   "outputs": [],
   "source": [
    "def predict(w, X_test):\n",
    "    \n",
    "    prob = np.transpose(np.dot(w, np.transpose(X_test)))\n",
    "    return (np.argmax(prob, axis=1)+1)"
   ]
  },
  {
   "cell_type": "code",
   "execution_count": null,
   "metadata": {
    "collapsed": true
   },
   "outputs": [],
   "source": [
    "def predict_binary(w, X_test):\n",
    "    prob = np.transpose(np.dot(w, np.transpose(X_test)))\n",
    "    prob[prob >= 0.5] = 1\n",
    "    prob[prob < 0.5] = 0\n",
    "    return prob\n"
   ]
  },
  {
   "cell_type": "code",
   "execution_count": null,
   "metadata": {
    "collapsed": false
   },
   "outputs": [],
   "source": [
    "pred = predict(w, X_test)"
   ]
  },
  {
   "cell_type": "code",
   "execution_count": null,
   "metadata": {
    "collapsed": false
   },
   "outputs": [],
   "source": [
    "pred = predict_binary(w, X_test)\n",
    "pred.shape = (len(pred,)"
   ]
  },
  {
   "cell_type": "code",
   "execution_count": null,
   "metadata": {
    "collapsed": false,
    "scrolled": true
   },
   "outputs": [],
   "source": [
    "print sum(pred==y_test) * 100.0 / len(y_test)"
   ]
  },
  {
   "cell_type": "code",
   "execution_count": null,
   "metadata": {
    "collapsed": false
   },
   "outputs": [],
   "source": [
    "print pred, \"\\n\", y_test"
   ]
  },
  {
   "cell_type": "code",
   "execution_count": null,
   "metadata": {
    "collapsed": false
   },
   "outputs": [],
   "source": [
    "pred[pred < 3] = 0\n",
    "pred[pred >= 3] = 1\n",
    "print pred, \"\\n\", y_test_thresholded"
   ]
  },
  {
   "cell_type": "code",
   "execution_count": null,
   "metadata": {
    "collapsed": false
   },
   "outputs": [],
   "source": [
    "print sum(pred==y_test_thresholded) * 100.0 / len(y_test_thresholded)"
   ]
  },
  {
   "cell_type": "code",
   "execution_count": null,
   "metadata": {
    "collapsed": false
   },
   "outputs": [],
   "source": [
    "pred = predict(w, X_train)\n",
    "print sum(pred==y_train) * 100.0 / len(y_train)\n",
    "pred[pred < 3] = 0\n",
    "pred[pred >= 3] = 1"
   ]
  },
  {
   "cell_type": "code",
   "execution_count": null,
   "metadata": {
    "collapsed": false
   },
   "outputs": [],
   "source": [
    "pred = predict_binary(w, X_train)\n",
    "pred.shape = (len(pred,))"
   ]
  },
  {
   "cell_type": "code",
   "execution_count": null,
   "metadata": {
    "collapsed": false
   },
   "outputs": [],
   "source": [
    "print sum(pred==y_train_thresholded) * 100.0 / len(y_train_thresholded)"
   ]
  },
  {
   "cell_type": "code",
   "execution_count": null,
   "metadata": {
    "collapsed": false
   },
   "outputs": [],
   "source": [
    "sum(y_train==0)"
   ]
  },
  {
   "cell_type": "code",
   "execution_count": null,
   "metadata": {
    "collapsed": false
   },
   "outputs": [],
   "source": [
    "y_train"
   ]
  },
  {
   "cell_type": "code",
   "execution_count": null,
   "metadata": {
    "collapsed": true
   },
   "outputs": [],
   "source": [
    "from sklearn.naive_bayes import MultinomialNB\n",
    "clf = MultinomialNB().fit(X_train, y_train_thresholded)"
   ]
  },
  {
   "cell_type": "code",
   "execution_count": null,
   "metadata": {
    "collapsed": false
   },
   "outputs": [],
   "source": [
    "clf"
   ]
  },
  {
   "cell_type": "code",
   "execution_count": null,
   "metadata": {
    "collapsed": true
   },
   "outputs": [],
   "source": [
    "predicted = clf.predict(X_test)"
   ]
  },
  {
   "cell_type": "code",
   "execution_count": null,
   "metadata": {
    "collapsed": false
   },
   "outputs": [],
   "source": [
    "predicted"
   ]
  },
  {
   "cell_type": "code",
   "execution_count": null,
   "metadata": {
    "collapsed": false
   },
   "outputs": [],
   "source": [
    "sum(predicted==y_test_thresholded) * 100.0 / len(y_test_thresholded)"
   ]
  },
  {
   "cell_type": "code",
   "execution_count": null,
   "metadata": {
    "collapsed": false
   },
   "outputs": [],
   "source": [
    "y_train"
   ]
  },
  {
   "cell_type": "code",
   "execution_count": null,
   "metadata": {
    "collapsed": false
   },
   "outputs": [],
   "source": [
    "y_test_thresholded"
   ]
  },
  {
   "cell_type": "code",
   "execution_count": null,
   "metadata": {
    "collapsed": false
   },
   "outputs": [],
   "source": [
    "type(required_features)"
   ]
  },
  {
   "cell_type": "code",
   "execution_count": null,
   "metadata": {
    "collapsed": false
   },
   "outputs": [],
   "source": [
    "required_features"
   ]
  },
  {
   "cell_type": "code",
   "execution_count": null,
   "metadata": {
    "collapsed": false
   },
   "outputs": [],
   "source": [
    "X_train[0][806:]"
   ]
  },
  {
   "cell_type": "markdown",
   "metadata": {
    "collapsed": true
   },
   "source": [
    "Linear Regression"
   ]
  },
  {
   "cell_type": "code",
   "execution_count": null,
   "metadata": {
    "collapsed": false
   },
   "outputs": [],
   "source": [
    "from sklearn import datasets, linear_model\n",
    "regr = linear_model.LinearRegression()\n",
    "\n",
    "# Train the model using the training sets\n",
    "regr.fit(X_polytrain, y_train)\n",
    "\n",
    "# The coefficients\n",
    "print('Coefficients: \\n', regr.coef_)\n",
    "# The mean squared error\n",
    "pred = regr.predict(X_polytest)"
   ]
  },
  {
   "cell_type": "code",
   "execution_count": null,
   "metadata": {
    "collapsed": false
   },
   "outputs": [],
   "source": [
    "type(y_test)"
   ]
  },
  {
   "cell_type": "code",
   "execution_count": null,
   "metadata": {
    "collapsed": false
   },
   "outputs": [],
   "source": [
    "pred = pred + 0.5\n",
    "pred = pred.astype('int32')"
   ]
  },
  {
   "cell_type": "code",
   "execution_count": null,
   "metadata": {
    "collapsed": false
   },
   "outputs": [],
   "source": [
    "pred"
   ]
  },
  {
   "cell_type": "code",
   "execution_count": null,
   "metadata": {
    "collapsed": false
   },
   "outputs": [],
   "source": [
    "print sum(pred==y_test) * 100.0 / len(y_test)"
   ]
  },
  {
   "cell_type": "code",
   "execution_count": null,
   "metadata": {
    "collapsed": false
   },
   "outputs": [],
   "source": [
    "pred[pred < 3] = 0\n",
    "pred[pred >= 3] = 1\n",
    "print sum(pred==y_test_thresholded) * 100.0 / len(y_test_thresholded)"
   ]
  },
  {
   "cell_type": "markdown",
   "metadata": {},
   "source": [
    "Poly reg"
   ]
  },
  {
   "cell_type": "code",
   "execution_count": null,
   "metadata": {
    "collapsed": false
   },
   "outputs": [],
   "source": [
    "from sklearn.preprocessing import PolynomialFeatures\n",
    "\n",
    "poly = PolynomialFeatures(degree=2)\n",
    "X_polytrain = poly.fit_transform(X_train)\n",
    "X_polytest = poly.fit_transform(X_test)"
   ]
  },
  {
   "cell_type": "code",
   "execution_count": null,
   "metadata": {
    "collapsed": true
   },
   "outputs": [],
   "source": []
  }
 ],
 "metadata": {
  "anaconda-cloud": {},
  "kernelspec": {
   "display_name": "Python [default]",
   "language": "python",
   "name": "python2"
  },
  "language_info": {
   "codemirror_mode": {
    "name": "ipython",
    "version": 2
   },
   "file_extension": ".py",
   "mimetype": "text/x-python",
   "name": "python",
   "nbconvert_exporter": "python",
   "pygments_lexer": "ipython2",
   "version": "2.7.12"
  }
 },
 "nbformat": 4,
 "nbformat_minor": 1
}
